{
 "cells": [
  {
   "cell_type": "markdown",
   "id": "given-adoption",
   "metadata": {
    "pycharm": {
     "name": "#%% md\n"
    }
   },
   "source": [
    "![Vespa Cloud logo](https://cloud.vespa.ai/assets/logos/vespa-cloud-logo-full-black.png)\n",
    "\n",
    "# Text Search on Vespa Cloud - quickstart\n",
    "\n",
    "This is the same guide as [getting-started-pyvespa](https://pyvespa.readthedocs.io/en/latest/getting-started-pyvespa.html), deploying to Vespa Cloud."
   ]
  },
  {
   "cell_type": "markdown",
   "id": "4f8c1448",
   "metadata": {},
   "source": [
    "<div class=\"alert alert-info\">\n",
    "    Refer to <a href=\"https://pyvespa.readthedocs.io/en/latest/troubleshooting.html\">troubleshooting</a>\n",
    "    for any problem when running this guide.\n",
    "</div>"
   ]
  },
  {
   "cell_type": "markdown",
   "id": "148d275b",
   "metadata": {},
   "source": [
    "Pre-requisite: Create a tenant at [cloud.vespa.ai](https://cloud.vespa.ai/), save the tenant name.\n",
    "\n",
    "[![Open In Colab](https://colab.research.google.com/assets/colab-badge.svg)](https://colab.research.google.com/github/vespa-engine/pyvespa/blob/master/docs/sphinx/source/getting-started-pyvespa-cloud.ipynb)"
   ]
  },
  {
   "cell_type": "markdown",
   "id": "366b0d83",
   "metadata": {},
   "source": [
    "## Install\n",
    "\n",
    "Install [pyvespa](https://pyvespa.readthedocs.io/) >= 0.35\n",
    "and the [Vespa CLI](https://docs.vespa.ai/en/vespa-cli.html).\n",
    "The Vespa CLI is used for key management:"
   ]
  },
  {
   "cell_type": "code",
   "execution_count": 1,
   "id": "136750de",
   "metadata": {},
   "outputs": [],
   "source": [
    "!pip3 install pyvespa"
   ]
  },
  {
   "cell_type": "markdown",
   "id": "e40f15be",
   "metadata": {},
   "source": [
    "Install the Vespa CLI using homebrew:"
   ]
  },
  {
   "cell_type": "code",
   "execution_count": 1,
   "id": "7a3e88d8",
   "metadata": {},
   "outputs": [],
   "source": [
    "!brew install vespa-cli"
   ]
  },
  {
   "cell_type": "markdown",
   "id": "fbed21b0",
   "metadata": {},
   "source": [
    "Alternatively, if running in Colab, download the Vespa CLI:"
   ]
  },
  {
   "cell_type": "code",
   "execution_count": 1,
   "id": "b4f3e5d5",
   "metadata": {},
   "outputs": [],
   "source": [
    "import os\n",
    "import requests\n",
    "res = requests.get(url=\"https://api.github.com/repos/vespa-engine/vespa/releases/latest\").json()\n",
    "os.environ[\"VERSION\"] = res[\"tag_name\"].replace(\"v\", \"\")\n",
    "!curl -fsSL https://github.com/vespa-engine/vespa/releases/download/v${VERSION}/vespa-cli_${VERSION}_linux_amd64.tar.gz | tar -zxf -\n",
    "!ln -sf /content/vespa-cli_${VERSION}_linux_amd64/bin/vespa /usr/local/bin/vespa"
   ]
  },
  {
   "cell_type": "markdown",
   "id": "02f706ff",
   "metadata": {},
   "source": [
    "## Configure application and keys\n",
    "Create Vespa Cloud data-plane cert/key-pair.\n",
    "We save the paths to the credentials, for later dataplane access without using pyvespa APIs - see example at the end of this notebook."
   ]
  },
  {
   "cell_type": "code",
   "execution_count": 1,
   "id": "9ca4da83",
   "metadata": {},
   "outputs": [],
   "source": [
    "import os\n",
    "tenant_name = \"mytenant\" # Your tenant name here\n",
    "os.environ[\"TENANT_NAME\"] = tenant_name\n",
    "\n",
    "!vespa config set target cloud\n",
    "!vespa config set application ${TENANT_NAME}.textsearch\n",
    "!vespa auth cert -N"
   ]
  },
  {
   "cell_type": "code",
   "execution_count": 1,
   "id": "64da11f2",
   "metadata": {},
   "outputs": [],
   "source": [
    "from os.path import exists\n",
    "\n",
    "cert_path = \"/Users/me/.vespa/\" + tenant_name + \".textsearch.default/data-plane-public-cert.pem\"\n",
    "key_path  = \"/Users/me/.vespa/\" + tenant_name + \".textsearch.default/data-plane-private-key.pem\"\n",
    "\n",
    "if not exists(cert_path) or not exists(key_path):\n",
    "    print(\"ERROR: set the correct paths to security credentials. Correct paths above and rerun until you do not see this error\")"
   ]
  },
  {
   "cell_type": "markdown",
   "id": "d4f064e2",
   "metadata": {},
   "source": [
    "Note that the subsequent deploy-call below will add `data-plane-public-cert.pem` to the application before deploying it.\n",
    "\n",
    "Authenticate to generate an API key for deployment, and save path for it:"
   ]
  },
  {
   "cell_type": "code",
   "execution_count": 1,
   "id": "1346ad93",
   "metadata": {},
   "outputs": [],
   "source": [
    "!vespa auth api-key\n",
    "\n",
    "from pathlib import Path\n",
    "api_key_path = str(Path.home()) + \"/.vespa/\" + os.getenv(\"TENANT_NAME\") + \".api-key.pem\""
   ]
  },
  {
   "cell_type": "markdown",
   "id": "99e82a48",
   "metadata": {},
   "source": [
    "Follow the instrauctions from the output above and add the key in the console."
   ]
  },
  {
   "cell_type": "markdown",
   "id": "db637322",
   "metadata": {},
   "source": [
    "## Create an application package\n",
    "\n",
    "The [application package](https://pyvespa.readthedocs.io/en/latest/reference-api.html#vespa.package.ApplicationPackage)\n",
    "has all the Vespa configuration files -\n",
    "create one from scratch:"
   ]
  },
  {
   "cell_type": "code",
   "execution_count": 1,
   "id": "bd5c2629",
   "metadata": {},
   "outputs": [],
   "source": [
    "from vespa.package import ApplicationPackage\n",
    "\n",
    "app_name = \"textsearch\"\n",
    "app_package = ApplicationPackage(name=app_name)"
   ]
  },
  {
   "cell_type": "markdown",
   "id": "2c5e2943",
   "metadata": {},
   "source": [
    "Note that the name cannot have `-` or `_`.\n",
    "\n",
    "The above will create an empty schema with the same name as the application package."
   ]
  },
  {
   "cell_type": "markdown",
   "id": "caa46d5a",
   "metadata": {},
   "source": [
    "## Add fields to the schema\n",
    "\n",
    "Add [fields](https://pyvespa.readthedocs.io/en/latest/reference-api.html#vespa.package.Field)\n",
    "to the [schema](https://pyvespa.readthedocs.io/en/latest/reference-api.html#vespa.package.Schema):"
   ]
  },
  {
   "cell_type": "code",
   "execution_count": 1,
   "id": "f2d0bea7",
   "metadata": {},
   "outputs": [],
   "source": [
    "from vespa.package import Field\n",
    "\n",
    "app_package.schema.add_fields(\n",
    "    Field(name = \"id\",    type = \"string\", indexing = [\"attribute\", \"summary\"]),\n",
    "    Field(name = \"title\", type = \"string\", indexing = [\"index\", \"summary\"], index = \"enable-bm25\"),\n",
    "    Field(name = \"body\",  type = \"string\", indexing = [\"index\", \"summary\"], index = \"enable-bm25\")\n",
    ")"
   ]
  },
  {
   "cell_type": "markdown",
   "id": "0a4199cb",
   "metadata": {},
   "source": [
    "* `id` holds the document ids, while `title` and `body` are the text fields of the documents.\n",
    "\n",
    "* Setting `\"index\"` in `indexing` means that a searchable index for `title` and `body` is created.\n",
    "  Read more about [indexing options](https://docs.vespa.ai/en/reference/schema-reference.html#indexing). \n",
    "\n",
    "* Setting `index = \"enable-bm25\"` will pre-compute quantities to make it fast to compute the BM25 score."
   ]
  },
  {
   "cell_type": "markdown",
   "id": "e1757dea",
   "metadata": {},
   "source": [
    "## Search multiple fields\n",
    "\n",
    "A [FieldSet](https://pyvespa.readthedocs.io/en/latest/reference-api.html#vespa.package.FieldSet)\n",
    "groups fields together for searching -\n",
    "it configures queries to look for matches both in the `title` and `body` fields of the documents:"
   ]
  },
  {
   "cell_type": "code",
   "execution_count": 1,
   "id": "d0ecbb27",
   "metadata": {},
   "outputs": [],
   "source": [
    "from vespa.package import FieldSet\n",
    "\n",
    "app_package.schema.add_field_set(\n",
    "    FieldSet(name = \"default\", fields = [\"title\", \"body\"])\n",
    ")"
   ]
  },
  {
   "cell_type": "markdown",
   "id": "6573388c",
   "metadata": {},
   "source": [
    "## Define ranking\n",
    "\n",
    "Specify how to rank the matched documents by defining a\n",
    "[RankProfile](https://pyvespa.readthedocs.io/en/latest/reference-api.html#vespa.package.RankProfile).\n",
    "Below are different rank profiles that can be selected in the query:"
   ]
  },
  {
   "cell_type": "code",
   "execution_count": 1,
   "id": "9bb438f4",
   "metadata": {},
   "outputs": [],
   "source": [
    "from vespa.package import RankProfile\n",
    "\n",
    "app_package.schema.add_rank_profile(\n",
    "    RankProfile(name = \"bm25\", first_phase = \"bm25(title) + bm25(body)\")\n",
    ")\n",
    "app_package.schema.add_rank_profile(\n",
    "    RankProfile(name = \"native_rank\", first_phase = \"nativeRank(title, body)\")\n",
    ")"
   ]
  },
  {
   "cell_type": "markdown",
   "id": "careful-savage",
   "metadata": {},
   "source": [
    "## Deploy\n",
    "\n",
    "The text search app with fields, a fieldset to group fields together, and rank profiles\n",
    "is now defined and ready to deploy.\n",
    "Deploy `app_package` to Vespa Cloud, by creating an instance of\n",
    "[VespaCloud](https://pyvespa.readthedocs.io/en/latest/reference-api.html#vespa.deployment.VespaCloud):"
   ]
  },
  {
   "cell_type": "code",
   "execution_count": 1,
   "id": "canadian-blood",
   "metadata": {},
   "outputs": [],
   "source": [
    "from vespa.deployment import VespaCloud\n",
    "\n",
    "vespa_cloud = VespaCloud(\n",
    "    tenant=tenant_name,\n",
    "    application=app_name,\n",
    "    key_location=api_key_path,\n",
    "    application_package=app_package)"
   ]
  },
  {
   "cell_type": "code",
   "execution_count": 1,
   "id": "337d9b05",
   "metadata": {},
   "outputs": [],
   "source": [
    "app = vespa_cloud.deploy(instance=\"default\")"
   ]
  },
  {
   "cell_type": "markdown",
   "id": "aaae2f91",
   "metadata": {},
   "source": [
    "If the deployment failed, it is possible you forgot to add the key in the Vespa Cloud Console in the `vespa auth api-key` step above. instructions successful deployment, you should see lines like:\n",
    "\n",
    "> Deployment started in run 1 of dev-aws-us-east-1c for mytenant.textsearch.\n",
    "\n",
    "> ...\n",
    "\n",
    "> INFO    [06:04:21]  Found endpoints:\n",
    "> dev.aws-us-east-1c\n",
    "> https://textsearch-container.textsearch.mytenant.aws-us-east-1c.dev.z.vespa-app.cloud/ (cluster 'textsearch_container')\n",
    "\n",
    "The deployment takes a few minutes the first time while Vespa Cloud sets up the resources for your Vespa application\n",
    "\n",
    "`app` now holds a reference to a [Vespa](https://pyvespa.readthedocs.io/en/latest/reference-api.html#vespa.application.Vespa) instance.\n",
    "Store the endpoint for later usage - set `endpoint` from the above output:"
   ]
  },
  {
   "cell_type": "code",
   "execution_count": 1,
   "id": "7169d829",
   "metadata": {},
   "outputs": [],
   "source": [
    "endpoint = \"https://textsearch-container.textsearch.mytenant.aws-us-east-1c.dev.z.vespa-app.cloud/\""
   ]
  },
  {
   "cell_type": "markdown",
   "id": "sealed-mustang",
   "metadata": {},
   "source": [
    "## Feed\n",
    "\n",
    "Download approx 10K documents:"
   ]
  },
  {
   "cell_type": "code",
   "execution_count": 1,
   "id": "executed-reservoir",
   "metadata": {},
   "outputs": [],
   "source": [
    "from pandas import read_csv\n",
    "\n",
    "docs = read_csv(filepath_or_buffer=\"https://data.vespa.oath.cloud/blog/msmarco/sample_docs.csv\").fillna('')\n",
    "docs.head()"
   ]
  },
  {
   "cell_type": "markdown",
   "id": "4f0ca33f",
   "metadata": {},
   "source": [
    "[Feed](https://pyvespa.readthedocs.io/en/latest/reference-api.html#vespa.application.Vespa.feed_df) the documents to the application:"
   ]
  },
  {
   "cell_type": "code",
   "execution_count": 1,
   "id": "bottom-memorabilia",
   "metadata": {},
   "outputs": [],
   "source": [
    "feed_res = app.feed_df(docs, asynchronous=True, batch_size=100)"
   ]
  },
  {
   "cell_type": "markdown",
   "id": "separated-insertion",
   "metadata": {},
   "source": [
    "## Query\n",
    "\n",
    "Query the text search app using the [Vespa Query language](https://docs.vespa.ai/en/query-language.html)\n",
    "by sending the parameters to the body argument of\n",
    "[Vespa.query](https://pyvespa.readthedocs.io/en/latest/reference-api.html#vespa.application.Vespa.query) -\n",
    "here using the `bm25` rank profile:"
   ]
  },
  {
   "cell_type": "code",
   "execution_count": 1,
   "id": "82b5f6fe",
   "metadata": {},
   "outputs": [],
   "source": [
    "query = {\n",
    "    'yql': 'select * from sources * where userQuery()',\n",
    "    'query': 'what keeps planes in the air',\n",
    "    'ranking': 'bm25',\n",
    "    'type': 'all',\n",
    "    'hits': 10\n",
    "}\n",
    "res = app.query(body=query)\n",
    "res.hits[0]"
   ]
  },
  {
   "cell_type": "markdown",
   "id": "d1872b31",
   "metadata": {},
   "source": [
    "## Next steps\n",
    "\n",
    "This is just an intro into the capabilities of Vespa and pyvespa.\n",
    "Browse the site to learn more about schemas, feeding and queries - \n",
    "find more complex applications in\n",
    "[examples](https://pyvespa.readthedocs.io/en/latest/examples.html)."
   ]
  },
  {
   "cell_type": "markdown",
   "id": "89400281",
   "metadata": {},
   "source": [
    "## Example: Document operations using cert/key pair\n",
    "\n",
    "Above, we deployed to Vespa Cloud, and as part of that, generated a cert/key pair.\n",
    "This pair can be used to access the dataplane for reads/writes to documents and running queries."
   ]
  },
  {
   "cell_type": "markdown",
   "id": "a32e2c83",
   "metadata": {},
   "source": [
    "Find the ID of the first document in the feed:"
   ]
  },
  {
   "cell_type": "code",
   "execution_count": 1,
   "id": "9c8f83e6",
   "metadata": {},
   "outputs": [],
   "source": [
    "from vespa.application import df_to_vespafeed\n",
    "import json\n",
    "\n",
    "feed = json.loads(df_to_vespafeed(docs, app_name, \"id\", namespace=app_name))\n",
    "doc_json = feed[0]\n",
    "docid = doc_json[\"fields\"][\"id\"]\n",
    "doc_json"
   ]
  },
  {
   "cell_type": "markdown",
   "id": "562ac505",
   "metadata": {},
   "source": [
    "Set up a dataplane connection using the cert/key pair:"
   ]
  },
  {
   "cell_type": "code",
   "execution_count": 1,
   "id": "ff72148c",
   "metadata": {},
   "outputs": [],
   "source": [
    "import requests\n",
    "\n",
    "session = requests.Session()\n",
    "session.cert = (cert_path, key_path)"
   ]
  },
  {
   "cell_type": "markdown",
   "id": "7b69ff0d",
   "metadata": {},
   "source": [
    "Get a document from the endpoint returned when we deployed to Vespa Cloud above:"
   ]
  },
  {
   "cell_type": "code",
   "execution_count": 1,
   "id": "79f7d12c",
   "metadata": {},
   "outputs": [],
   "source": [
    "url = \"{0}/document/v1/{1}/{2}/docid/{3}\".format(endpoint, app_name, app_name, docid)\n",
    "doc = session.get(url).json()\n",
    "doc"
   ]
  },
  {
   "cell_type": "markdown",
   "id": "82888987",
   "metadata": {},
   "source": [
    "Update the title and post the new version:"
   ]
  },
  {
   "cell_type": "code",
   "execution_count": 1,
   "id": "21c7c399",
   "metadata": {},
   "outputs": [],
   "source": [
    "doc[\"fields\"][\"title\"] = \"Can you eat lobster?\"\n",
    "response = session.post(url, json=doc).json()\n",
    "response"
   ]
  },
  {
   "cell_type": "markdown",
   "id": "68ae7225",
   "metadata": {},
   "source": [
    "Get the doc again to see the updated title:"
   ]
  },
  {
   "cell_type": "code",
   "execution_count": 1,
   "id": "2e3d560b",
   "metadata": {},
   "outputs": [],
   "source": [
    "doc = session.get(url).json()\n",
    "doc"
   ]
  },
  {
   "cell_type": "markdown",
   "id": "e2480213",
   "metadata": {},
   "source": [
    "## Example: Reconnect pyvespa using cert/key pair\n",
    "\n",
    "Above, we stored the dataplane credentials for later use. Deployment of an application usually happens when the schema changes, whereas accessing the dataplane is for document updates and user queries.\n",
    "\n",
    "One only needs to know the endpoint and the cert/key pair to enable a connection to a Vespa Cloud application:"
   ]
  },
  {
   "cell_type": "code",
   "execution_count": 1,
   "id": "c87da6cf",
   "metadata": {},
   "outputs": [],
   "source": [
    "# cert_path = \"/Users/me/.vespa/mytenant.textsearch.default/data-plane-public-cert.pem\"\n",
    "# key_path  = \"/Users/me/.vespa/mytenant.textsearch.default/data-plane-private-key.pem\"\n",
    "\n",
    "from vespa.application import Vespa\n",
    "\n",
    "the_app = Vespa(endpoint, cert=cert_path, key=key_path)\n",
    "\n",
    "res = the_app.query(body={\n",
    "    'yql': 'select * from sources * where true',\n",
    "    'hits': 1\n",
    "})\n",
    "res.hits[0]"
   ]
  },
  {
   "cell_type": "markdown",
   "id": "183bff2b",
   "metadata": {},
   "source": [
    "A common problem is a cert mismatch - the cert/key pair used when deployed is different than the pair used when making queries. Make sure it is the same pair / re-create with `vespa auth cert -f` and redeploy as needed."
   ]
  }
 ],
 "metadata": {
  "kernelspec": {
   "display_name": "Python 3 (ipykernel)",
   "language": "python",
   "name": "python3"
  },
  "language_info": {
   "codemirror_mode": {
    "name": "ipython",
    "version": 3
   },
   "file_extension": ".py",
   "mimetype": "text/x-python",
   "name": "python",
   "nbconvert_exporter": "python",
   "pygments_lexer": "ipython3",
   "version": "3.11.5"
  },
  "nbsphinx": {
   "allow_errors": true
  }
 },
 "nbformat": 4,
 "nbformat_minor": 5
}
