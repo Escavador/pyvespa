{
 "cells": [
  {
   "cell_type": "markdown",
   "id": "a05b3c78",
   "metadata": {},
   "source": [
    "## Setup"
   ]
  },
  {
   "cell_type": "code",
   "execution_count": null,
   "id": "b3b74fea",
   "metadata": {},
   "outputs": [],
   "source": [
    "!pip install numpy pandas pyvespa lightgbm"
   ]
  },
  {
   "cell_type": "markdown",
   "id": "8ee47075",
   "metadata": {},
   "source": [
    "Installing required packages:"
   ]
  },
  {
   "cell_type": "code",
   "execution_count": 1,
   "id": "2b098527",
   "metadata": {},
   "outputs": [],
   "source": [
    "import json\n",
    "import lightgbm as lgb\n",
    "import numpy as np\n",
    "import pandas as pd"
   ]
  },
  {
   "cell_type": "markdown",
   "id": "537186d1",
   "metadata": {},
   "source": [
    "## Create data"
   ]
  },
  {
   "cell_type": "markdown",
   "id": "fa276f86",
   "metadata": {},
   "source": [
    "Generate a toy dataset to follow along. Note that we set the column names in a format that Vespa understands. `query(value)` means that the user will send a parameter named `value` along with the query. `attribute(field)` means that `field` is a document attribute defined in a schema. In the example below we have a query parameter named `value` and two document's attributes, `numeric` and `categorical`. If we want `lightgbm` to handle categorical variables we should use `dtype=\"category\"` as shown below."
   ]
  },
  {
   "cell_type": "markdown",
   "id": "19cb4ab4",
   "metadata": {},
   "source": [
    "Further down we are going to give an example where we need to map model feature names to Vespa document and query parameter names. This is useful in case the model was trained with Vespa incomaptible feature names."
   ]
  },
  {
   "cell_type": "code",
   "execution_count": 2,
   "id": "007c12c6",
   "metadata": {},
   "outputs": [
    {
     "data": {
      "text/html": [
       "<div>\n",
       "<style scoped>\n",
       "    .dataframe tbody tr th:only-of-type {\n",
       "        vertical-align: middle;\n",
       "    }\n",
       "\n",
       "    .dataframe tbody tr th {\n",
       "        vertical-align: top;\n",
       "    }\n",
       "\n",
       "    .dataframe thead th {\n",
       "        text-align: right;\n",
       "    }\n",
       "</style>\n",
       "<table border=\"1\" class=\"dataframe\">\n",
       "  <thead>\n",
       "    <tr style=\"text-align: right;\">\n",
       "      <th></th>\n",
       "      <th>query(value)</th>\n",
       "      <th>attribute(numeric)</th>\n",
       "      <th>attribute(categorical)</th>\n",
       "    </tr>\n",
       "  </thead>\n",
       "  <tbody>\n",
       "    <tr>\n",
       "      <th>0</th>\n",
       "      <td>0.365326</td>\n",
       "      <td>0.236163</td>\n",
       "      <td>a</td>\n",
       "    </tr>\n",
       "    <tr>\n",
       "      <th>1</th>\n",
       "      <td>0.585092</td>\n",
       "      <td>0.517502</td>\n",
       "      <td>b</td>\n",
       "    </tr>\n",
       "    <tr>\n",
       "      <th>2</th>\n",
       "      <td>0.437061</td>\n",
       "      <td>0.497480</td>\n",
       "      <td>a</td>\n",
       "    </tr>\n",
       "    <tr>\n",
       "      <th>3</th>\n",
       "      <td>0.385089</td>\n",
       "      <td>0.451904</td>\n",
       "      <td>a</td>\n",
       "    </tr>\n",
       "    <tr>\n",
       "      <th>4</th>\n",
       "      <td>0.790912</td>\n",
       "      <td>0.116505</td>\n",
       "      <td>b</td>\n",
       "    </tr>\n",
       "  </tbody>\n",
       "</table>\n",
       "</div>"
      ],
      "text/plain": [
       "   query(value)  attribute(numeric) attribute(categorical)\n",
       "0      0.365326            0.236163                      a\n",
       "1      0.585092            0.517502                      b\n",
       "2      0.437061            0.497480                      a\n",
       "3      0.385089            0.451904                      a\n",
       "4      0.790912            0.116505                      b"
      ]
     },
     "execution_count": 2,
     "metadata": {},
     "output_type": "execute_result"
    }
   ],
   "source": [
    "# Create random training set\n",
    "features = pd.DataFrame({\n",
    "            \"query(value)\": np.random.random(100),\n",
    "            \"attribute(numeric)\": np.random.random(100),\n",
    "            \"attribute(categorical)\": pd.Series(np.random.choice([\"a\", \"b\", \"c\"], size=100), dtype=\"category\")\n",
    "        })\n",
    "features.head()"
   ]
  },
  {
   "cell_type": "markdown",
   "id": "1cb11b72",
   "metadata": {},
   "source": [
    "Generate target variables:"
   ]
  },
  {
   "cell_type": "code",
   "execution_count": 3,
   "id": "f350e8a4",
   "metadata": {},
   "outputs": [
    {
     "data": {
      "text/plain": [
       "0     0.0\n",
       "1     1.0\n",
       "2     0.0\n",
       "3     0.0\n",
       "4     0.0\n",
       "     ... \n",
       "95    1.0\n",
       "96    0.0\n",
       "97    1.0\n",
       "98    0.0\n",
       "99    0.0\n",
       "Length: 100, dtype: float64"
      ]
     },
     "execution_count": 3,
     "metadata": {},
     "output_type": "execute_result"
    }
   ],
   "source": [
    "numeric_features = pd.get_dummies(features)\n",
    "targets = (\n",
    "    (numeric_features[\"query(value)\"] + \n",
    "     numeric_features[\"attribute(numeric)\"]  -\n",
    "     0.5 * numeric_features[\"attribute(categorical)_a\"] + \n",
    "     0.5 * numeric_features[\"attribute(categorical)_c\"]) > 1.0\n",
    ") * 1.0\n",
    "targets"
   ]
  },
  {
   "cell_type": "markdown",
   "id": "1656c30b",
   "metadata": {},
   "source": [
    "## Fit lightgbm model"
   ]
  },
  {
   "cell_type": "code",
   "execution_count": 4,
   "id": "0cc3bfc4",
   "metadata": {},
   "outputs": [
    {
     "name": "stdout",
     "output_type": "stream",
     "text": [
      "[LightGBM] [Info] Number of positive: 52, number of negative: 48\n",
      "[LightGBM] [Warning] Auto-choosing col-wise multi-threading, the overhead of testing was 0.000627 seconds.\n",
      "You can set `force_col_wise=true` to remove the overhead.\n",
      "[LightGBM] [Info] Total Bins 74\n",
      "[LightGBM] [Info] Number of data points in the train set: 100, number of used features: 3\n",
      "[LightGBM] [Info] [binary:BoostFromScore]: pavg=0.520000 -> initscore=0.080043\n",
      "[LightGBM] [Info] Start training from score 0.080043\n"
     ]
    }
   ],
   "source": [
    "training_set = lgb.Dataset(features, targets)\n",
    "\n",
    "# Train the model\n",
    "params = {\n",
    "    'objective': 'binary',\n",
    "    'metric': 'binary_logloss',\n",
    "    'num_leaves': 3,\n",
    "}\n",
    "model = lgb.train(params, training_set, num_boost_round=5)"
   ]
  },
  {
   "cell_type": "markdown",
   "id": "121ad684",
   "metadata": {},
   "source": [
    "## Vespa application package"
   ]
  },
  {
   "cell_type": "markdown",
   "id": "ed4645a4",
   "metadata": {},
   "source": [
    "The model expects two document attributes, `numeric` and `categorical`. We can use the model in the first-phase ranking by using the `lightgbm` rank feature."
   ]
  },
  {
   "cell_type": "code",
   "execution_count": 5,
   "id": "458b6b8d",
   "metadata": {},
   "outputs": [],
   "source": [
    "from vespa.package import ApplicationPackage, Field, RankProfile, Function\n",
    "\n",
    "app_package = ApplicationPackage(name=\"lightgbm\")\n",
    "app_package.schema.add_fields(\n",
    "    Field(name=\"numeric\", type=\"double\", indexing=[\"summary\", \"attribute\"]),\n",
    "    Field(name=\"categorical\", type=\"string\", indexing=[\"summary\", \"attribute\"])\n",
    ")\n",
    "app_package.schema.add_rank_profile(\n",
    "    RankProfile(\n",
    "        name=\"classify\", \n",
    "        first_phase=\"lightgbm('lightgbm_model.json')\"\n",
    "    )\n",
    ")"
   ]
  },
  {
   "cell_type": "markdown",
   "id": "c2850fa2",
   "metadata": {},
   "source": [
    "We can check how the Vespa search defition file will look like:"
   ]
  },
  {
   "cell_type": "code",
   "execution_count": 6,
   "id": "7b129451",
   "metadata": {},
   "outputs": [
    {
     "name": "stdout",
     "output_type": "stream",
     "text": [
      "schema lightgbm {\n",
      "    document lightgbm {\n",
      "        field numeric type double {\n",
      "            indexing: summary | attribute\n",
      "        }\n",
      "        field categorical type string {\n",
      "            indexing: summary | attribute\n",
      "        }\n",
      "    }\n",
      "    rank-profile classify {\n",
      "        first-phase {\n",
      "            expression: lightgbm('lightgbm_model.json')\n",
      "        }\n",
      "    }\n",
      "}\n"
     ]
    }
   ],
   "source": [
    "print(app_package.schema.schema_to_text)"
   ]
  },
  {
   "cell_type": "markdown",
   "id": "99dc65f6",
   "metadata": {},
   "source": [
    "We can export the application package files to disk:"
   ]
  },
  {
   "cell_type": "code",
   "execution_count": 7,
   "id": "e49bba66",
   "metadata": {},
   "outputs": [],
   "source": [
    "from pathlib import Path\n",
    "Path(\"lightgbm\").mkdir(parents=True, exist_ok=True)\n",
    "app_package.to_files(\"lightgbm\")"
   ]
  },
  {
   "cell_type": "markdown",
   "id": "4be2a034",
   "metadata": {},
   "source": [
    "Note that we don't have any models under the `models` folder. We need to export the lightGBM model that we trained earlier to `models/lightgbm.json`."
   ]
  },
  {
   "cell_type": "code",
   "execution_count": 8,
   "id": "42b00a24",
   "metadata": {},
   "outputs": [
    {
     "name": "stdout",
     "output_type": "stream",
     "text": [
      "\u001b[01;34mlightgbm\u001b[00m\r\n",
      "├── \u001b[01;34mfiles\u001b[00m\r\n",
      "├── \u001b[01;34mmodels\u001b[00m\r\n",
      "├── \u001b[01;34mschemas\u001b[00m\r\n",
      "│   └── lightgbm.sd\r\n",
      "├── \u001b[01;34msearch\u001b[00m\r\n",
      "│   └── \u001b[01;34mquery-profiles\u001b[00m\r\n",
      "│       ├── default.xml\r\n",
      "│       └── \u001b[01;34mtypes\u001b[00m\r\n",
      "│           └── root.xml\r\n",
      "└── services.xml\r\n",
      "\r\n",
      "6 directories, 4 files\r\n"
     ]
    }
   ],
   "source": [
    "!tree lightgbm"
   ]
  },
  {
   "cell_type": "markdown",
   "id": "1bcb737c",
   "metadata": {},
   "source": [
    "## Export the model"
   ]
  },
  {
   "cell_type": "code",
   "execution_count": 9,
   "id": "5f1800f0",
   "metadata": {},
   "outputs": [],
   "source": [
    "with open(\"lightgbm/models/lightgbm_model.json\", \"w\") as f:\n",
    "    json.dump(model.dump_model(), f, indent=2)"
   ]
  },
  {
   "cell_type": "markdown",
   "id": "f3563968",
   "metadata": {},
   "source": [
    "Now we can see that the model is where Vespa expects it to be:"
   ]
  },
  {
   "cell_type": "code",
   "execution_count": 10,
   "id": "a1c4a967",
   "metadata": {},
   "outputs": [
    {
     "name": "stdout",
     "output_type": "stream",
     "text": [
      "\u001b[01;34mlightgbm\u001b[00m\r\n",
      "├── \u001b[01;34mfiles\u001b[00m\r\n",
      "├── \u001b[01;34mmodels\u001b[00m\r\n",
      "│   └── lightgbm_model.json\r\n",
      "├── \u001b[01;34mschemas\u001b[00m\r\n",
      "│   └── lightgbm.sd\r\n",
      "├── \u001b[01;34msearch\u001b[00m\r\n",
      "│   └── \u001b[01;34mquery-profiles\u001b[00m\r\n",
      "│       ├── default.xml\r\n",
      "│       └── \u001b[01;34mtypes\u001b[00m\r\n",
      "│           └── root.xml\r\n",
      "└── services.xml\r\n",
      "\r\n",
      "6 directories, 5 files\r\n"
     ]
    }
   ],
   "source": [
    "!tree lightgbm"
   ]
  },
  {
   "cell_type": "markdown",
   "id": "8c04cc80",
   "metadata": {},
   "source": [
    "## Deploy the application"
   ]
  },
  {
   "cell_type": "code",
   "execution_count": 11,
   "id": "7b754666",
   "metadata": {},
   "outputs": [
    {
     "name": "stdout",
     "output_type": "stream",
     "text": [
      "Waiting for configuration server, 0/300 seconds...\n",
      "Waiting for configuration server, 5/300 seconds...\n",
      "Waiting for configuration server, 10/300 seconds...\n",
      "Waiting for application status, 0/300 seconds...\n",
      "Waiting for application status, 5/300 seconds...\n",
      "Waiting for application status, 10/300 seconds...\n",
      "Waiting for application status, 15/300 seconds...\n",
      "Waiting for application status, 20/300 seconds...\n",
      "Waiting for application status, 25/300 seconds...\n",
      "Waiting for application status, 30/300 seconds...\n",
      "Finished deployment.\n"
     ]
    }
   ],
   "source": [
    "from vespa.deployment import VespaDocker\n",
    "\n",
    "vespa_docker = VespaDocker()\n",
    "app = vespa_docker.deploy_from_disk(application_name=\"lightgbm\", application_root=\"lightgbm\")"
   ]
  },
  {
   "cell_type": "markdown",
   "id": "43993b02",
   "metadata": {},
   "source": [
    "## Feed the data"
   ]
  },
  {
   "cell_type": "code",
   "execution_count": 12,
   "id": "49283cee",
   "metadata": {},
   "outputs": [],
   "source": [
    "feed_batch = [\n",
    "    {\n",
    "        \"id\": idx, \n",
    "        \"fields\": {\n",
    "            \"numeric\": float(row[\"attribute(numeric)\"]), \n",
    "            \"categorical\": str(row[\"attribute(categorical)\"])\n",
    "        }\n",
    "    } for idx, row in features.iterrows()\n",
    "]"
   ]
  },
  {
   "cell_type": "code",
   "execution_count": 13,
   "id": "da81915a",
   "metadata": {},
   "outputs": [
    {
     "name": "stdout",
     "output_type": "stream",
     "text": [
      "Successful documents fed: 100/100.\n",
      "Batch progress: 1/1.\n"
     ]
    }
   ],
   "source": [
    "status = app.feed_batch(feed_batch)"
   ]
  },
  {
   "cell_type": "markdown",
   "id": "b7746e2b",
   "metadata": {},
   "source": [
    "## Query"
   ]
  },
  {
   "cell_type": "code",
   "execution_count": 14,
   "id": "d0e9f2ed",
   "metadata": {},
   "outputs": [],
   "source": [
    "hits = app.query(\n",
    "    body={\n",
    "        \"yql\": \"select * from sources * where true\",\n",
    "        \"ranking\": \"classify\",\n",
    "        \"ranking.features.query(value)\": 1,\n",
    "        \"hits\": 100\n",
    "    }\n",
    ").hits"
   ]
  },
  {
   "cell_type": "markdown",
   "id": "cee39781",
   "metadata": {},
   "source": [
    "## Check Vespa and model predictions match"
   ]
  },
  {
   "cell_type": "code",
   "execution_count": 15,
   "id": "1ebcd891",
   "metadata": {},
   "outputs": [],
   "source": [
    "predictions = pd.DataFrame.from_records(\n",
    "[\n",
    "    {\n",
    "        \"vespa_relevance\": float(hit[\"relevance\"]), \n",
    "        \"attribute(numeric)\": float(hit[\"fields\"][\"numeric\"]), \n",
    "        \"attribute(categorical)\": str(hit[\"fields\"][\"categorical\"]),         \n",
    "        \"query(value)\": 1\n",
    "    } for hit in hits\n",
    "]\n",
    ")\n",
    "predictions[\"attribute(categorical)\"] = predictions[\"attribute(categorical)\"].astype('category') "
   ]
  },
  {
   "cell_type": "code",
   "execution_count": 16,
   "id": "409f7370",
   "metadata": {},
   "outputs": [
    {
     "data": {
      "text/html": [
       "<div>\n",
       "<style scoped>\n",
       "    .dataframe tbody tr th:only-of-type {\n",
       "        vertical-align: middle;\n",
       "    }\n",
       "\n",
       "    .dataframe tbody tr th {\n",
       "        vertical-align: top;\n",
       "    }\n",
       "\n",
       "    .dataframe thead th {\n",
       "        text-align: right;\n",
       "    }\n",
       "</style>\n",
       "<table border=\"1\" class=\"dataframe\">\n",
       "  <thead>\n",
       "    <tr style=\"text-align: right;\">\n",
       "      <th></th>\n",
       "      <th>attribute(numeric)</th>\n",
       "      <th>attribute(categorical)</th>\n",
       "      <th>query(value)</th>\n",
       "    </tr>\n",
       "  </thead>\n",
       "  <tbody>\n",
       "    <tr>\n",
       "      <th>0</th>\n",
       "      <td>0.698056</td>\n",
       "      <td>c</td>\n",
       "      <td>1</td>\n",
       "    </tr>\n",
       "    <tr>\n",
       "      <th>1</th>\n",
       "      <td>0.737584</td>\n",
       "      <td>c</td>\n",
       "      <td>1</td>\n",
       "    </tr>\n",
       "    <tr>\n",
       "      <th>2</th>\n",
       "      <td>0.588200</td>\n",
       "      <td>c</td>\n",
       "      <td>1</td>\n",
       "    </tr>\n",
       "    <tr>\n",
       "      <th>3</th>\n",
       "      <td>0.775526</td>\n",
       "      <td>c</td>\n",
       "      <td>1</td>\n",
       "    </tr>\n",
       "    <tr>\n",
       "      <th>4</th>\n",
       "      <td>0.748250</td>\n",
       "      <td>c</td>\n",
       "      <td>1</td>\n",
       "    </tr>\n",
       "    <tr>\n",
       "      <th>5</th>\n",
       "      <td>0.670670</td>\n",
       "      <td>c</td>\n",
       "      <td>1</td>\n",
       "    </tr>\n",
       "    <tr>\n",
       "      <th>6</th>\n",
       "      <td>0.802057</td>\n",
       "      <td>c</td>\n",
       "      <td>1</td>\n",
       "    </tr>\n",
       "    <tr>\n",
       "      <th>7</th>\n",
       "      <td>0.587497</td>\n",
       "      <td>c</td>\n",
       "      <td>1</td>\n",
       "    </tr>\n",
       "    <tr>\n",
       "      <th>8</th>\n",
       "      <td>0.789344</td>\n",
       "      <td>c</td>\n",
       "      <td>1</td>\n",
       "    </tr>\n",
       "    <tr>\n",
       "      <th>9</th>\n",
       "      <td>0.722675</td>\n",
       "      <td>c</td>\n",
       "      <td>1</td>\n",
       "    </tr>\n",
       "  </tbody>\n",
       "</table>\n",
       "</div>"
      ],
      "text/plain": [
       "   attribute(numeric) attribute(categorical)  query(value)\n",
       "0            0.698056                      c             1\n",
       "1            0.737584                      c             1\n",
       "2            0.588200                      c             1\n",
       "3            0.775526                      c             1\n",
       "4            0.748250                      c             1\n",
       "5            0.670670                      c             1\n",
       "6            0.802057                      c             1\n",
       "7            0.587497                      c             1\n",
       "8            0.789344                      c             1\n",
       "9            0.722675                      c             1"
      ]
     },
     "execution_count": 16,
     "metadata": {},
     "output_type": "execute_result"
    }
   ],
   "source": [
    "X = predictions[[\"attribute(numeric)\", \"attribute(categorical)\", \"query(value)\"]]\n",
    "X.head(10)"
   ]
  },
  {
   "cell_type": "code",
   "execution_count": 17,
   "id": "2145f230",
   "metadata": {},
   "outputs": [
    {
     "data": {
      "text/html": [
       "<div>\n",
       "<style scoped>\n",
       "    .dataframe tbody tr th:only-of-type {\n",
       "        vertical-align: middle;\n",
       "    }\n",
       "\n",
       "    .dataframe tbody tr th {\n",
       "        vertical-align: top;\n",
       "    }\n",
       "\n",
       "    .dataframe thead th {\n",
       "        text-align: right;\n",
       "    }\n",
       "</style>\n",
       "<table border=\"1\" class=\"dataframe\">\n",
       "  <thead>\n",
       "    <tr style=\"text-align: right;\">\n",
       "      <th></th>\n",
       "      <th>vespa_relevance</th>\n",
       "      <th>attribute(numeric)</th>\n",
       "      <th>attribute(categorical)</th>\n",
       "      <th>query(value)</th>\n",
       "    </tr>\n",
       "  </thead>\n",
       "  <tbody>\n",
       "    <tr>\n",
       "      <th>0</th>\n",
       "      <td>0.697870</td>\n",
       "      <td>0.698056</td>\n",
       "      <td>c</td>\n",
       "      <td>1</td>\n",
       "    </tr>\n",
       "    <tr>\n",
       "      <th>1</th>\n",
       "      <td>0.697870</td>\n",
       "      <td>0.737584</td>\n",
       "      <td>c</td>\n",
       "      <td>1</td>\n",
       "    </tr>\n",
       "    <tr>\n",
       "      <th>2</th>\n",
       "      <td>0.697870</td>\n",
       "      <td>0.588200</td>\n",
       "      <td>c</td>\n",
       "      <td>1</td>\n",
       "    </tr>\n",
       "    <tr>\n",
       "      <th>3</th>\n",
       "      <td>0.697870</td>\n",
       "      <td>0.775526</td>\n",
       "      <td>c</td>\n",
       "      <td>1</td>\n",
       "    </tr>\n",
       "    <tr>\n",
       "      <th>4</th>\n",
       "      <td>0.697870</td>\n",
       "      <td>0.748250</td>\n",
       "      <td>c</td>\n",
       "      <td>1</td>\n",
       "    </tr>\n",
       "    <tr>\n",
       "      <th>...</th>\n",
       "      <td>...</td>\n",
       "      <td>...</td>\n",
       "      <td>...</td>\n",
       "      <td>...</td>\n",
       "    </tr>\n",
       "    <tr>\n",
       "      <th>95</th>\n",
       "      <td>0.347303</td>\n",
       "      <td>0.400556</td>\n",
       "      <td>a</td>\n",
       "      <td>1</td>\n",
       "    </tr>\n",
       "    <tr>\n",
       "      <th>96</th>\n",
       "      <td>0.347303</td>\n",
       "      <td>0.244337</td>\n",
       "      <td>a</td>\n",
       "      <td>1</td>\n",
       "    </tr>\n",
       "    <tr>\n",
       "      <th>97</th>\n",
       "      <td>0.347303</td>\n",
       "      <td>0.497480</td>\n",
       "      <td>a</td>\n",
       "      <td>1</td>\n",
       "    </tr>\n",
       "    <tr>\n",
       "      <th>98</th>\n",
       "      <td>0.347303</td>\n",
       "      <td>0.360573</td>\n",
       "      <td>a</td>\n",
       "      <td>1</td>\n",
       "    </tr>\n",
       "    <tr>\n",
       "      <th>99</th>\n",
       "      <td>0.347303</td>\n",
       "      <td>0.236163</td>\n",
       "      <td>a</td>\n",
       "      <td>1</td>\n",
       "    </tr>\n",
       "  </tbody>\n",
       "</table>\n",
       "<p>100 rows × 4 columns</p>\n",
       "</div>"
      ],
      "text/plain": [
       "    vespa_relevance  attribute(numeric) attribute(categorical)  query(value)\n",
       "0          0.697870            0.698056                      c             1\n",
       "1          0.697870            0.737584                      c             1\n",
       "2          0.697870            0.588200                      c             1\n",
       "3          0.697870            0.775526                      c             1\n",
       "4          0.697870            0.748250                      c             1\n",
       "..              ...                 ...                    ...           ...\n",
       "95         0.347303            0.400556                      a             1\n",
       "96         0.347303            0.244337                      a             1\n",
       "97         0.347303            0.497480                      a             1\n",
       "98         0.347303            0.360573                      a             1\n",
       "99         0.347303            0.236163                      a             1\n",
       "\n",
       "[100 rows x 4 columns]"
      ]
     },
     "execution_count": 17,
     "metadata": {},
     "output_type": "execute_result"
    }
   ],
   "source": [
    "predictions"
   ]
  },
  {
   "cell_type": "code",
   "execution_count": 18,
   "id": "7b6768da",
   "metadata": {},
   "outputs": [
    {
     "data": {
      "text/plain": [
       "array([0.64492719, 0.64492719, 0.64492719, 0.64492719, 0.64492719,\n",
       "       0.64492719, 0.64492719, 0.64492719, 0.64492719, 0.64492719,\n",
       "       0.64492719, 0.64492719, 0.64492719, 0.64492719, 0.64492719,\n",
       "       0.64492719, 0.64492719, 0.64492719, 0.64492719, 0.64492719,\n",
       "       0.64492719, 0.64492719, 0.64492719, 0.64492719, 0.64492719,\n",
       "       0.64492719, 0.60973365, 0.64492719, 0.60973365, 0.64492719,\n",
       "       0.60973365, 0.60973365, 0.60973365, 0.60973365, 0.64492719,\n",
       "       0.60973365, 0.64492719, 0.60973365, 0.60973365, 0.60973365,\n",
       "       0.64492719, 0.60973365, 0.60973365, 0.64492719, 0.60973365,\n",
       "       0.60973365, 0.64492719, 0.64492719, 0.64492719, 0.64492719,\n",
       "       0.60973365, 0.60973365, 0.64492719, 0.60973365, 0.60973365,\n",
       "       0.60973365, 0.60973365, 0.60973365, 0.60973365, 0.60973365,\n",
       "       0.60973365, 0.60973365, 0.60973365, 0.60973365, 0.49078109,\n",
       "       0.49078109, 0.49078109, 0.49078109, 0.49078109, 0.49078109,\n",
       "       0.49078109, 0.49078109, 0.49078109, 0.49078109, 0.49078109,\n",
       "       0.49078109, 0.49078109, 0.49078109, 0.49078109, 0.45326145,\n",
       "       0.49078109, 0.45326145, 0.45326145, 0.49078109, 0.45326145,\n",
       "       0.49078109, 0.45326145, 0.49078109, 0.49078109, 0.49078109,\n",
       "       0.49078109, 0.49078109, 0.45326145, 0.45326145, 0.49078109,\n",
       "       0.49078109, 0.45326145, 0.49078109, 0.45326145, 0.45326145])"
      ]
     },
     "execution_count": 18,
     "metadata": {},
     "output_type": "execute_result"
    }
   ],
   "source": [
    "model.predict(X)"
   ]
  },
  {
   "cell_type": "code",
   "execution_count": 19,
   "id": "71327a9a",
   "metadata": {},
   "outputs": [
    {
     "ename": "AssertionError",
     "evalue": "",
     "output_type": "error",
     "traceback": [
      "\u001b[0;31m---------------------------------------------------------------------------\u001b[0m",
      "\u001b[0;31mAssertionError\u001b[0m                            Traceback (most recent call last)",
      "Input \u001b[0;32mIn [19]\u001b[0m, in \u001b[0;36m<cell line: 1>\u001b[0;34m()\u001b[0m\n\u001b[0;32m----> 1\u001b[0m \u001b[38;5;28;01massert\u001b[39;00m predictions\u001b[38;5;241m.\u001b[39mvespa_relevance\u001b[38;5;241m.\u001b[39mtolist() \u001b[38;5;241m==\u001b[39m model\u001b[38;5;241m.\u001b[39mpredict(X)\u001b[38;5;241m.\u001b[39mtolist()\n",
      "\u001b[0;31mAssertionError\u001b[0m: "
     ]
    }
   ],
   "source": [
    "assert predictions.vespa_relevance.tolist() == model.predict(X).tolist()"
   ]
  },
  {
   "cell_type": "markdown",
   "id": "4369f116",
   "metadata": {},
   "source": [
    "## Clean environment"
   ]
  },
  {
   "cell_type": "code",
   "execution_count": null,
   "id": "7b30a086",
   "metadata": {},
   "outputs": [],
   "source": [
    "!rm -fr lightgbm\n",
    "vespa_docker.container.stop(timeout=600)\n",
    "vespa_docker.container.remove()"
   ]
  }
 ],
 "metadata": {
  "kernelspec": {
   "display_name": "Python 3",
   "language": "python",
   "name": "python3"
  },
  "language_info": {
   "codemirror_mode": {
    "name": "ipython",
    "version": 3
   },
   "file_extension": ".py",
   "mimetype": "text/x-python",
   "name": "python",
   "nbconvert_exporter": "python",
   "pygments_lexer": "ipython3",
   "version": "3.9.7"
  }
 },
 "nbformat": 4,
 "nbformat_minor": 5
}
