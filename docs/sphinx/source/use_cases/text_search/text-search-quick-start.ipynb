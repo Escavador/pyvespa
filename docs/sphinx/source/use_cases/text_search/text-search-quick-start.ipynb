{
 "cells": [
  {
   "cell_type": "markdown",
   "id": "given-adoption",
   "metadata": {},
   "source": [
    "# Text search\n",
    "\n",
    "![Vespa logo](https://vespa.ai/assets/vespa-logo-color.png)\n",
    "\n",
    "Quick get started with the gallery module.\n",
    "[Install pyvespa](https://pyvespa.readthedocs.io/) and start Docker, validate minimum 4G available:"
   ]
  },
  {
   "cell_type": "code",
   "execution_count": 16,
   "id": "69b82a1e",
   "metadata": {},
   "outputs": [
    {
     "name": "stdout",
     "output_type": "stream",
     "text": [
      " Total Memory: 11.7GiB\r\n"
     ]
    }
   ],
   "source": [
    "!docker info | grep \"Total Memory\""
   ]
  },
  {
   "cell_type": "markdown",
   "id": "3a96ed38",
   "metadata": {},
   "source": [
    "## Create the application package\n",
    "\n",
    "The first step is to create an [application package](https://pyvespa.readthedocs.io/en/latest/reference-api.html#vespa.package.ApplicationPackage):"
   ]
  },
  {
   "cell_type": "code",
   "execution_count": 1,
   "id": "762ce74d",
   "metadata": {},
   "outputs": [],
   "source": [
    "from vespa.package import ApplicationPackage\n",
    "\n",
    "app_package = ApplicationPackage(name=\"textsearch\")"
   ]
  },
  {
   "cell_type": "markdown",
   "id": "1001c37e",
   "metadata": {},
   "source": [
    "## Add fields to the schema\n",
    "\n",
    "We can then add [fields](https://pyvespa.readthedocs.io/en/latest/reference-api.html#vespa.package.Field) to the application's [Schema](https://pyvespa.readthedocs.io/en/latest/reference-api.html#vespa.package.Schema) created by default in `app_package`."
   ]
  },
  {
   "cell_type": "code",
   "execution_count": 2,
   "id": "def86fe7",
   "metadata": {},
   "outputs": [],
   "source": [
    "from vespa.package import Field\n",
    "\n",
    "app_package.schema.add_fields(\n",
    "    Field(name = \"id\",    type = \"string\", indexing = [\"attribute\", \"summary\"]),\n",
    "    Field(name = \"title\", type = \"string\", indexing = [\"index\", \"summary\"], index = \"enable-bm25\"),\n",
    "    Field(name = \"body\",  type = \"string\", indexing = [\"index\", \"summary\"], index = \"enable-bm25\")\n",
    ")"
   ]
  },
  {
   "cell_type": "markdown",
   "id": "ae9cd9e7",
   "metadata": {},
   "source": [
    "* `id` will store the document ids, while `title` and `body` are self explanatory. \n",
    "\n",
    "* All the fields in this case are of type `string`. \n",
    "\n",
    "* Including `\"index\"` in the `indexing` list means that Vespa will create a searchable index for `title` and `body`.\n",
    "  You can read more about which options is available for `indexing` in the\n",
    "  [Vespa documentation](https://docs.vespa.ai/en/reference/schema-reference.html#indexing). \n",
    "\n",
    "* Setting `index = \"enable-bm25\"` makes Vespa pre-compute quantities to make it fast to compute the BM25 score.\n",
    "  We will use BM25 to rank the documents retrieved."
   ]
  },
  {
   "cell_type": "markdown",
   "id": "44da4c97",
   "metadata": {},
   "source": [
    "## Search multiple fields when querying\n",
    "\n",
    "A [Fieldset](https://pyvespa.readthedocs.io/en/latest/reference-api.html#vespa.package.FieldSet)\n",
    "groups fields together for searching.\n",
    "E.g., the `default` fieldset defined below groups `title` and `abstract` together."
   ]
  },
  {
   "cell_type": "code",
   "execution_count": 3,
   "id": "30dbb6c8",
   "metadata": {},
   "outputs": [],
   "source": [
    "from vespa.package import FieldSet\n",
    "\n",
    "app_package.schema.add_field_set(\n",
    "    FieldSet(name = \"default\", fields = [\"title\", \"body\"])\n",
    ")"
   ]
  },
  {
   "cell_type": "markdown",
   "id": "2f9fe3ac",
   "metadata": {},
   "source": [
    "## Define how to rank the documents matched\n",
    "\n",
    "We can specify how to rank the matched documents by defining a\n",
    "[RankProfile](https://pyvespa.readthedocs.io/en/latest/reference-api.html#vespa.package.RankProfile).\n",
    "In this case, we defined the `bm25` rank profile that combines that BM25 scores\n",
    "computed over the `title` and `body` fields. "
   ]
  },
  {
   "cell_type": "code",
   "execution_count": 4,
   "id": "026a274c",
   "metadata": {},
   "outputs": [],
   "source": [
    "from vespa.package import RankProfile\n",
    "\n",
    "app_package.schema.add_rank_profile(\n",
    "    RankProfile(name = \"default\", first_phase = \"bm25(title) + bm25(body)\")\n",
    ")\n",
    "app_package.schema.add_rank_profile(\n",
    "    RankProfile(name = \"bm25\", first_phase = \"bm25(title) + bm25(body)\")\n",
    ")\n",
    "app_package.schema.add_rank_profile(\n",
    "    RankProfile(name = \"native_rank\", first_phase = \"nativeRank(title,body)\")\n",
    ")"
   ]
  },
  {
   "cell_type": "markdown",
   "id": "c6d51471",
   "metadata": {},
   "source": [
    "## QueryModel\n",
    "\n",
    "Set the query parameters:"
   ]
  },
  {
   "cell_type": "code",
   "execution_count": 5,
   "id": "5354122e",
   "metadata": {},
   "outputs": [],
   "source": [
    "from vespa.query import QueryModel, AND, RankProfile as Ranking\n",
    "\n",
    "bm25_query_model = QueryModel(\n",
    "    name=\"and_bm25\",\n",
    "    match_phase = AND(),\n",
    "    rank_profile = Ranking(name=\"bm25\")\n",
    ")"
   ]
  },
  {
   "cell_type": "markdown",
   "id": "careful-savage",
   "metadata": {},
   "source": [
    "## Deploy"
   ]
  },
  {
   "cell_type": "code",
   "execution_count": 6,
   "id": "canadian-blood",
   "metadata": {},
   "outputs": [
    {
     "name": "stdout",
     "output_type": "stream",
     "text": [
      "Waiting for configuration server.\n",
      "Waiting for configuration server.\n",
      "Waiting for application status.\n",
      "Waiting for application status.\n",
      "Finished deployment.\n"
     ]
    }
   ],
   "source": [
    "import os\n",
    "from vespa.deployment import VespaDocker\n",
    "\n",
    "disk_folder = os.path.join(os.getcwd(), \"sample_application\")\n",
    "vespa_docker = VespaDocker(port=8089, disk_folder=disk_folder)\n",
    "app = vespa_docker.deploy(application_package=app_package)"
   ]
  },
  {
   "cell_type": "markdown",
   "id": "sealed-mustang",
   "metadata": {},
   "source": [
    "## Feed\n",
    "\n",
    "Download approx 10K documents:"
   ]
  },
  {
   "cell_type": "code",
   "execution_count": 10,
   "id": "executed-reservoir",
   "metadata": {},
   "outputs": [
    {
     "data": {
      "text/html": [
       "<div>\n",
       "<style scoped>\n",
       "    .dataframe tbody tr th:only-of-type {\n",
       "        vertical-align: middle;\n",
       "    }\n",
       "\n",
       "    .dataframe tbody tr th {\n",
       "        vertical-align: top;\n",
       "    }\n",
       "\n",
       "    .dataframe thead th {\n",
       "        text-align: right;\n",
       "    }\n",
       "</style>\n",
       "<table border=\"1\" class=\"dataframe\">\n",
       "  <thead>\n",
       "    <tr style=\"text-align: right;\">\n",
       "      <th></th>\n",
       "      <th>id</th>\n",
       "      <th>title</th>\n",
       "      <th>body</th>\n",
       "    </tr>\n",
       "  </thead>\n",
       "  <tbody>\n",
       "    <tr>\n",
       "      <th>0</th>\n",
       "      <td>D1712962</td>\n",
       "      <td>Can you eat crab or imitation krab when you ha...</td>\n",
       "      <td>Answers com   Wiki Answers   Categories Health...</td>\n",
       "    </tr>\n",
       "    <tr>\n",
       "      <th>1</th>\n",
       "      <td>D1817294</td>\n",
       "      <td>How long is a tax refund check good</td>\n",
       "      <td>Answers com   Wiki Answers   Categories Busine...</td>\n",
       "    </tr>\n",
       "    <tr>\n",
       "      <th>2</th>\n",
       "      <td>D1761039</td>\n",
       "      <td>The Suffolk Resolves  1774</td>\n",
       "      <td>The Suffolk Resolves  1774 Across New England ...</td>\n",
       "    </tr>\n",
       "    <tr>\n",
       "      <th>3</th>\n",
       "      <td>D2899268</td>\n",
       "      <td>The eagle has flown</td>\n",
       "      <td>Download citation Share Download full text PDF...</td>\n",
       "    </tr>\n",
       "    <tr>\n",
       "      <th>4</th>\n",
       "      <td>D3278481</td>\n",
       "      <td>22b  Cotton and African American Life</td>\n",
       "      <td>22b  Cotton and African American Life Two thi...</td>\n",
       "    </tr>\n",
       "  </tbody>\n",
       "</table>\n",
       "</div>"
      ],
      "text/plain": [
       "         id                                              title  \\\n",
       "0  D1712962  Can you eat crab or imitation krab when you ha...   \n",
       "1  D1817294               How long is a tax refund check good    \n",
       "2  D1761039                        The Suffolk Resolves  1774    \n",
       "3  D2899268                                The eagle has flown   \n",
       "4  D3278481              22b  Cotton and African American Life   \n",
       "\n",
       "                                                body  \n",
       "0  Answers com   Wiki Answers   Categories Health...  \n",
       "1  Answers com   Wiki Answers   Categories Busine...  \n",
       "2  The Suffolk Resolves  1774 Across New England ...  \n",
       "3  Download citation Share Download full text PDF...  \n",
       "4   22b  Cotton and African American Life Two thi...  "
      ]
     },
     "execution_count": 10,
     "metadata": {},
     "output_type": "execute_result"
    }
   ],
   "source": [
    "from pandas import read_csv\n",
    "\n",
    "docs = read_csv(\n",
    "    filepath_or_buffer=\"https://data.vespa.oath.cloud/blog/msmarco/sample_docs.csv\"\n",
    ")\n",
    "docs.head()"
   ]
  },
  {
   "cell_type": "code",
   "execution_count": 12,
   "id": "bottom-memorabilia",
   "metadata": {},
   "outputs": [],
   "source": [
    "responses = app.feed_df(docs)"
   ]
  },
  {
   "cell_type": "markdown",
   "id": "separated-insertion",
   "metadata": {},
   "source": [
    "## Query"
   ]
  },
  {
   "cell_type": "code",
   "execution_count": 13,
   "id": "pretty-boost",
   "metadata": {},
   "outputs": [],
   "source": [
    "response = app.query(query=\"what keeps planes in the air\", query_model=bm25_query_model)"
   ]
  },
  {
   "cell_type": "code",
   "execution_count": 14,
   "id": "chubby-caribbean",
   "metadata": {},
   "outputs": [
    {
     "name": "stdout",
     "output_type": "stream",
     "text": [
      "{'id': 'D1871659', 'title': 'What keeps airplanes in the air ', 'relevance': 25.629646778721742}\n",
      "{'id': 'D684487', 'title': 'MP02  Motion Diagrams', 'relevance': 10.530621046528191}\n",
      "{'id': 'D254873', 'title': ' ', 'relevance': 9.360245799821818}\n",
      "{'id': 'D1765332', 'title': 'Fast   Furious 6', 'relevance': 8.074330525519938}\n",
      "{'id': 'D1631044', 'title': 'First Cell', 'relevance': 7.633614797739616}\n",
      "{'id': 'D3434656', 'title': 'A Global Guide to Pet Relocation Costs', 'relevance': 6.924114436169092}\n",
      "{'id': 'D3157544', 'title': 'Thomas Cook to axe 2 600 jobs', 'relevance': 6.62022009705605}\n",
      "{'id': 'D209851', 'title': 'The USS Scorpion Buried at Sea', 'relevance': 6.406117915168793}\n",
      "{'id': 'D958861', 'title': 'George Harrison  close to death ', 'relevance': 6.008681916270936}\n",
      "{'id': 'D1529248', 'title': 'The airport shopping challenge  Left buying Christmas presents til  the last minute like I did  You CAN do it all in two hours   and I m living proof', 'relevance': 5.991353085441334}\n"
     ]
    }
   ],
   "source": [
    "for hit in response.hits:\n",
    "    print({\n",
    "        \"id\": hit[\"fields\"][\"id\"], \n",
    "        \"title\": hit[\"fields\"][\"title\"], \n",
    "        \"relevance\": hit[\"relevance\"]\n",
    "    })"
   ]
  },
  {
   "cell_type": "markdown",
   "id": "a4c155df",
   "metadata": {},
   "source": [
    "## Cleanup"
   ]
  },
  {
   "cell_type": "code",
   "execution_count": 15,
   "id": "3a1a58e8",
   "metadata": {},
   "outputs": [],
   "source": [
    "from shutil import rmtree\n",
    "\n",
    "rmtree(os.path.join(os.getcwd(), \"sample_application\"), ignore_errors=True)\n",
    "vespa_docker.container.stop()\n",
    "vespa_docker.container.remove()"
   ]
  }
 ],
 "metadata": {
  "kernelspec": {
   "display_name": "Python 3 (ipykernel)",
   "language": "python",
   "name": "python3"
  },
  "language_info": {
   "codemirror_mode": {
    "name": "ipython",
    "version": 3
   },
   "file_extension": ".py",
   "mimetype": "text/x-python",
   "name": "python",
   "nbconvert_exporter": "python",
   "pygments_lexer": "ipython3",
   "version": "3.9.9"
  }
 },
 "nbformat": 4,
 "nbformat_minor": 5
}
