{
 "cells": [
  {
   "cell_type": "markdown",
   "id": "given-adoption",
   "metadata": {},
   "source": [
    "# Text search\n",
    "\n",
    "![Vespa logo](https://vespa.ai/assets/vespa-logo-color.png)\n",
    "\n",
    "This self-contained tutorial will create a basic text search application based on the MS MARCO dataset,\n",
    "similar to Vespa's [text search tutorials](https://docs.vespa.ai/en/tutorials/text-search.html).\n",
    "\n",
    "[Install pyvespa](https://pyvespa.readthedocs.io/) and start Docker, validate minimum 4G available:"
   ]
  },
  {
   "cell_type": "code",
   "execution_count": null,
   "id": "03f3d0f2",
   "metadata": {},
   "outputs": [],
   "source": [
    "!docker info | grep \"Total Memory\""
   ]
  },
  {
   "cell_type": "markdown",
   "id": "db637322",
   "metadata": {},
   "source": [
    "## Create an application package\n",
    "\n",
    "Create an [application package](https://pyvespa.readthedocs.io/en/latest/reference-api.html#vespa.package.ApplicationPackage) - do not use a `-` in the name:"
   ]
  },
  {
   "cell_type": "code",
   "execution_count": null,
   "id": "bd5c2629",
   "metadata": {},
   "outputs": [],
   "source": [
    "from vespa.package import ApplicationPackage\n",
    "\n",
    "app_package = ApplicationPackage(name=\"textsearch\")"
   ]
  },
  {
   "cell_type": "markdown",
   "id": "caa46d5a",
   "metadata": {},
   "source": [
    "## Add fields to the schema\n",
    "\n",
    "Add [fields](https://pyvespa.readthedocs.io/en/latest/reference-api.html#vespa.package.Field)\n",
    "to the application's [schema](https://pyvespa.readthedocs.io/en/latest/reference-api.html#vespa.package.Schema):"
   ]
  },
  {
   "cell_type": "code",
   "execution_count": null,
   "id": "f2d0bea7",
   "metadata": {},
   "outputs": [],
   "source": [
    "from vespa.package import Field\n",
    "\n",
    "app_package.schema.add_fields(\n",
    "    Field(name = \"id\",    type = \"string\", indexing = [\"attribute\", \"summary\"]),\n",
    "    Field(name = \"title\", type = \"string\", indexing = [\"index\", \"summary\"], index = \"enable-bm25\"),\n",
    "    Field(name = \"body\",  type = \"string\", indexing = [\"index\", \"summary\"], index = \"enable-bm25\")\n",
    ")"
   ]
  },
  {
   "cell_type": "markdown",
   "id": "0a4199cb",
   "metadata": {},
   "source": [
    "* `id` holds the document ids, while `title` and `body` are the text fields of the documents.\n",
    "\n",
    "* Setting `\"index\"` in `indexing` means that a searchable index for `title` and `body` is created.\n",
    "  Read more about [indexing options](https://docs.vespa.ai/en/reference/schema-reference.html#indexing). \n",
    "\n",
    "* Setting `index = \"enable-bm25\"` will pre-compute quantities to make it fast to compute the BM25 score."
   ]
  },
  {
   "cell_type": "markdown",
   "id": "e1757dea",
   "metadata": {},
   "source": [
    "## Search multiple fields when querying\n",
    "\n",
    "A [FieldSet](https://pyvespa.readthedocs.io/en/latest/reference-api.html#vespa.package.FieldSet)\n",
    "groups fields together for searching -\n",
    "it configures queries to look for matches both in the titles and bodies of the documents:"
   ]
  },
  {
   "cell_type": "code",
   "execution_count": null,
   "id": "d0ecbb27",
   "metadata": {},
   "outputs": [],
   "source": [
    "from vespa.package import FieldSet\n",
    "\n",
    "app_package.schema.add_field_set(\n",
    "    FieldSet(name = \"default\", fields = [\"title\", \"body\"])\n",
    ")"
   ]
  },
  {
   "cell_type": "markdown",
   "id": "6573388c",
   "metadata": {},
   "source": [
    "## Define how to rank the documents matched\n",
    "\n",
    "Specify how to rank the matched documents by defining a\n",
    "[RankProfile](https://pyvespa.readthedocs.io/en/latest/reference-api.html#vespa.package.RankProfile).\n",
    "Here, the `bm25` rank profile combines BM25 scores from `title` and `body`:"
   ]
  },
  {
   "cell_type": "code",
   "execution_count": null,
   "id": "9bb438f4",
   "metadata": {},
   "outputs": [],
   "source": [
    "from vespa.package import RankProfile\n",
    "\n",
    "app_package.schema.add_rank_profile(\n",
    "    RankProfile(name = \"default\", first_phase = \"bm25(title) + bm25(body)\")\n",
    ")\n",
    "app_package.schema.add_rank_profile(\n",
    "    RankProfile(name = \"bm25\", first_phase = \"bm25(title) + bm25(body)\")\n",
    ")\n",
    "app_package.schema.add_rank_profile(\n",
    "    RankProfile(name = \"native_rank\", first_phase = \"nativeRank(title, body)\")\n",
    ")"
   ]
  },
  {
   "cell_type": "markdown",
   "id": "careful-savage",
   "metadata": {},
   "source": [
    "## Deploy\n",
    "\n",
    "The text search app with fields, a fieldset to group fields together, and a rank profile to rank matched documents is now defined and ready to deploy.\n",
    "Deploy `app_package` on the local machine using Docker,\n",
    "without leaving the notebook, by creating an instance of\n",
    "[VespaDocker](https://pyvespa.readthedocs.io/en/latest/reference-api.html#vespa.deployment.VespaDocker):"
   ]
  },
  {
   "cell_type": "code",
   "execution_count": null,
   "id": "canadian-blood",
   "metadata": {},
   "outputs": [],
   "source": [
    "import os\n",
    "from vespa.deployment import VespaDocker\n",
    "\n",
    "vespa_docker = VespaDocker()\n",
    "app = vespa_docker.deploy(application_package=app_package)"
   ]
  },
  {
   "cell_type": "markdown",
   "id": "aaae2f91",
   "metadata": {},
   "source": [
    "`app` now holds a [Vespa](https://pyvespa.readthedocs.io/en/latest/reference-api.html#vespa.application.Vespa) instance,\n",
    "to be used to interact with the application.\n",
    "`pyvespa` provides an API to define Vespa application packages from python.\n",
    "`vespa_docker.deploy` exports Vespa configuration files to `disk_folder` -\n",
    "going through these is a good way to learning about Vespa configuration."
   ]
  },
  {
   "cell_type": "markdown",
   "id": "sealed-mustang",
   "metadata": {},
   "source": [
    "## Feed\n",
    "\n",
    "Download approx 10K documents:"
   ]
  },
  {
   "cell_type": "code",
   "execution_count": null,
   "id": "executed-reservoir",
   "metadata": {},
   "outputs": [],
   "source": [
    "from pandas import read_csv\n",
    "\n",
    "docs = read_csv(\n",
    "    filepath_or_buffer=\"https://data.vespa.oath.cloud/blog/msmarco/sample_docs.csv\"\n",
    ")\n",
    "docs.head()"
   ]
  },
  {
   "cell_type": "markdown",
   "id": "4f0ca33f",
   "metadata": {},
   "source": [
    "Feed the DataFrame to the application:"
   ]
  },
  {
   "cell_type": "code",
   "execution_count": null,
   "id": "bottom-memorabilia",
   "metadata": {},
   "outputs": [],
   "source": [
    "feed_res = app.feed_df(docs)"
   ]
  },
  {
   "cell_type": "markdown",
   "id": "separated-insertion",
   "metadata": {},
   "source": [
    "## Query\n",
    "\n",
    "Query the text search app using the [Vespa Query language](https://docs.vespa.ai/en/query-language.html)\n",
    "by sending the parameters to the body argument of\n",
    "[app.query](https://pyvespa.readthedocs.io/en/latest/reference-api.html#vespa.application.Vespa.query):"
   ]
  },
  {
   "cell_type": "code",
   "execution_count": null,
   "id": "82b5f6fe",
   "metadata": {},
   "outputs": [],
   "source": [
    "query = {\n",
    "    'yql': 'select * from sources * where userQuery()',\n",
    "    'query': 'what keeps planes in the air',\n",
    "    'ranking': 'bm25',\n",
    "    'type': 'all',\n",
    "    'hits': 10\n",
    "}"
   ]
  },
  {
   "cell_type": "code",
   "execution_count": null,
   "id": "c930ef28",
   "metadata": {},
   "outputs": [],
   "source": [
    "res = app.query(body=query)\n",
    "res.hits[0]"
   ]
  },
  {
   "cell_type": "markdown",
   "id": "bae9a660",
   "metadata": {},
   "source": [
    "## Query with QueryModel\n",
    "\n",
    "Using the Vespa Query Language as above gives full query power and flexibility from Vespa.\n",
    "In contrast, the QueryModel abstraction found in\n",
    "[learntorank](https://vespa-engine.github.io/learntorank/notebooks/query-model.html)\n",
    "focuses on specific use cases and can be more useful for ML experiments."
   ]
  },
  {
   "cell_type": "markdown",
   "id": "28591491",
   "metadata": {},
   "source": [
    "## Cleanup"
   ]
  },
  {
   "cell_type": "code",
   "execution_count": null,
   "id": "e5064bd2",
   "metadata": {},
   "outputs": [],
   "source": [
    "vespa_docker.container.stop()\n",
    "vespa_docker.container.remove()"
   ]
  }
 ],
 "metadata": {
  "kernelspec": {
   "display_name": "Python 3 (ipykernel)",
   "language": "python",
   "name": "python3"
  }
 },
 "nbformat": 4,
 "nbformat_minor": 5
}
