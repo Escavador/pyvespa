{
 "cells": [
  {
   "cell_type": "markdown",
   "id": "given-adoption",
   "metadata": {},
   "source": [
    "# Text search\n",
    "\n",
    "> Quick get started with the gallery module"
   ]
  },
  {
   "cell_type": "markdown",
   "id": "printable-affairs",
   "metadata": {},
   "source": [
    "### TextSearch use case"
   ]
  },
  {
   "cell_type": "code",
   "execution_count": 2,
   "id": "statistical-crown",
   "metadata": {},
   "outputs": [],
   "source": [
    "from vespa.gallery import TextSearch\n",
    "\n",
    "app_package = TextSearch(id_field=\"id\", text_fields=[\"title\", \"body\"])"
   ]
  },
  {
   "cell_type": "markdown",
   "id": "careful-savage",
   "metadata": {},
   "source": [
    "### Deploy"
   ]
  },
  {
   "cell_type": "code",
   "execution_count": 3,
   "id": "canadian-blood",
   "metadata": {},
   "outputs": [
    {
     "name": "stdout",
     "output_type": "stream",
     "text": [
      "Waiting for configuration server.\n",
      "Waiting for configuration server.\n",
      "Waiting for configuration server.\n",
      "Waiting for application status.\n",
      "Finished deployment.\n"
     ]
    }
   ],
   "source": [
    "from vespa.deployment import VespaDocker\n",
    "\n",
    "disk_folder = os.path.join(os.getenv(\"WORK_DIR\"), \"sample_application\")\n",
    "vespa_docker = VespaDocker(port=8089, disk_folder=disk_folder)\n",
    "app = vespa_docker.deploy(application_package=app_package)"
   ]
  },
  {
   "cell_type": "markdown",
   "id": "sealed-mustang",
   "metadata": {},
   "source": [
    "### Feed"
   ]
  },
  {
   "cell_type": "code",
   "execution_count": 4,
   "id": "executed-reservoir",
   "metadata": {},
   "outputs": [
    {
     "data": {
      "text/html": [
       "<div>\n",
       "<style scoped>\n",
       "    .dataframe tbody tr th:only-of-type {\n",
       "        vertical-align: middle;\n",
       "    }\n",
       "\n",
       "    .dataframe tbody tr th {\n",
       "        vertical-align: top;\n",
       "    }\n",
       "\n",
       "    .dataframe thead th {\n",
       "        text-align: right;\n",
       "    }\n",
       "</style>\n",
       "<table border=\"1\" class=\"dataframe\">\n",
       "  <thead>\n",
       "    <tr style=\"text-align: right;\">\n",
       "      <th></th>\n",
       "      <th>id</th>\n",
       "      <th>title</th>\n",
       "      <th>body</th>\n",
       "    </tr>\n",
       "  </thead>\n",
       "  <tbody>\n",
       "    <tr>\n",
       "      <th>0</th>\n",
       "      <td>D1712962</td>\n",
       "      <td>Can you eat crab or imitation krab when you ha...</td>\n",
       "      <td>Answers com   Wiki Answers   Categories Health...</td>\n",
       "    </tr>\n",
       "    <tr>\n",
       "      <th>1</th>\n",
       "      <td>D1817294</td>\n",
       "      <td>How long is a tax refund check good</td>\n",
       "      <td>Answers com   Wiki Answers   Categories Busine...</td>\n",
       "    </tr>\n",
       "    <tr>\n",
       "      <th>2</th>\n",
       "      <td>D1761039</td>\n",
       "      <td>The Suffolk Resolves  1774</td>\n",
       "      <td>The Suffolk Resolves  1774 Across New England ...</td>\n",
       "    </tr>\n",
       "    <tr>\n",
       "      <th>3</th>\n",
       "      <td>D2899268</td>\n",
       "      <td>The eagle has flown</td>\n",
       "      <td>Download citation Share Download full text PDF...</td>\n",
       "    </tr>\n",
       "    <tr>\n",
       "      <th>4</th>\n",
       "      <td>D3278481</td>\n",
       "      <td>22b  Cotton and African American Life</td>\n",
       "      <td>22b  Cotton and African American Life Two thi...</td>\n",
       "    </tr>\n",
       "  </tbody>\n",
       "</table>\n",
       "</div>"
      ],
      "text/plain": [
       "         id                                              title  \\\n",
       "0  D1712962  Can you eat crab or imitation krab when you ha...   \n",
       "1  D1817294               How long is a tax refund check good    \n",
       "2  D1761039                        The Suffolk Resolves  1774    \n",
       "3  D2899268                                The eagle has flown   \n",
       "4  D3278481              22b  Cotton and African American Life   \n",
       "\n",
       "                                                body  \n",
       "0  Answers com   Wiki Answers   Categories Health...  \n",
       "1  Answers com   Wiki Answers   Categories Busine...  \n",
       "2  The Suffolk Resolves  1774 Across New England ...  \n",
       "3  Download citation Share Download full text PDF...  \n",
       "4   22b  Cotton and African American Life Two thi...  "
      ]
     },
     "execution_count": 4,
     "metadata": {},
     "output_type": "execute_result"
    }
   ],
   "source": [
    "from pandas import read_csv\n",
    "\n",
    "docs = read_csv(\n",
    "    filepath_or_buffer=\"https://data.vespa.oath.cloud/blog/msmarco/sample_docs.csv\"\n",
    ")\n",
    "docs.head()"
   ]
  },
  {
   "cell_type": "code",
   "execution_count": 5,
   "id": "bottom-memorabilia",
   "metadata": {},
   "outputs": [],
   "source": [
    "responses = app.feed_df(docs)"
   ]
  },
  {
   "cell_type": "markdown",
   "id": "separated-insertion",
   "metadata": {},
   "source": [
    "### Query"
   ]
  },
  {
   "cell_type": "code",
   "execution_count": 7,
   "id": "pretty-boost",
   "metadata": {},
   "outputs": [],
   "source": [
    "response = app.query(query=\"what keeps planes in the air\")"
   ]
  },
  {
   "cell_type": "code",
   "execution_count": 8,
   "id": "chubby-caribbean",
   "metadata": {},
   "outputs": [
    {
     "name": "stdout",
     "output_type": "stream",
     "text": [
      "{'id': 'D1871659', 'title': 'What keeps airplanes in the air ', 'relevance': 25.62689087145899}\n",
      "{'id': 'D684487', 'title': 'MP02  Motion Diagrams', 'relevance': 10.529337096665039}\n",
      "{'id': 'D254873', 'title': ' ', 'relevance': 9.359158504016035}\n",
      "{'id': 'D1765332', 'title': 'Fast   Furious 6', 'relevance': 8.073806736512351}\n",
      "{'id': 'D1631044', 'title': 'First Cell', 'relevance': 7.633196961117181}\n",
      "{'id': 'D3434656', 'title': 'A Global Guide to Pet Relocation Costs', 'relevance': 6.923486758052908}\n",
      "{'id': 'D3157544', 'title': 'Thomas Cook to axe 2 600 jobs', 'relevance': 6.619466866937314}\n",
      "{'id': 'D209851', 'title': 'The USS Scorpion Buried at Sea', 'relevance': 6.405321666303772}\n",
      "{'id': 'D958861', 'title': 'George Harrison  close to death ', 'relevance': 6.007963343935413}\n",
      "{'id': 'D1529248', 'title': 'The airport shopping challenge  Left buying Christmas presents til  the last minute like I did  You CAN do it all in two hours   and I m living proof', 'relevance': 5.990555132518157}\n"
     ]
    }
   ],
   "source": [
    "for hit in response.hits:\n",
    "    print({\n",
    "        \"id\": hit[\"fields\"][\"id\"], \n",
    "        \"title\": hit[\"fields\"][\"title\"], \n",
    "        \"relevance\": hit[\"relevance\"]\n",
    "    })"
   ]
  }
 ],
 "metadata": {
  "kernelspec": {
   "display_name": "Python 3",
   "language": "python",
   "name": "python3"
  },
  "language_info": {
   "codemirror_mode": {
    "name": "ipython",
    "version": 3
   },
   "file_extension": ".py",
   "mimetype": "text/x-python",
   "name": "python",
   "nbconvert_exporter": "python",
   "pygments_lexer": "ipython3",
   "version": "3.9.1"
  }
 },
 "nbformat": 4,
 "nbformat_minor": 5
}
