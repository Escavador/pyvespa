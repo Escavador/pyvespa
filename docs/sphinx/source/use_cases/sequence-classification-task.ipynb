{
 "cells": [
  {
   "cell_type": "markdown",
   "id": "distributed-means",
   "metadata": {},
   "source": [
    "# Sequence Classification task\n",
    "\n",
    "Vespa has [recently implemented](https://blog.vespa.ai/stateless-model-evaluation/)\n",
    "accelerated model evaluation using ONNX Runtime in the stateless cluster.\n",
    "This opens up new usage areas for Vespa, such as serving model predictions."
   ]
  },
  {
   "cell_type": "markdown",
   "id": "resistant-bachelor",
   "metadata": {},
   "source": [
    "## Define the model server\n",
    "\n",
    "Define the task and the model to use. The [SequenceClassification](https://pyvespa.readthedocs.io/en/latest/reference-api.html#sequenceclassification) task takes a text input and return an array of floats that depends on the model used to solve the task. The `model` argument can be the id of the model as defined by the huggingface model hub."
   ]
  },
  {
   "cell_type": "code",
   "execution_count": 5,
   "id": "dedicated-shoot",
   "metadata": {},
   "outputs": [
    {
     "name": "stdout",
     "output_type": "stream",
     "text": [
      "env: WORK_DIR=`pwd`\n"
     ]
    }
   ],
   "source": [
    "from vespa.ml import SequenceClassification\n",
    "\n",
    "task = SequenceClassification(\n",
    "    model_id=\"bert_tiny\", \n",
    "    model=\"google/bert_uncased_L-2_H-128_A-2\"\n",
    ")\n",
    "%env WORK_DIR=`pwd`"
   ]
  },
  {
   "cell_type": "markdown",
   "id": "aquatic-robinson",
   "metadata": {},
   "source": [
    "A `ModelServer` is a simplified application package focused on stateless model evaluation. It can take as many tasks as we want."
   ]
  },
  {
   "cell_type": "code",
   "execution_count": 6,
   "id": "cloudy-refund",
   "metadata": {},
   "outputs": [],
   "source": [
    "from vespa.package import ModelServer\n",
    "\n",
    "model_server = ModelServer(\n",
    "    name=\"bertModelServer\",\n",
    "    tasks=[task],\n",
    ")"
   ]
  },
  {
   "cell_type": "markdown",
   "id": "apart-blair",
   "metadata": {},
   "source": [
    "## Deploy the model server\n",
    "\n",
    "We can either host our model server on Vespa Cloud or deploy it locally using a Docker container."
   ]
  },
  {
   "cell_type": "markdown",
   "id": "spanish-conjunction",
   "metadata": {},
   "source": [
    "### Host it on VespaCloud\n",
    "\n",
    "Check [this short guide](https://pyvespa.readthedocs.io/en/latest/deploy-vespa-cloud.html)\n",
    "for detailed information about how to setup your Vespa Cloud account\n",
    "and where to find the environment variables defined below."
   ]
  },
  {
   "cell_type": "code",
   "execution_count": 7,
   "id": "spread-transport",
   "metadata": {
    "nbsphinx": "hidden"
   },
   "outputs": [],
   "source": [
    "import os\n",
    "\n",
    "os.environ[\"DISK_FOLDER\"] = os.path.join(os.getenv(\"WORK_DIR\"), \"sample_application\")\n",
    "disk_folder = os.getenv(\"DISK_FOLDER\")\n",
    "\n",
    "os.environ[\"TENANT_NAME\"] = \"vespa-team\"\n",
    "os.environ[\"APPLICATION_NAME\"] = \"pyvespa-integration\"\n",
    "if (os.getenv(\"VESPA_CLOUD_USER_KEY\")):\n",
    "    with open(os.path.join(os.getenv(\"WORK_DIR\"), \"key.pem\"), \"w\") as f:\n",
    "        f.write(os.getenv(\"VESPA_CLOUD_USER_KEY\").replace(r\"\\n\", \"\\n\"))\n",
    "\n",
    "    os.environ[\"USER_KEY\"] = os.path.join(os.getenv(\"WORK_DIR\"), \"key.pem\")\n",
    "    os.environ[\"INSTANCE_NAME\"] = \"test\""
   ]
  },
  {
   "cell_type": "code",
   "execution_count": 8,
   "id": "fantastic-google",
   "metadata": {},
   "outputs": [],
   "source": [
    "from vespa.deployment import VespaCloud\n",
    "\n",
    "if (os.getenv(\"VESPA_CLOUD_USER_KEY\")):\n",
    "    vespa_cloud = VespaCloud(\n",
    "        tenant=os.getenv(\"TENANT_NAME\"),\n",
    "        application=os.getenv(\"APPLICATION_NAME\"),\n",
    "        key_location=os.getenv(\"USER_KEY\"),\n",
    "        application_package=model_server,\n",
    "    )\n",
    "    app = vespa_cloud.deploy(\n",
    "        instance=os.getenv(\"INSTANCE_NAME\"), disk_folder=disk_folder\n",
    "    )"
   ]
  },
  {
   "cell_type": "markdown",
   "id": "tested-freeware",
   "metadata": {},
   "source": [
    "### Deploy locally\n",
    "\n",
    "Similarly, we can deploy the model server locally in a Docker container."
   ]
  },
  {
   "cell_type": "code",
   "execution_count": 9,
   "id": "furnished-diana",
   "metadata": {},
   "outputs": [
    {
     "ename": "UnboundLocalError",
     "evalue": "local variable 'schema' referenced before assignment",
     "output_type": "error",
     "traceback": [
      "\u001b[0;31m---------------------------------------------------------------------------\u001b[0m",
      "\u001b[0;31mUnboundLocalError\u001b[0m                         Traceback (most recent call last)",
      "\u001b[0;32m/var/folders/9_/z105jyln7jz8h2vwsrjb7kxh0000gp/T/ipykernel_28239/821468288.py\u001b[0m in \u001b[0;36m<module>\u001b[0;34m\u001b[0m\n\u001b[1;32m      2\u001b[0m \u001b[0;34m\u001b[0m\u001b[0m\n\u001b[1;32m      3\u001b[0m \u001b[0mvespa_docker\u001b[0m \u001b[0;34m=\u001b[0m \u001b[0mVespaDocker\u001b[0m\u001b[0;34m(\u001b[0m\u001b[0mport\u001b[0m\u001b[0;34m=\u001b[0m\u001b[0;36m8080\u001b[0m\u001b[0;34m)\u001b[0m\u001b[0;34m\u001b[0m\u001b[0;34m\u001b[0m\u001b[0m\n\u001b[0;32m----> 4\u001b[0;31m \u001b[0mapp\u001b[0m \u001b[0;34m=\u001b[0m \u001b[0mvespa_docker\u001b[0m\u001b[0;34m.\u001b[0m\u001b[0mdeploy\u001b[0m\u001b[0;34m(\u001b[0m\u001b[0mapplication_package\u001b[0m\u001b[0;34m=\u001b[0m\u001b[0mmodel_server\u001b[0m\u001b[0;34m)\u001b[0m\u001b[0;34m\u001b[0m\u001b[0;34m\u001b[0m\u001b[0m\n\u001b[0m",
      "\u001b[0;32m~/github/vespa-engine/pyvespa/vespa/deployment.py\u001b[0m in \u001b[0;36mdeploy\u001b[0;34m(self, application_package)\u001b[0m\n\u001b[1;32m    334\u001b[0m         \"\"\"\n\u001b[1;32m    335\u001b[0m         \u001b[0;32mif\u001b[0m \u001b[0;32mnot\u001b[0m \u001b[0mself\u001b[0m\u001b[0;34m.\u001b[0m\u001b[0mdisk_folder\u001b[0m\u001b[0;34m:\u001b[0m\u001b[0;34m\u001b[0m\u001b[0;34m\u001b[0m\u001b[0m\n\u001b[0;32m--> 336\u001b[0;31m             \u001b[0;32mreturn\u001b[0m \u001b[0mself\u001b[0m\u001b[0;34m.\u001b[0m\u001b[0m_deploy_data\u001b[0m\u001b[0;34m(\u001b[0m\u001b[0mapplication_package\u001b[0m\u001b[0;34m.\u001b[0m\u001b[0mname\u001b[0m\u001b[0;34m,\u001b[0m \u001b[0mapplication_package\u001b[0m\u001b[0;34m.\u001b[0m\u001b[0mto_zip\u001b[0m\u001b[0;34m(\u001b[0m\u001b[0;34m)\u001b[0m\u001b[0;34m)\u001b[0m\u001b[0;34m\u001b[0m\u001b[0;34m\u001b[0m\u001b[0m\n\u001b[0m\u001b[1;32m    337\u001b[0m         \u001b[0;32melse\u001b[0m\u001b[0;34m:\u001b[0m\u001b[0;34m\u001b[0m\u001b[0;34m\u001b[0m\u001b[0m\n\u001b[1;32m    338\u001b[0m             \u001b[0;32mraise\u001b[0m \u001b[0mRuntimeError\u001b[0m\u001b[0;34m(\u001b[0m\u001b[0;34m\"NO FILE DEPLOY\"\u001b[0m\u001b[0;34m)\u001b[0m\u001b[0;34m\u001b[0m\u001b[0;34m\u001b[0m\u001b[0m\n",
      "\u001b[0;32m~/github/vespa-engine/pyvespa/vespa/package.py\u001b[0m in \u001b[0;36mto_zip\u001b[0;34m(self)\u001b[0m\n\u001b[1;32m   1434\u001b[0m                 )\n\u001b[1;32m   1435\u001b[0m \u001b[0;34m\u001b[0m\u001b[0m\n\u001b[0;32m-> 1436\u001b[0;31m             \u001b[0;32mfor\u001b[0m \u001b[0mmodel\u001b[0m \u001b[0;32min\u001b[0m \u001b[0mschema\u001b[0m\u001b[0;34m.\u001b[0m\u001b[0mmodels\u001b[0m\u001b[0;34m:\u001b[0m\u001b[0;34m\u001b[0m\u001b[0;34m\u001b[0m\u001b[0m\n\u001b[0m\u001b[1;32m   1437\u001b[0m                 zip_archive.write(\n\u001b[1;32m   1438\u001b[0m                     \u001b[0mmodel\u001b[0m\u001b[0;34m.\u001b[0m\u001b[0mmodel_file_path\u001b[0m\u001b[0;34m,\u001b[0m\u001b[0;34m\u001b[0m\u001b[0;34m\u001b[0m\u001b[0m\n",
      "\u001b[0;31mUnboundLocalError\u001b[0m: local variable 'schema' referenced before assignment"
     ]
    }
   ],
   "source": [
    "from vespa.deployment import VespaDocker\n",
    "\n",
    "vespa_docker = VespaDocker(port=8080)\n",
    "app = vespa_docker.deploy(application_package=model_server)"
   ]
  },
  {
   "cell_type": "markdown",
   "id": "regulated-cleanup",
   "metadata": {},
   "source": [
    "## Get model information\n",
    "\n",
    "Get models available:"
   ]
  },
  {
   "cell_type": "code",
   "execution_count": 6,
   "id": "lovely-scale",
   "metadata": {},
   "outputs": [
    {
     "data": {
      "text/plain": [
       "{'bert_tiny': 'http://localhost:8081/model-evaluation/v1/bert_tiny'}"
      ]
     },
     "execution_count": 6,
     "metadata": {},
     "output_type": "execute_result"
    }
   ],
   "source": [
    "app.get_model_endpoint()"
   ]
  },
  {
   "cell_type": "markdown",
   "id": "integral-wells",
   "metadata": {},
   "source": [
    "Get information about a specific model:"
   ]
  },
  {
   "cell_type": "code",
   "execution_count": 7,
   "id": "digital-sewing",
   "metadata": {},
   "outputs": [
    {
     "data": {
      "text/plain": [
       "{'model': 'bert_tiny',\n",
       " 'functions': [{'function': 'output_0',\n",
       "   'info': 'http://localhost:8081/model-evaluation/v1/bert_tiny/output_0',\n",
       "   'eval': 'http://localhost:8081/model-evaluation/v1/bert_tiny/output_0/eval',\n",
       "   'arguments': [{'name': 'input_ids', 'type': 'tensor(d0[],d1[])'},\n",
       "    {'name': 'attention_mask', 'type': 'tensor(d0[],d1[])'},\n",
       "    {'name': 'token_type_ids', 'type': 'tensor(d0[],d1[])'}]}]}"
      ]
     },
     "execution_count": 7,
     "metadata": {},
     "output_type": "execute_result"
    }
   ],
   "source": [
    "app.get_model_endpoint(model_id=\"bert_tiny\")"
   ]
  },
  {
   "cell_type": "markdown",
   "id": "defined-behalf",
   "metadata": {},
   "source": [
    "## Get predictions\n",
    "\n",
    "Get a prediction:"
   ]
  },
  {
   "cell_type": "code",
   "execution_count": 8,
   "id": "significant-great",
   "metadata": {},
   "outputs": [
    {
     "data": {
      "text/plain": [
       "[0.053629081696271896, -0.01650623418390751]"
      ]
     },
     "execution_count": 8,
     "metadata": {},
     "output_type": "execute_result"
    }
   ],
   "source": [
    "app.predict(x=\"this is a test\", model_id=\"bert_tiny\")"
   ]
  },
  {
   "cell_type": "markdown",
   "id": "390c5206",
   "metadata": {},
   "source": [
    "## Cleanup"
   ]
  },
  {
   "cell_type": "code",
   "execution_count": null,
   "id": "6a7dee01",
   "metadata": {},
   "outputs": [],
   "source": [
    "from shutil import rmtree\n",
    "\n",
    "vespa_docker.container.stop()\n",
    "vespa_docker.container.remove()\n",
    "rmtree(disk_folder, ignore_errors=True)"
   ]
  }
 ],
 "metadata": {
  "kernelspec": {
   "display_name": "Python 3 (ipykernel)",
   "language": "python",
   "name": "python3"
  },
  "language_info": {
   "codemirror_mode": {
    "name": "ipython",
    "version": 3
   },
   "file_extension": ".py",
   "mimetype": "text/x-python",
   "name": "python",
   "nbconvert_exporter": "python",
   "pygments_lexer": "ipython3",
   "version": "3.9.9"
  }
 },
 "nbformat": 4,
 "nbformat_minor": 5
}
