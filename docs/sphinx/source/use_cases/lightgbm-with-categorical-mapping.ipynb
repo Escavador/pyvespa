{
 "cells": [
  {
   "cell_type": "markdown",
   "id": "a05b3c78",
   "metadata": {},
   "source": [
    "## Setup"
   ]
  },
  {
   "cell_type": "code",
   "execution_count": null,
   "id": "b3b74fea",
   "metadata": {},
   "outputs": [],
   "source": [
    "!pip install numpy pandas pyvespa lightgbm"
   ]
  },
  {
   "cell_type": "markdown",
   "id": "8ee47075",
   "metadata": {},
   "source": [
    "Installing required packages:"
   ]
  },
  {
   "cell_type": "code",
   "execution_count": 1,
   "id": "2b098527",
   "metadata": {},
   "outputs": [],
   "source": [
    "import json\n",
    "import lightgbm as lgb\n",
    "import numpy as np\n",
    "import pandas as pd"
   ]
  },
  {
   "cell_type": "markdown",
   "id": "537186d1",
   "metadata": {},
   "source": [
    "## Create data"
   ]
  },
  {
   "cell_type": "code",
   "execution_count": 2,
   "id": "007c12c6",
   "metadata": {},
   "outputs": [
    {
     "data": {
      "text/html": [
       "<div>\n",
       "<style scoped>\n",
       "    .dataframe tbody tr th:only-of-type {\n",
       "        vertical-align: middle;\n",
       "    }\n",
       "\n",
       "    .dataframe tbody tr th {\n",
       "        vertical-align: top;\n",
       "    }\n",
       "\n",
       "    .dataframe thead th {\n",
       "        text-align: right;\n",
       "    }\n",
       "</style>\n",
       "<table border=\"1\" class=\"dataframe\">\n",
       "  <thead>\n",
       "    <tr style=\"text-align: right;\">\n",
       "      <th></th>\n",
       "      <th>feature_1</th>\n",
       "      <th>feature_2</th>\n",
       "      <th>feature_3</th>\n",
       "    </tr>\n",
       "  </thead>\n",
       "  <tbody>\n",
       "    <tr>\n",
       "      <th>0</th>\n",
       "      <td>0.919458</td>\n",
       "      <td>0.342478</td>\n",
       "      <td>a</td>\n",
       "    </tr>\n",
       "    <tr>\n",
       "      <th>1</th>\n",
       "      <td>0.882831</td>\n",
       "      <td>0.521677</td>\n",
       "      <td>b</td>\n",
       "    </tr>\n",
       "    <tr>\n",
       "      <th>2</th>\n",
       "      <td>0.462281</td>\n",
       "      <td>0.200733</td>\n",
       "      <td>a</td>\n",
       "    </tr>\n",
       "    <tr>\n",
       "      <th>3</th>\n",
       "      <td>0.149167</td>\n",
       "      <td>0.415715</td>\n",
       "      <td>c</td>\n",
       "    </tr>\n",
       "    <tr>\n",
       "      <th>4</th>\n",
       "      <td>0.612369</td>\n",
       "      <td>0.387363</td>\n",
       "      <td>c</td>\n",
       "    </tr>\n",
       "  </tbody>\n",
       "</table>\n",
       "</div>"
      ],
      "text/plain": [
       "   feature_1  feature_2 feature_3\n",
       "0   0.919458   0.342478         a\n",
       "1   0.882831   0.521677         b\n",
       "2   0.462281   0.200733         a\n",
       "3   0.149167   0.415715         c\n",
       "4   0.612369   0.387363         c"
      ]
     },
     "execution_count": 2,
     "metadata": {},
     "output_type": "execute_result"
    }
   ],
   "source": [
    "# Create random training set\n",
    "features = pd.DataFrame({\n",
    "            \"feature_1\": np.random.random(100),\n",
    "            \"feature_2\": np.random.random(100),\n",
    "            \"feature_3\": pd.Series(np.random.choice([\"a\", \"b\", \"c\"], size=100), dtype=\"category\")\n",
    "    \n",
    "        })\n",
    "features.head()"
   ]
  },
  {
   "cell_type": "markdown",
   "id": "1cb11b72",
   "metadata": {},
   "source": [
    "Generate target variables:"
   ]
  },
  {
   "cell_type": "code",
   "execution_count": 3,
   "id": "f350e8a4",
   "metadata": {},
   "outputs": [
    {
     "data": {
      "text/plain": [
       "0     0.0\n",
       "1     1.0\n",
       "2     0.0\n",
       "3     1.0\n",
       "4     1.0\n",
       "     ... \n",
       "95    0.0\n",
       "96    0.0\n",
       "97    0.0\n",
       "98    1.0\n",
       "99    0.0\n",
       "Length: 100, dtype: float64"
      ]
     },
     "execution_count": 3,
     "metadata": {},
     "output_type": "execute_result"
    }
   ],
   "source": [
    "numeric_features = pd.get_dummies(features)\n",
    "targets = (\n",
    "    (numeric_features[\"feature_1\"] + \n",
    "     numeric_features[\"feature_2\"]  -\n",
    "     0.5 * numeric_features[\"feature_3_a\"] + \n",
    "     0.5 * numeric_features[\"feature_3_c\"]) > 1.0\n",
    ") * 1.0\n",
    "targets"
   ]
  },
  {
   "cell_type": "markdown",
   "id": "1656c30b",
   "metadata": {},
   "source": [
    "## Fit lightgbm model"
   ]
  },
  {
   "cell_type": "code",
   "execution_count": 4,
   "id": "0cc3bfc4",
   "metadata": {},
   "outputs": [
    {
     "name": "stdout",
     "output_type": "stream",
     "text": [
      "[LightGBM] [Info] Number of positive: 55, number of negative: 45\n",
      "[LightGBM] [Warning] Auto-choosing col-wise multi-threading, the overhead of testing was 0.000844 seconds.\n",
      "You can set `force_col_wise=true` to remove the overhead.\n",
      "[LightGBM] [Info] Total Bins 74\n",
      "[LightGBM] [Info] Number of data points in the train set: 100, number of used features: 3\n",
      "[LightGBM] [Info] [binary:BoostFromScore]: pavg=0.550000 -> initscore=0.200671\n",
      "[LightGBM] [Info] Start training from score 0.200671\n"
     ]
    }
   ],
   "source": [
    "training_set = lgb.Dataset(features, targets)\n",
    "\n",
    "# Train the model\n",
    "params = {\n",
    "    'objective': 'binary',\n",
    "    'metric': 'binary_logloss',\n",
    "    'num_leaves': 3,\n",
    "}\n",
    "model = lgb.train(params, training_set, num_boost_round=5)"
   ]
  },
  {
   "cell_type": "markdown",
   "id": "121ad684",
   "metadata": {},
   "source": [
    "## Vespa application package"
   ]
  },
  {
   "cell_type": "code",
   "execution_count": 5,
   "id": "458b6b8d",
   "metadata": {},
   "outputs": [],
   "source": [
    "from vespa.package import ApplicationPackage, Field, RankProfile, Function\n",
    "\n",
    "app_package = ApplicationPackage(name=\"lightgbm\")\n",
    "app_package.schema.add_fields(\n",
    "    Field(name=\"numeric\", type=\"double\", indexing=[\"summary\", \"attribute\"]),\n",
    "    Field(name=\"categorical\", type=\"string\", indexing=[\"summary\", \"attribute\"])\n",
    ")\n",
    "app_package.schema.add_rank_profile(\n",
    "    RankProfile(\n",
    "        name=\"classify\", \n",
    "        functions=[\n",
    "            Function(name=\"feature_1\", expression=\"attribute(numeric)\"),\n",
    "            Function(name=\"feature_2\", expression=\"query(query_value)\"),\n",
    "            Function(name=\"feature_3\", expression=\"attribute(categorical)\")            \n",
    "            \n",
    "        ],\n",
    "        first_phase=\"lightgbm('lightgbm_model.json')\"\n",
    "    )\n",
    ")"
   ]
  },
  {
   "cell_type": "markdown",
   "id": "c2850fa2",
   "metadata": {},
   "source": [
    "We can check how the Vespa search defition file will look like:"
   ]
  },
  {
   "cell_type": "code",
   "execution_count": 6,
   "id": "7b129451",
   "metadata": {},
   "outputs": [
    {
     "name": "stdout",
     "output_type": "stream",
     "text": [
      "schema lightgbm {\n",
      "    document lightgbm {\n",
      "        field numeric type double {\n",
      "            indexing: summary | attribute\n",
      "        }\n",
      "        field categorical type string {\n",
      "            indexing: summary | attribute\n",
      "        }\n",
      "    }\n",
      "    rank-profile classify {\n",
      "        function feature_1() {\n",
      "            expression {\n",
      "                attribute(numeric)\n",
      "            }\n",
      "        }\n",
      "        function feature_2() {\n",
      "            expression {\n",
      "                query(query_value)\n",
      "            }\n",
      "        }\n",
      "        function feature_3() {\n",
      "            expression {\n",
      "                attribute(categorical)\n",
      "            }\n",
      "        }\n",
      "        first-phase {\n",
      "            expression: lightgbm('lightgbm_model.json')\n",
      "        }\n",
      "    }\n",
      "}\n"
     ]
    }
   ],
   "source": [
    "print(app_package.schema.schema_to_text)"
   ]
  },
  {
   "cell_type": "markdown",
   "id": "99dc65f6",
   "metadata": {},
   "source": [
    "We can export the application package files to disk:"
   ]
  },
  {
   "cell_type": "code",
   "execution_count": 7,
   "id": "e49bba66",
   "metadata": {},
   "outputs": [],
   "source": [
    "from pathlib import Path\n",
    "Path(\"lightgbm\").mkdir(parents=True, exist_ok=True)\n",
    "app_package.to_files(\"lightgbm\")"
   ]
  },
  {
   "cell_type": "markdown",
   "id": "4be2a034",
   "metadata": {},
   "source": [
    "Note that we don't have any models under the `models` folder. We need to export the lightGBM model that we trained earlier to `models/lightgbm.json`."
   ]
  },
  {
   "cell_type": "code",
   "execution_count": 8,
   "id": "42b00a24",
   "metadata": {},
   "outputs": [
    {
     "name": "stdout",
     "output_type": "stream",
     "text": [
      "\u001b[01;34mlightgbm\u001b[00m\r\n",
      "├── \u001b[01;34mfiles\u001b[00m\r\n",
      "├── \u001b[01;34mmodels\u001b[00m\r\n",
      "├── \u001b[01;34mschemas\u001b[00m\r\n",
      "│   └── lightgbm.sd\r\n",
      "├── \u001b[01;34msearch\u001b[00m\r\n",
      "│   └── \u001b[01;34mquery-profiles\u001b[00m\r\n",
      "│       ├── default.xml\r\n",
      "│       └── \u001b[01;34mtypes\u001b[00m\r\n",
      "│           └── root.xml\r\n",
      "└── services.xml\r\n",
      "\r\n",
      "6 directories, 4 files\r\n"
     ]
    }
   ],
   "source": [
    "!tree lightgbm"
   ]
  },
  {
   "cell_type": "markdown",
   "id": "1bcb737c",
   "metadata": {},
   "source": [
    "## Export the model"
   ]
  },
  {
   "cell_type": "code",
   "execution_count": 9,
   "id": "5f1800f0",
   "metadata": {},
   "outputs": [],
   "source": [
    "with open(\"lightgbm/models/lightgbm_model.json\", \"w\") as f:\n",
    "    json.dump(model.dump_model(), f, indent=2)"
   ]
  },
  {
   "cell_type": "markdown",
   "id": "f3563968",
   "metadata": {},
   "source": [
    "Now we can see that the model is where Vespa expects it to be:"
   ]
  },
  {
   "cell_type": "code",
   "execution_count": 10,
   "id": "a1c4a967",
   "metadata": {},
   "outputs": [
    {
     "name": "stdout",
     "output_type": "stream",
     "text": [
      "\u001b[01;34mlightgbm\u001b[00m\r\n",
      "├── \u001b[01;34mfiles\u001b[00m\r\n",
      "├── \u001b[01;34mmodels\u001b[00m\r\n",
      "│   └── lightgbm_model.json\r\n",
      "├── \u001b[01;34mschemas\u001b[00m\r\n",
      "│   └── lightgbm.sd\r\n",
      "├── \u001b[01;34msearch\u001b[00m\r\n",
      "│   └── \u001b[01;34mquery-profiles\u001b[00m\r\n",
      "│       ├── default.xml\r\n",
      "│       └── \u001b[01;34mtypes\u001b[00m\r\n",
      "│           └── root.xml\r\n",
      "└── services.xml\r\n",
      "\r\n",
      "6 directories, 5 files\r\n"
     ]
    }
   ],
   "source": [
    "!tree lightgbm"
   ]
  },
  {
   "cell_type": "markdown",
   "id": "8c04cc80",
   "metadata": {},
   "source": [
    "## Deploy the application"
   ]
  },
  {
   "cell_type": "code",
   "execution_count": 11,
   "id": "7b754666",
   "metadata": {},
   "outputs": [
    {
     "name": "stdout",
     "output_type": "stream",
     "text": [
      "Waiting for configuration server, 0/300 seconds...\n",
      "Waiting for configuration server, 5/300 seconds...\n",
      "Waiting for configuration server, 10/300 seconds...\n",
      "Waiting for application status, 0/300 seconds...\n",
      "Waiting for application status, 5/300 seconds...\n",
      "Waiting for application status, 10/300 seconds...\n",
      "Waiting for application status, 15/300 seconds...\n",
      "Waiting for application status, 20/300 seconds...\n",
      "Waiting for application status, 25/300 seconds...\n",
      "Waiting for application status, 30/300 seconds...\n",
      "Waiting for application status, 35/300 seconds...\n",
      "Finished deployment.\n"
     ]
    }
   ],
   "source": [
    "from vespa.deployment import VespaDocker\n",
    "\n",
    "vespa_docker = VespaDocker()\n",
    "app = vespa_docker.deploy_from_disk(application_name=\"lightgbm\", application_root=\"lightgbm\")"
   ]
  },
  {
   "cell_type": "markdown",
   "id": "43993b02",
   "metadata": {},
   "source": [
    "## Feed the data"
   ]
  },
  {
   "cell_type": "code",
   "execution_count": 12,
   "id": "49283cee",
   "metadata": {},
   "outputs": [],
   "source": [
    "feed_batch = [\n",
    "    {\n",
    "        \"id\": idx, \n",
    "        \"fields\": {\"numeric\": row[\"feature_1\"],\n",
    "                   \"categorical\": row[\"feature_3\"]}\n",
    "    } for idx, row in features.iterrows()\n",
    "]"
   ]
  },
  {
   "cell_type": "code",
   "execution_count": 13,
   "id": "da81915a",
   "metadata": {},
   "outputs": [
    {
     "name": "stdout",
     "output_type": "stream",
     "text": [
      "Successful documents fed: 100/100.\n",
      "Batch progress: 1/1.\n"
     ]
    }
   ],
   "source": [
    "status = app.feed_batch(feed_batch)"
   ]
  },
  {
   "cell_type": "markdown",
   "id": "b7746e2b",
   "metadata": {},
   "source": [
    "## Query"
   ]
  },
  {
   "cell_type": "code",
   "execution_count": 14,
   "id": "d0e9f2ed",
   "metadata": {},
   "outputs": [],
   "source": [
    "hits = app.query(\n",
    "    body={\n",
    "        \"yql\": \"select * from sources * where true\",\n",
    "        \"ranking\": \"classify\",\n",
    "        \"ranking.features.query(query_value)\": 0.1,\n",
    "        \"hits\": 100\n",
    "    }\n",
    ").hits"
   ]
  },
  {
   "cell_type": "markdown",
   "id": "cee39781",
   "metadata": {},
   "source": [
    "## Check Vespa and model predictions match"
   ]
  },
  {
   "cell_type": "code",
   "execution_count": 15,
   "id": "1ebcd891",
   "metadata": {},
   "outputs": [],
   "source": [
    "predictions = pd.DataFrame.from_records(\n",
    "[\n",
    "    {\n",
    "        \"vespa_relevance\": hit[\"relevance\"], \n",
    "        \"feature_1\": hit[\"fields\"][\"numeric\"], \n",
    "        \"feature_2\": 0.1,\n",
    "        \"feature_3\": hit[\"fields\"][\"categorical\"]\n",
    "    } for hit in hits\n",
    "]\n",
    ")\n",
    "predictions[\"feature_3\"] = predictions[\"feature_3\"].astype('category') "
   ]
  },
  {
   "cell_type": "code",
   "execution_count": 16,
   "id": "9f37b1b7",
   "metadata": {},
   "outputs": [
    {
     "data": {
      "text/html": [
       "<div>\n",
       "<style scoped>\n",
       "    .dataframe tbody tr th:only-of-type {\n",
       "        vertical-align: middle;\n",
       "    }\n",
       "\n",
       "    .dataframe tbody tr th {\n",
       "        vertical-align: top;\n",
       "    }\n",
       "\n",
       "    .dataframe thead th {\n",
       "        text-align: right;\n",
       "    }\n",
       "</style>\n",
       "<table border=\"1\" class=\"dataframe\">\n",
       "  <thead>\n",
       "    <tr style=\"text-align: right;\">\n",
       "      <th></th>\n",
       "      <th>feature_1</th>\n",
       "      <th>feature_2</th>\n",
       "      <th>feature_3</th>\n",
       "    </tr>\n",
       "  </thead>\n",
       "  <tbody>\n",
       "    <tr>\n",
       "      <th>0</th>\n",
       "      <td>0.676680</td>\n",
       "      <td>0.1</td>\n",
       "      <td>c</td>\n",
       "    </tr>\n",
       "    <tr>\n",
       "      <th>1</th>\n",
       "      <td>0.752287</td>\n",
       "      <td>0.1</td>\n",
       "      <td>c</td>\n",
       "    </tr>\n",
       "    <tr>\n",
       "      <th>2</th>\n",
       "      <td>0.778901</td>\n",
       "      <td>0.1</td>\n",
       "      <td>c</td>\n",
       "    </tr>\n",
       "    <tr>\n",
       "      <th>3</th>\n",
       "      <td>0.637117</td>\n",
       "      <td>0.1</td>\n",
       "      <td>c</td>\n",
       "    </tr>\n",
       "    <tr>\n",
       "      <th>4</th>\n",
       "      <td>0.868025</td>\n",
       "      <td>0.1</td>\n",
       "      <td>c</td>\n",
       "    </tr>\n",
       "  </tbody>\n",
       "</table>\n",
       "</div>"
      ],
      "text/plain": [
       "   feature_1  feature_2 feature_3\n",
       "0   0.676680        0.1         c\n",
       "1   0.752287        0.1         c\n",
       "2   0.778901        0.1         c\n",
       "3   0.637117        0.1         c\n",
       "4   0.868025        0.1         c"
      ]
     },
     "execution_count": 16,
     "metadata": {},
     "output_type": "execute_result"
    }
   ],
   "source": [
    "X = predictions[[\"feature_1\", \"feature_2\", \"feature_3\"]]\n",
    "X.head()"
   ]
  },
  {
   "cell_type": "code",
   "execution_count": 17,
   "id": "5e3308bf",
   "metadata": {},
   "outputs": [],
   "source": [
    "assert predictions.vespa_relevance.tolist() == model.predict(X).tolist()"
   ]
  },
  {
   "cell_type": "code",
   "execution_count": 18,
   "id": "8fd6b38c",
   "metadata": {},
   "outputs": [
    {
     "data": {
      "text/plain": [
       "[0.5949984715574806,\n",
       " 0.5949984715574806,\n",
       " 0.5949984715574806,\n",
       " 0.5949984715574806,\n",
       " 0.5949984715574806,\n",
       " 0.5949984715574806,\n",
       " 0.5949984715574806,\n",
       " 0.5949984715574806,\n",
       " 0.5949984715574806,\n",
       " 0.5949984715574806,\n",
       " 0.5949984715574806,\n",
       " 0.5949984715574806,\n",
       " 0.5949984715574806,\n",
       " 0.5949984715574806,\n",
       " 0.5949984715574806,\n",
       " 0.5949984715574806,\n",
       " 0.5949984715574806,\n",
       " 0.5949984715574806,\n",
       " 0.5949984715574806,\n",
       " 0.5949984715574806,\n",
       " 0.5949984715574806,\n",
       " 0.5949984715574806,\n",
       " 0.5949984715574806,\n",
       " 0.5949984715574806,\n",
       " 0.5949984715574806,\n",
       " 0.5949984715574806,\n",
       " 0.5949984715574806,\n",
       " 0.5949984715574806,\n",
       " 0.5949984715574806,\n",
       " 0.5949984715574806,\n",
       " 0.5949984715574806,\n",
       " 0.5949984715574806,\n",
       " 0.5949984715574806,\n",
       " 0.5949984715574806,\n",
       " 0.5949984715574806,\n",
       " 0.5949984715574806,\n",
       " 0.5949984715574806,\n",
       " 0.5949984715574806,\n",
       " 0.5949984715574806,\n",
       " 0.5949984715574806,\n",
       " 0.5949984715574806,\n",
       " 0.5430836691198784,\n",
       " 0.5430836691198784,\n",
       " 0.5430836691198784,\n",
       " 0.5430836691198784,\n",
       " 0.5430836691198784,\n",
       " 0.5430836691198784,\n",
       " 0.5430836691198784,\n",
       " 0.5430836691198784,\n",
       " 0.5430836691198784,\n",
       " 0.5430836691198784,\n",
       " 0.5430836691198784,\n",
       " 0.5430836691198784,\n",
       " 0.5430836691198784,\n",
       " 0.5430836691198784,\n",
       " 0.4509621116165133,\n",
       " 0.4509621116165133,\n",
       " 0.4509621116165133,\n",
       " 0.4509621116165133,\n",
       " 0.4509621116165133,\n",
       " 0.4509621116165133,\n",
       " 0.4509621116165133,\n",
       " 0.4509621116165133,\n",
       " 0.4509621116165133,\n",
       " 0.4509621116165133,\n",
       " 0.44189934449604334,\n",
       " 0.44189934449604334,\n",
       " 0.44189934449604334,\n",
       " 0.44189934449604334,\n",
       " 0.44189934449604334,\n",
       " 0.44189934449604334,\n",
       " 0.44189934449604334,\n",
       " 0.44189934449604334,\n",
       " 0.44189934449604334,\n",
       " 0.44189934449604334,\n",
       " 0.44189934449604334,\n",
       " 0.44189934449604334,\n",
       " 0.44189934449604334,\n",
       " 0.44189934449604334,\n",
       " 0.35365662780899626,\n",
       " 0.35365662780899626,\n",
       " 0.35365662780899626,\n",
       " 0.35365662780899626,\n",
       " 0.35365662780899626,\n",
       " 0.35365662780899626,\n",
       " 0.35365662780899626,\n",
       " 0.35365662780899626,\n",
       " 0.35365662780899626,\n",
       " 0.35365662780899626,\n",
       " 0.35365662780899626,\n",
       " 0.35365662780899626,\n",
       " 0.35365662780899626,\n",
       " 0.35365662780899626,\n",
       " 0.35365662780899626,\n",
       " 0.35365662780899626,\n",
       " 0.35365662780899626,\n",
       " 0.35365662780899626,\n",
       " 0.35365662780899626,\n",
       " 0.35365662780899626,\n",
       " 0.35365662780899626]"
      ]
     },
     "execution_count": 18,
     "metadata": {},
     "output_type": "execute_result"
    }
   ],
   "source": [
    "predictions.vespa_relevance.tolist()"
   ]
  },
  {
   "cell_type": "code",
   "execution_count": 19,
   "id": "37144ddd",
   "metadata": {},
   "outputs": [
    {
     "data": {
      "text/plain": [
       "[0.5949984715574806,\n",
       " 0.5949984715574806,\n",
       " 0.5949984715574806,\n",
       " 0.5949984715574806,\n",
       " 0.5949984715574806,\n",
       " 0.5949984715574806,\n",
       " 0.5949984715574806,\n",
       " 0.5949984715574806,\n",
       " 0.5949984715574806,\n",
       " 0.5949984715574806,\n",
       " 0.5949984715574806,\n",
       " 0.5949984715574806,\n",
       " 0.5949984715574806,\n",
       " 0.5949984715574806,\n",
       " 0.5949984715574806,\n",
       " 0.5949984715574806,\n",
       " 0.5949984715574806,\n",
       " 0.5949984715574806,\n",
       " 0.5949984715574806,\n",
       " 0.5949984715574806,\n",
       " 0.5949984715574806,\n",
       " 0.5949984715574806,\n",
       " 0.5949984715574806,\n",
       " 0.5949984715574806,\n",
       " 0.5949984715574806,\n",
       " 0.5949984715574806,\n",
       " 0.5949984715574806,\n",
       " 0.5949984715574806,\n",
       " 0.5949984715574806,\n",
       " 0.5949984715574806,\n",
       " 0.5949984715574806,\n",
       " 0.5949984715574806,\n",
       " 0.5949984715574806,\n",
       " 0.5949984715574806,\n",
       " 0.5949984715574806,\n",
       " 0.5949984715574806,\n",
       " 0.5949984715574806,\n",
       " 0.5949984715574806,\n",
       " 0.5949984715574806,\n",
       " 0.5949984715574806,\n",
       " 0.5949984715574806,\n",
       " 0.5430836691198784,\n",
       " 0.5430836691198784,\n",
       " 0.5430836691198784,\n",
       " 0.5430836691198784,\n",
       " 0.5430836691198784,\n",
       " 0.5430836691198784,\n",
       " 0.5430836691198784,\n",
       " 0.5430836691198784,\n",
       " 0.5430836691198784,\n",
       " 0.5430836691198784,\n",
       " 0.5430836691198784,\n",
       " 0.5430836691198784,\n",
       " 0.5430836691198784,\n",
       " 0.5430836691198784,\n",
       " 0.4509621116165133,\n",
       " 0.4509621116165133,\n",
       " 0.4509621116165133,\n",
       " 0.4509621116165133,\n",
       " 0.4509621116165133,\n",
       " 0.4509621116165133,\n",
       " 0.4509621116165133,\n",
       " 0.4509621116165133,\n",
       " 0.4509621116165133,\n",
       " 0.4509621116165133,\n",
       " 0.44189934449604334,\n",
       " 0.44189934449604334,\n",
       " 0.44189934449604334,\n",
       " 0.44189934449604334,\n",
       " 0.44189934449604334,\n",
       " 0.44189934449604334,\n",
       " 0.44189934449604334,\n",
       " 0.44189934449604334,\n",
       " 0.44189934449604334,\n",
       " 0.44189934449604334,\n",
       " 0.44189934449604334,\n",
       " 0.44189934449604334,\n",
       " 0.44189934449604334,\n",
       " 0.44189934449604334,\n",
       " 0.35365662780899626,\n",
       " 0.35365662780899626,\n",
       " 0.35365662780899626,\n",
       " 0.35365662780899626,\n",
       " 0.35365662780899626,\n",
       " 0.35365662780899626,\n",
       " 0.35365662780899626,\n",
       " 0.35365662780899626,\n",
       " 0.35365662780899626,\n",
       " 0.35365662780899626,\n",
       " 0.35365662780899626,\n",
       " 0.35365662780899626,\n",
       " 0.35365662780899626,\n",
       " 0.35365662780899626,\n",
       " 0.35365662780899626,\n",
       " 0.35365662780899626,\n",
       " 0.35365662780899626,\n",
       " 0.35365662780899626,\n",
       " 0.35365662780899626,\n",
       " 0.35365662780899626,\n",
       " 0.35365662780899626]"
      ]
     },
     "execution_count": 19,
     "metadata": {},
     "output_type": "execute_result"
    }
   ],
   "source": [
    "model.predict(X).tolist()"
   ]
  },
  {
   "cell_type": "markdown",
   "id": "38f15b18",
   "metadata": {},
   "source": [
    "## Clean environment"
   ]
  },
  {
   "cell_type": "code",
   "execution_count": 20,
   "id": "97c40135",
   "metadata": {},
   "outputs": [],
   "source": [
    "!rm -fr lightgbm\n",
    "vespa_docker.container.stop(timeout=600)\n",
    "vespa_docker.container.remove()"
   ]
  }
 ],
 "metadata": {
  "kernelspec": {
   "display_name": "Python 3",
   "language": "python",
   "name": "python3"
  },
  "language_info": {
   "codemirror_mode": {
    "name": "ipython",
    "version": 3
   },
   "file_extension": ".py",
   "mimetype": "text/x-python",
   "name": "python",
   "nbconvert_exporter": "python",
   "pygments_lexer": "ipython3",
   "version": "3.9.7"
  }
 },
 "nbformat": 4,
 "nbformat_minor": 5
}
