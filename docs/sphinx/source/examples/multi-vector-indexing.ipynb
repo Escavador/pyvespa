{
 "cells": [
  {
   "cell_type": "markdown",
   "id": "a429e148",
   "metadata": {},
   "source": [
    "![Vespa logo](https://vespa.ai/assets/vespa-logo-color.png)\n",
    "\n",
    "# Multi-vector indexing\n",
    "\n",
    "This is the pyvespa version of the\n",
    "[multi-vector-indexing](https://github.com/vespa-engine/sample-apps/tree/master/multi-vector-indexing).\n",
    "Go to the sample application for a full description and more details.\n",
    "Below are the steps to reproduce the example using pyvespa. Highlighted features:\n",
    "\n",
    "* Use a Component. This is used to configure the Huggingface embedder.\n",
    "* Using synthetic fields with auto-generated\n",
    "  [embeddings](https://docs.vespa.ai/en/embedding.html) in data and query flow -\n",
    "  see `is_document_field=False` in the `paragraph_embeddings` field definition.\n",
    "* File export, model files in the application package, deployment from files.\n",
    "* How to control text search result highlighting.\n",
    "\n",
    "This notebook requires pyvespa >= 0.37.0.\n",
    "\n",
    "## Create the application"
   ]
  },
  {
   "cell_type": "code",
   "execution_count": null,
   "id": "4d7baafb",
   "metadata": {},
   "outputs": [],
   "source": [
    "from vespa.package import *\n",
    "from pathlib import Path\n",
    "\n",
    "app_package = ApplicationPackage(name=\"wiki\",\n",
    "              components=[Component(id=\"e5-small-q\", type=\"hugging-face-embedder\",\n",
    "                  parameters=[\n",
    "                      Parameter(\"transformer-model\", {\"path\": \"model/e5-small-v2-int8.onnx\"}),\n",
    "                      Parameter(\"tokenizer-model\", {\"path\": \"model/tokenizer.json\"})\n",
    "              ])])\n",
    "\n",
    "app_package.schema.add_fields(\n",
    "    Field(name=\"id\", type=\"int\", indexing=[\"attribute\", \"summary\"]),\n",
    "    Field(name=\"title\", type=\"string\", indexing=[\"index\", \"summary\"], index=\"enable-bm25\"),\n",
    "    Field(name=\"url\", type=\"string\", indexing=[\"index\", \"summary\"], index=\"enable-bm25\"),\n",
    "    Field(name=\"paragraphs\", type=\"array<string>\", indexing=[\"index\", \"summary\"],\n",
    "          index=\"enable-bm25\", bolding=True),\n",
    "    Field(name=\"paragraph_embeddings\", type=\"tensor<float>(p{},x[384])\",\n",
    "          indexing=[\"input paragraphs\", \"embed\", \"index\", \"attribute\"],\n",
    "          attribute=[\"distance-metric: angular\"],\n",
    "          is_document_field=False)\n",
    ")\n",
    "\n",
    "app_package.schema.add_field_set(FieldSet(name=\"default\", fields=[\"title\", \"url\", \"paragraphs\"]))\n",
    "\n",
    "app_package.schema.add_rank_profile(RankProfile(\n",
    "    name=\"semantic\",\n",
    "    inputs=[(\"query(q)\", \"tensor<float>(x[384])\")],\n",
    "    inherits=\"default\",\n",
    "    first_phase=\"cos(distance(field,paragraph_embeddings))\",\n",
    "    match_features=[\"closest(paragraph_embeddings)\"])\n",
    ")\n",
    "\n",
    "app_package.schema.add_rank_profile(RankProfile(\n",
    "        name = \"bm25\",\n",
    "        first_phase = \"2*bm25(title) + bm25(paragraphs)\")\n",
    ")\n",
    "\n",
    "app_package.schema.add_rank_profile(RankProfile(\n",
    "    name=\"hybrid\",\n",
    "    inherits=\"semantic\",\n",
    "    functions=[\n",
    "        Function(name=\"avg_paragraph_similarity\",\n",
    "            expression=\"\"\"reduce(\n",
    "                              sum(l2_normalize(query(q),x) * l2_normalize(attribute(paragraph_embeddings),x),x),\n",
    "                              avg,\n",
    "                              p\n",
    "                          )\"\"\"),\n",
    "        Function(name=\"max_paragraph_similarity\",\n",
    "            expression=\"\"\"reduce(\n",
    "                              sum(l2_normalize(query(q),x) * l2_normalize(attribute(paragraph_embeddings),x),x),\n",
    "                              max,\n",
    "                              p\n",
    "                          )\"\"\"),\n",
    "        Function(name=\"all_paragraph_similarities\",\n",
    "            expression=\"sum(l2_normalize(query(q),x) * l2_normalize(attribute(paragraph_embeddings),x),x)\")\n",
    "    ],\n",
    "    first_phase=FirstPhaseRanking(expression=\"cos(distance(field,paragraph_embeddings))\"),\n",
    "    second_phase=SecondPhaseRanking(expression=\"firstPhase + avg_paragraph_similarity() + log( bm25(title) + bm25(paragraphs) + bm25(url))\"),\n",
    "    match_features=[\"closest(paragraph_embeddings)\",\n",
    "                    \"firstPhase\",\n",
    "                    \"closest(paragraph_embeddings)\",\n",
    "                    \"bm25(title)\",\n",
    "                    \"bm25(paragraphs)\",\n",
    "                    \"avg_paragraph_similarity\",\n",
    "                    \"max_paragraph_similarity\",\n",
    "                    \"all_paragraph_similarities\"])\n",
    ")\n",
    "\n",
    "app_package.schema.add_document_summary(DocumentSummary(name=\"minimal\",\n",
    "                                                        summary_fields=[Summary(\"id\", \"int\"),\n",
    "                                                                        Summary(\"title\", \"string\")]))\n",
    "\n",
    "Path(\"pkg\").mkdir(parents=True, exist_ok=True)\n",
    "app_package.to_files(\"pkg\")"
   ]
  },
  {
   "cell_type": "markdown",
   "id": "16f5316d",
   "metadata": {},
   "source": [
    "## Download embedding model files:"
   ]
  },
  {
   "cell_type": "code",
   "execution_count": null,
   "id": "32b87bdd",
   "metadata": {
    "scrolled": true
   },
   "outputs": [],
   "source": [
    "! mkdir -p pkg/model\n",
    "! curl -L -o pkg/model/tokenizer.json \\\n",
    "  https://raw.githubusercontent.com/vespa-engine/sample-apps/master/simple-semantic-search/model/tokenizer.json\n",
    "\n",
    "! curl -L -o pkg/model/e5-small-v2-int8.onnx \\\n",
    "  https://github.com/vespa-engine/sample-apps/raw/master/simple-semantic-search/model/e5-small-v2-int8.onnx"
   ]
  },
  {
   "cell_type": "markdown",
   "id": "a53d5ed0",
   "metadata": {},
   "source": [
    "## Deploy the application"
   ]
  },
  {
   "cell_type": "code",
   "execution_count": null,
   "id": "02821efd",
   "metadata": {},
   "outputs": [],
   "source": [
    "from vespa.deployment import VespaDocker\n",
    "\n",
    "vespa_docker = VespaDocker()\n",
    "app = vespa_docker.deploy_from_disk(application_name=\"wiki\", application_root=\"pkg\")"
   ]
  },
  {
   "cell_type": "markdown",
   "id": "d2c1060b",
   "metadata": {},
   "source": [
    "## Feed documents\n",
    "\n",
    "Download documents:"
   ]
  },
  {
   "cell_type": "code",
   "execution_count": null,
   "id": "1a74eff0",
   "metadata": {},
   "outputs": [],
   "source": [
    "! curl -s -H \"Accept:application/vnd.github.v3.raw\" \\\n",
    "  https://api.github.com/repos/vespa-engine/sample-apps/contents/multi-vector-indexing/ext/articles.jsonl.zst | \\\n",
    "  zstdcat - > articles.jsonl"
   ]
  },
  {
   "cell_type": "markdown",
   "id": "2d8e0395",
   "metadata": {},
   "source": [
    "Feed the documents using the [Vespa CLI](https://docs.vespa.ai/en/vespa-cli.html):"
   ]
  },
  {
   "cell_type": "code",
   "execution_count": null,
   "id": "8130fdfa",
   "metadata": {},
   "outputs": [],
   "source": [
    "! vespa config set target local\n",
    "! vespa feed articles.jsonl"
   ]
  },
  {
   "cell_type": "markdown",
   "id": "c3b9e58c",
   "metadata": {},
   "source": [
    "## Simple retrieve all articles with undefined ranking"
   ]
  },
  {
   "cell_type": "code",
   "execution_count": null,
   "id": "06dd6e2a",
   "metadata": {},
   "outputs": [],
   "source": [
    "result = app.query(body={\n",
    "  'yql': 'select * from wiki where true',\n",
    "  'ranking.profile': 'unranked'\n",
    "})\n",
    "result.hits"
   ]
  },
  {
   "cell_type": "markdown",
   "id": "72937dc2",
   "metadata": {},
   "source": [
    "## Traditional keyword search with BM25 ranking on the article level"
   ]
  },
  {
   "cell_type": "code",
   "execution_count": null,
   "id": "0138aa1d",
   "metadata": {},
   "outputs": [],
   "source": [
    "result = app.query(body={\n",
    "  'yql': 'select * from wiki where userQuery()',\n",
    "  'query': 24,\n",
    "  'ranking.profile': 'bm25'\n",
    "})\n",
    "result.hits"
   ]
  },
  {
   "cell_type": "markdown",
   "id": "a716cb42",
   "metadata": {},
   "source": [
    "Notice the relevance, which is assigned by the rank-profile. Also note that keywords are highlighted in the paragraphs field.\n",
    "\n",
    "## Semantic vector search on the paragraph level"
   ]
  },
  {
   "cell_type": "code",
   "execution_count": null,
   "id": "3bccdb4c",
   "metadata": {},
   "outputs": [],
   "source": [
    "result = app.query(body={\n",
    "  'yql': 'select * from wiki where {targetHits:1}nearestNeighbor(paragraph_embeddings,q)',\n",
    "  'input.query(q)': 'embed(what does 24 mean in the context of railways)',\n",
    "  'ranking.profile': 'semantic'\n",
    "})\n",
    "result.hits"
   ]
  },
  {
   "cell_type": "markdown",
   "id": "2cd2f592",
   "metadata": {},
   "source": [
    "The closest (best semantic matching) paragraph has index 4.\n",
    "\n",
    "    \"matchfeatures\": {\n",
    "        \"closest(paragraph_embeddings)\": {\"4\": 1.0}\n",
    "    }\n",
    "\n",
    "This index corresponds to the following paragraph:\n",
    "\n",
    "\"In railway timetables 24:00 means the \\\"end\\\" of the day. For example, a train due to arrive at a station during the last minute of a day arrives at 24:00; but trains which depart during the first minute of the day go at 00:00.\""
   ]
  },
  {
   "cell_type": "markdown",
   "id": "15c9fc99",
   "metadata": {},
   "source": [
    "## Hybrid search and ranking\n",
    "\n",
    "Hybrid combining keyword search on the article level with vector search in the paragraph index:"
   ]
  },
  {
   "cell_type": "code",
   "execution_count": null,
   "id": "4ad0d11f",
   "metadata": {},
   "outputs": [],
   "source": [
    "result = app.query(body={\n",
    "  'yql': 'select * from wiki where userQuery() or ({targetHits:1}nearestNeighbor(paragraph_embeddings,q))',\n",
    "  'input.query(q)': 'embed(what does 24 mean in the context of railways)',\n",
    "  'query': 'what does 24 mean in the context of railways',\n",
    "  'ranking.profile': 'hybrid',\n",
    "  'hits': 1\n",
    "})\n",
    "result.hits"
   ]
  },
  {
   "cell_type": "markdown",
   "id": "a6451f5a",
   "metadata": {},
   "source": [
    "This case combines exact search with nearestNeighbor search. The `hybrid` rank-profile also calculates several additional features using [tensor expressions](https://docs.vespa.ai/en/tensor-user-guide.html):\n",
    "\n",
    "* firstPhase is the score of the first ranking phase, configured in the hybrid profile as cos(distance(field, paragraph_embeddings)).\n",
    "* all_paragraph_similarities returns all the similarity scores for all paragraphs.\n",
    "* avg_paragraph_similarity is the average similarity score across all the paragraphs.\n",
    "* max_paragraph_similarity is the same as firstPhase, but computed using a tensor expression.\n",
    "\n",
    "See the `hybrid` rank-profile in the schema for details.\n",
    "The [Vespa Tensor Playground](https://docs.vespa.ai/playground/) is useful to play with tensor expressions.\n",
    "\n",
    "These additional features are calculated during [second-phase](https://docs.vespa.ai/en/phased-ranking.html)\n",
    "ranking to limit the number of vector computations."
   ]
  },
  {
   "cell_type": "markdown",
   "id": "d1aa9e8d",
   "metadata": {},
   "source": [
    "## Hybrid search and filter\n",
    "\n",
    "Filtering is also supported, also disable bolding."
   ]
  },
  {
   "cell_type": "code",
   "execution_count": null,
   "id": "250f2c1b",
   "metadata": {},
   "outputs": [],
   "source": [
    "result = app.query(body={\n",
    "  'yql': 'select * from wiki where url contains \"9985\" and userQuery() or ({targetHits:1}nearestNeighbor(paragraph_embeddings,q))',\n",
    "  'input.query(q)': 'embed(what does 24 mean in the context of railways)',\n",
    "  'query': 'what does 24 mean in the context of railways',\n",
    "  'ranking.profile': 'hybrid',\n",
    "  'bolding': False\n",
    "})\n",
    "result.hits"
   ]
  },
  {
   "cell_type": "markdown",
   "id": "5bfe782e",
   "metadata": {},
   "source": [
    "## Cleanup"
   ]
  },
  {
   "cell_type": "code",
   "execution_count": null,
   "id": "8ca46387",
   "metadata": {},
   "outputs": [],
   "source": [
    "vespa_docker.container.stop()\n",
    "vespa_docker.container.remove()"
   ]
  }
 ],
 "metadata": {
  "kernelspec": {
   "display_name": "Python 3 (ipykernel)",
   "language": "python",
   "name": "python3"
  },
  "language_info": {
   "codemirror_mode": {
    "name": "ipython",
    "version": 3
   },
   "file_extension": ".py",
   "mimetype": "text/x-python",
   "name": "python",
   "nbconvert_exporter": "python",
   "pygments_lexer": "ipython3",
   "version": "3.11.4"
  }
 },
 "nbformat": 4,
 "nbformat_minor": 5
}
