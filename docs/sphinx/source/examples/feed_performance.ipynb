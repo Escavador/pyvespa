{
 "cells": [
  {
   "cell_type": "markdown",
   "id": "given-adoption",
   "metadata": {},
   "source": [
    "<picture>\n",
    "  <source media=\"(prefers-color-scheme: dark)\" srcset=\"https://vespa.ai/assets/vespa-ai-logo-heather.svg\">\n",
    "  <source media=\"(prefers-color-scheme: light)\" srcset=\"https://vespa.ai/assets/vespa-ai-logo-rock.svg\">\n",
    "  <img alt=\"#Vespa\" width=\"200\" src=\"https://vespa.ai/assets/vespa-ai-logo-rock.svg\" style=\"margin-bottom: 25px;\">\n",
    "</picture>\n",
    "\n",
    "# Feeding performance\n",
    "\n",
    "This explorative notebook intends to shine some light on the different modes of feeding documents to Vespa.\n",
    "We will look at these 3 different methods:\n",
    "\n",
    "1. Using `feed_iterable()`.\n",
    "2. Using `feed_iterable_async()`\n",
    "3. Using [Vespa CLI](https://docs.vespa.ai/en/vespa-cli)\n"
   ]
  },
  {
   "cell_type": "markdown",
   "id": "8c967bd2",
   "metadata": {},
   "source": [
    "<div class=\"alert alert-info\">\n",
    "    Refer to <a href=\"https://pyvespa.readthedocs.io/en/latest/troubleshooting.html\">troubleshooting</a>\n",
    "    for any problem when running this guide.\n",
    "</div>\n"
   ]
  },
  {
   "cell_type": "markdown",
   "id": "8345b2fe",
   "metadata": {},
   "source": [
    "[Install pyvespa](https://pyvespa.readthedocs.io/), Vespa CLI, and start Docker Daemon.\n",
    "\n",
    "> The `vespacli` python package is just a thin wrapper, allowing for installation through pypi.\n",
    "> Do NOT install if you already have the Vespa CLI installed.\n"
   ]
  },
  {
   "cell_type": "code",
   "execution_count": 1,
   "id": "03f3d0f2",
   "metadata": {},
   "outputs": [],
   "source": [
    "#!pip3 install pyvespa vespacli\n",
    "#!docker info"
   ]
  },
  {
   "cell_type": "markdown",
   "id": "db637322",
   "metadata": {},
   "source": [
    "## Create an application package\n",
    "\n",
    "The [application package](https://pyvespa.readthedocs.io/en/latest/reference-api.html#vespa.package.ApplicationPackage)\n",
    "has all the Vespa configuration files -\n",
    "create one from scratch:\n"
   ]
  },
  {
   "cell_type": "code",
   "execution_count": 2,
   "id": "bd5c2629",
   "metadata": {},
   "outputs": [],
   "source": [
    "from vespa.package import (\n",
    "    ApplicationPackage,\n",
    "    Field,\n",
    "    Schema,\n",
    "    Document,\n",
    "    FieldSet,\n",
    ")\n",
    "\n",
    "package = ApplicationPackage(\n",
    "    name=\"pyvespafeed\",\n",
    "    schema=[\n",
    "        Schema(\n",
    "            name=\"doc\",\n",
    "            document=Document(\n",
    "                fields=[\n",
    "                    Field(name=\"id\", type=\"string\", indexing=[\"summary\"]),\n",
    "                    Field(name=\"text\", type=\"string\", indexing=[\"summary\"]),\n",
    "                ]\n",
    "            ),\n",
    "            fieldsets=[FieldSet(name=\"default\", fields=[\"text\"])],\n",
    "        )\n",
    "    ],\n",
    ")"
   ]
  },
  {
   "cell_type": "markdown",
   "id": "2c5e2943",
   "metadata": {},
   "source": [
    "Note that the `ApplicationPackage` name cannot have `-` or `_`.\n"
   ]
  },
  {
   "cell_type": "markdown",
   "id": "careful-savage",
   "metadata": {},
   "source": [
    "## Deploy the Vespa application\n",
    "\n",
    "Deploy `package` on the local machine using Docker,\n",
    "without leaving the notebook, by creating an instance of\n",
    "[VespaDocker](https://pyvespa.readthedocs.io/en/latest/reference-api.html#vespa.deployment.VespaDocker). `VespaDocker` connects\n",
    "to the local Docker daemon socket and starts the [Vespa docker image](https://hub.docker.com/r/vespaengine/vespa/).\n",
    "\n",
    "If this step fails, please check\n",
    "that the Docker daemon is running, and that the Docker daemon socket can be used by clients (Configurable under advanced settings in Docker Desktop).\n"
   ]
  },
  {
   "cell_type": "code",
   "execution_count": 3,
   "id": "canadian-blood",
   "metadata": {},
   "outputs": [
    {
     "name": "stderr",
     "output_type": "stream",
     "text": [
      "/Users/thomas/Repos/pyvespa/pyvespa/lib/python3.9/site-packages/urllib3/__init__.py:35: NotOpenSSLWarning: urllib3 v2 only supports OpenSSL 1.1.1+, currently the 'ssl' module is compiled with 'LibreSSL 2.8.3'. See: https://github.com/urllib3/urllib3/issues/3020\n",
      "  warnings.warn(\n"
     ]
    },
    {
     "name": "stdout",
     "output_type": "stream",
     "text": [
      "Waiting for configuration server, 0/300 seconds...\n",
      "Using plain http against endpoint http://localhost:8080/ApplicationStatus\n",
      "Waiting for application status, 0/300 seconds...\n",
      "Using plain http against endpoint http://localhost:8080/ApplicationStatus\n",
      "Waiting for application status, 5/300 seconds...\n",
      "Using plain http against endpoint http://localhost:8080/ApplicationStatus\n",
      "Waiting for application status, 10/300 seconds...\n",
      "Using plain http against endpoint http://localhost:8080/ApplicationStatus\n",
      "Application is up!\n",
      "Finished deployment.\n"
     ]
    }
   ],
   "source": [
    "from vespa.deployment import VespaDocker\n",
    "\n",
    "vespa_docker = VespaDocker()\n",
    "app = vespa_docker.deploy(application_package=package)"
   ]
  },
  {
   "cell_type": "markdown",
   "id": "aaae2f91",
   "metadata": {},
   "source": [
    "`app` now holds a reference to a [Vespa](https://pyvespa.readthedocs.io/en/latest/reference-api.html#vespa.application.Vespa) instance.\n"
   ]
  },
  {
   "cell_type": "markdown",
   "id": "sealed-mustang",
   "metadata": {},
   "source": [
    "## Preparing the data\n",
    "\n",
    "In this example we use [HF Datasets](https://huggingface.co/docs/datasets/index) library to stream the\n",
    "[\"Cohere/wikipedia-2023-11-embed-multilingual-v3\"](https://huggingface.co/datasets/Cohere/wikipedia-2023-11-embed-multilingual-v3) dataset and index in our newly deployed Vespa instance.\n",
    "\n",
    "The dataset contains wikipedia-pages, and their corresponding embeddings.\n",
    "\n",
    "> For this exploration we will just use the `id` and `text`-fields\n",
    "\n",
    "The following uses the [stream](https://huggingface.co/docs/datasets/stream) option of datasets to stream the data without\n",
    "downloading all the contents locally.\n",
    "\n",
    "The `map` functionality allows us to convert the\n",
    "dataset fields into the expected feed format for `pyvespa` which expects a dict with the keys `id` and `fields`:\n",
    "\n",
    "`{ \"id\": \"vespa-document-id\", \"fields\": {\"vespa_field\": \"vespa-field-value\"}}`\n"
   ]
  },
  {
   "cell_type": "code",
   "execution_count": 4,
   "id": "e9d3facd",
   "metadata": {},
   "outputs": [],
   "source": [
    "from datasets import load_dataset\n",
    "\n",
    "dataset = load_dataset(\n",
    "    \"Cohere/wikipedia-2023-11-embed-multilingual-v3\",\n",
    "    \"simple\",\n",
    "    split=\"train\",\n",
    "    streaming=True,\n",
    ")"
   ]
  },
  {
   "cell_type": "markdown",
   "id": "e2b68592",
   "metadata": {},
   "source": [
    "## Utility function to stream different number of documents\n"
   ]
  },
  {
   "cell_type": "code",
   "execution_count": 5,
   "id": "60772727",
   "metadata": {},
   "outputs": [],
   "source": [
    "def get_dataset(n_docs: int = 1000):\n",
    "    return (\n",
    "        dataset.map(lambda x: {\"id\": x[\"_id\"] + \"-iter\", \"fields\": {\"text\": x[\"text\"]}})\n",
    "        .select_columns([\"id\", \"fields\"])\n",
    "        .take(n_docs)\n",
    "    )"
   ]
  },
  {
   "cell_type": "markdown",
   "id": "5e3f0d0f",
   "metadata": {},
   "source": [
    "### A dataclass to store the parameters and results of the different feeding methods\n"
   ]
  },
  {
   "cell_type": "code",
   "execution_count": 6,
   "id": "b6ab7b70",
   "metadata": {},
   "outputs": [],
   "source": [
    "from dataclasses import dataclass\n",
    "from typing import Callable, Optional, Iterable, Dict\n",
    "\n",
    "\n",
    "@dataclass\n",
    "class FeedParams:\n",
    "    name: str\n",
    "    num_docs: int\n",
    "    max_connections: int\n",
    "    function_name: str\n",
    "    max_workers: Optional[int] = None\n",
    "    max_queue_size: Optional[int] = None\n",
    "\n",
    "\n",
    "@dataclass\n",
    "class FeedResult(FeedParams):\n",
    "    feed_time: Optional[float] = None"
   ]
  },
  {
   "cell_type": "markdown",
   "id": "f865e5c7",
   "metadata": {},
   "source": [
    "### A common callback function to notify if something goes wrong\n"
   ]
  },
  {
   "cell_type": "code",
   "execution_count": 7,
   "id": "ab4c02b9",
   "metadata": {},
   "outputs": [],
   "source": [
    "from vespa.io import VespaResponse\n",
    "\n",
    "\n",
    "def callback(response: VespaResponse, id: str):\n",
    "    if not response.is_successful():\n",
    "        print(\n",
    "            f\"Failed to feed document {id} with status code {response.status_code}: Reason {response.get_json()}\"\n",
    "        )"
   ]
  },
  {
   "cell_type": "markdown",
   "id": "aa3e99e3",
   "metadata": {},
   "source": [
    "### Defining our feeding functions\n"
   ]
  },
  {
   "cell_type": "code",
   "execution_count": 8,
   "id": "9b70bde7",
   "metadata": {},
   "outputs": [],
   "source": [
    "import time\n",
    "import asyncio\n",
    "\n",
    "\n",
    "def feed_sync(params: FeedParams, data: Iterable[Dict]) -> FeedResult:\n",
    "    start_time = time.time()\n",
    "    with app.syncio(connections=params.max_connections):\n",
    "        for doc in data:\n",
    "            app.feed_data_point(\n",
    "                data_id=doc[\"id\"],\n",
    "                fields=doc[\"fields\"],\n",
    "                schema=\"doc\",\n",
    "                namespace=\"pyvespa-feed\",\n",
    "                callback=callback,\n",
    "            )\n",
    "    end_time = time.time()\n",
    "    return FeedResult(\n",
    "        **params.__dict__,\n",
    "        feed_time=end_time - start_time,\n",
    "    )\n",
    "\n",
    "\n",
    "async def feed_async(params: FeedParams, data: Iterable[Dict]) -> FeedResult:\n",
    "    start_time = time.time()\n",
    "    tasks = []\n",
    "    async with app.asyncio(\n",
    "        connections=params.max_connections, total_timeout=params.num_docs // 10\n",
    "    ) as async_app:\n",
    "        for doc in data:\n",
    "            task = asyncio.create_task(\n",
    "                async_app.feed_data_point(\n",
    "                    data_id=doc[\"id\"],\n",
    "                    fields=doc[\"fields\"],\n",
    "                    schema=\"doc\",\n",
    "                    namespace=\"pyvespa-feed\",\n",
    "                    timeout=10,\n",
    "                )\n",
    "            )\n",
    "            tasks.append(task)\n",
    "        await asyncio.wait(tasks, return_when=asyncio.ALL_COMPLETED)\n",
    "    end_time = time.time()\n",
    "    return FeedResult(\n",
    "        **params.__dict__,\n",
    "        feed_time=end_time - start_time,\n",
    "    )\n",
    "\n",
    "\n",
    "def feed_iterable(params: FeedParams, data: Iterable[Dict]) -> FeedResult:\n",
    "    start = time.time()\n",
    "    app.feed_iterable(\n",
    "        data,\n",
    "        schema=\"doc\",\n",
    "        namespace=\"pyvespa-feed\",\n",
    "        operation_type=\"feed\",\n",
    "        max_queue_size=params.max_queue_size,\n",
    "        max_workers=params.max_workers,\n",
    "        max_connections=params.max_connections,\n",
    "        callback=callback,\n",
    "    )\n",
    "    end = time.time()\n",
    "    sync_feed_time = end - start\n",
    "    return FeedResult(\n",
    "        **params.__dict__,\n",
    "        feed_time=sync_feed_time,\n",
    "    )"
   ]
  },
  {
   "cell_type": "markdown",
   "id": "43614eb0",
   "metadata": {},
   "source": [
    "## Defining our hyperparameters\n"
   ]
  },
  {
   "cell_type": "code",
   "execution_count": 9,
   "id": "a22fe87e",
   "metadata": {},
   "outputs": [
    {
     "name": "stdout",
     "output_type": "stream",
     "text": [
      "Function: feed_sync\n",
      "{'num_docs': 1000, 'max_connections': 16}\n",
      "{'num_docs': 1000, 'max_connections': 64}\n",
      "{'num_docs': 10000, 'max_connections': 16}\n",
      "{'num_docs': 10000, 'max_connections': 64}\n",
      "{'num_docs': 100000, 'max_connections': 16}\n",
      "{'num_docs': 100000, 'max_connections': 64}\n",
      "\n",
      "\n",
      "Function: feed_async\n",
      "{'num_docs': 1000, 'max_connections': 16}\n",
      "{'num_docs': 1000, 'max_connections': 64}\n",
      "{'num_docs': 10000, 'max_connections': 16}\n",
      "{'num_docs': 10000, 'max_connections': 64}\n",
      "{'num_docs': 100000, 'max_connections': 16}\n",
      "{'num_docs': 100000, 'max_connections': 64}\n",
      "\n",
      "\n",
      "Function: feed_iterable\n",
      "{'num_docs': 1000, 'max_connections': 64, 'max_workers': 16, 'max_queue_size': 1000}\n",
      "{'num_docs': 1000, 'max_connections': 64, 'max_workers': 16, 'max_queue_size': 10000}\n",
      "{'num_docs': 1000, 'max_connections': 64, 'max_workers': 64, 'max_queue_size': 1000}\n",
      "{'num_docs': 1000, 'max_connections': 64, 'max_workers': 64, 'max_queue_size': 10000}\n",
      "{'num_docs': 1000, 'max_connections': 128, 'max_workers': 16, 'max_queue_size': 1000}\n",
      "{'num_docs': 1000, 'max_connections': 128, 'max_workers': 16, 'max_queue_size': 10000}\n",
      "{'num_docs': 1000, 'max_connections': 128, 'max_workers': 64, 'max_queue_size': 1000}\n",
      "{'num_docs': 1000, 'max_connections': 128, 'max_workers': 64, 'max_queue_size': 10000}\n",
      "{'num_docs': 10000, 'max_connections': 64, 'max_workers': 16, 'max_queue_size': 1000}\n",
      "{'num_docs': 10000, 'max_connections': 64, 'max_workers': 16, 'max_queue_size': 10000}\n",
      "{'num_docs': 10000, 'max_connections': 64, 'max_workers': 64, 'max_queue_size': 1000}\n",
      "{'num_docs': 10000, 'max_connections': 64, 'max_workers': 64, 'max_queue_size': 10000}\n",
      "{'num_docs': 10000, 'max_connections': 128, 'max_workers': 16, 'max_queue_size': 1000}\n",
      "{'num_docs': 10000, 'max_connections': 128, 'max_workers': 16, 'max_queue_size': 10000}\n",
      "{'num_docs': 10000, 'max_connections': 128, 'max_workers': 64, 'max_queue_size': 1000}\n",
      "{'num_docs': 10000, 'max_connections': 128, 'max_workers': 64, 'max_queue_size': 10000}\n",
      "{'num_docs': 100000, 'max_connections': 64, 'max_workers': 16, 'max_queue_size': 1000}\n",
      "{'num_docs': 100000, 'max_connections': 64, 'max_workers': 16, 'max_queue_size': 10000}\n",
      "{'num_docs': 100000, 'max_connections': 64, 'max_workers': 64, 'max_queue_size': 1000}\n",
      "{'num_docs': 100000, 'max_connections': 64, 'max_workers': 64, 'max_queue_size': 10000}\n",
      "{'num_docs': 100000, 'max_connections': 128, 'max_workers': 16, 'max_queue_size': 1000}\n",
      "{'num_docs': 100000, 'max_connections': 128, 'max_workers': 16, 'max_queue_size': 10000}\n",
      "{'num_docs': 100000, 'max_connections': 128, 'max_workers': 64, 'max_queue_size': 1000}\n",
      "{'num_docs': 100000, 'max_connections': 128, 'max_workers': 64, 'max_queue_size': 10000}\n",
      "\n",
      "\n"
     ]
    }
   ],
   "source": [
    "from itertools import product\n",
    "\n",
    "num_docs = [1000, 10_000, 100_000]\n",
    "\n",
    "params_by_function = {\n",
    "    \"feed_sync\": {\n",
    "        \"num_docs\": num_docs,\n",
    "        \"max_connections\": [16, 64],\n",
    "    },\n",
    "    \"feed_async\": {\n",
    "        \"num_docs\": num_docs,\n",
    "        \"max_connections\": [16, 64],\n",
    "    },\n",
    "    \"feed_iterable\": {\n",
    "        \"num_docs\": num_docs,\n",
    "        \"max_connections\": [64, 128],\n",
    "        \"max_workers\": [16, 64],\n",
    "        \"max_queue_size\": [1000, 10000],\n",
    "    },\n",
    "}\n",
    "\n",
    "feed_params = []\n",
    "# Create one FeedParams instance of each permutation\n",
    "for func, parameters in params_by_function.items():\n",
    "    print(f\"Function: {func}\")\n",
    "    keys, values = zip(*parameters.items())\n",
    "    for combination in product(*values):\n",
    "        settings = dict(zip(keys, combination))\n",
    "        print(settings)\n",
    "        feed_params.append(\n",
    "            FeedParams(\n",
    "                name=f\"{settings['num_docs']}_{settings['max_connections']}_{settings.get('max_workers', 0)}_{func}\",\n",
    "                function_name=func,\n",
    "                **settings,\n",
    "            )\n",
    "        )\n",
    "    print(\"\\n\")  # Just to add space between different functions"
   ]
  },
  {
   "cell_type": "code",
   "execution_count": 10,
   "id": "2b3f067c",
   "metadata": {},
   "outputs": [
    {
     "name": "stdout",
     "output_type": "stream",
     "text": [
      "Total number of feed_params: 36\n"
     ]
    }
   ],
   "source": [
    "print(f\"Total number of feed_params: {len(feed_params)}\")"
   ]
  },
  {
   "cell_type": "markdown",
   "id": "15648d56",
   "metadata": {},
   "source": [
    "Now, we will need a way to retrieve the callable function from the function name.\n"
   ]
  },
  {
   "cell_type": "code",
   "execution_count": 11,
   "id": "22044170",
   "metadata": {},
   "outputs": [],
   "source": [
    "# Get reference to function from string name\n",
    "def get_func_from_str(func_name: str) -> Callable:\n",
    "    return globals()[func_name]"
   ]
  },
  {
   "cell_type": "markdown",
   "id": "79f3f550",
   "metadata": {},
   "source": [
    "### Function to clean up after each feed\n",
    "\n",
    "For a fair comparison, we will delete the data before feeding it again.\n"
   ]
  },
  {
   "cell_type": "code",
   "execution_count": 12,
   "id": "1da9d3f9",
   "metadata": {},
   "outputs": [],
   "source": [
    "from typing import Iterable, Dict\n",
    "\n",
    "\n",
    "def delete_data(data: Iterable[Dict]):\n",
    "    app.feed_iterable(\n",
    "        iter=data,\n",
    "        schema=\"doc\",\n",
    "        namespace=\"pyvespa-feed\",\n",
    "        operation_type=\"delete\",\n",
    "        callback=callback,\n",
    "    )"
   ]
  },
  {
   "cell_type": "markdown",
   "id": "e081bf94",
   "metadata": {},
   "source": [
    "## Main experiment loop\n"
   ]
  },
  {
   "cell_type": "code",
   "execution_count": 13,
   "id": "2be9678a",
   "metadata": {},
   "outputs": [
    {
     "data": {
      "text/plain": [
       "FeedParams(name='1000_16_0_feed_sync', num_docs=1000, max_connections=16, function_name='feed_sync', max_workers=None, max_queue_size=None)"
      ]
     },
     "execution_count": 13,
     "metadata": {},
     "output_type": "execute_result"
    }
   ],
   "source": [
    "feed_params[0]"
   ]
  },
  {
   "cell_type": "code",
   "execution_count": 14,
   "id": "aaa8f920",
   "metadata": {},
   "outputs": [],
   "source": [
    "import nest_asyncio\n",
    "\n",
    "nest_asyncio.apply()"
   ]
  },
  {
   "cell_type": "code",
   "execution_count": 15,
   "id": "7a55e1c9",
   "metadata": {},
   "outputs": [
    {
     "name": "stdout",
     "output_type": "stream",
     "text": [
      "--------------------------------------------------\n",
      "Starting feed with params:\n",
      "FeedParams(name='1000_16_0_feed_sync', num_docs=1000, max_connections=16, function_name='feed_sync', max_workers=None, max_queue_size=None)\n"
     ]
    },
    {
     "name": "stdout",
     "output_type": "stream",
     "text": [
      "7.820499897003174\n",
      "Deleting data\n",
      "\n",
      "\n",
      "--------------------------------------------------\n",
      "Starting feed with params:\n",
      "FeedParams(name='1000_64_0_feed_sync', num_docs=1000, max_connections=64, function_name='feed_sync', max_workers=None, max_queue_size=None)\n",
      "6.688207149505615\n",
      "Deleting data\n",
      "\n",
      "\n",
      "--------------------------------------------------\n",
      "Starting feed with params:\n",
      "FeedParams(name='10000_16_0_feed_sync', num_docs=10000, max_connections=16, function_name='feed_sync', max_workers=None, max_queue_size=None)\n",
      "40.09109902381897\n",
      "Deleting data\n",
      "\n",
      "\n",
      "--------------------------------------------------\n",
      "Starting feed with params:\n",
      "FeedParams(name='10000_64_0_feed_sync', num_docs=10000, max_connections=64, function_name='feed_sync', max_workers=None, max_queue_size=None)\n",
      "44.30595779418945\n",
      "Deleting data\n",
      "\n",
      "\n",
      "--------------------------------------------------\n",
      "Starting feed with params:\n",
      "FeedParams(name='100000_16_0_feed_sync', num_docs=100000, max_connections=16, function_name='feed_sync', max_workers=None, max_queue_size=None)\n",
      "477.7616879940033\n",
      "Deleting data\n",
      "\n",
      "\n",
      "--------------------------------------------------\n",
      "Starting feed with params:\n",
      "FeedParams(name='100000_64_0_feed_sync', num_docs=100000, max_connections=64, function_name='feed_sync', max_workers=None, max_queue_size=None)\n",
      "569.6111359596252\n",
      "Deleting data\n",
      "\n",
      "\n",
      "--------------------------------------------------\n",
      "Starting feed with params:\n",
      "FeedParams(name='1000_16_0_feed_async', num_docs=1000, max_connections=16, function_name='feed_async', max_workers=None, max_queue_size=None)\n",
      "3.8374500274658203\n",
      "Deleting data\n",
      "\n",
      "\n",
      "--------------------------------------------------\n",
      "Starting feed with params:\n",
      "FeedParams(name='1000_64_0_feed_async', num_docs=1000, max_connections=64, function_name='feed_async', max_workers=None, max_queue_size=None)\n",
      "3.610098123550415\n",
      "Deleting data\n",
      "\n",
      "\n",
      "--------------------------------------------------\n",
      "Starting feed with params:\n",
      "FeedParams(name='10000_16_0_feed_async', num_docs=10000, max_connections=16, function_name='feed_async', max_workers=None, max_queue_size=None)\n",
      "15.473619937896729\n",
      "Deleting data\n",
      "\n",
      "\n",
      "--------------------------------------------------\n",
      "Starting feed with params:\n",
      "FeedParams(name='10000_64_0_feed_async', num_docs=10000, max_connections=64, function_name='feed_async', max_workers=None, max_queue_size=None)\n",
      "14.655987024307251\n",
      "Deleting data\n",
      "\n",
      "\n",
      "--------------------------------------------------\n",
      "Starting feed with params:\n",
      "FeedParams(name='100000_16_0_feed_async', num_docs=100000, max_connections=16, function_name='feed_async', max_workers=None, max_queue_size=None)\n"
     ]
    },
    {
     "name": "stderr",
     "output_type": "stream",
     "text": [
      "'(ProtocolError('Connection aborted.', ConnectionResetError(54, 'Connection reset by peer')), '(Request ID: 160dc6b1-4cdd-41fa-b95c-f9c7c13e97b5)')' thrown while requesting GET https://huggingface.co/datasets/Cohere/wikipedia-2023-11-embed-multilingual-v3/resolve/37feace541fadccf70579e9f289c3cf8e8b186d7/simple/0000.parquet\n",
      "WARNING:huggingface_hub.utils._http:'(ProtocolError('Connection aborted.', ConnectionResetError(54, 'Connection reset by peer')), '(Request ID: 160dc6b1-4cdd-41fa-b95c-f9c7c13e97b5)')' thrown while requesting GET https://huggingface.co/datasets/Cohere/wikipedia-2023-11-embed-multilingual-v3/resolve/37feace541fadccf70579e9f289c3cf8e8b186d7/simple/0000.parquet\n",
      "Retrying in 1s [Retry 1/5].\n",
      "WARNING:huggingface_hub.utils._http:Retrying in 1s [Retry 1/5].\n"
     ]
    },
    {
     "name": "stdout",
     "output_type": "stream",
     "text": [
      "153.97574615478516\n",
      "Deleting data\n",
      "\n",
      "\n",
      "--------------------------------------------------\n",
      "Starting feed with params:\n",
      "FeedParams(name='100000_64_0_feed_async', num_docs=100000, max_connections=64, function_name='feed_async', max_workers=None, max_queue_size=None)\n"
     ]
    },
    {
     "name": "stderr",
     "output_type": "stream",
     "text": [
      "'(ProtocolError('Connection aborted.', ConnectionResetError(54, 'Connection reset by peer')), '(Request ID: 880c9b07-8a72-4141-9123-13fa5d33db34)')' thrown while requesting GET https://huggingface.co/datasets/Cohere/wikipedia-2023-11-embed-multilingual-v3/resolve/37feace541fadccf70579e9f289c3cf8e8b186d7/simple/0000.parquet\n",
      "WARNING:huggingface_hub.utils._http:'(ProtocolError('Connection aborted.', ConnectionResetError(54, 'Connection reset by peer')), '(Request ID: 880c9b07-8a72-4141-9123-13fa5d33db34)')' thrown while requesting GET https://huggingface.co/datasets/Cohere/wikipedia-2023-11-embed-multilingual-v3/resolve/37feace541fadccf70579e9f289c3cf8e8b186d7/simple/0000.parquet\n",
      "Retrying in 1s [Retry 1/5].\n",
      "WARNING:huggingface_hub.utils._http:Retrying in 1s [Retry 1/5].\n"
     ]
    },
    {
     "name": "stdout",
     "output_type": "stream",
     "text": [
      "149.27720308303833\n",
      "Deleting data\n",
      "\n",
      "\n",
      "--------------------------------------------------\n",
      "Starting feed with params:\n",
      "FeedParams(name='1000_64_16_feed_iterable', num_docs=1000, max_connections=64, function_name='feed_iterable', max_workers=16, max_queue_size=1000)\n",
      "4.185070037841797\n",
      "Deleting data\n",
      "\n",
      "\n",
      "--------------------------------------------------\n",
      "Starting feed with params:\n",
      "FeedParams(name='1000_64_16_feed_iterable', num_docs=1000, max_connections=64, function_name='feed_iterable', max_workers=16, max_queue_size=10000)\n",
      "4.1940882205963135\n",
      "Deleting data\n",
      "\n",
      "\n",
      "--------------------------------------------------\n",
      "Starting feed with params:\n",
      "FeedParams(name='1000_64_64_feed_iterable', num_docs=1000, max_connections=64, function_name='feed_iterable', max_workers=64, max_queue_size=1000)\n",
      "4.4472739696502686\n",
      "Deleting data\n",
      "\n",
      "\n",
      "--------------------------------------------------\n",
      "Starting feed with params:\n",
      "FeedParams(name='1000_64_64_feed_iterable', num_docs=1000, max_connections=64, function_name='feed_iterable', max_workers=64, max_queue_size=10000)\n",
      "4.393168210983276\n",
      "Deleting data\n",
      "\n",
      "\n",
      "--------------------------------------------------\n",
      "Starting feed with params:\n",
      "FeedParams(name='1000_128_16_feed_iterable', num_docs=1000, max_connections=128, function_name='feed_iterable', max_workers=16, max_queue_size=1000)\n",
      "4.299646854400635\n",
      "Deleting data\n",
      "\n",
      "\n",
      "--------------------------------------------------\n",
      "Starting feed with params:\n",
      "FeedParams(name='1000_128_16_feed_iterable', num_docs=1000, max_connections=128, function_name='feed_iterable', max_workers=16, max_queue_size=10000)\n",
      "4.216687917709351\n",
      "Deleting data\n",
      "\n",
      "\n",
      "--------------------------------------------------\n",
      "Starting feed with params:\n",
      "FeedParams(name='1000_128_64_feed_iterable', num_docs=1000, max_connections=128, function_name='feed_iterable', max_workers=64, max_queue_size=1000)\n",
      "4.4069061279296875\n",
      "Deleting data\n",
      "\n",
      "\n",
      "--------------------------------------------------\n",
      "Starting feed with params:\n",
      "FeedParams(name='1000_128_64_feed_iterable', num_docs=1000, max_connections=128, function_name='feed_iterable', max_workers=64, max_queue_size=10000)\n",
      "4.258061170578003\n",
      "Deleting data\n",
      "\n",
      "\n",
      "--------------------------------------------------\n",
      "Starting feed with params:\n",
      "FeedParams(name='10000_64_16_feed_iterable', num_docs=10000, max_connections=64, function_name='feed_iterable', max_workers=16, max_queue_size=1000)\n",
      "24.15570616722107\n",
      "Deleting data\n",
      "\n",
      "\n",
      "--------------------------------------------------\n",
      "Starting feed with params:\n",
      "FeedParams(name='10000_64_16_feed_iterable', num_docs=10000, max_connections=64, function_name='feed_iterable', max_workers=16, max_queue_size=10000)\n",
      "28.306424140930176\n",
      "Deleting data\n",
      "\n",
      "\n",
      "--------------------------------------------------\n",
      "Starting feed with params:\n",
      "FeedParams(name='10000_64_64_feed_iterable', num_docs=10000, max_connections=64, function_name='feed_iterable', max_workers=64, max_queue_size=1000)\n",
      "20.055433988571167\n",
      "Deleting data\n",
      "\n",
      "\n",
      "--------------------------------------------------\n",
      "Starting feed with params:\n",
      "FeedParams(name='10000_64_64_feed_iterable', num_docs=10000, max_connections=64, function_name='feed_iterable', max_workers=64, max_queue_size=10000)\n",
      "20.355961084365845\n",
      "Deleting data\n",
      "\n",
      "\n",
      "--------------------------------------------------\n",
      "Starting feed with params:\n",
      "FeedParams(name='10000_128_16_feed_iterable', num_docs=10000, max_connections=128, function_name='feed_iterable', max_workers=16, max_queue_size=1000)\n",
      "23.783888816833496\n",
      "Deleting data\n",
      "\n",
      "\n",
      "--------------------------------------------------\n",
      "Starting feed with params:\n",
      "FeedParams(name='10000_128_16_feed_iterable', num_docs=10000, max_connections=128, function_name='feed_iterable', max_workers=16, max_queue_size=10000)\n",
      "31.7976291179657\n",
      "Deleting data\n",
      "\n",
      "\n",
      "--------------------------------------------------\n",
      "Starting feed with params:\n",
      "FeedParams(name='10000_128_64_feed_iterable', num_docs=10000, max_connections=128, function_name='feed_iterable', max_workers=64, max_queue_size=1000)\n",
      "20.548781871795654\n",
      "Deleting data\n",
      "\n",
      "\n",
      "--------------------------------------------------\n",
      "Starting feed with params:\n",
      "FeedParams(name='10000_128_64_feed_iterable', num_docs=10000, max_connections=128, function_name='feed_iterable', max_workers=64, max_queue_size=10000)\n",
      "20.231475830078125\n",
      "Deleting data\n",
      "\n",
      "\n",
      "--------------------------------------------------\n",
      "Starting feed with params:\n",
      "FeedParams(name='100000_64_16_feed_iterable', num_docs=100000, max_connections=64, function_name='feed_iterable', max_workers=16, max_queue_size=1000)\n",
      "229.51497602462769\n",
      "Deleting data\n",
      "\n",
      "\n",
      "--------------------------------------------------\n",
      "Starting feed with params:\n",
      "FeedParams(name='100000_64_16_feed_iterable', num_docs=100000, max_connections=64, function_name='feed_iterable', max_workers=16, max_queue_size=10000)\n"
     ]
    },
    {
     "name": "stderr",
     "output_type": "stream",
     "text": [
      "'(ProtocolError('Connection aborted.', ConnectionResetError(54, 'Connection reset by peer')), '(Request ID: 92188d3d-f950-4d9a-9670-82f6e7a31958)')' thrown while requesting GET https://huggingface.co/datasets/Cohere/wikipedia-2023-11-embed-multilingual-v3/resolve/37feace541fadccf70579e9f289c3cf8e8b186d7/simple/0000.parquet\n",
      "WARNING:huggingface_hub.utils._http:'(ProtocolError('Connection aborted.', ConnectionResetError(54, 'Connection reset by peer')), '(Request ID: 92188d3d-f950-4d9a-9670-82f6e7a31958)')' thrown while requesting GET https://huggingface.co/datasets/Cohere/wikipedia-2023-11-embed-multilingual-v3/resolve/37feace541fadccf70579e9f289c3cf8e8b186d7/simple/0000.parquet\n",
      "Retrying in 1s [Retry 1/5].\n",
      "WARNING:huggingface_hub.utils._http:Retrying in 1s [Retry 1/5].\n"
     ]
    },
    {
     "name": "stdout",
     "output_type": "stream",
     "text": [
      "364.4169690608978\n",
      "Deleting data\n",
      "\n",
      "\n",
      "--------------------------------------------------\n",
      "Starting feed with params:\n",
      "FeedParams(name='100000_64_64_feed_iterable', num_docs=100000, max_connections=64, function_name='feed_iterable', max_workers=64, max_queue_size=1000)\n",
      "195.41052627563477\n",
      "Deleting data\n",
      "\n",
      "\n",
      "--------------------------------------------------\n",
      "Starting feed with params:\n",
      "FeedParams(name='100000_64_64_feed_iterable', num_docs=100000, max_connections=64, function_name='feed_iterable', max_workers=64, max_queue_size=10000)\n",
      "207.24289894104004\n",
      "Deleting data\n",
      "\n",
      "\n",
      "--------------------------------------------------\n",
      "Starting feed with params:\n",
      "FeedParams(name='100000_128_16_feed_iterable', num_docs=100000, max_connections=128, function_name='feed_iterable', max_workers=16, max_queue_size=1000)\n",
      "230.25956678390503\n",
      "Deleting data\n",
      "\n",
      "\n",
      "--------------------------------------------------\n",
      "Starting feed with params:\n",
      "FeedParams(name='100000_128_16_feed_iterable', num_docs=100000, max_connections=128, function_name='feed_iterable', max_workers=16, max_queue_size=10000)\n",
      "379.6607129573822\n",
      "Deleting data\n",
      "\n",
      "\n",
      "--------------------------------------------------\n",
      "Starting feed with params:\n",
      "FeedParams(name='100000_128_64_feed_iterable', num_docs=100000, max_connections=128, function_name='feed_iterable', max_workers=64, max_queue_size=1000)\n",
      "206.30251598358154\n",
      "Deleting data\n",
      "\n",
      "\n",
      "--------------------------------------------------\n",
      "Starting feed with params:\n",
      "FeedParams(name='100000_128_64_feed_iterable', num_docs=100000, max_connections=128, function_name='feed_iterable', max_workers=64, max_queue_size=10000)\n",
      "204.4790301322937\n",
      "Deleting data\n",
      "\n",
      "\n"
     ]
    }
   ],
   "source": [
    "results = []\n",
    "for params in feed_params:\n",
    "    print(\"-\" * 50)\n",
    "    print(\"Starting feed with params:\")\n",
    "    print(params)\n",
    "    data = get_dataset(params.num_docs)\n",
    "    if \"async\" not in params.function_name:\n",
    "        feed_result = get_func_from_str(params.function_name)(params=params, data=data)\n",
    "    else:\n",
    "        feed_result = asyncio.run(\n",
    "            get_func_from_str(params.function_name)(params=params, data=data)\n",
    "        )\n",
    "    print(feed_result.feed_time)\n",
    "    results.append(feed_result)\n",
    "    print(\"Deleting data\")\n",
    "    delete_data(data)\n",
    "    print(\"\\n\")"
   ]
  },
  {
   "cell_type": "code",
   "execution_count": 16,
   "id": "03fea68a",
   "metadata": {},
   "outputs": [
    {
     "data": {
      "text/plain": [
       "[FeedResult(name='1000_16_0_feed_sync', num_docs=1000, max_connections=16, function_name='feed_sync', max_workers=None, max_queue_size=None, feed_time=7.820499897003174),\n",
       " FeedResult(name='1000_64_0_feed_sync', num_docs=1000, max_connections=64, function_name='feed_sync', max_workers=None, max_queue_size=None, feed_time=6.688207149505615),\n",
       " FeedResult(name='10000_16_0_feed_sync', num_docs=10000, max_connections=16, function_name='feed_sync', max_workers=None, max_queue_size=None, feed_time=40.09109902381897),\n",
       " FeedResult(name='10000_64_0_feed_sync', num_docs=10000, max_connections=64, function_name='feed_sync', max_workers=None, max_queue_size=None, feed_time=44.30595779418945),\n",
       " FeedResult(name='100000_16_0_feed_sync', num_docs=100000, max_connections=16, function_name='feed_sync', max_workers=None, max_queue_size=None, feed_time=477.7616879940033),\n",
       " FeedResult(name='100000_64_0_feed_sync', num_docs=100000, max_connections=64, function_name='feed_sync', max_workers=None, max_queue_size=None, feed_time=569.6111359596252),\n",
       " FeedResult(name='1000_16_0_feed_async', num_docs=1000, max_connections=16, function_name='feed_async', max_workers=None, max_queue_size=None, feed_time=3.8374500274658203),\n",
       " FeedResult(name='1000_64_0_feed_async', num_docs=1000, max_connections=64, function_name='feed_async', max_workers=None, max_queue_size=None, feed_time=3.610098123550415),\n",
       " FeedResult(name='10000_16_0_feed_async', num_docs=10000, max_connections=16, function_name='feed_async', max_workers=None, max_queue_size=None, feed_time=15.473619937896729),\n",
       " FeedResult(name='10000_64_0_feed_async', num_docs=10000, max_connections=64, function_name='feed_async', max_workers=None, max_queue_size=None, feed_time=14.655987024307251),\n",
       " FeedResult(name='100000_16_0_feed_async', num_docs=100000, max_connections=16, function_name='feed_async', max_workers=None, max_queue_size=None, feed_time=153.97574615478516),\n",
       " FeedResult(name='100000_64_0_feed_async', num_docs=100000, max_connections=64, function_name='feed_async', max_workers=None, max_queue_size=None, feed_time=149.27720308303833),\n",
       " FeedResult(name='1000_64_16_feed_iterable', num_docs=1000, max_connections=64, function_name='feed_iterable', max_workers=16, max_queue_size=1000, feed_time=4.185070037841797),\n",
       " FeedResult(name='1000_64_16_feed_iterable', num_docs=1000, max_connections=64, function_name='feed_iterable', max_workers=16, max_queue_size=10000, feed_time=4.1940882205963135),\n",
       " FeedResult(name='1000_64_64_feed_iterable', num_docs=1000, max_connections=64, function_name='feed_iterable', max_workers=64, max_queue_size=1000, feed_time=4.4472739696502686),\n",
       " FeedResult(name='1000_64_64_feed_iterable', num_docs=1000, max_connections=64, function_name='feed_iterable', max_workers=64, max_queue_size=10000, feed_time=4.393168210983276),\n",
       " FeedResult(name='1000_128_16_feed_iterable', num_docs=1000, max_connections=128, function_name='feed_iterable', max_workers=16, max_queue_size=1000, feed_time=4.299646854400635),\n",
       " FeedResult(name='1000_128_16_feed_iterable', num_docs=1000, max_connections=128, function_name='feed_iterable', max_workers=16, max_queue_size=10000, feed_time=4.216687917709351),\n",
       " FeedResult(name='1000_128_64_feed_iterable', num_docs=1000, max_connections=128, function_name='feed_iterable', max_workers=64, max_queue_size=1000, feed_time=4.4069061279296875),\n",
       " FeedResult(name='1000_128_64_feed_iterable', num_docs=1000, max_connections=128, function_name='feed_iterable', max_workers=64, max_queue_size=10000, feed_time=4.258061170578003),\n",
       " FeedResult(name='10000_64_16_feed_iterable', num_docs=10000, max_connections=64, function_name='feed_iterable', max_workers=16, max_queue_size=1000, feed_time=24.15570616722107),\n",
       " FeedResult(name='10000_64_16_feed_iterable', num_docs=10000, max_connections=64, function_name='feed_iterable', max_workers=16, max_queue_size=10000, feed_time=28.306424140930176),\n",
       " FeedResult(name='10000_64_64_feed_iterable', num_docs=10000, max_connections=64, function_name='feed_iterable', max_workers=64, max_queue_size=1000, feed_time=20.055433988571167),\n",
       " FeedResult(name='10000_64_64_feed_iterable', num_docs=10000, max_connections=64, function_name='feed_iterable', max_workers=64, max_queue_size=10000, feed_time=20.355961084365845),\n",
       " FeedResult(name='10000_128_16_feed_iterable', num_docs=10000, max_connections=128, function_name='feed_iterable', max_workers=16, max_queue_size=1000, feed_time=23.783888816833496),\n",
       " FeedResult(name='10000_128_16_feed_iterable', num_docs=10000, max_connections=128, function_name='feed_iterable', max_workers=16, max_queue_size=10000, feed_time=31.7976291179657),\n",
       " FeedResult(name='10000_128_64_feed_iterable', num_docs=10000, max_connections=128, function_name='feed_iterable', max_workers=64, max_queue_size=1000, feed_time=20.548781871795654),\n",
       " FeedResult(name='10000_128_64_feed_iterable', num_docs=10000, max_connections=128, function_name='feed_iterable', max_workers=64, max_queue_size=10000, feed_time=20.231475830078125),\n",
       " FeedResult(name='100000_64_16_feed_iterable', num_docs=100000, max_connections=64, function_name='feed_iterable', max_workers=16, max_queue_size=1000, feed_time=229.51497602462769),\n",
       " FeedResult(name='100000_64_16_feed_iterable', num_docs=100000, max_connections=64, function_name='feed_iterable', max_workers=16, max_queue_size=10000, feed_time=364.4169690608978),\n",
       " FeedResult(name='100000_64_64_feed_iterable', num_docs=100000, max_connections=64, function_name='feed_iterable', max_workers=64, max_queue_size=1000, feed_time=195.41052627563477),\n",
       " FeedResult(name='100000_64_64_feed_iterable', num_docs=100000, max_connections=64, function_name='feed_iterable', max_workers=64, max_queue_size=10000, feed_time=207.24289894104004),\n",
       " FeedResult(name='100000_128_16_feed_iterable', num_docs=100000, max_connections=128, function_name='feed_iterable', max_workers=16, max_queue_size=1000, feed_time=230.25956678390503),\n",
       " FeedResult(name='100000_128_16_feed_iterable', num_docs=100000, max_connections=128, function_name='feed_iterable', max_workers=16, max_queue_size=10000, feed_time=379.6607129573822),\n",
       " FeedResult(name='100000_128_64_feed_iterable', num_docs=100000, max_connections=128, function_name='feed_iterable', max_workers=64, max_queue_size=1000, feed_time=206.30251598358154),\n",
       " FeedResult(name='100000_128_64_feed_iterable', num_docs=100000, max_connections=128, function_name='feed_iterable', max_workers=64, max_queue_size=10000, feed_time=204.4790301322937)]"
      ]
     },
     "execution_count": 16,
     "metadata": {},
     "output_type": "execute_result"
    }
   ],
   "source": [
    "results"
   ]
  },
  {
   "cell_type": "code",
   "execution_count": 17,
   "id": "e4b7f1a4",
   "metadata": {},
   "outputs": [
    {
     "data": {
      "text/html": [
       "<div>\n",
       "<style scoped>\n",
       "    .dataframe tbody tr th:only-of-type {\n",
       "        vertical-align: middle;\n",
       "    }\n",
       "\n",
       "    .dataframe tbody tr th {\n",
       "        vertical-align: top;\n",
       "    }\n",
       "\n",
       "    .dataframe thead th {\n",
       "        text-align: right;\n",
       "    }\n",
       "</style>\n",
       "<table border=\"1\" class=\"dataframe\">\n",
       "  <thead>\n",
       "    <tr style=\"text-align: right;\">\n",
       "      <th></th>\n",
       "      <th>name</th>\n",
       "      <th>num_docs</th>\n",
       "      <th>max_connections</th>\n",
       "      <th>function_name</th>\n",
       "      <th>max_workers</th>\n",
       "      <th>max_queue_size</th>\n",
       "      <th>feed_time</th>\n",
       "      <th>requests_per_second</th>\n",
       "    </tr>\n",
       "  </thead>\n",
       "  <tbody>\n",
       "    <tr>\n",
       "      <th>0</th>\n",
       "      <td>1000_16_0_feed_sync</td>\n",
       "      <td>1000</td>\n",
       "      <td>16</td>\n",
       "      <td>feed_sync</td>\n",
       "      <td>NaN</td>\n",
       "      <td>NaN</td>\n",
       "      <td>7.820500</td>\n",
       "      <td>127.869064</td>\n",
       "    </tr>\n",
       "    <tr>\n",
       "      <th>1</th>\n",
       "      <td>1000_64_0_feed_sync</td>\n",
       "      <td>1000</td>\n",
       "      <td>64</td>\n",
       "      <td>feed_sync</td>\n",
       "      <td>NaN</td>\n",
       "      <td>NaN</td>\n",
       "      <td>6.688207</td>\n",
       "      <td>149.516900</td>\n",
       "    </tr>\n",
       "    <tr>\n",
       "      <th>2</th>\n",
       "      <td>10000_16_0_feed_sync</td>\n",
       "      <td>10000</td>\n",
       "      <td>16</td>\n",
       "      <td>feed_sync</td>\n",
       "      <td>NaN</td>\n",
       "      <td>NaN</td>\n",
       "      <td>40.091099</td>\n",
       "      <td>249.431925</td>\n",
       "    </tr>\n",
       "    <tr>\n",
       "      <th>3</th>\n",
       "      <td>10000_64_0_feed_sync</td>\n",
       "      <td>10000</td>\n",
       "      <td>64</td>\n",
       "      <td>feed_sync</td>\n",
       "      <td>NaN</td>\n",
       "      <td>NaN</td>\n",
       "      <td>44.305958</td>\n",
       "      <td>225.703280</td>\n",
       "    </tr>\n",
       "    <tr>\n",
       "      <th>4</th>\n",
       "      <td>100000_16_0_feed_sync</td>\n",
       "      <td>100000</td>\n",
       "      <td>16</td>\n",
       "      <td>feed_sync</td>\n",
       "      <td>NaN</td>\n",
       "      <td>NaN</td>\n",
       "      <td>477.761688</td>\n",
       "      <td>209.309374</td>\n",
       "    </tr>\n",
       "    <tr>\n",
       "      <th>5</th>\n",
       "      <td>100000_64_0_feed_sync</td>\n",
       "      <td>100000</td>\n",
       "      <td>64</td>\n",
       "      <td>feed_sync</td>\n",
       "      <td>NaN</td>\n",
       "      <td>NaN</td>\n",
       "      <td>569.611136</td>\n",
       "      <td>175.558366</td>\n",
       "    </tr>\n",
       "    <tr>\n",
       "      <th>6</th>\n",
       "      <td>1000_16_0_feed_async</td>\n",
       "      <td>1000</td>\n",
       "      <td>16</td>\n",
       "      <td>feed_async</td>\n",
       "      <td>NaN</td>\n",
       "      <td>NaN</td>\n",
       "      <td>3.837450</td>\n",
       "      <td>260.589713</td>\n",
       "    </tr>\n",
       "    <tr>\n",
       "      <th>7</th>\n",
       "      <td>1000_64_0_feed_async</td>\n",
       "      <td>1000</td>\n",
       "      <td>64</td>\n",
       "      <td>feed_async</td>\n",
       "      <td>NaN</td>\n",
       "      <td>NaN</td>\n",
       "      <td>3.610098</td>\n",
       "      <td>277.000781</td>\n",
       "    </tr>\n",
       "    <tr>\n",
       "      <th>8</th>\n",
       "      <td>10000_16_0_feed_async</td>\n",
       "      <td>10000</td>\n",
       "      <td>16</td>\n",
       "      <td>feed_async</td>\n",
       "      <td>NaN</td>\n",
       "      <td>NaN</td>\n",
       "      <td>15.473620</td>\n",
       "      <td>646.261188</td>\n",
       "    </tr>\n",
       "    <tr>\n",
       "      <th>9</th>\n",
       "      <td>10000_64_0_feed_async</td>\n",
       "      <td>10000</td>\n",
       "      <td>64</td>\n",
       "      <td>feed_async</td>\n",
       "      <td>NaN</td>\n",
       "      <td>NaN</td>\n",
       "      <td>14.655987</td>\n",
       "      <td>682.315015</td>\n",
       "    </tr>\n",
       "    <tr>\n",
       "      <th>10</th>\n",
       "      <td>100000_16_0_feed_async</td>\n",
       "      <td>100000</td>\n",
       "      <td>16</td>\n",
       "      <td>feed_async</td>\n",
       "      <td>NaN</td>\n",
       "      <td>NaN</td>\n",
       "      <td>153.975746</td>\n",
       "      <td>649.452933</td>\n",
       "    </tr>\n",
       "    <tr>\n",
       "      <th>11</th>\n",
       "      <td>100000_64_0_feed_async</td>\n",
       "      <td>100000</td>\n",
       "      <td>64</td>\n",
       "      <td>feed_async</td>\n",
       "      <td>NaN</td>\n",
       "      <td>NaN</td>\n",
       "      <td>149.277203</td>\n",
       "      <td>669.894652</td>\n",
       "    </tr>\n",
       "    <tr>\n",
       "      <th>12</th>\n",
       "      <td>1000_64_16_feed_iterable</td>\n",
       "      <td>1000</td>\n",
       "      <td>64</td>\n",
       "      <td>feed_iterable</td>\n",
       "      <td>16.0</td>\n",
       "      <td>1000.0</td>\n",
       "      <td>4.185070</td>\n",
       "      <td>238.944627</td>\n",
       "    </tr>\n",
       "    <tr>\n",
       "      <th>13</th>\n",
       "      <td>1000_64_16_feed_iterable</td>\n",
       "      <td>1000</td>\n",
       "      <td>64</td>\n",
       "      <td>feed_iterable</td>\n",
       "      <td>16.0</td>\n",
       "      <td>10000.0</td>\n",
       "      <td>4.194088</td>\n",
       "      <td>238.430845</td>\n",
       "    </tr>\n",
       "    <tr>\n",
       "      <th>14</th>\n",
       "      <td>1000_64_64_feed_iterable</td>\n",
       "      <td>1000</td>\n",
       "      <td>64</td>\n",
       "      <td>feed_iterable</td>\n",
       "      <td>64.0</td>\n",
       "      <td>1000.0</td>\n",
       "      <td>4.447274</td>\n",
       "      <td>224.856846</td>\n",
       "    </tr>\n",
       "    <tr>\n",
       "      <th>15</th>\n",
       "      <td>1000_64_64_feed_iterable</td>\n",
       "      <td>1000</td>\n",
       "      <td>64</td>\n",
       "      <td>feed_iterable</td>\n",
       "      <td>64.0</td>\n",
       "      <td>10000.0</td>\n",
       "      <td>4.393168</td>\n",
       "      <td>227.626158</td>\n",
       "    </tr>\n",
       "    <tr>\n",
       "      <th>16</th>\n",
       "      <td>1000_128_16_feed_iterable</td>\n",
       "      <td>1000</td>\n",
       "      <td>128</td>\n",
       "      <td>feed_iterable</td>\n",
       "      <td>16.0</td>\n",
       "      <td>1000.0</td>\n",
       "      <td>4.299647</td>\n",
       "      <td>232.577240</td>\n",
       "    </tr>\n",
       "    <tr>\n",
       "      <th>17</th>\n",
       "      <td>1000_128_16_feed_iterable</td>\n",
       "      <td>1000</td>\n",
       "      <td>128</td>\n",
       "      <td>feed_iterable</td>\n",
       "      <td>16.0</td>\n",
       "      <td>10000.0</td>\n",
       "      <td>4.216688</td>\n",
       "      <td>237.152955</td>\n",
       "    </tr>\n",
       "    <tr>\n",
       "      <th>18</th>\n",
       "      <td>1000_128_64_feed_iterable</td>\n",
       "      <td>1000</td>\n",
       "      <td>128</td>\n",
       "      <td>feed_iterable</td>\n",
       "      <td>64.0</td>\n",
       "      <td>1000.0</td>\n",
       "      <td>4.406906</td>\n",
       "      <td>226.916565</td>\n",
       "    </tr>\n",
       "    <tr>\n",
       "      <th>19</th>\n",
       "      <td>1000_128_64_feed_iterable</td>\n",
       "      <td>1000</td>\n",
       "      <td>128</td>\n",
       "      <td>feed_iterable</td>\n",
       "      <td>64.0</td>\n",
       "      <td>10000.0</td>\n",
       "      <td>4.258061</td>\n",
       "      <td>234.848669</td>\n",
       "    </tr>\n",
       "    <tr>\n",
       "      <th>20</th>\n",
       "      <td>10000_64_16_feed_iterable</td>\n",
       "      <td>10000</td>\n",
       "      <td>64</td>\n",
       "      <td>feed_iterable</td>\n",
       "      <td>16.0</td>\n",
       "      <td>1000.0</td>\n",
       "      <td>24.155706</td>\n",
       "      <td>413.980859</td>\n",
       "    </tr>\n",
       "    <tr>\n",
       "      <th>21</th>\n",
       "      <td>10000_64_16_feed_iterable</td>\n",
       "      <td>10000</td>\n",
       "      <td>64</td>\n",
       "      <td>feed_iterable</td>\n",
       "      <td>16.0</td>\n",
       "      <td>10000.0</td>\n",
       "      <td>28.306424</td>\n",
       "      <td>353.276696</td>\n",
       "    </tr>\n",
       "    <tr>\n",
       "      <th>22</th>\n",
       "      <td>10000_64_64_feed_iterable</td>\n",
       "      <td>10000</td>\n",
       "      <td>64</td>\n",
       "      <td>feed_iterable</td>\n",
       "      <td>64.0</td>\n",
       "      <td>1000.0</td>\n",
       "      <td>20.055434</td>\n",
       "      <td>498.617981</td>\n",
       "    </tr>\n",
       "    <tr>\n",
       "      <th>23</th>\n",
       "      <td>10000_64_64_feed_iterable</td>\n",
       "      <td>10000</td>\n",
       "      <td>64</td>\n",
       "      <td>feed_iterable</td>\n",
       "      <td>64.0</td>\n",
       "      <td>10000.0</td>\n",
       "      <td>20.355961</td>\n",
       "      <td>491.256589</td>\n",
       "    </tr>\n",
       "    <tr>\n",
       "      <th>24</th>\n",
       "      <td>10000_128_16_feed_iterable</td>\n",
       "      <td>10000</td>\n",
       "      <td>128</td>\n",
       "      <td>feed_iterable</td>\n",
       "      <td>16.0</td>\n",
       "      <td>1000.0</td>\n",
       "      <td>23.783889</td>\n",
       "      <td>420.452689</td>\n",
       "    </tr>\n",
       "    <tr>\n",
       "      <th>25</th>\n",
       "      <td>10000_128_16_feed_iterable</td>\n",
       "      <td>10000</td>\n",
       "      <td>128</td>\n",
       "      <td>feed_iterable</td>\n",
       "      <td>16.0</td>\n",
       "      <td>10000.0</td>\n",
       "      <td>31.797629</td>\n",
       "      <td>314.488856</td>\n",
       "    </tr>\n",
       "    <tr>\n",
       "      <th>26</th>\n",
       "      <td>10000_128_64_feed_iterable</td>\n",
       "      <td>10000</td>\n",
       "      <td>128</td>\n",
       "      <td>feed_iterable</td>\n",
       "      <td>64.0</td>\n",
       "      <td>1000.0</td>\n",
       "      <td>20.548782</td>\n",
       "      <td>486.646851</td>\n",
       "    </tr>\n",
       "    <tr>\n",
       "      <th>27</th>\n",
       "      <td>10000_128_64_feed_iterable</td>\n",
       "      <td>10000</td>\n",
       "      <td>128</td>\n",
       "      <td>feed_iterable</td>\n",
       "      <td>64.0</td>\n",
       "      <td>10000.0</td>\n",
       "      <td>20.231476</td>\n",
       "      <td>494.279314</td>\n",
       "    </tr>\n",
       "    <tr>\n",
       "      <th>28</th>\n",
       "      <td>100000_64_16_feed_iterable</td>\n",
       "      <td>100000</td>\n",
       "      <td>64</td>\n",
       "      <td>feed_iterable</td>\n",
       "      <td>16.0</td>\n",
       "      <td>1000.0</td>\n",
       "      <td>229.514976</td>\n",
       "      <td>435.701416</td>\n",
       "    </tr>\n",
       "    <tr>\n",
       "      <th>29</th>\n",
       "      <td>100000_64_16_feed_iterable</td>\n",
       "      <td>100000</td>\n",
       "      <td>64</td>\n",
       "      <td>feed_iterable</td>\n",
       "      <td>16.0</td>\n",
       "      <td>10000.0</td>\n",
       "      <td>364.416969</td>\n",
       "      <td>274.410932</td>\n",
       "    </tr>\n",
       "    <tr>\n",
       "      <th>30</th>\n",
       "      <td>100000_64_64_feed_iterable</td>\n",
       "      <td>100000</td>\n",
       "      <td>64</td>\n",
       "      <td>feed_iterable</td>\n",
       "      <td>64.0</td>\n",
       "      <td>1000.0</td>\n",
       "      <td>195.410526</td>\n",
       "      <td>511.743159</td>\n",
       "    </tr>\n",
       "    <tr>\n",
       "      <th>31</th>\n",
       "      <td>100000_64_64_feed_iterable</td>\n",
       "      <td>100000</td>\n",
       "      <td>64</td>\n",
       "      <td>feed_iterable</td>\n",
       "      <td>64.0</td>\n",
       "      <td>10000.0</td>\n",
       "      <td>207.242899</td>\n",
       "      <td>482.525580</td>\n",
       "    </tr>\n",
       "    <tr>\n",
       "      <th>32</th>\n",
       "      <td>100000_128_16_feed_iterable</td>\n",
       "      <td>100000</td>\n",
       "      <td>128</td>\n",
       "      <td>feed_iterable</td>\n",
       "      <td>16.0</td>\n",
       "      <td>1000.0</td>\n",
       "      <td>230.259567</td>\n",
       "      <td>434.292487</td>\n",
       "    </tr>\n",
       "    <tr>\n",
       "      <th>33</th>\n",
       "      <td>100000_128_16_feed_iterable</td>\n",
       "      <td>100000</td>\n",
       "      <td>128</td>\n",
       "      <td>feed_iterable</td>\n",
       "      <td>16.0</td>\n",
       "      <td>10000.0</td>\n",
       "      <td>379.660713</td>\n",
       "      <td>263.393068</td>\n",
       "    </tr>\n",
       "    <tr>\n",
       "      <th>34</th>\n",
       "      <td>100000_128_64_feed_iterable</td>\n",
       "      <td>100000</td>\n",
       "      <td>128</td>\n",
       "      <td>feed_iterable</td>\n",
       "      <td>64.0</td>\n",
       "      <td>1000.0</td>\n",
       "      <td>206.302516</td>\n",
       "      <td>484.725063</td>\n",
       "    </tr>\n",
       "    <tr>\n",
       "      <th>35</th>\n",
       "      <td>100000_128_64_feed_iterable</td>\n",
       "      <td>100000</td>\n",
       "      <td>128</td>\n",
       "      <td>feed_iterable</td>\n",
       "      <td>64.0</td>\n",
       "      <td>10000.0</td>\n",
       "      <td>204.479030</td>\n",
       "      <td>489.047703</td>\n",
       "    </tr>\n",
       "  </tbody>\n",
       "</table>\n",
       "</div>"
      ],
      "text/plain": [
       "                           name  num_docs  max_connections  function_name  \\\n",
       "0           1000_16_0_feed_sync      1000               16      feed_sync   \n",
       "1           1000_64_0_feed_sync      1000               64      feed_sync   \n",
       "2          10000_16_0_feed_sync     10000               16      feed_sync   \n",
       "3          10000_64_0_feed_sync     10000               64      feed_sync   \n",
       "4         100000_16_0_feed_sync    100000               16      feed_sync   \n",
       "5         100000_64_0_feed_sync    100000               64      feed_sync   \n",
       "6          1000_16_0_feed_async      1000               16     feed_async   \n",
       "7          1000_64_0_feed_async      1000               64     feed_async   \n",
       "8         10000_16_0_feed_async     10000               16     feed_async   \n",
       "9         10000_64_0_feed_async     10000               64     feed_async   \n",
       "10       100000_16_0_feed_async    100000               16     feed_async   \n",
       "11       100000_64_0_feed_async    100000               64     feed_async   \n",
       "12     1000_64_16_feed_iterable      1000               64  feed_iterable   \n",
       "13     1000_64_16_feed_iterable      1000               64  feed_iterable   \n",
       "14     1000_64_64_feed_iterable      1000               64  feed_iterable   \n",
       "15     1000_64_64_feed_iterable      1000               64  feed_iterable   \n",
       "16    1000_128_16_feed_iterable      1000              128  feed_iterable   \n",
       "17    1000_128_16_feed_iterable      1000              128  feed_iterable   \n",
       "18    1000_128_64_feed_iterable      1000              128  feed_iterable   \n",
       "19    1000_128_64_feed_iterable      1000              128  feed_iterable   \n",
       "20    10000_64_16_feed_iterable     10000               64  feed_iterable   \n",
       "21    10000_64_16_feed_iterable     10000               64  feed_iterable   \n",
       "22    10000_64_64_feed_iterable     10000               64  feed_iterable   \n",
       "23    10000_64_64_feed_iterable     10000               64  feed_iterable   \n",
       "24   10000_128_16_feed_iterable     10000              128  feed_iterable   \n",
       "25   10000_128_16_feed_iterable     10000              128  feed_iterable   \n",
       "26   10000_128_64_feed_iterable     10000              128  feed_iterable   \n",
       "27   10000_128_64_feed_iterable     10000              128  feed_iterable   \n",
       "28   100000_64_16_feed_iterable    100000               64  feed_iterable   \n",
       "29   100000_64_16_feed_iterable    100000               64  feed_iterable   \n",
       "30   100000_64_64_feed_iterable    100000               64  feed_iterable   \n",
       "31   100000_64_64_feed_iterable    100000               64  feed_iterable   \n",
       "32  100000_128_16_feed_iterable    100000              128  feed_iterable   \n",
       "33  100000_128_16_feed_iterable    100000              128  feed_iterable   \n",
       "34  100000_128_64_feed_iterable    100000              128  feed_iterable   \n",
       "35  100000_128_64_feed_iterable    100000              128  feed_iterable   \n",
       "\n",
       "    max_workers  max_queue_size   feed_time  requests_per_second  \n",
       "0           NaN             NaN    7.820500           127.869064  \n",
       "1           NaN             NaN    6.688207           149.516900  \n",
       "2           NaN             NaN   40.091099           249.431925  \n",
       "3           NaN             NaN   44.305958           225.703280  \n",
       "4           NaN             NaN  477.761688           209.309374  \n",
       "5           NaN             NaN  569.611136           175.558366  \n",
       "6           NaN             NaN    3.837450           260.589713  \n",
       "7           NaN             NaN    3.610098           277.000781  \n",
       "8           NaN             NaN   15.473620           646.261188  \n",
       "9           NaN             NaN   14.655987           682.315015  \n",
       "10          NaN             NaN  153.975746           649.452933  \n",
       "11          NaN             NaN  149.277203           669.894652  \n",
       "12         16.0          1000.0    4.185070           238.944627  \n",
       "13         16.0         10000.0    4.194088           238.430845  \n",
       "14         64.0          1000.0    4.447274           224.856846  \n",
       "15         64.0         10000.0    4.393168           227.626158  \n",
       "16         16.0          1000.0    4.299647           232.577240  \n",
       "17         16.0         10000.0    4.216688           237.152955  \n",
       "18         64.0          1000.0    4.406906           226.916565  \n",
       "19         64.0         10000.0    4.258061           234.848669  \n",
       "20         16.0          1000.0   24.155706           413.980859  \n",
       "21         16.0         10000.0   28.306424           353.276696  \n",
       "22         64.0          1000.0   20.055434           498.617981  \n",
       "23         64.0         10000.0   20.355961           491.256589  \n",
       "24         16.0          1000.0   23.783889           420.452689  \n",
       "25         16.0         10000.0   31.797629           314.488856  \n",
       "26         64.0          1000.0   20.548782           486.646851  \n",
       "27         64.0         10000.0   20.231476           494.279314  \n",
       "28         16.0          1000.0  229.514976           435.701416  \n",
       "29         16.0         10000.0  364.416969           274.410932  \n",
       "30         64.0          1000.0  195.410526           511.743159  \n",
       "31         64.0         10000.0  207.242899           482.525580  \n",
       "32         16.0          1000.0  230.259567           434.292487  \n",
       "33         16.0         10000.0  379.660713           263.393068  \n",
       "34         64.0          1000.0  206.302516           484.725063  \n",
       "35         64.0         10000.0  204.479030           489.047703  "
      ]
     },
     "execution_count": 17,
     "metadata": {},
     "output_type": "execute_result"
    }
   ],
   "source": [
    "# Create a pandas DataFrame with the results\n",
    "import pandas as pd\n",
    "\n",
    "df = pd.DataFrame([result.__dict__ for result in results])\n",
    "df[\"requests_per_second\"] = df[\"num_docs\"] / df[\"feed_time\"]\n",
    "df"
   ]
  },
  {
   "cell_type": "code",
   "execution_count": 18,
   "id": "f226bef6",
   "metadata": {},
   "outputs": [],
   "source": [
    "df[\"function_code\"] = df[\"function_name\"].astype(\"category\").cat.codes"
   ]
  },
  {
   "cell_type": "code",
   "execution_count": null,
   "id": "85ff0f23",
   "metadata": {},
   "outputs": [],
   "source": [
    "!pip3 install plotly"
   ]
  },
  {
   "cell_type": "code",
   "execution_count": 45,
   "id": "b94ef835",
   "metadata": {},
   "outputs": [
    {
     "data": {
      "application/vnd.plotly.v1+json": {
       "config": {
        "plotlyServerURL": "https://plot.ly"
       },
       "data": [
        {
         "customdata": [
          [
           null,
           null,
           16
          ],
          [
           null,
           null,
           64
          ],
          [
           null,
           null,
           16
          ],
          [
           null,
           null,
           64
          ],
          [
           null,
           null,
           16
          ],
          [
           null,
           null,
           64
          ]
         ],
         "hovertemplate": "function_name=feed_sync<br>Number of Documents=%{x}<br>Requests per Second=%{y}<br>max_workers=%{customdata[0]}<br>max_queue_size=%{customdata[1]}<br>max_connections=%{customdata[2]}<extra></extra>",
         "legendgroup": "feed_sync",
         "marker": {
          "color": "#636efa",
          "opacity": 0.7,
          "size": 12,
          "symbol": "circle"
         },
         "mode": "markers",
         "name": "feed_sync",
         "orientation": "v",
         "showlegend": true,
         "type": "scatter",
         "x": [
          1000,
          1000,
          10000,
          10000,
          100000,
          100000
         ],
         "xaxis": "x",
         "y": [
          127.86906376447897,
          149.5169000669961,
          249.43192487835736,
          225.70328005213466,
          209.3093743449248,
          175.55836550057919
         ],
         "yaxis": "y"
        },
        {
         "customdata": [
          [
           null,
           null,
           16
          ],
          [
           null,
           null,
           64
          ],
          [
           null,
           null,
           16
          ],
          [
           null,
           null,
           64
          ],
          [
           null,
           null,
           16
          ],
          [
           null,
           null,
           64
          ]
         ],
         "hovertemplate": "function_name=feed_async<br>Number of Documents=%{x}<br>Requests per Second=%{y}<br>max_workers=%{customdata[0]}<br>max_queue_size=%{customdata[1]}<br>max_connections=%{customdata[2]}<extra></extra>",
         "legendgroup": "feed_async",
         "marker": {
          "color": "#EF553B",
          "opacity": 0.7,
          "size": 12,
          "symbol": "circle"
         },
         "mode": "markers",
         "name": "feed_async",
         "orientation": "v",
         "showlegend": true,
         "type": "scatter",
         "x": [
          1000,
          1000,
          10000,
          10000,
          100000,
          100000
         ],
         "xaxis": "x",
         "y": [
          260.58971265884634,
          277.00078108030266,
          646.2611877592273,
          682.315014568094,
          649.452933317656,
          669.894651927348
         ],
         "yaxis": "y"
        },
        {
         "customdata": [
          [
           16,
           1000,
           64
          ],
          [
           16,
           10000,
           64
          ],
          [
           64,
           1000,
           64
          ],
          [
           64,
           10000,
           64
          ],
          [
           16,
           1000,
           128
          ],
          [
           16,
           10000,
           128
          ],
          [
           64,
           1000,
           128
          ],
          [
           64,
           10000,
           128
          ],
          [
           16,
           1000,
           64
          ],
          [
           16,
           10000,
           64
          ],
          [
           64,
           1000,
           64
          ],
          [
           64,
           10000,
           64
          ],
          [
           16,
           1000,
           128
          ],
          [
           16,
           10000,
           128
          ],
          [
           64,
           1000,
           128
          ],
          [
           64,
           10000,
           128
          ],
          [
           16,
           1000,
           64
          ],
          [
           16,
           10000,
           64
          ],
          [
           64,
           1000,
           64
          ],
          [
           64,
           10000,
           64
          ],
          [
           16,
           1000,
           128
          ],
          [
           16,
           10000,
           128
          ],
          [
           64,
           1000,
           128
          ],
          [
           64,
           10000,
           128
          ]
         ],
         "hovertemplate": "function_name=feed_iterable<br>Number of Documents=%{x}<br>Requests per Second=%{y}<br>max_workers=%{customdata[0]}<br>max_queue_size=%{customdata[1]}<br>max_connections=%{customdata[2]}<extra></extra>",
         "legendgroup": "feed_iterable",
         "marker": {
          "color": "#00cc96",
          "opacity": 0.7,
          "size": 12,
          "symbol": "circle"
         },
         "mode": "markers",
         "name": "feed_iterable",
         "orientation": "v",
         "showlegend": true,
         "type": "scatter",
         "x": [
          1000,
          1000,
          1000,
          1000,
          1000,
          1000,
          1000,
          1000,
          10000,
          10000,
          10000,
          10000,
          10000,
          10000,
          10000,
          10000,
          100000,
          100000,
          100000,
          100000,
          100000,
          100000,
          100000,
          100000
         ],
         "xaxis": "x",
         "y": [
          238.94462720047835,
          238.4308453716361,
          224.85684642420165,
          227.62615770093188,
          232.5772403788261,
          237.15295500057644,
          226.91656481228208,
          234.84866936851844,
          413.98085946126673,
          353.2766961383979,
          498.61798082747157,
          491.25658860098633,
          420.4526886672255,
          314.48885584837484,
          486.64685149661136,
          494.279314271923,
          435.7014157946263,
          274.4109316799926,
          511.7431589071399,
          482.5255799401344,
          434.29248737294995,
          263.39306803974006,
          484.72506272273694,
          489.0477030104362
         ],
         "yaxis": "y"
        }
       ],
       "layout": {
        "font": {
         "size": 16
        },
        "legend": {
         "title": {
          "font": {
           "size": 16
          },
          "text": "Function Details"
         },
         "tracegroupgap": 0,
         "x": 800,
         "xanchor": "auto",
         "y": 1,
         "yanchor": "auto"
        },
        "template": {
         "data": {
          "bar": [
           {
            "error_x": {
             "color": "#2a3f5f"
            },
            "error_y": {
             "color": "#2a3f5f"
            },
            "marker": {
             "line": {
              "color": "white",
              "width": 0.5
             },
             "pattern": {
              "fillmode": "overlay",
              "size": 10,
              "solidity": 0.2
             }
            },
            "type": "bar"
           }
          ],
          "barpolar": [
           {
            "marker": {
             "line": {
              "color": "white",
              "width": 0.5
             },
             "pattern": {
              "fillmode": "overlay",
              "size": 10,
              "solidity": 0.2
             }
            },
            "type": "barpolar"
           }
          ],
          "carpet": [
           {
            "aaxis": {
             "endlinecolor": "#2a3f5f",
             "gridcolor": "#C8D4E3",
             "linecolor": "#C8D4E3",
             "minorgridcolor": "#C8D4E3",
             "startlinecolor": "#2a3f5f"
            },
            "baxis": {
             "endlinecolor": "#2a3f5f",
             "gridcolor": "#C8D4E3",
             "linecolor": "#C8D4E3",
             "minorgridcolor": "#C8D4E3",
             "startlinecolor": "#2a3f5f"
            },
            "type": "carpet"
           }
          ],
          "choropleth": [
           {
            "colorbar": {
             "outlinewidth": 0,
             "ticks": ""
            },
            "type": "choropleth"
           }
          ],
          "contour": [
           {
            "colorbar": {
             "outlinewidth": 0,
             "ticks": ""
            },
            "colorscale": [
             [
              0,
              "#0d0887"
             ],
             [
              0.1111111111111111,
              "#46039f"
             ],
             [
              0.2222222222222222,
              "#7201a8"
             ],
             [
              0.3333333333333333,
              "#9c179e"
             ],
             [
              0.4444444444444444,
              "#bd3786"
             ],
             [
              0.5555555555555556,
              "#d8576b"
             ],
             [
              0.6666666666666666,
              "#ed7953"
             ],
             [
              0.7777777777777778,
              "#fb9f3a"
             ],
             [
              0.8888888888888888,
              "#fdca26"
             ],
             [
              1,
              "#f0f921"
             ]
            ],
            "type": "contour"
           }
          ],
          "contourcarpet": [
           {
            "colorbar": {
             "outlinewidth": 0,
             "ticks": ""
            },
            "type": "contourcarpet"
           }
          ],
          "heatmap": [
           {
            "colorbar": {
             "outlinewidth": 0,
             "ticks": ""
            },
            "colorscale": [
             [
              0,
              "#0d0887"
             ],
             [
              0.1111111111111111,
              "#46039f"
             ],
             [
              0.2222222222222222,
              "#7201a8"
             ],
             [
              0.3333333333333333,
              "#9c179e"
             ],
             [
              0.4444444444444444,
              "#bd3786"
             ],
             [
              0.5555555555555556,
              "#d8576b"
             ],
             [
              0.6666666666666666,
              "#ed7953"
             ],
             [
              0.7777777777777778,
              "#fb9f3a"
             ],
             [
              0.8888888888888888,
              "#fdca26"
             ],
             [
              1,
              "#f0f921"
             ]
            ],
            "type": "heatmap"
           }
          ],
          "heatmapgl": [
           {
            "colorbar": {
             "outlinewidth": 0,
             "ticks": ""
            },
            "colorscale": [
             [
              0,
              "#0d0887"
             ],
             [
              0.1111111111111111,
              "#46039f"
             ],
             [
              0.2222222222222222,
              "#7201a8"
             ],
             [
              0.3333333333333333,
              "#9c179e"
             ],
             [
              0.4444444444444444,
              "#bd3786"
             ],
             [
              0.5555555555555556,
              "#d8576b"
             ],
             [
              0.6666666666666666,
              "#ed7953"
             ],
             [
              0.7777777777777778,
              "#fb9f3a"
             ],
             [
              0.8888888888888888,
              "#fdca26"
             ],
             [
              1,
              "#f0f921"
             ]
            ],
            "type": "heatmapgl"
           }
          ],
          "histogram": [
           {
            "marker": {
             "pattern": {
              "fillmode": "overlay",
              "size": 10,
              "solidity": 0.2
             }
            },
            "type": "histogram"
           }
          ],
          "histogram2d": [
           {
            "colorbar": {
             "outlinewidth": 0,
             "ticks": ""
            },
            "colorscale": [
             [
              0,
              "#0d0887"
             ],
             [
              0.1111111111111111,
              "#46039f"
             ],
             [
              0.2222222222222222,
              "#7201a8"
             ],
             [
              0.3333333333333333,
              "#9c179e"
             ],
             [
              0.4444444444444444,
              "#bd3786"
             ],
             [
              0.5555555555555556,
              "#d8576b"
             ],
             [
              0.6666666666666666,
              "#ed7953"
             ],
             [
              0.7777777777777778,
              "#fb9f3a"
             ],
             [
              0.8888888888888888,
              "#fdca26"
             ],
             [
              1,
              "#f0f921"
             ]
            ],
            "type": "histogram2d"
           }
          ],
          "histogram2dcontour": [
           {
            "colorbar": {
             "outlinewidth": 0,
             "ticks": ""
            },
            "colorscale": [
             [
              0,
              "#0d0887"
             ],
             [
              0.1111111111111111,
              "#46039f"
             ],
             [
              0.2222222222222222,
              "#7201a8"
             ],
             [
              0.3333333333333333,
              "#9c179e"
             ],
             [
              0.4444444444444444,
              "#bd3786"
             ],
             [
              0.5555555555555556,
              "#d8576b"
             ],
             [
              0.6666666666666666,
              "#ed7953"
             ],
             [
              0.7777777777777778,
              "#fb9f3a"
             ],
             [
              0.8888888888888888,
              "#fdca26"
             ],
             [
              1,
              "#f0f921"
             ]
            ],
            "type": "histogram2dcontour"
           }
          ],
          "mesh3d": [
           {
            "colorbar": {
             "outlinewidth": 0,
             "ticks": ""
            },
            "type": "mesh3d"
           }
          ],
          "parcoords": [
           {
            "line": {
             "colorbar": {
              "outlinewidth": 0,
              "ticks": ""
             }
            },
            "type": "parcoords"
           }
          ],
          "pie": [
           {
            "automargin": true,
            "type": "pie"
           }
          ],
          "scatter": [
           {
            "fillpattern": {
             "fillmode": "overlay",
             "size": 10,
             "solidity": 0.2
            },
            "type": "scatter"
           }
          ],
          "scatter3d": [
           {
            "line": {
             "colorbar": {
              "outlinewidth": 0,
              "ticks": ""
             }
            },
            "marker": {
             "colorbar": {
              "outlinewidth": 0,
              "ticks": ""
             }
            },
            "type": "scatter3d"
           }
          ],
          "scattercarpet": [
           {
            "marker": {
             "colorbar": {
              "outlinewidth": 0,
              "ticks": ""
             }
            },
            "type": "scattercarpet"
           }
          ],
          "scattergeo": [
           {
            "marker": {
             "colorbar": {
              "outlinewidth": 0,
              "ticks": ""
             }
            },
            "type": "scattergeo"
           }
          ],
          "scattergl": [
           {
            "marker": {
             "colorbar": {
              "outlinewidth": 0,
              "ticks": ""
             }
            },
            "type": "scattergl"
           }
          ],
          "scattermapbox": [
           {
            "marker": {
             "colorbar": {
              "outlinewidth": 0,
              "ticks": ""
             }
            },
            "type": "scattermapbox"
           }
          ],
          "scatterpolar": [
           {
            "marker": {
             "colorbar": {
              "outlinewidth": 0,
              "ticks": ""
             }
            },
            "type": "scatterpolar"
           }
          ],
          "scatterpolargl": [
           {
            "marker": {
             "colorbar": {
              "outlinewidth": 0,
              "ticks": ""
             }
            },
            "type": "scatterpolargl"
           }
          ],
          "scatterternary": [
           {
            "marker": {
             "colorbar": {
              "outlinewidth": 0,
              "ticks": ""
             }
            },
            "type": "scatterternary"
           }
          ],
          "surface": [
           {
            "colorbar": {
             "outlinewidth": 0,
             "ticks": ""
            },
            "colorscale": [
             [
              0,
              "#0d0887"
             ],
             [
              0.1111111111111111,
              "#46039f"
             ],
             [
              0.2222222222222222,
              "#7201a8"
             ],
             [
              0.3333333333333333,
              "#9c179e"
             ],
             [
              0.4444444444444444,
              "#bd3786"
             ],
             [
              0.5555555555555556,
              "#d8576b"
             ],
             [
              0.6666666666666666,
              "#ed7953"
             ],
             [
              0.7777777777777778,
              "#fb9f3a"
             ],
             [
              0.8888888888888888,
              "#fdca26"
             ],
             [
              1,
              "#f0f921"
             ]
            ],
            "type": "surface"
           }
          ],
          "table": [
           {
            "cells": {
             "fill": {
              "color": "#EBF0F8"
             },
             "line": {
              "color": "white"
             }
            },
            "header": {
             "fill": {
              "color": "#C8D4E3"
             },
             "line": {
              "color": "white"
             }
            },
            "type": "table"
           }
          ]
         },
         "layout": {
          "annotationdefaults": {
           "arrowcolor": "#2a3f5f",
           "arrowhead": 0,
           "arrowwidth": 1
          },
          "autotypenumbers": "strict",
          "coloraxis": {
           "colorbar": {
            "outlinewidth": 0,
            "ticks": ""
           }
          },
          "colorscale": {
           "diverging": [
            [
             0,
             "#8e0152"
            ],
            [
             0.1,
             "#c51b7d"
            ],
            [
             0.2,
             "#de77ae"
            ],
            [
             0.3,
             "#f1b6da"
            ],
            [
             0.4,
             "#fde0ef"
            ],
            [
             0.5,
             "#f7f7f7"
            ],
            [
             0.6,
             "#e6f5d0"
            ],
            [
             0.7,
             "#b8e186"
            ],
            [
             0.8,
             "#7fbc41"
            ],
            [
             0.9,
             "#4d9221"
            ],
            [
             1,
             "#276419"
            ]
           ],
           "sequential": [
            [
             0,
             "#0d0887"
            ],
            [
             0.1111111111111111,
             "#46039f"
            ],
            [
             0.2222222222222222,
             "#7201a8"
            ],
            [
             0.3333333333333333,
             "#9c179e"
            ],
            [
             0.4444444444444444,
             "#bd3786"
            ],
            [
             0.5555555555555556,
             "#d8576b"
            ],
            [
             0.6666666666666666,
             "#ed7953"
            ],
            [
             0.7777777777777778,
             "#fb9f3a"
            ],
            [
             0.8888888888888888,
             "#fdca26"
            ],
            [
             1,
             "#f0f921"
            ]
           ],
           "sequentialminus": [
            [
             0,
             "#0d0887"
            ],
            [
             0.1111111111111111,
             "#46039f"
            ],
            [
             0.2222222222222222,
             "#7201a8"
            ],
            [
             0.3333333333333333,
             "#9c179e"
            ],
            [
             0.4444444444444444,
             "#bd3786"
            ],
            [
             0.5555555555555556,
             "#d8576b"
            ],
            [
             0.6666666666666666,
             "#ed7953"
            ],
            [
             0.7777777777777778,
             "#fb9f3a"
            ],
            [
             0.8888888888888888,
             "#fdca26"
            ],
            [
             1,
             "#f0f921"
            ]
           ]
          },
          "colorway": [
           "#636efa",
           "#EF553B",
           "#00cc96",
           "#ab63fa",
           "#FFA15A",
           "#19d3f3",
           "#FF6692",
           "#B6E880",
           "#FF97FF",
           "#FECB52"
          ],
          "font": {
           "color": "#2a3f5f"
          },
          "geo": {
           "bgcolor": "white",
           "lakecolor": "white",
           "landcolor": "white",
           "showlakes": true,
           "showland": true,
           "subunitcolor": "#C8D4E3"
          },
          "hoverlabel": {
           "align": "left"
          },
          "hovermode": "closest",
          "mapbox": {
           "style": "light"
          },
          "paper_bgcolor": "white",
          "plot_bgcolor": "white",
          "polar": {
           "angularaxis": {
            "gridcolor": "#EBF0F8",
            "linecolor": "#EBF0F8",
            "ticks": ""
           },
           "bgcolor": "white",
           "radialaxis": {
            "gridcolor": "#EBF0F8",
            "linecolor": "#EBF0F8",
            "ticks": ""
           }
          },
          "scene": {
           "xaxis": {
            "backgroundcolor": "white",
            "gridcolor": "#DFE8F3",
            "gridwidth": 2,
            "linecolor": "#EBF0F8",
            "showbackground": true,
            "ticks": "",
            "zerolinecolor": "#EBF0F8"
           },
           "yaxis": {
            "backgroundcolor": "white",
            "gridcolor": "#DFE8F3",
            "gridwidth": 2,
            "linecolor": "#EBF0F8",
            "showbackground": true,
            "ticks": "",
            "zerolinecolor": "#EBF0F8"
           },
           "zaxis": {
            "backgroundcolor": "white",
            "gridcolor": "#DFE8F3",
            "gridwidth": 2,
            "linecolor": "#EBF0F8",
            "showbackground": true,
            "ticks": "",
            "zerolinecolor": "#EBF0F8"
           }
          },
          "shapedefaults": {
           "line": {
            "color": "#2a3f5f"
           }
          },
          "ternary": {
           "aaxis": {
            "gridcolor": "#DFE8F3",
            "linecolor": "#A2B1C6",
            "ticks": ""
           },
           "baxis": {
            "gridcolor": "#DFE8F3",
            "linecolor": "#A2B1C6",
            "ticks": ""
           },
           "bgcolor": "white",
           "caxis": {
            "gridcolor": "#DFE8F3",
            "linecolor": "#A2B1C6",
            "ticks": ""
           }
          },
          "title": {
           "x": 0.05
          },
          "xaxis": {
           "automargin": true,
           "gridcolor": "#EBF0F8",
           "linecolor": "#EBF0F8",
           "ticks": "",
           "title": {
            "standoff": 15
           },
           "zerolinecolor": "#EBF0F8",
           "zerolinewidth": 2
          },
          "yaxis": {
           "automargin": true,
           "gridcolor": "#EBF0F8",
           "linecolor": "#EBF0F8",
           "ticks": "",
           "title": {
            "standoff": 15
           },
           "zerolinecolor": "#EBF0F8",
           "zerolinewidth": 2
          }
         }
        },
        "title": {
         "text": "Performance: Requests per Second vs. Number of Documents"
        },
        "width": 800,
        "xaxis": {
         "anchor": "y",
         "domain": [
          0,
          1
         ],
         "ticktext": [
          "1k",
          "10k",
          "100k"
         ],
         "tickvals": [
          1000,
          10000,
          100000
         ],
         "title": {
          "text": "Number of Documents"
         },
         "type": "log"
        },
        "yaxis": {
         "anchor": "x",
         "domain": [
          0,
          1
         ],
         "title": {
          "text": "Requests per Second"
         }
        }
       }
      }
     },
     "metadata": {},
     "output_type": "display_data"
    }
   ],
   "source": [
    "import plotly.express as px\n",
    "\n",
    "\n",
    "def plot_performance(df: pd.DataFrame):\n",
    "    # Create a scatter plot with logarithmic scale for both axes using Plotly Express\n",
    "    fig = px.scatter(\n",
    "        df,\n",
    "        x=\"num_docs\",\n",
    "        y=\"requests_per_second\",\n",
    "        color=\"function_name\",  # Defines color based on different functions\n",
    "        log_x=True,  # Set x-axis to logarithmic scale\n",
    "        log_y=False,  # If you also want the y-axis in logarithmic scale, set this to True\n",
    "        title=\"Performance: Requests per Second vs. Number of Documents\",\n",
    "        labels={  # Customizing axis labels\n",
    "            \"num_docs\": \"Number of Documents\",\n",
    "            \"requests_per_second\": \"Requests per Second\",\n",
    "            \"max_workers\": \"max_workers\",\n",
    "            \"max_queue_size\": \"max_queue_size\",\n",
    "            \"max_connections\": \"max_connections\",\n",
    "        },\n",
    "        template=\"plotly_white\",  # This sets the style to a white background, adhering to Tufte's minimalist principles\n",
    "        hover_data=[\n",
    "            \"max_workers\",\n",
    "            \"max_queue_size\",\n",
    "            \"max_connections\",\n",
    "        ],  # Additional information to show on hover\n",
    "    )\n",
    "\n",
    "    # Update layout for better readability, similar to 'talk' context in Seaborn\n",
    "    fig.update_layout(\n",
    "        font=dict(\n",
    "            size=16,  # Adjusting font size for better visibility, similar to 'talk' context\n",
    "        ),\n",
    "        legend_title_text=\"Function Details\",  # Custom legend title\n",
    "        legend=dict(\n",
    "            title_font_size=16,\n",
    "            x=800,  # Adjusting legend position similar to bbox_to_anchor in Matplotlib\n",
    "            xanchor=\"auto\",\n",
    "            y=1,\n",
    "            yanchor=\"auto\",\n",
    "        ),\n",
    "        width=800,  # Adjusting width of the plot\n",
    "    )\n",
    "    fig.update_xaxes(\n",
    "        tickvals=[1000, 10000, 100000],  # Set specific tick values\n",
    "        ticktext=[\"1k\", \"10k\", \"100k\"],  # Set corresponding tick labels\n",
    "    )\n",
    "\n",
    "    fig.update_traces(\n",
    "        marker=dict(size=12, opacity=0.7)\n",
    "    )  # Adjust marker size and opacity\n",
    "    # Show plot\n",
    "    fig.show()\n",
    "\n",
    "\n",
    "plot_performance(df)"
   ]
  },
  {
   "cell_type": "markdown",
   "id": "46a28331",
   "metadata": {},
   "source": [
    "Interesting. Let's try to summarize the insights we got from this experiment:\n",
    "\n",
    "- The `feed_sync` method is the slowest, and does not benefit much from increasing 'max_connections'.\n",
    "  As there is no concurrency, and each request is blocking, this will be bound by the network latency, which in many cases will be a lot higher than when running against a local VespaDocker instance.\n",
    "- The `feed_async` method is the fastest, and benefits slightly from increasing 'max_connections' regardless of the number of documents. This method is non-blocking, and will likely be even more beneficial when running against a remote Vespa instance, such as [Vespa Cloud](https://cloud.vespa.ai/), when network latency is higher.\n",
    "- The `feed_iterable` performance is somewhere in between the other two methods, and benefits a lot from increasing `num_workers` when the number of documents increases.\n",
    "\n",
    "We have not looked at multiprocessing, but there is definitively room to utilize more cores to improve further upon these results.\n",
    "But there is one alternative that it is interesting to compare against, the Vespa CLI.\n"
   ]
  },
  {
   "cell_type": "markdown",
   "id": "5630e540",
   "metadata": {},
   "source": [
    "## Feeding with Vespa CLI\n",
    "\n",
    "[Vespa CLI](https://docs.vespa.ai/en/vespa-cli) is a command-line interface for interacting with Vespa.\n",
    "\n",
    "Among many useful features are a `vespa feed` command that is the recommended way of feeding large datasets into Vespa.\n",
    "This is optimized for high feeding performance, and it will be interesting to get a feel for how performant feeding to a local Vespa instance is using the CLI.\n"
   ]
  },
  {
   "cell_type": "markdown",
   "id": "f82d48fd",
   "metadata": {},
   "source": [
    "## Prepare the data for Vespa CLI\n",
    "\n",
    "Vespa CLI can feed data from either many .json files or a single .jsonl file with many documents.\n",
    "The json format needs to be in the following format:\n",
    "\n",
    "```json\n",
    "{\n",
    "  \"put\": \"id:namespace:document-type::document-id\",\n",
    "  \"fields\": {\n",
    "    \"field1\": \"value1\",\n",
    "    \"field2\": \"value2\"\n",
    "  }\n",
    "}\n",
    "```\n",
    "\n",
    "Where, `put` is the document operation in this case. Other allowed operations are `get`, `update` and `remove`.\n",
    "\n",
    "For reference, see https://docs.vespa.ai/en/vespa-cli#cheat-sheet\n",
    "\n",
    "### Getting the datasets as .jsonl files\n",
    "\n",
    "Now, let`s save the dataset to 3 different jsonl files of 1k, 10k, and 100k documents.\n"
   ]
  },
  {
   "cell_type": "code",
   "execution_count": 38,
   "id": "9b377ee3",
   "metadata": {},
   "outputs": [
    {
     "name": "stdout",
     "output_type": "stream",
     "text": [
      "Getting dataset with 1000 docs...\n"
     ]
    },
    {
     "data": {
      "application/vnd.jupyter.widget-view+json": {
       "model_id": "408fa1a64062444791d9c39da3c81c43",
       "version_major": 2,
       "version_minor": 0
      },
      "text/plain": [
       "Map:   0%|          | 0/1000 [00:00<?, ? examples/s]"
      ]
     },
     "metadata": {},
     "output_type": "display_data"
    },
    {
     "data": {
      "application/vnd.jupyter.widget-view+json": {
       "model_id": "e02a582129dc49ecabdda1d633b87388",
       "version_major": 2,
       "version_minor": 0
      },
      "text/plain": [
       "Creating json from Arrow format:   0%|          | 0/1 [00:00<?, ?ba/s]"
      ]
     },
     "metadata": {},
     "output_type": "display_data"
    },
    {
     "name": "stdout",
     "output_type": "stream",
     "text": [
      "Getting dataset with 10000 docs...\n"
     ]
    },
    {
     "data": {
      "application/vnd.jupyter.widget-view+json": {
       "model_id": "d173917633ba4212a870f534f3220de9",
       "version_major": 2,
       "version_minor": 0
      },
      "text/plain": [
       "Map:   0%|          | 0/10000 [00:00<?, ? examples/s]"
      ]
     },
     "metadata": {},
     "output_type": "display_data"
    },
    {
     "data": {
      "application/vnd.jupyter.widget-view+json": {
       "model_id": "ece246733e344d6187b765a36567b87d",
       "version_major": 2,
       "version_minor": 0
      },
      "text/plain": [
       "Creating json from Arrow format:   0%|          | 0/10 [00:00<?, ?ba/s]"
      ]
     },
     "metadata": {},
     "output_type": "display_data"
    },
    {
     "name": "stdout",
     "output_type": "stream",
     "text": [
      "Getting dataset with 100000 docs...\n"
     ]
    },
    {
     "data": {
      "application/vnd.jupyter.widget-view+json": {
       "model_id": "1f0bdd05a91540fba065d75c1780c67f",
       "version_major": 2,
       "version_minor": 0
      },
      "text/plain": [
       "Map:   0%|          | 0/100000 [00:00<?, ? examples/s]"
      ]
     },
     "metadata": {},
     "output_type": "display_data"
    },
    {
     "data": {
      "application/vnd.jupyter.widget-view+json": {
       "model_id": "550df7b6e9774a7d9bc55aed16984084",
       "version_major": 2,
       "version_minor": 0
      },
      "text/plain": [
       "Creating json from Arrow format:   0%|          | 0/100 [00:00<?, ?ba/s]"
      ]
     },
     "metadata": {},
     "output_type": "display_data"
    }
   ],
   "source": [
    "for n in num_docs:\n",
    "    print(f\"Getting dataset with {n} docs...\")\n",
    "    # First, let's load the dataset in non-streaming mode this time, as we want to save it to a jsonl file\n",
    "    dataset_cli = load_dataset(\n",
    "        \"Cohere/wikipedia-2023-11-embed-multilingual-v3\",\n",
    "        \"simple\",\n",
    "        split=f\"train[:{n}]\",  # Notice the slicing here, see https://huggingface.co/docs/datasets/loading#slice-splits\n",
    "        streaming=False,\n",
    "    )\n",
    "    # Map to the format expected by the CLI.\n",
    "    # Note that this differs a little bit from the format expected by the Python API.\n",
    "    dataset_cli = dataset_cli.map(\n",
    "        lambda x: {\n",
    "            \"put\": f\"id:pyvespa-feed:doc::{x['_id']}-json\",\n",
    "            \"fields\": {\"text\": x[\"text\"]},\n",
    "        }\n",
    "    ).select_columns([\"put\", \"fields\"])\n",
    "    # Save to a jsonl file\n",
    "    assert len(dataset_cli) == n\n",
    "    dataset_cli.to_json(f\"vespa_feed-{n}.json\", orient=\"records\", lines=True)"
   ]
  },
  {
   "cell_type": "markdown",
   "id": "fe173828",
   "metadata": {},
   "source": [
    "Let's look at the first line of one of the saved files to verify the format.\n"
   ]
  },
  {
   "cell_type": "code",
   "execution_count": 39,
   "id": "cd95d014",
   "metadata": {},
   "outputs": [
    {
     "name": "stdout",
     "output_type": "stream",
     "text": [
      "{'fields': {'text': 'April (Apr.) is the fourth month of the year in the '\n",
      "                    'Julian and Gregorian calendars, and comes between March '\n",
      "                    'and May. It is one of the four months to have 30 days.'},\n",
      " 'put': 'id:pyvespa-feed:doc::20231101.simple_1_0-json'}\n"
     ]
    }
   ],
   "source": [
    "from pprint import pprint\n",
    "import json\n",
    "\n",
    "with open(\"vespa_feed-1000.json\", \"r\") as f:\n",
    "    sample = f.readline()\n",
    "    pprint(json.loads(sample))"
   ]
  },
  {
   "cell_type": "markdown",
   "id": "68374774",
   "metadata": {},
   "source": [
    "Ok, now we are ready to feed the data using Vespa CLI.\n",
    "We also want to capture the output of feed statistics for each file.\n"
   ]
  },
  {
   "cell_type": "code",
   "execution_count": 41,
   "id": "2ea17d30",
   "metadata": {},
   "outputs": [
    {
     "name": "stdout",
     "output_type": "stream",
     "text": [
      "Feeding 1000 docs...\n",
      "{'feeder.error.count': 0,\n",
      " 'feeder.inflight.count': 0,\n",
      " 'feeder.ok.count': 1000,\n",
      " 'feeder.ok.rate': 1000.0,\n",
      " 'feeder.operation.count': 1000,\n",
      " 'feeder.seconds': 0.246,\n",
      " 'http.exception.count': 0,\n",
      " 'http.request.MBps': 0.293,\n",
      " 'http.request.bytes': 293011,\n",
      " 'http.request.count': 1000,\n",
      " 'http.response.MBps': 0.129,\n",
      " 'http.response.bytes': 129388,\n",
      " 'http.response.code.counts': {'200': 1000},\n",
      " 'http.response.count': 1000,\n",
      " 'http.response.error.count': 0,\n",
      " 'http.response.latency.millis.avg': 149,\n",
      " 'http.response.latency.millis.max': 237,\n",
      " 'http.response.latency.millis.min': 45}\n",
      "Feeding 10000 docs...\n",
      "{'feeder.error.count': 0,\n",
      " 'feeder.inflight.count': 0,\n",
      " 'feeder.ok.count': 10000,\n",
      " 'feeder.ok.rate': 10000.0,\n",
      " 'feeder.operation.count': 10000,\n",
      " 'feeder.seconds': 0.911,\n",
      " 'http.exception.count': 0,\n",
      " 'http.request.MBps': 2.906,\n",
      " 'http.request.bytes': 2905878,\n",
      " 'http.request.count': 10000,\n",
      " 'http.response.MBps': 1.317,\n",
      " 'http.response.bytes': 1317226,\n",
      " 'http.response.code.counts': {'200': 10000},\n",
      " 'http.response.count': 10000,\n",
      " 'http.response.error.count': 0,\n",
      " 'http.response.latency.millis.avg': 93,\n",
      " 'http.response.latency.millis.max': 155,\n",
      " 'http.response.latency.millis.min': 41}\n",
      "Feeding 100000 docs...\n",
      "{'feeder.error.count': 0,\n",
      " 'feeder.inflight.count': 0,\n",
      " 'feeder.ok.count': 100000,\n",
      " 'feeder.ok.rate': 16781.385,\n",
      " 'feeder.operation.count': 100000,\n",
      " 'feeder.seconds': 5.959,\n",
      " 'http.exception.count': 0,\n",
      " 'http.request.MBps': 4.66,\n",
      " 'http.request.bytes': 27770689,\n",
      " 'http.request.count': 100000,\n",
      " 'http.response.MBps': 2.246,\n",
      " 'http.response.bytes': 13382890,\n",
      " 'http.response.code.counts': {'200': 100000},\n",
      " 'http.response.count': 100000,\n",
      " 'http.response.error.count': 0,\n",
      " 'http.response.latency.millis.avg': 47,\n",
      " 'http.response.latency.millis.max': 106,\n",
      " 'http.response.latency.millis.min': 20}\n"
     ]
    }
   ],
   "source": [
    "cli_results = {}\n",
    "for n in num_docs:\n",
    "    print(f\"Feeding {n} docs...\")\n",
    "    output_list = !vespa feed vespa_feed-{n}.json\n",
    "    results = json.loads(\"\".join(output_list))\n",
    "    pprint(results)\n",
    "    cli_results[n] = results"
   ]
  },
  {
   "cell_type": "code",
   "execution_count": 42,
   "id": "be2c18ae",
   "metadata": {},
   "outputs": [
    {
     "data": {
      "text/plain": [
       "{1000: {'feeder.operation.count': 1000,\n",
       "  'feeder.seconds': 0.246,\n",
       "  'feeder.ok.count': 1000,\n",
       "  'feeder.ok.rate': 1000.0,\n",
       "  'feeder.error.count': 0,\n",
       "  'feeder.inflight.count': 0,\n",
       "  'http.request.count': 1000,\n",
       "  'http.request.bytes': 293011,\n",
       "  'http.request.MBps': 0.293,\n",
       "  'http.exception.count': 0,\n",
       "  'http.response.count': 1000,\n",
       "  'http.response.bytes': 129388,\n",
       "  'http.response.MBps': 0.129,\n",
       "  'http.response.error.count': 0,\n",
       "  'http.response.latency.millis.min': 45,\n",
       "  'http.response.latency.millis.avg': 149,\n",
       "  'http.response.latency.millis.max': 237,\n",
       "  'http.response.code.counts': {'200': 1000}},\n",
       " 10000: {'feeder.operation.count': 10000,\n",
       "  'feeder.seconds': 0.911,\n",
       "  'feeder.ok.count': 10000,\n",
       "  'feeder.ok.rate': 10000.0,\n",
       "  'feeder.error.count': 0,\n",
       "  'feeder.inflight.count': 0,\n",
       "  'http.request.count': 10000,\n",
       "  'http.request.bytes': 2905878,\n",
       "  'http.request.MBps': 2.906,\n",
       "  'http.exception.count': 0,\n",
       "  'http.response.count': 10000,\n",
       "  'http.response.bytes': 1317226,\n",
       "  'http.response.MBps': 1.317,\n",
       "  'http.response.error.count': 0,\n",
       "  'http.response.latency.millis.min': 41,\n",
       "  'http.response.latency.millis.avg': 93,\n",
       "  'http.response.latency.millis.max': 155,\n",
       "  'http.response.code.counts': {'200': 10000}},\n",
       " 100000: {'feeder.operation.count': 100000,\n",
       "  'feeder.seconds': 5.959,\n",
       "  'feeder.ok.count': 100000,\n",
       "  'feeder.ok.rate': 16781.385,\n",
       "  'feeder.error.count': 0,\n",
       "  'feeder.inflight.count': 0,\n",
       "  'http.request.count': 100000,\n",
       "  'http.request.bytes': 27770689,\n",
       "  'http.request.MBps': 4.66,\n",
       "  'http.exception.count': 0,\n",
       "  'http.response.count': 100000,\n",
       "  'http.response.bytes': 13382890,\n",
       "  'http.response.MBps': 2.246,\n",
       "  'http.response.error.count': 0,\n",
       "  'http.response.latency.millis.min': 20,\n",
       "  'http.response.latency.millis.avg': 47,\n",
       "  'http.response.latency.millis.max': 106,\n",
       "  'http.response.code.counts': {'200': 100000}}}"
      ]
     },
     "execution_count": 42,
     "metadata": {},
     "output_type": "execute_result"
    }
   ],
   "source": [
    "cli_results"
   ]
  },
  {
   "cell_type": "code",
   "execution_count": 44,
   "id": "812bac07",
   "metadata": {},
   "outputs": [
    {
     "data": {
      "text/html": [
       "<div>\n",
       "<style scoped>\n",
       "    .dataframe tbody tr th:only-of-type {\n",
       "        vertical-align: middle;\n",
       "    }\n",
       "\n",
       "    .dataframe tbody tr th {\n",
       "        vertical-align: top;\n",
       "    }\n",
       "\n",
       "    .dataframe thead th {\n",
       "        text-align: right;\n",
       "    }\n",
       "</style>\n",
       "<table border=\"1\" class=\"dataframe\">\n",
       "  <thead>\n",
       "    <tr style=\"text-align: right;\">\n",
       "      <th></th>\n",
       "      <th>name</th>\n",
       "      <th>num_docs</th>\n",
       "      <th>max_connections</th>\n",
       "      <th>function_name</th>\n",
       "      <th>max_workers</th>\n",
       "      <th>max_queue_size</th>\n",
       "      <th>feed_time</th>\n",
       "      <th>requests_per_second</th>\n",
       "    </tr>\n",
       "  </thead>\n",
       "  <tbody>\n",
       "    <tr>\n",
       "      <th>0</th>\n",
       "      <td>1000_cli</td>\n",
       "      <td>1000</td>\n",
       "      <td>unknown</td>\n",
       "      <td>cli</td>\n",
       "      <td>unknown</td>\n",
       "      <td>n/a</td>\n",
       "      <td>0.246</td>\n",
       "      <td>4065.040650</td>\n",
       "    </tr>\n",
       "    <tr>\n",
       "      <th>1</th>\n",
       "      <td>10000_cli</td>\n",
       "      <td>10000</td>\n",
       "      <td>unknown</td>\n",
       "      <td>cli</td>\n",
       "      <td>unknown</td>\n",
       "      <td>n/a</td>\n",
       "      <td>0.911</td>\n",
       "      <td>10976.948408</td>\n",
       "    </tr>\n",
       "    <tr>\n",
       "      <th>2</th>\n",
       "      <td>100000_cli</td>\n",
       "      <td>100000</td>\n",
       "      <td>unknown</td>\n",
       "      <td>cli</td>\n",
       "      <td>unknown</td>\n",
       "      <td>n/a</td>\n",
       "      <td>5.959</td>\n",
       "      <td>16781.339151</td>\n",
       "    </tr>\n",
       "  </tbody>\n",
       "</table>\n",
       "</div>"
      ],
      "text/plain": [
       "         name  num_docs max_connections function_name max_workers  \\\n",
       "0    1000_cli      1000         unknown           cli     unknown   \n",
       "1   10000_cli     10000         unknown           cli     unknown   \n",
       "2  100000_cli    100000         unknown           cli     unknown   \n",
       "\n",
       "  max_queue_size  feed_time  requests_per_second  \n",
       "0            n/a      0.246          4065.040650  \n",
       "1            n/a      0.911         10976.948408  \n",
       "2            n/a      5.959         16781.339151  "
      ]
     },
     "execution_count": 44,
     "metadata": {},
     "output_type": "execute_result"
    }
   ],
   "source": [
    "# Let's add the CLI results to the DataFrame\n",
    "df_cli = pd.DataFrame(\n",
    "    [\n",
    "        {\n",
    "            \"name\": f\"{n}_cli\",\n",
    "            \"num_docs\": n,\n",
    "            \"max_connections\": \"unknown\",\n",
    "            \"function_name\": \"cli\",\n",
    "            \"max_workers\": \"unknown\",\n",
    "            \"max_queue_size\": \"n/a\",\n",
    "            \"feed_time\": result[\"feeder.seconds\"],\n",
    "        }\n",
    "        for n, result in cli_results.items()\n",
    "    ]\n",
    ")\n",
    "df_cli[\"requests_per_second\"] = df_cli[\"num_docs\"] / df_cli[\"feed_time\"]\n",
    "df_cli"
   ]
  },
  {
   "cell_type": "code",
   "execution_count": 48,
   "id": "b3395710",
   "metadata": {},
   "outputs": [
    {
     "data": {
      "application/vnd.plotly.v1+json": {
       "config": {
        "plotlyServerURL": "https://plot.ly"
       },
       "data": [
        {
         "customdata": [
          [
           null,
           null,
           16
          ],
          [
           null,
           null,
           64
          ],
          [
           null,
           null,
           16
          ],
          [
           null,
           null,
           64
          ],
          [
           null,
           null,
           16
          ],
          [
           null,
           null,
           64
          ]
         ],
         "hovertemplate": "function_name=feed_sync<br>Number of Documents=%{x}<br>Requests per Second=%{y}<br>max_workers=%{customdata[0]}<br>max_queue_size=%{customdata[1]}<br>max_connections=%{customdata[2]}<extra></extra>",
         "legendgroup": "feed_sync",
         "marker": {
          "color": "#636efa",
          "opacity": 0.7,
          "size": 12,
          "symbol": "circle"
         },
         "mode": "markers",
         "name": "feed_sync",
         "orientation": "v",
         "showlegend": true,
         "type": "scatter",
         "x": [
          1000,
          1000,
          10000,
          10000,
          100000,
          100000
         ],
         "xaxis": "x",
         "y": [
          127.86906376447897,
          149.5169000669961,
          249.43192487835736,
          225.70328005213466,
          209.3093743449248,
          175.55836550057919
         ],
         "yaxis": "y"
        },
        {
         "customdata": [
          [
           null,
           null,
           16
          ],
          [
           null,
           null,
           64
          ],
          [
           null,
           null,
           16
          ],
          [
           null,
           null,
           64
          ],
          [
           null,
           null,
           16
          ],
          [
           null,
           null,
           64
          ]
         ],
         "hovertemplate": "function_name=feed_async<br>Number of Documents=%{x}<br>Requests per Second=%{y}<br>max_workers=%{customdata[0]}<br>max_queue_size=%{customdata[1]}<br>max_connections=%{customdata[2]}<extra></extra>",
         "legendgroup": "feed_async",
         "marker": {
          "color": "#EF553B",
          "opacity": 0.7,
          "size": 12,
          "symbol": "circle"
         },
         "mode": "markers",
         "name": "feed_async",
         "orientation": "v",
         "showlegend": true,
         "type": "scatter",
         "x": [
          1000,
          1000,
          10000,
          10000,
          100000,
          100000
         ],
         "xaxis": "x",
         "y": [
          260.58971265884634,
          277.00078108030266,
          646.2611877592273,
          682.315014568094,
          649.452933317656,
          669.894651927348
         ],
         "yaxis": "y"
        },
        {
         "customdata": [
          [
           16,
           1000,
           64
          ],
          [
           16,
           10000,
           64
          ],
          [
           64,
           1000,
           64
          ],
          [
           64,
           10000,
           64
          ],
          [
           16,
           1000,
           128
          ],
          [
           16,
           10000,
           128
          ],
          [
           64,
           1000,
           128
          ],
          [
           64,
           10000,
           128
          ],
          [
           16,
           1000,
           64
          ],
          [
           16,
           10000,
           64
          ],
          [
           64,
           1000,
           64
          ],
          [
           64,
           10000,
           64
          ],
          [
           16,
           1000,
           128
          ],
          [
           16,
           10000,
           128
          ],
          [
           64,
           1000,
           128
          ],
          [
           64,
           10000,
           128
          ],
          [
           16,
           1000,
           64
          ],
          [
           16,
           10000,
           64
          ],
          [
           64,
           1000,
           64
          ],
          [
           64,
           10000,
           64
          ],
          [
           16,
           1000,
           128
          ],
          [
           16,
           10000,
           128
          ],
          [
           64,
           1000,
           128
          ],
          [
           64,
           10000,
           128
          ]
         ],
         "hovertemplate": "function_name=feed_iterable<br>Number of Documents=%{x}<br>Requests per Second=%{y}<br>max_workers=%{customdata[0]}<br>max_queue_size=%{customdata[1]}<br>max_connections=%{customdata[2]}<extra></extra>",
         "legendgroup": "feed_iterable",
         "marker": {
          "color": "#00cc96",
          "opacity": 0.7,
          "size": 12,
          "symbol": "circle"
         },
         "mode": "markers",
         "name": "feed_iterable",
         "orientation": "v",
         "showlegend": true,
         "type": "scatter",
         "x": [
          1000,
          1000,
          1000,
          1000,
          1000,
          1000,
          1000,
          1000,
          10000,
          10000,
          10000,
          10000,
          10000,
          10000,
          10000,
          10000,
          100000,
          100000,
          100000,
          100000,
          100000,
          100000,
          100000,
          100000
         ],
         "xaxis": "x",
         "y": [
          238.94462720047835,
          238.4308453716361,
          224.85684642420165,
          227.62615770093188,
          232.5772403788261,
          237.15295500057644,
          226.91656481228208,
          234.84866936851844,
          413.98085946126673,
          353.2766961383979,
          498.61798082747157,
          491.25658860098633,
          420.4526886672255,
          314.48885584837484,
          486.64685149661136,
          494.279314271923,
          435.7014157946263,
          274.4109316799926,
          511.7431589071399,
          482.5255799401344,
          434.29248737294995,
          263.39306803974006,
          484.72506272273694,
          489.0477030104362
         ],
         "yaxis": "y"
        },
        {
         "customdata": [
          [
           "unknown",
           "n/a",
           "unknown"
          ],
          [
           "unknown",
           "n/a",
           "unknown"
          ],
          [
           "unknown",
           "n/a",
           "unknown"
          ]
         ],
         "hovertemplate": "function_name=cli<br>Number of Documents=%{x}<br>Requests per Second=%{y}<br>max_workers=%{customdata[0]}<br>max_queue_size=%{customdata[1]}<br>max_connections=%{customdata[2]}<extra></extra>",
         "legendgroup": "cli",
         "marker": {
          "color": "#ab63fa",
          "opacity": 0.7,
          "size": 12,
          "symbol": "circle"
         },
         "mode": "markers",
         "name": "cli",
         "orientation": "v",
         "showlegend": true,
         "type": "scatter",
         "x": [
          1000,
          10000,
          100000
         ],
         "xaxis": "x",
         "y": [
          4065.040650406504,
          10976.94840834248,
          16781.33915086424
         ],
         "yaxis": "y"
        }
       ],
       "layout": {
        "font": {
         "size": 16
        },
        "legend": {
         "title": {
          "font": {
           "size": 16
          },
          "text": "Function Details"
         },
         "tracegroupgap": 0,
         "x": 800,
         "xanchor": "auto",
         "y": 1,
         "yanchor": "auto"
        },
        "template": {
         "data": {
          "bar": [
           {
            "error_x": {
             "color": "#2a3f5f"
            },
            "error_y": {
             "color": "#2a3f5f"
            },
            "marker": {
             "line": {
              "color": "white",
              "width": 0.5
             },
             "pattern": {
              "fillmode": "overlay",
              "size": 10,
              "solidity": 0.2
             }
            },
            "type": "bar"
           }
          ],
          "barpolar": [
           {
            "marker": {
             "line": {
              "color": "white",
              "width": 0.5
             },
             "pattern": {
              "fillmode": "overlay",
              "size": 10,
              "solidity": 0.2
             }
            },
            "type": "barpolar"
           }
          ],
          "carpet": [
           {
            "aaxis": {
             "endlinecolor": "#2a3f5f",
             "gridcolor": "#C8D4E3",
             "linecolor": "#C8D4E3",
             "minorgridcolor": "#C8D4E3",
             "startlinecolor": "#2a3f5f"
            },
            "baxis": {
             "endlinecolor": "#2a3f5f",
             "gridcolor": "#C8D4E3",
             "linecolor": "#C8D4E3",
             "minorgridcolor": "#C8D4E3",
             "startlinecolor": "#2a3f5f"
            },
            "type": "carpet"
           }
          ],
          "choropleth": [
           {
            "colorbar": {
             "outlinewidth": 0,
             "ticks": ""
            },
            "type": "choropleth"
           }
          ],
          "contour": [
           {
            "colorbar": {
             "outlinewidth": 0,
             "ticks": ""
            },
            "colorscale": [
             [
              0,
              "#0d0887"
             ],
             [
              0.1111111111111111,
              "#46039f"
             ],
             [
              0.2222222222222222,
              "#7201a8"
             ],
             [
              0.3333333333333333,
              "#9c179e"
             ],
             [
              0.4444444444444444,
              "#bd3786"
             ],
             [
              0.5555555555555556,
              "#d8576b"
             ],
             [
              0.6666666666666666,
              "#ed7953"
             ],
             [
              0.7777777777777778,
              "#fb9f3a"
             ],
             [
              0.8888888888888888,
              "#fdca26"
             ],
             [
              1,
              "#f0f921"
             ]
            ],
            "type": "contour"
           }
          ],
          "contourcarpet": [
           {
            "colorbar": {
             "outlinewidth": 0,
             "ticks": ""
            },
            "type": "contourcarpet"
           }
          ],
          "heatmap": [
           {
            "colorbar": {
             "outlinewidth": 0,
             "ticks": ""
            },
            "colorscale": [
             [
              0,
              "#0d0887"
             ],
             [
              0.1111111111111111,
              "#46039f"
             ],
             [
              0.2222222222222222,
              "#7201a8"
             ],
             [
              0.3333333333333333,
              "#9c179e"
             ],
             [
              0.4444444444444444,
              "#bd3786"
             ],
             [
              0.5555555555555556,
              "#d8576b"
             ],
             [
              0.6666666666666666,
              "#ed7953"
             ],
             [
              0.7777777777777778,
              "#fb9f3a"
             ],
             [
              0.8888888888888888,
              "#fdca26"
             ],
             [
              1,
              "#f0f921"
             ]
            ],
            "type": "heatmap"
           }
          ],
          "heatmapgl": [
           {
            "colorbar": {
             "outlinewidth": 0,
             "ticks": ""
            },
            "colorscale": [
             [
              0,
              "#0d0887"
             ],
             [
              0.1111111111111111,
              "#46039f"
             ],
             [
              0.2222222222222222,
              "#7201a8"
             ],
             [
              0.3333333333333333,
              "#9c179e"
             ],
             [
              0.4444444444444444,
              "#bd3786"
             ],
             [
              0.5555555555555556,
              "#d8576b"
             ],
             [
              0.6666666666666666,
              "#ed7953"
             ],
             [
              0.7777777777777778,
              "#fb9f3a"
             ],
             [
              0.8888888888888888,
              "#fdca26"
             ],
             [
              1,
              "#f0f921"
             ]
            ],
            "type": "heatmapgl"
           }
          ],
          "histogram": [
           {
            "marker": {
             "pattern": {
              "fillmode": "overlay",
              "size": 10,
              "solidity": 0.2
             }
            },
            "type": "histogram"
           }
          ],
          "histogram2d": [
           {
            "colorbar": {
             "outlinewidth": 0,
             "ticks": ""
            },
            "colorscale": [
             [
              0,
              "#0d0887"
             ],
             [
              0.1111111111111111,
              "#46039f"
             ],
             [
              0.2222222222222222,
              "#7201a8"
             ],
             [
              0.3333333333333333,
              "#9c179e"
             ],
             [
              0.4444444444444444,
              "#bd3786"
             ],
             [
              0.5555555555555556,
              "#d8576b"
             ],
             [
              0.6666666666666666,
              "#ed7953"
             ],
             [
              0.7777777777777778,
              "#fb9f3a"
             ],
             [
              0.8888888888888888,
              "#fdca26"
             ],
             [
              1,
              "#f0f921"
             ]
            ],
            "type": "histogram2d"
           }
          ],
          "histogram2dcontour": [
           {
            "colorbar": {
             "outlinewidth": 0,
             "ticks": ""
            },
            "colorscale": [
             [
              0,
              "#0d0887"
             ],
             [
              0.1111111111111111,
              "#46039f"
             ],
             [
              0.2222222222222222,
              "#7201a8"
             ],
             [
              0.3333333333333333,
              "#9c179e"
             ],
             [
              0.4444444444444444,
              "#bd3786"
             ],
             [
              0.5555555555555556,
              "#d8576b"
             ],
             [
              0.6666666666666666,
              "#ed7953"
             ],
             [
              0.7777777777777778,
              "#fb9f3a"
             ],
             [
              0.8888888888888888,
              "#fdca26"
             ],
             [
              1,
              "#f0f921"
             ]
            ],
            "type": "histogram2dcontour"
           }
          ],
          "mesh3d": [
           {
            "colorbar": {
             "outlinewidth": 0,
             "ticks": ""
            },
            "type": "mesh3d"
           }
          ],
          "parcoords": [
           {
            "line": {
             "colorbar": {
              "outlinewidth": 0,
              "ticks": ""
             }
            },
            "type": "parcoords"
           }
          ],
          "pie": [
           {
            "automargin": true,
            "type": "pie"
           }
          ],
          "scatter": [
           {
            "fillpattern": {
             "fillmode": "overlay",
             "size": 10,
             "solidity": 0.2
            },
            "type": "scatter"
           }
          ],
          "scatter3d": [
           {
            "line": {
             "colorbar": {
              "outlinewidth": 0,
              "ticks": ""
             }
            },
            "marker": {
             "colorbar": {
              "outlinewidth": 0,
              "ticks": ""
             }
            },
            "type": "scatter3d"
           }
          ],
          "scattercarpet": [
           {
            "marker": {
             "colorbar": {
              "outlinewidth": 0,
              "ticks": ""
             }
            },
            "type": "scattercarpet"
           }
          ],
          "scattergeo": [
           {
            "marker": {
             "colorbar": {
              "outlinewidth": 0,
              "ticks": ""
             }
            },
            "type": "scattergeo"
           }
          ],
          "scattergl": [
           {
            "marker": {
             "colorbar": {
              "outlinewidth": 0,
              "ticks": ""
             }
            },
            "type": "scattergl"
           }
          ],
          "scattermapbox": [
           {
            "marker": {
             "colorbar": {
              "outlinewidth": 0,
              "ticks": ""
             }
            },
            "type": "scattermapbox"
           }
          ],
          "scatterpolar": [
           {
            "marker": {
             "colorbar": {
              "outlinewidth": 0,
              "ticks": ""
             }
            },
            "type": "scatterpolar"
           }
          ],
          "scatterpolargl": [
           {
            "marker": {
             "colorbar": {
              "outlinewidth": 0,
              "ticks": ""
             }
            },
            "type": "scatterpolargl"
           }
          ],
          "scatterternary": [
           {
            "marker": {
             "colorbar": {
              "outlinewidth": 0,
              "ticks": ""
             }
            },
            "type": "scatterternary"
           }
          ],
          "surface": [
           {
            "colorbar": {
             "outlinewidth": 0,
             "ticks": ""
            },
            "colorscale": [
             [
              0,
              "#0d0887"
             ],
             [
              0.1111111111111111,
              "#46039f"
             ],
             [
              0.2222222222222222,
              "#7201a8"
             ],
             [
              0.3333333333333333,
              "#9c179e"
             ],
             [
              0.4444444444444444,
              "#bd3786"
             ],
             [
              0.5555555555555556,
              "#d8576b"
             ],
             [
              0.6666666666666666,
              "#ed7953"
             ],
             [
              0.7777777777777778,
              "#fb9f3a"
             ],
             [
              0.8888888888888888,
              "#fdca26"
             ],
             [
              1,
              "#f0f921"
             ]
            ],
            "type": "surface"
           }
          ],
          "table": [
           {
            "cells": {
             "fill": {
              "color": "#EBF0F8"
             },
             "line": {
              "color": "white"
             }
            },
            "header": {
             "fill": {
              "color": "#C8D4E3"
             },
             "line": {
              "color": "white"
             }
            },
            "type": "table"
           }
          ]
         },
         "layout": {
          "annotationdefaults": {
           "arrowcolor": "#2a3f5f",
           "arrowhead": 0,
           "arrowwidth": 1
          },
          "autotypenumbers": "strict",
          "coloraxis": {
           "colorbar": {
            "outlinewidth": 0,
            "ticks": ""
           }
          },
          "colorscale": {
           "diverging": [
            [
             0,
             "#8e0152"
            ],
            [
             0.1,
             "#c51b7d"
            ],
            [
             0.2,
             "#de77ae"
            ],
            [
             0.3,
             "#f1b6da"
            ],
            [
             0.4,
             "#fde0ef"
            ],
            [
             0.5,
             "#f7f7f7"
            ],
            [
             0.6,
             "#e6f5d0"
            ],
            [
             0.7,
             "#b8e186"
            ],
            [
             0.8,
             "#7fbc41"
            ],
            [
             0.9,
             "#4d9221"
            ],
            [
             1,
             "#276419"
            ]
           ],
           "sequential": [
            [
             0,
             "#0d0887"
            ],
            [
             0.1111111111111111,
             "#46039f"
            ],
            [
             0.2222222222222222,
             "#7201a8"
            ],
            [
             0.3333333333333333,
             "#9c179e"
            ],
            [
             0.4444444444444444,
             "#bd3786"
            ],
            [
             0.5555555555555556,
             "#d8576b"
            ],
            [
             0.6666666666666666,
             "#ed7953"
            ],
            [
             0.7777777777777778,
             "#fb9f3a"
            ],
            [
             0.8888888888888888,
             "#fdca26"
            ],
            [
             1,
             "#f0f921"
            ]
           ],
           "sequentialminus": [
            [
             0,
             "#0d0887"
            ],
            [
             0.1111111111111111,
             "#46039f"
            ],
            [
             0.2222222222222222,
             "#7201a8"
            ],
            [
             0.3333333333333333,
             "#9c179e"
            ],
            [
             0.4444444444444444,
             "#bd3786"
            ],
            [
             0.5555555555555556,
             "#d8576b"
            ],
            [
             0.6666666666666666,
             "#ed7953"
            ],
            [
             0.7777777777777778,
             "#fb9f3a"
            ],
            [
             0.8888888888888888,
             "#fdca26"
            ],
            [
             1,
             "#f0f921"
            ]
           ]
          },
          "colorway": [
           "#636efa",
           "#EF553B",
           "#00cc96",
           "#ab63fa",
           "#FFA15A",
           "#19d3f3",
           "#FF6692",
           "#B6E880",
           "#FF97FF",
           "#FECB52"
          ],
          "font": {
           "color": "#2a3f5f"
          },
          "geo": {
           "bgcolor": "white",
           "lakecolor": "white",
           "landcolor": "white",
           "showlakes": true,
           "showland": true,
           "subunitcolor": "#C8D4E3"
          },
          "hoverlabel": {
           "align": "left"
          },
          "hovermode": "closest",
          "mapbox": {
           "style": "light"
          },
          "paper_bgcolor": "white",
          "plot_bgcolor": "white",
          "polar": {
           "angularaxis": {
            "gridcolor": "#EBF0F8",
            "linecolor": "#EBF0F8",
            "ticks": ""
           },
           "bgcolor": "white",
           "radialaxis": {
            "gridcolor": "#EBF0F8",
            "linecolor": "#EBF0F8",
            "ticks": ""
           }
          },
          "scene": {
           "xaxis": {
            "backgroundcolor": "white",
            "gridcolor": "#DFE8F3",
            "gridwidth": 2,
            "linecolor": "#EBF0F8",
            "showbackground": true,
            "ticks": "",
            "zerolinecolor": "#EBF0F8"
           },
           "yaxis": {
            "backgroundcolor": "white",
            "gridcolor": "#DFE8F3",
            "gridwidth": 2,
            "linecolor": "#EBF0F8",
            "showbackground": true,
            "ticks": "",
            "zerolinecolor": "#EBF0F8"
           },
           "zaxis": {
            "backgroundcolor": "white",
            "gridcolor": "#DFE8F3",
            "gridwidth": 2,
            "linecolor": "#EBF0F8",
            "showbackground": true,
            "ticks": "",
            "zerolinecolor": "#EBF0F8"
           }
          },
          "shapedefaults": {
           "line": {
            "color": "#2a3f5f"
           }
          },
          "ternary": {
           "aaxis": {
            "gridcolor": "#DFE8F3",
            "linecolor": "#A2B1C6",
            "ticks": ""
           },
           "baxis": {
            "gridcolor": "#DFE8F3",
            "linecolor": "#A2B1C6",
            "ticks": ""
           },
           "bgcolor": "white",
           "caxis": {
            "gridcolor": "#DFE8F3",
            "linecolor": "#A2B1C6",
            "ticks": ""
           }
          },
          "title": {
           "x": 0.05
          },
          "xaxis": {
           "automargin": true,
           "gridcolor": "#EBF0F8",
           "linecolor": "#EBF0F8",
           "ticks": "",
           "title": {
            "standoff": 15
           },
           "zerolinecolor": "#EBF0F8",
           "zerolinewidth": 2
          },
          "yaxis": {
           "automargin": true,
           "gridcolor": "#EBF0F8",
           "linecolor": "#EBF0F8",
           "ticks": "",
           "title": {
            "standoff": 15
           },
           "zerolinecolor": "#EBF0F8",
           "zerolinewidth": 2
          }
         }
        },
        "title": {
         "text": "Performance: Requests per Second vs. Number of Documents"
        },
        "width": 800,
        "xaxis": {
         "anchor": "y",
         "domain": [
          0,
          1
         ],
         "ticktext": [
          "1k",
          "10k",
          "100k"
         ],
         "tickvals": [
          1000,
          10000,
          100000
         ],
         "title": {
          "text": "Number of Documents"
         },
         "type": "log"
        },
        "yaxis": {
         "anchor": "x",
         "domain": [
          0,
          1
         ],
         "title": {
          "text": "Requests per Second"
         }
        }
       }
      }
     },
     "metadata": {},
     "output_type": "display_data"
    }
   ],
   "source": [
    "df_total = pd.concat([df, df_cli])\n",
    "\n",
    "plot_performance(df_total)"
   ]
  },
  {
   "cell_type": "markdown",
   "id": "1f745d73",
   "metadata": {},
   "source": [
    "As you can tell, the CLI is orders of magnitude faster.\n"
   ]
  },
  {
   "cell_type": "markdown",
   "id": "18fc6282",
   "metadata": {},
   "source": [
    "## Conclusion\n"
   ]
  },
  {
   "cell_type": "markdown",
   "id": "2d91581b",
   "metadata": {},
   "source": [
    "- Prefer to use the CLI if you care about performance. 🚀\n",
    "- If you are using Python, prefer the async method, as it is the fastest way to feed data using `pyvespa`.\n"
   ]
  },
  {
   "cell_type": "markdown",
   "id": "28591491",
   "metadata": {},
   "source": [
    "## Cleanup\n"
   ]
  },
  {
   "cell_type": "code",
   "execution_count": null,
   "id": "e5064bd2",
   "metadata": {},
   "outputs": [],
   "source": [
    "vespa_docker.container.stop()\n",
    "vespa_docker.container.remove()"
   ]
  },
  {
   "cell_type": "markdown",
   "id": "d1872b31",
   "metadata": {},
   "source": [
    "## Next steps\n",
    "\n",
    "Check out some of the other\n",
    "[examples](https://pyvespa.readthedocs.io/en/latest/examples.html) in the documentation.\n"
   ]
  }
 ],
 "metadata": {
  "kernelspec": {
   "display_name": "Python 3.11.4 64-bit",
   "language": "python",
   "name": "python3"
  },
  "language_info": {
   "codemirror_mode": {
    "name": "ipython",
    "version": 3
   },
   "file_extension": ".py",
   "mimetype": "text/x-python",
   "name": "python",
   "nbconvert_exporter": "python",
   "pygments_lexer": "ipython3",
   "version": "3.9.6"
  },
  "vscode": {
   "interpreter": {
    "hash": "b0fa6594d8f4cbf19f97940f81e996739fb7646882a419484c72d19e05852a7e"
   }
  }
 },
 "nbformat": 4,
 "nbformat_minor": 5
}
