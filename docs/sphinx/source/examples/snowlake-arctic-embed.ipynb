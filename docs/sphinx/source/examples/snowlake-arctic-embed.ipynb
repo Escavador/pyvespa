{
 "cells": [
  {
   "cell_type": "code",
   "execution_count": 1,
   "metadata": {},
   "outputs": [],
   "source": [
    "from vespa.package import HNSW, ApplicationPackage, Component, Field, Parameter\n",
    "\n",
    "app_name = \"snowflake\"\n",
    "\n",
    "app_package = ApplicationPackage(\n",
    "    name=app_name,\n",
    "    components=[\n",
    "        Component(\n",
    "            id=\"snow\",\n",
    "            type=\"hugging-face-embedder\",\n",
    "            parameters=[\n",
    "                Parameter(\n",
    "                    \"transformer-model\",\n",
    "                    {\n",
    "                        \"url\": \"https://huggingface.co/Snowflake/snowflake-arctic-embed-l/resolve/main/onnx/model_int8.onnx\"\n",
    "                    },\n",
    "                ),\n",
    "                Parameter(\n",
    "                    \"tokenizer-model\",\n",
    "                    {\n",
    "                        \"url\": \"https://huggingface.co/Snowflake/snowflake-arctic-embed-l/raw/main/tokenizer.json\"\n",
    "                    },\n",
    "                ),\n",
    "                Parameter(\n",
    "                    \"normalize\",\n",
    "                    {},  # Define as a simple string, not a dictionary\n",
    "                    \"true\",  # Define as a simple string, not a dictionary\n",
    "                ),\n",
    "                Parameter(\n",
    "                    \"pooling-strategy\",\n",
    "                    {},\n",
    "                    \"cls\",  # Define as a simple string, not a dictionary\n",
    "                ),\n",
    "            ],\n",
    "        )\n",
    "    ],\n",
    ")"
   ]
  },
  {
   "cell_type": "code",
   "execution_count": 2,
   "metadata": {},
   "outputs": [],
   "source": [
    "app_package.schema.add_fields(\n",
    "    Field(name=\"id\", type=\"int\", indexing=[\"attribute\", \"summary\"]),\n",
    "    Field(\n",
    "        name=\"doc\", type=\"string\", indexing=[\"index\", \"summary\"], index=\"enable-bm25\"\n",
    "    ),\n",
    "    Field(\n",
    "        name=\"doc_embeddings\",\n",
    "        type=\"tensor<float>(x[384])\",\n",
    "        indexing=[\"input doc\", \"embed\", \"index\", \"attribute\"],\n",
    "        ann=HNSW(distance_metric=\"prenormalized-angular\"),\n",
    "        is_document_field=False,\n",
    "    ),\n",
    ")"
   ]
  },
  {
   "cell_type": "code",
   "execution_count": 3,
   "metadata": {},
   "outputs": [],
   "source": [
    "from vespa.package import (\n",
    "    DocumentSummary,\n",
    "    FieldSet,\n",
    "    FirstPhaseRanking,\n",
    "    RankProfile,\n",
    "    SecondPhaseRanking,\n",
    "    Summary,\n",
    ")\n",
    "\n",
    "app_package.schema.add_rank_profile(\n",
    "    RankProfile(\n",
    "        name=\"semantic\",\n",
    "        inputs=[(\"query(q)\", \"tensor<float>(x[384])\")],\n",
    "        inherits=\"default\",\n",
    "        first_phase=\"cos(distance(field,doc_embeddings))\",\n",
    "        match_features=[\"closeness(doc_embeddings)\"],\n",
    "    )\n",
    ")\n",
    "\n",
    "app_package.schema.add_rank_profile(RankProfile(name=\"bm25\", first_phase=\"bm25(doc)\"))"
   ]
  },
  {
   "cell_type": "code",
   "execution_count": 4,
   "metadata": {},
   "outputs": [],
   "source": [
    "app_package.schema.add_rank_profile(\n",
    "    RankProfile(\n",
    "        name=\"hybrid\",\n",
    "        inherits=\"semantic\",\n",
    "        functions=[],\n",
    "        first_phase=FirstPhaseRanking(expression=\"cos(distance(field,doc_embeddings))\"),\n",
    "        second_phase=SecondPhaseRanking(expression=\"firstPhase + log( bm25(doc))\"),\n",
    "        match_features=[\n",
    "            \"firstPhase\",\n",
    "            \"bm25(doc)\",\n",
    "        ],\n",
    "    )\n",
    ")"
   ]
  },
  {
   "cell_type": "code",
   "execution_count": 5,
   "metadata": {},
   "outputs": [],
   "source": [
    "app_package.schema.add_field_set(FieldSet(name=\"default\", fields=[\"doc\"]))"
   ]
  },
  {
   "cell_type": "code",
   "execution_count": 6,
   "metadata": {},
   "outputs": [],
   "source": [
    "app_package.schema.add_document_summary(\n",
    "    DocumentSummary(\n",
    "        name=\"minimal\",\n",
    "        summary_fields=[Summary(\"id\", \"int\"), Summary(\"doc\", \"string\")],\n",
    "    )\n",
    ")"
   ]
  },
  {
   "cell_type": "markdown",
   "metadata": {},
   "source": [
    "Create some sample documents that will help us see where the different ranking strategies have their strengths and weaknesses.\n",
    "\n",
    "> These documents were created by ChatGPT.\n",
    "\n",
    "Looking through the documents, we can see that a ranking of the documents in the order they are presented seem quite reasonable.\n"
   ]
  },
  {
   "cell_type": "code",
   "execution_count": 7,
   "metadata": {},
   "outputs": [],
   "source": [
    "# Query that the user is searching for\n",
    "query = \"How does Vespa handle real-time indexing and search?\"\n",
    "\n",
    "# List of documents simulating content in the search engine\n",
    "documents = [\n",
    "    \"Vespa excels in real-time data indexing and its ability to search large datasets quickly.\",  # Good BM25 and semantic match\n",
    "    \"Instant data availability and searchability are key features of the Vespa search engine.\",  # Good BM25 and semantic match\n",
    "    \"With our search solution, real-time updates are seamlessly integrated into the search index, enhancing responsiveness.\",  # Good BM25 and semantic match, no direct mention of \"Vespa\"\n",
    "    \"While not as robust as Vespa, our vector database strives to meet your search needs, despite certain, shall we say, 'flexible' features.\",  # Cheeky apologetic reference from a competitor\n",
    "    \"Search engines like ours utilize complex algorithms to handle immediate data querying and indexing.\",  # Semantic match, not direct keyword hit\n",
    "    \"Modern search platforms emphasize quick data retrieval from continuously updated indexes.\",  # Semantic match, not direct keyword hit\n",
    "    \"Discover the history and cultural impact of the classic Italian Vespa scooter brand.\",  # Keyword match (Vespa), no semantic relation to the search engine\n",
    "    \"Tips for maintaining your Vespa to ensure optimal performance and longevity of your scooter.\",  # Keyword match (Vespa), no semantic relation to the search engine\n",
    "    \"Review of different scooter brands including Vespa, highlighting how they handle features like speed, cost, and aesthetics, and how consumers search for the best options.\",  # Keyword match (Vespa), including 'handle' and 'search'\n",
    "    \"Vespa scooter safety regulations and best practices for urban commuting.\",  # Keyword match (Vespa), no semantic relation to the search engine\n",
    "]"
   ]
  },
  {
   "cell_type": "markdown",
   "metadata": {},
   "source": [
    "## Dumping the application package to files\n",
    "\n",
    "This is a good practice to inspect and understand the structure of the application package and schema files, generated by pyvespa.\n"
   ]
  },
  {
   "cell_type": "code",
   "execution_count": 8,
   "metadata": {},
   "outputs": [],
   "source": [
    "app_package.to_files(\"snowflake\")"
   ]
  },
  {
   "cell_type": "code",
   "execution_count": 9,
   "metadata": {},
   "outputs": [
    {
     "name": "stdout",
     "output_type": "stream",
     "text": [
      "Waiting for configuration server, 0/60 seconds...\n",
      "Waiting for configuration server, 5/60 seconds...\n",
      "Using plain http against endpoint http://localhost:8080/ApplicationStatus\n",
      "Waiting for application status, 0/300 seconds...\n",
      "Using plain http against endpoint http://localhost:8080/ApplicationStatus\n",
      "Waiting for application status, 5/300 seconds...\n",
      "Using plain http against endpoint http://localhost:8080/ApplicationStatus\n",
      "Waiting for application status, 10/300 seconds...\n",
      "Using plain http against endpoint http://localhost:8080/ApplicationStatus\n",
      "Waiting for application status, 15/300 seconds...\n",
      "Using plain http against endpoint http://localhost:8080/ApplicationStatus\n",
      "Waiting for application status, 20/300 seconds...\n",
      "Using plain http against endpoint http://localhost:8080/ApplicationStatus\n",
      "Waiting for application status, 25/300 seconds...\n",
      "Using plain http against endpoint http://localhost:8080/ApplicationStatus\n",
      "Waiting for application status, 30/300 seconds...\n",
      "Using plain http against endpoint http://localhost:8080/ApplicationStatus\n",
      "Waiting for application status, 35/300 seconds...\n",
      "Using plain http against endpoint http://localhost:8080/ApplicationStatus\n",
      "Application is up!\n",
      "Finished deployment.\n"
     ]
    }
   ],
   "source": [
    "from vespa.deployment import VespaDocker\n",
    "\n",
    "vespa_docker = VespaDocker()\n",
    "app = vespa_docker.deploy(app_package)"
   ]
  },
  {
   "cell_type": "code",
   "execution_count": 10,
   "metadata": {},
   "outputs": [],
   "source": [
    "feed_docs = [\n",
    "    {\n",
    "        \"id\": str(i),\n",
    "        \"fields\": {\n",
    "            \"doc\": doc,\n",
    "        },\n",
    "    }\n",
    "    for i, doc in enumerate(documents)\n",
    "]"
   ]
  },
  {
   "cell_type": "code",
   "execution_count": 11,
   "metadata": {},
   "outputs": [],
   "source": [
    "from vespa.io import VespaResponse\n",
    "\n",
    "\n",
    "def callback(response: VespaResponse, id: str):\n",
    "    if not response.is_successful():\n",
    "        print(\n",
    "            f\"Failed to feed document {id} with status code {response.status_code}: Reason {response.get_json()}\"\n",
    "        )"
   ]
  },
  {
   "cell_type": "code",
   "execution_count": 12,
   "metadata": {},
   "outputs": [],
   "source": [
    "app.feed_iterable(feed_docs, schema=app_package.schema.name, callback=callback)"
   ]
  },
  {
   "cell_type": "markdown",
   "metadata": {},
   "source": [
    "Let us use the [Vespa CLI](https://docs.vespa.ai/en/vespa-cli) `visit` command to retrieve all indexed documents.\n"
   ]
  },
  {
   "cell_type": "code",
   "execution_count": 13,
   "metadata": {},
   "outputs": [
    {
     "name": "stdout",
     "output_type": "stream",
     "text": [
      "{\"id\":\"id:snowflake:snowflake::2\",\"fields\":{\"doc\":\"With our search solution, real-time updates are seamlessly integrated into the search index, enhancing responsiveness.\"}}\n",
      "{\"id\":\"id:snowflake:snowflake::4\",\"fields\":{\"doc\":\"Search engines like ours utilize complex algorithms to handle immediate data querying and indexing.\"}}\n",
      "{\"id\":\"id:snowflake:snowflake::1\",\"fields\":{\"doc\":\"Instant data availability and searchability are key features of the Vespa search engine.\"}}\n",
      "{\"id\":\"id:snowflake:snowflake::5\",\"fields\":{\"doc\":\"Modern search platforms emphasize quick data retrieval from continuously updated indexes.\"}}\n",
      "{\"id\":\"id:snowflake:snowflake::3\",\"fields\":{\"doc\":\"While not as robust as Vespa, our vector database strives to meet your search needs, despite certain, shall we say, 'flexible' features.\"}}\n",
      "{\"id\":\"id:snowflake:snowflake::6\",\"fields\":{\"doc\":\"Discover the history and cultural impact of the classic Italian Vespa scooter brand.\"}}\n",
      "{\"id\":\"id:snowflake:snowflake::8\",\"fields\":{\"doc\":\"Review of different scooter brands including Vespa, highlighting how they handle features like speed, cost, and aesthetics, and how consumers search for the best options.\"}}\n",
      "{\"id\":\"id:snowflake:snowflake::9\",\"fields\":{\"doc\":\"Vespa scooter safety regulations and best practices for urban commuting.\"}}\n",
      "{\"id\":\"id:snowflake:snowflake::7\",\"fields\":{\"doc\":\"Tips for maintaining your Vespa to ensure optimal performance and longevity of your scooter.\"}}\n",
      "{\"id\":\"id:snowflake:snowflake::0\",\"fields\":{\"doc\":\"Vespa excels in real-time data indexing and its ability to search large datasets quickly.\"}}\n"
     ]
    }
   ],
   "source": [
    "!vespa visit"
   ]
  },
  {
   "cell_type": "markdown",
   "metadata": {},
   "source": [
    "## Simply retrieve all articles with undefined ranking\n",
    "\n",
    "Run a query selecting _all_ documents, returning two of them.\n",
    "The rank profile is the built-in `unranked` which means no ranking calculations are done,\n",
    "the results are returned in random order:\n"
   ]
  },
  {
   "cell_type": "code",
   "execution_count": 14,
   "metadata": {},
   "outputs": [
    {
     "name": "stdout",
     "output_type": "stream",
     "text": [
      "[\n",
      "    {\n",
      "        \"id\": \"id:snowflake:snowflake::5\",\n",
      "        \"relevance\": 0.0,\n",
      "        \"source\": \"snowflake_content\",\n",
      "        \"fields\": {\n",
      "            \"sddocname\": \"snowflake\",\n",
      "            \"documentid\": \"id:snowflake:snowflake::5\",\n",
      "            \"doc\": \"Modern search platforms emphasize quick data retrieval from continuously updated indexes.\"\n",
      "        }\n",
      "    },\n",
      "    {\n",
      "        \"id\": \"id:snowflake:snowflake::6\",\n",
      "        \"relevance\": 0.0,\n",
      "        \"source\": \"snowflake_content\",\n",
      "        \"fields\": {\n",
      "            \"sddocname\": \"snowflake\",\n",
      "            \"documentid\": \"id:snowflake:snowflake::6\",\n",
      "            \"doc\": \"Discover the history and cultural impact of the classic Italian Vespa scooter brand.\"\n",
      "        }\n",
      "    }\n",
      "]\n"
     ]
    }
   ],
   "source": [
    "import json\n",
    "\n",
    "from vespa.io import VespaQueryResponse\n",
    "\n",
    "result: VespaQueryResponse = app.query(\n",
    "    body={\n",
    "        \"yql\": f\"select * from {app_name} where true\",\n",
    "        \"ranking.profile\": \"unranked\",\n",
    "        \"hits\": 2,\n",
    "    }\n",
    ")\n",
    "print(json.dumps(result.hits, indent=4))"
   ]
  },
  {
   "cell_type": "markdown",
   "metadata": {},
   "source": [
    "## Traditional keyword search with BM25 ranking\n",
    "\n",
    "Run a text-search query and use the [bm25](https://docs.vespa.ai/en/reference/bm25.html)\n",
    "ranking profile configured at the start of this guide: `bm25(doc)`.\n"
   ]
  },
  {
   "cell_type": "code",
   "execution_count": 15,
   "metadata": {},
   "outputs": [
    {
     "name": "stdout",
     "output_type": "stream",
     "text": [
      "[\n",
      "    {\n",
      "        \"id\": \"id:snowflake:snowflake::0\",\n",
      "        \"relevance\": 5.046483529042933,\n",
      "        \"source\": \"snowflake_content\",\n",
      "        \"fields\": {\n",
      "            \"sddocname\": \"snowflake\",\n",
      "            \"documentid\": \"id:snowflake:snowflake::0\",\n",
      "            \"doc\": \"Vespa excels in real-time data indexing and its ability to search large datasets quickly.\"\n",
      "        }\n",
      "    },\n",
      "    {\n",
      "        \"id\": \"id:snowflake:snowflake::8\",\n",
      "        \"relevance\": 4.556653560447211,\n",
      "        \"source\": \"snowflake_content\",\n",
      "        \"fields\": {\n",
      "            \"sddocname\": \"snowflake\",\n",
      "            \"documentid\": \"id:snowflake:snowflake::8\",\n",
      "            \"doc\": \"Review of different scooter brands including Vespa, highlighting how they handle features like speed, cost, and aesthetics, and how consumers search for the best options.\"\n",
      "        }\n",
      "    }\n",
      "]\n"
     ]
    }
   ],
   "source": [
    "result = app.query(\n",
    "    body={\n",
    "        \"yql\": f\"select * from {app_name} where userQuery()\",\n",
    "        \"query\": query,\n",
    "        \"ranking.profile\": \"bm25\",\n",
    "        \"hits\": 2,\n",
    "    }\n",
    ")\n",
    "if len(result.hits) != 2:\n",
    "    raise ValueError(\"Expected 2 hits, got {}\".format(len(result.hits)))\n",
    "print(json.dumps(result.hits, indent=4))"
   ]
  },
  {
   "cell_type": "markdown",
   "metadata": {},
   "source": [
    "## Semantic vector search\n",
    "\n",
    "This query creates an embedding of the query and specifies the `semantic` ranking profile: `distance(field,doc_embeddings))`.\n",
    "This will hence compute the distance between the vector in the query\n",
    "and the vectors computed when indexing: `\"input doc\", \"embed\", \"index\", \"attribute\"`:\n"
   ]
  },
  {
   "cell_type": "code",
   "execution_count": 20,
   "metadata": {},
   "outputs": [
    {
     "name": "stdout",
     "output_type": "stream",
     "text": [
      "[\n",
      "    {\n",
      "        \"id\": \"id:snowflake:snowflake::0\",\n",
      "        \"relevance\": 0.9967486842371422,\n",
      "        \"source\": \"snowflake_content\",\n",
      "        \"fields\": {\n",
      "            \"matchfeatures\": {\n",
      "                \"closeness(doc_embeddings)\": 0.9253597767604486\n",
      "            },\n",
      "            \"sddocname\": \"snowflake\",\n",
      "            \"documentid\": \"id:snowflake:snowflake::0\",\n",
      "            \"doc\": \"Vespa excels in real-time data indexing and its ability to search large datasets quickly.\"\n",
      "        }\n",
      "    },\n",
      "    {\n",
      "        \"id\": \"id:snowflake:snowflake::1\",\n",
      "        \"relevance\": 0.9940061144443542,\n",
      "        \"source\": \"snowflake_content\",\n",
      "        \"fields\": {\n",
      "            \"matchfeatures\": {\n",
      "                \"closeness(doc_embeddings)\": 0.9012716055019997\n",
      "            },\n",
      "            \"sddocname\": \"snowflake\",\n",
      "            \"documentid\": \"id:snowflake:snowflake::1\",\n",
      "            \"doc\": \"Instant data availability and searchability are key features of the Vespa search engine.\"\n",
      "        }\n",
      "    },\n",
      "    {\n",
      "        \"id\": \"id:snowflake:snowflake::2\",\n",
      "        \"relevance\": 0.9891694071474731,\n",
      "        \"source\": \"snowflake_content\",\n",
      "        \"fields\": {\n",
      "            \"matchfeatures\": {\n",
      "                \"closeness(doc_embeddings)\": 0.8716035912494142\n",
      "            },\n",
      "            \"sddocname\": \"snowflake\",\n",
      "            \"documentid\": \"id:snowflake:snowflake::2\",\n",
      "            \"doc\": \"With our search solution, real-time updates are seamlessly integrated into the search index, enhancing responsiveness.\"\n",
      "        }\n",
      "    }\n",
      "]\n"
     ]
    }
   ],
   "source": [
    "result = app.query(\n",
    "    body={\n",
    "        \"yql\": f\"select * from {app_name} where {{targetHits:3}}nearestNeighbor(doc_embeddings,q)\",\n",
    "        \"input.query(q)\": f\"embed({query})\",\n",
    "        \"ranking.profile\": \"semantic\",\n",
    "        \"presentation.format.tensors\": \"short-value\",\n",
    "        \"hits\": 3,\n",
    "    }\n",
    ")\n",
    "print(json.dumps(result.hits, indent=4))"
   ]
  },
  {
   "cell_type": "markdown",
   "metadata": {},
   "source": [
    "## Hybrid search and ranking\n",
    "\n",
    "Hybrid combining keyword search on the article level with vector search in the paragraph index:\n"
   ]
  },
  {
   "cell_type": "code",
   "execution_count": 21,
   "metadata": {},
   "outputs": [
    {
     "name": "stdout",
     "output_type": "stream",
     "text": [
      "[\n",
      "    {\n",
      "        \"id\": \"id:snowflake:snowflake::0\",\n",
      "        \"relevance\": 2.615440354090871,\n",
      "        \"source\": \"snowflake_content\",\n",
      "        \"fields\": {\n",
      "            \"matchfeatures\": {\n",
      "                \"bm25(doc)\": 5.046483529042933,\n",
      "                \"firstPhase\": 0.9967486842371422\n",
      "            },\n",
      "            \"sddocname\": \"snowflake\",\n",
      "            \"documentid\": \"id:snowflake:snowflake::0\",\n",
      "            \"doc\": \"Vespa excels in real-time data indexing and its ability to search large datasets quickly.\"\n",
      "        }\n",
      "    },\n",
      "    {\n",
      "        \"id\": \"id:snowflake:snowflake::8\",\n",
      "        \"relevance\": 2.492869831890877,\n",
      "        \"source\": \"snowflake_content\",\n",
      "        \"fields\": {\n",
      "            \"matchfeatures\": {\n",
      "                \"bm25(doc)\": 4.556653560447211,\n",
      "                \"firstPhase\": 0.9762813461007371\n",
      "            },\n",
      "            \"sddocname\": \"snowflake\",\n",
      "            \"documentid\": \"id:snowflake:snowflake::8\",\n",
      "            \"doc\": \"Review of different scooter brands including Vespa, highlighting how they handle features like speed, cost, and aesthetics, and how consumers search for the best options.\"\n",
      "        }\n",
      "    },\n",
      "    {\n",
      "        \"id\": \"id:snowflake:snowflake::2\",\n",
      "        \"relevance\": 2.4491990316072663,\n",
      "        \"source\": \"snowflake_content\",\n",
      "        \"fields\": {\n",
      "            \"matchfeatures\": {\n",
      "                \"bm25(doc)\": 4.306087091959617,\n",
      "                \"firstPhase\": 0.9891694071474731\n",
      "            },\n",
      "            \"sddocname\": \"snowflake\",\n",
      "            \"documentid\": \"id:snowflake:snowflake::2\",\n",
      "            \"doc\": \"With our search solution, real-time updates are seamlessly integrated into the search index, enhancing responsiveness.\"\n",
      "        }\n",
      "    }\n",
      "]\n"
     ]
    }
   ],
   "source": [
    "result = app.query(\n",
    "    body={\n",
    "        \"yql\": f\"select * from {app_name} where userQuery() or ({{targetHits:3}}nearestNeighbor(doc_embeddings,q))\",\n",
    "        \"input.query(q)\": f\"embed({query})\",\n",
    "        \"query\": query,\n",
    "        \"ranking.profile\": \"hybrid\",\n",
    "        \"presentation.format.tensors\": \"short-value\",\n",
    "        \"hits\": 3,\n",
    "    }\n",
    ")\n",
    "print(json.dumps(result.hits, indent=4))"
   ]
  },
  {
   "cell_type": "markdown",
   "metadata": {},
   "source": [
    "## Hybrid search and filter\n",
    "\n",
    "YQL is a structured query langauge.\n",
    "In the query examples, the user input is fed as-is using the `userQuery()` operator.\n",
    "\n",
    "Filters are normally separate from the user input,\n",
    "below is an example of adding a filter `!(doc contains \"scooter\")` to the YQL string.\n",
    "\n",
    "Finally, the use the [Query API](https://docs.vespa.ai/en/query-api.html) for other options, like highlighting -\n",
    "here disable [bolding](https://docs.vespa.ai/en/reference/schema-reference.html#bolding):\n"
   ]
  },
  {
   "cell_type": "code",
   "execution_count": 22,
   "metadata": {},
   "outputs": [
    {
     "name": "stdout",
     "output_type": "stream",
     "text": [
      "[\n",
      "    {\n",
      "        \"id\": \"id:snowflake:snowflake::0\",\n",
      "        \"relevance\": 2.615440354090871,\n",
      "        \"source\": \"snowflake_content\",\n",
      "        \"fields\": {\n",
      "            \"matchfeatures\": {\n",
      "                \"bm25(doc)\": 5.046483529042933,\n",
      "                \"firstPhase\": 0.9967486842371422\n",
      "            },\n",
      "            \"sddocname\": \"snowflake\",\n",
      "            \"documentid\": \"id:snowflake:snowflake::0\",\n",
      "            \"doc\": \"Vespa excels in real-time data indexing and its ability to search large datasets quickly.\"\n",
      "        }\n",
      "    },\n",
      "    {\n",
      "        \"id\": \"id:snowflake:snowflake::2\",\n",
      "        \"relevance\": 2.4491990316072663,\n",
      "        \"source\": \"snowflake_content\",\n",
      "        \"fields\": {\n",
      "            \"matchfeatures\": {\n",
      "                \"bm25(doc)\": 4.306087091959617,\n",
      "                \"firstPhase\": 0.9891694071474731\n",
      "            },\n",
      "            \"sddocname\": \"snowflake\",\n",
      "            \"documentid\": \"id:snowflake:snowflake::2\",\n",
      "            \"doc\": \"With our search solution, real-time updates are seamlessly integrated into the search index, enhancing responsiveness.\"\n",
      "        }\n",
      "    },\n",
      "    {\n",
      "        \"id\": \"id:snowflake:snowflake::4\",\n",
      "        \"relevance\": 2.1678247141027582,\n",
      "        \"source\": \"snowflake_content\",\n",
      "        \"fields\": {\n",
      "            \"matchfeatures\": {\n",
      "                \"bm25(doc)\": 3.2545323784639564,\n",
      "                \"firstPhase\": 0.98777611129295\n",
      "            },\n",
      "            \"sddocname\": \"snowflake\",\n",
      "            \"documentid\": \"id:snowflake:snowflake::4\",\n",
      "            \"doc\": \"Search engines like ours utilize complex algorithms to handle immediate data querying and indexing.\"\n",
      "        }\n",
      "    }\n",
      "]\n"
     ]
    }
   ],
   "source": [
    "result = app.query(\n",
    "    body={\n",
    "        \"yql\": f'select * from {app_name} where !(doc contains \"scooter\") and userQuery() or ({{targetHits:5}}nearestNeighbor(doc_embeddings,q))',\n",
    "        \"input.query(q)\": f\"embed({query})\",\n",
    "        \"query\": query,\n",
    "        \"ranking.profile\": \"hybrid\",\n",
    "        \"bolding\": False,\n",
    "        \"presentation.format.tensors\": \"short-value\",\n",
    "        \"hits\": 3,\n",
    "    }\n",
    ")\n",
    "print(json.dumps(result.hits, indent=4))"
   ]
  },
  {
   "cell_type": "markdown",
   "metadata": {},
   "source": [
    "In short, the above query demonstrates how easy it is to combine various ranking strategies,\n",
    "and also combine with filters.\n",
    "\n",
    "To learn more about pre-filtering vs post-filtering,\n",
    "read [Filtering strategies and serving performance](https://blog.vespa.ai/constrained-approximate-nearest-neighbor-search/).\n",
    "[Semantic search with multi-vector indexing](https://blog.vespa.ai/semantic-search-with-multi-vector-indexing/)\n",
    "is a great read overall for this domain.\n"
   ]
  },
  {
   "cell_type": "markdown",
   "metadata": {},
   "source": [
    "## Cleanup\n"
   ]
  },
  {
   "cell_type": "code",
   "execution_count": 19,
   "metadata": {},
   "outputs": [],
   "source": [
    "# vespa_docker.container.stop()\n",
    "# vespa_docker.container.remove()"
   ]
  }
 ],
 "metadata": {
  "kernelspec": {
   "display_name": "pyvespa",
   "language": "python",
   "name": "python3"
  },
  "language_info": {
   "codemirror_mode": {
    "name": "ipython",
    "version": 3
   },
   "file_extension": ".py",
   "mimetype": "text/x-python",
   "name": "python",
   "nbconvert_exporter": "python",
   "pygments_lexer": "ipython3",
   "version": "3.9.6"
  }
 },
 "nbformat": 4,
 "nbformat_minor": 2
}
