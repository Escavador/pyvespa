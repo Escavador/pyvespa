{
 "cells": [
  {
   "cell_type": "markdown",
   "id": "13f8f209",
   "metadata": {},
   "source": [
    "![Vespa logo](https://vespa.ai/assets/vespa-logo-color.png)\n",
    "\n",
    "# Pyvespa examples\n",
    "\n",
    "This is a notebook with short examples one can build applications from.\n",
    "\n",
    "Refer to [troubleshooting](https://pyvespa.readthedocs.io/en/latest/troubleshooting.html), which also has utilies for debugging."
   ]
  },
  {
   "cell_type": "code",
   "execution_count": null,
   "id": "8fb6db5b",
   "metadata": {},
   "outputs": [],
   "source": [
    "!pip3 install pyvespa"
   ]
  },
  {
   "cell_type": "markdown",
   "id": "c77bfca9",
   "metadata": {},
   "source": [
    "## Neighbors\n",
    "\n",
    "Explore distance between points in 3D vector space.\n",
    "\n",
    "This is a simple example feeding documents with a tensor representing a point in space,\n",
    "and a rank profile calculating the distance between a point in the query and the point in the documents.\n",
    "\n",
    "### Distant neighbor\n",
    "\n",
    "First, _find the point that is  **most**  distant from a point in query,\n",
    "using  [euclidean-distance](https://docs.vespa.ai/en/reference/ranking-expressions.html#euclidean-distance-t)._\n",
    "\n",
    "Deploy the Application Package:"
   ]
  },
  {
   "cell_type": "code",
   "execution_count": 8,
   "id": "f278e1c7",
   "metadata": {},
   "outputs": [
    {
     "name": "stdout",
     "output_type": "stream",
     "text": [
      "Waiting for configuration server, 0/300 seconds...\n",
      "Waiting for configuration server, 5/300 seconds...\n",
      "Waiting for application status, 0/300 seconds...\n",
      "Waiting for application status, 5/300 seconds...\n",
      "Waiting for application status, 10/300 seconds...\n",
      "Waiting for application status, 15/300 seconds...\n",
      "Waiting for application status, 20/300 seconds...\n",
      "Waiting for application status, 25/300 seconds...\n",
      "Finished deployment.\n"
     ]
    }
   ],
   "source": [
    "from vespa.package import ApplicationPackage, Field, RankProfile\n",
    "from vespa.deployment import VespaDocker\n",
    "\n",
    "app_package = ApplicationPackage(name=\"neighbors\")\n",
    "\n",
    "app_package.schema.add_fields(\n",
    "    Field(name = \"point\", type = \"tensor<float>(d[3])\", indexing = [\"attribute\", \"summary\"])\n",
    ")\n",
    "\n",
    "app_package.schema.add_rank_profile(\n",
    "    RankProfile(\n",
    "        name = \"max_distance\",\n",
    "        inputs = [(\"query(qpoint)\", \"tensor<float>(d[3])\")],\n",
    "        first_phase = \"euclidean_distance(attribute(point), query(qpoint), d)\"\n",
    "    )\n",
    ")\n",
    "\n",
    "vespa_docker = VespaDocker()\n",
    "app = vespa_docker.deploy(application_package=app_package)"
   ]
  },
  {
   "cell_type": "markdown",
   "id": "581b3027",
   "metadata": {},
   "source": [
    "Feed points in 3d space using a 3-dimensional [indexed tensor](https://docs.vespa.ai/en/tensor-user-guide.html).\n",
    "Pyvespa feeds using the [/document/v1/ API](https://docs.vespa.ai/en/reference/document-v1-api-reference.html), refer to [document format](https://docs.vespa.ai/en/reference/document-json-format.html):"
   ]
  },
  {
   "cell_type": "code",
   "execution_count": 16,
   "id": "c9ace4be",
   "metadata": {},
   "outputs": [
    {
     "name": "stdout",
     "output_type": "stream",
     "text": [
      "Successful documents fed: 3/3.\n",
      "Batch progress: 1/1.\n"
     ]
    }
   ],
   "source": [
    "feed = [\n",
    "        {\n",
    "            'id': 0,\n",
    "            'fields': {\n",
    "                'point': [0.0, 1.0, 2.0]\n",
    "            }\n",
    "        },\n",
    "        {\n",
    "            'id': 1,\n",
    "            'fields': {\n",
    "                'point': [1.0, 2.0, 3.0]\n",
    "            }\n",
    "        },\n",
    "        {\n",
    "            'id': 2,\n",
    "            'fields': {\n",
    "                'point': [2.0, 3.0, 4.0]\n",
    "            }\n",
    "        }\n",
    "]\n",
    "\n",
    "response = app.feed_batch(schema=\"neighbors\", batch=feed, asynchronous=False)"
   ]
  },
  {
   "cell_type": "markdown",
   "id": "df09587d",
   "metadata": {},
   "source": [
    "Query from origo using [YQL](https://docs.vespa.ai/en/query-language.html).\n",
    "The rank profile will rank the most distant points highest, here `sqrt(2*2 + 3*3 + 4*4) = 5.385`:"
   ]
  },
  {
   "cell_type": "code",
   "execution_count": 17,
   "id": "ad26d1b3",
   "metadata": {},
   "outputs": [
    {
     "name": "stdout",
     "output_type": "stream",
     "text": [
      "[\n",
      "    {\n",
      "        \"id\": \"index:neighbors_content/0/c81e728dfde15fa4e8dfb3d3\",\n",
      "        \"relevance\": 5.385164807134504,\n",
      "        \"source\": \"neighbors_content\",\n",
      "        \"fields\": {\n",
      "            \"point\": {\n",
      "                \"type\": \"tensor<float>(d[3])\",\n",
      "                \"values\": [\n",
      "                    2.0,\n",
      "                    3.0,\n",
      "                    4.0\n",
      "                ]\n",
      "            }\n",
      "        }\n",
      "    },\n",
      "    {\n",
      "        \"id\": \"index:neighbors_content/0/c4ca4238db266f395150e961\",\n",
      "        \"relevance\": 3.7416573867739413,\n",
      "        \"source\": \"neighbors_content\",\n",
      "        \"fields\": {\n",
      "            \"point\": {\n",
      "                \"type\": \"tensor<float>(d[3])\",\n",
      "                \"values\": [\n",
      "                    1.0,\n",
      "                    2.0,\n",
      "                    3.0\n",
      "                ]\n",
      "            }\n",
      "        }\n",
      "    },\n",
      "    {\n",
      "        \"id\": \"index:neighbors_content/0/cfcd20845b10b1420c6cdeca\",\n",
      "        \"relevance\": 2.23606797749979,\n",
      "        \"source\": \"neighbors_content\",\n",
      "        \"fields\": {\n",
      "            \"point\": {\n",
      "                \"type\": \"tensor<float>(d[3])\",\n",
      "                \"values\": [\n",
      "                    0.0,\n",
      "                    1.0,\n",
      "                    2.0\n",
      "                ]\n",
      "            }\n",
      "        }\n",
      "    }\n",
      "]\n"
     ]
    }
   ],
   "source": [
    "import json\n",
    "result = app.query(body={\n",
    "  'yql': 'select point from neighbors where true',\n",
    "  'input.query(qpoint)': '[0.0, 0.0, 0.0]',\n",
    "  'ranking.profile': 'max_distance'\n",
    "})\n",
    "print(json.dumps(result.hits, indent=4))"
   ]
  },
  {
   "cell_type": "markdown",
   "id": "fc9ea0c4",
   "metadata": {},
   "source": [
    "Query from `[1.0, 2.0, 2.9]` - find that `[2.0, 3.0, 4.0]` is most distant:"
   ]
  },
  {
   "cell_type": "code",
   "execution_count": 18,
   "id": "a6d690fb",
   "metadata": {},
   "outputs": [
    {
     "name": "stdout",
     "output_type": "stream",
     "text": [
      "[\n",
      "    {\n",
      "        \"id\": \"index:neighbors_content/0/c81e728dfde15fa4e8dfb3d3\",\n",
      "        \"relevance\": 1.7916472308265357,\n",
      "        \"source\": \"neighbors_content\",\n",
      "        \"fields\": {\n",
      "            \"point\": {\n",
      "                \"type\": \"tensor<float>(d[3])\",\n",
      "                \"values\": [\n",
      "                    2.0,\n",
      "                    3.0,\n",
      "                    4.0\n",
      "                ]\n",
      "            }\n",
      "        }\n",
      "    },\n",
      "    {\n",
      "        \"id\": \"index:neighbors_content/0/cfcd20845b10b1420c6cdeca\",\n",
      "        \"relevance\": 1.6763055154708881,\n",
      "        \"source\": \"neighbors_content\",\n",
      "        \"fields\": {\n",
      "            \"point\": {\n",
      "                \"type\": \"tensor<float>(d[3])\",\n",
      "                \"values\": [\n",
      "                    0.0,\n",
      "                    1.0,\n",
      "                    2.0\n",
      "                ]\n",
      "            }\n",
      "        }\n",
      "    },\n",
      "    {\n",
      "        \"id\": \"index:neighbors_content/0/c4ca4238db266f395150e961\",\n",
      "        \"relevance\": 0.09999990575011103,\n",
      "        \"source\": \"neighbors_content\",\n",
      "        \"fields\": {\n",
      "            \"point\": {\n",
      "                \"type\": \"tensor<float>(d[3])\",\n",
      "                \"values\": [\n",
      "                    1.0,\n",
      "                    2.0,\n",
      "                    3.0\n",
      "                ]\n",
      "            }\n",
      "        }\n",
      "    }\n",
      "]\n"
     ]
    }
   ],
   "source": [
    "result = app.query(body={\n",
    "  'yql': 'select point from neighbors where true',\n",
    "  'input.query(qpoint)': '[1.0, 2.0, 2.9]',\n",
    "  'ranking.profile': 'max_distance'\n",
    "})\n",
    "print(json.dumps(result.hits, indent=4))"
   ]
  },
  {
   "cell_type": "markdown",
   "id": "521acdbd",
   "metadata": {},
   "source": [
    "### Nearest neighbor\n",
    "\n",
    "The [nearestNeighbor](https://docs.vespa.ai/en/reference/query-language-reference.html#nearestneighbor) query operator\n",
    "calculates distances between points in vector space,\n",
    "and the [closeness()](https://docs.vespa.ai/en/reference/rank-features.html#closeness(dimension,name)) rank feature can be used to rank results:"
   ]
  },
  {
   "cell_type": "code",
   "execution_count": 19,
   "id": "d6092057",
   "metadata": {},
   "outputs": [
    {
     "name": "stdout",
     "output_type": "stream",
     "text": [
      "Waiting for configuration server, 0/300 seconds...\n",
      "Waiting for configuration server, 5/300 seconds...\n",
      "Waiting for application status, 0/300 seconds...\n",
      "Waiting for application status, 5/300 seconds...\n",
      "Finished deployment.\n"
     ]
    }
   ],
   "source": [
    "app_package.schema.add_rank_profile(\n",
    "    RankProfile(\n",
    "        name = \"nearest_neighbor\",\n",
    "        inputs = [(\"query(qpoint)\", \"tensor<float>(d[3])\")],\n",
    "        first_phase = \"closeness(field, point)\"\n",
    "    )\n",
    ")\n",
    "\n",
    "app = vespa_docker.deploy(application_package=app_package)"
   ]
  },
  {
   "cell_type": "markdown",
   "id": "87b4dbf8",
   "metadata": {},
   "source": [
    "Read more in [nearest neighbor search](https://docs.vespa.ai/en/nearest-neighbor-search.html).\n",
    "\n",
    "Query using nearestNeighbor query operator:"
   ]
  },
  {
   "cell_type": "code",
   "execution_count": 20,
   "id": "df9db164",
   "metadata": {},
   "outputs": [
    {
     "name": "stdout",
     "output_type": "stream",
     "text": [
      "[\n",
      "    {\n",
      "        \"id\": \"index:neighbors_content/0/c4ca4238db266f395150e961\",\n",
      "        \"relevance\": 0.9090909879069752,\n",
      "        \"source\": \"neighbors_content\",\n",
      "        \"fields\": {\n",
      "            \"point\": {\n",
      "                \"type\": \"tensor<float>(d[3])\",\n",
      "                \"values\": [\n",
      "                    1.0,\n",
      "                    2.0,\n",
      "                    3.0\n",
      "                ]\n",
      "            }\n",
      "        }\n",
      "    },\n",
      "    {\n",
      "        \"id\": \"index:neighbors_content/0/cfcd20845b10b1420c6cdeca\",\n",
      "        \"relevance\": 0.37364941905256455,\n",
      "        \"source\": \"neighbors_content\",\n",
      "        \"fields\": {\n",
      "            \"point\": {\n",
      "                \"type\": \"tensor<float>(d[3])\",\n",
      "                \"values\": [\n",
      "                    0.0,\n",
      "                    1.0,\n",
      "                    2.0\n",
      "                ]\n",
      "            }\n",
      "        }\n",
      "    },\n",
      "    {\n",
      "        \"id\": \"index:neighbors_content/0/c81e728dfde15fa4e8dfb3d3\",\n",
      "        \"relevance\": 0.35821144946644456,\n",
      "        \"source\": \"neighbors_content\",\n",
      "        \"fields\": {\n",
      "            \"point\": {\n",
      "                \"type\": \"tensor<float>(d[3])\",\n",
      "                \"values\": [\n",
      "                    2.0,\n",
      "                    3.0,\n",
      "                    4.0\n",
      "                ]\n",
      "            }\n",
      "        }\n",
      "    }\n",
      "]\n"
     ]
    }
   ],
   "source": [
    "result = app.query(body={\n",
    "  'yql': 'select point from neighbors where {targetHits: 3}nearestNeighbor(point, qpoint)',\n",
    "  'input.query(qpoint)': '[1.0, 2.0, 2.9]',\n",
    "  'ranking.profile': 'nearest_neighbor'\n",
    "})\n",
    "print(json.dumps(result.hits, indent=4))"
   ]
  },
  {
   "cell_type": "markdown",
   "id": "8af14aab",
   "metadata": {},
   "source": [
    "## Cleanup"
   ]
  },
  {
   "cell_type": "code",
   "execution_count": 21,
   "id": "b6c31eef",
   "metadata": {},
   "outputs": [],
   "source": [
    "vespa_docker.container.stop()\n",
    "vespa_docker.container.remove()"
   ]
  }
 ],
 "metadata": {
  "kernelspec": {
   "display_name": "Python 3 (ipykernel)",
   "language": "python",
   "name": "python3"
  },
  "language_info": {
   "codemirror_mode": {
    "name": "ipython",
    "version": 3
   },
   "file_extension": ".py",
   "mimetype": "text/x-python",
   "name": "python",
   "nbconvert_exporter": "python",
   "pygments_lexer": "ipython3",
   "version": "3.11.4"
  }
 },
 "nbformat": 4,
 "nbformat_minor": 5
}
