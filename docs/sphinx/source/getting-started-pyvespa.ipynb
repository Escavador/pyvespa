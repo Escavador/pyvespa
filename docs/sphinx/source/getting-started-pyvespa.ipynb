{
 "cells": [
  {
   "cell_type": "markdown",
   "metadata": {},
   "source": [
    "# Getting started with pyvespa\n",
    "\n",
    "![Vespa logo](https://vespa.ai/assets/vespa-logo-color.png)\n",
    "\n",
    "This notebook starts Vespa, configures the application and tests the document and query APIs.\n",
    "Install [jupyter notebook](https://jupyter.org/install#jupyter-notebook)\n",
    "and start the notebook by selecting `getting-started-pyvespa.ipynb`:\n",
    "\n",
    "    $ git clone --depth 1 https://github.com/vespa-engine/pyvespa.git\n",
    "$ jupyter notebook --notebook-dir pyvespa/docs/sphinx/source\n",
    "\n",
    "Docker is used to run Vespa, alternatively, use [Vespa Cloud](https://pyvespa.readthedocs.io/en/latest/deploy-vespa-cloud.html).\n",
    "Start Docker and validate minimum 4G available:"
   ]
  },
  {
   "cell_type": "code",
   "execution_count": null,
   "metadata": {},
   "outputs": [],
   "source": [
    "!docker info | grep \"Total Memory\""
   ]
  },
  {
   "cell_type": "markdown",
   "metadata": {},
   "source": [
    "## Install pyvespa"
   ]
  },
  {
   "cell_type": "code",
   "execution_count": null,
   "metadata": {},
   "outputs": [],
   "source": [
    "!pip install pyvespa"
   ]
  },
  {
   "cell_type": "markdown",
   "metadata": {},
   "source": [
    "## Create the application package"
   ]
  },
  {
   "cell_type": "markdown",
   "metadata": {},
   "source": [
    "Create an [application package](https://pyvespa.readthedocs.io/en/latest/create-text-app.html):"
   ]
  },
  {
   "cell_type": "code",
   "execution_count": null,
   "metadata": {},
   "outputs": [],
   "source": [
    "from typing import List\n",
    "\n",
    "from vespa.package import (\n",
    "    Document,\n",
    "    Field,\n",
    "    Schema,\n",
    "    FieldSet,\n",
    "    RankProfile,\n",
    "    HNSW,\n",
    "    ApplicationPackage,\n",
    "    QueryProfile,\n",
    "    QueryProfileType,\n",
    "    QueryTypeField,\n",
    ")\n",
    "\n",
    "from vespa.query import QueryModel, AND, RankProfile as Ranking\n",
    "\n",
    "class QuestionAnswering(ApplicationPackage):\n",
    "    def __init__(self, name: str = \"qa\"):\n",
    "        context_document = Document(\n",
    "            fields=[\n",
    "                Field(\n",
    "                    name=\"questions\",\n",
    "                    type=\"array<int>\",\n",
    "                    indexing=[\"summary\", \"attribute\"],\n",
    "                ),\n",
    "                Field(name=\"dataset\", type=\"string\", indexing=[\"summary\", \"attribute\"]),\n",
    "                Field(name=\"context_id\", type=\"int\", indexing=[\"summary\", \"attribute\"]),\n",
    "                Field(\n",
    "                    name=\"text\",\n",
    "                    type=\"string\",\n",
    "                    indexing=[\"summary\", \"index\"],\n",
    "                    index=\"enable-bm25\",\n",
    "                ),\n",
    "            ]\n",
    "        )\n",
    "        context_schema = Schema(\n",
    "            name=\"context\",\n",
    "            document=context_document,\n",
    "            fieldsets=[FieldSet(name=\"default\", fields=[\"text\"])],\n",
    "            rank_profiles=[\n",
    "                RankProfile(name=\"bm25\", inherits=\"default\", first_phase=\"bm25(text)\"),\n",
    "                RankProfile(\n",
    "                    name=\"nativeRank\",\n",
    "                    inherits=\"default\",\n",
    "                    first_phase=\"nativeRank(text)\",\n",
    "                ),\n",
    "            ],\n",
    "        )\n",
    "        sentence_document = Document(\n",
    "            inherits=\"context\",\n",
    "            fields=[\n",
    "                Field(\n",
    "                    name=\"sentence_embedding\",\n",
    "                    type=\"tensor<float>(x[512])\",\n",
    "                    indexing=[\"attribute\", \"index\"],\n",
    "                    ann=HNSW(\n",
    "                        distance_metric=\"euclidean\",\n",
    "                        max_links_per_node=16,\n",
    "                        neighbors_to_explore_at_insert=500,\n",
    "                    ),\n",
    "                )\n",
    "            ],\n",
    "        )\n",
    "        sentence_schema = Schema(\n",
    "            name=\"sentence\",\n",
    "            document=sentence_document,\n",
    "            fieldsets=[FieldSet(name=\"default\", fields=[\"text\"])],\n",
    "            rank_profiles=[\n",
    "                RankProfile(\n",
    "                    name=\"semantic-similarity\",\n",
    "                    inherits=\"default\",\n",
    "                    first_phase=\"closeness(sentence_embedding)\",\n",
    "                ),\n",
    "                RankProfile(name=\"bm25\", inherits=\"default\", first_phase=\"bm25(text)\"),\n",
    "                RankProfile(\n",
    "                    name=\"bm25-semantic-similarity\",\n",
    "                    inherits=\"default\",\n",
    "                    first_phase=\"bm25(text) + closeness(sentence_embedding)\",\n",
    "                ),\n",
    "            ],\n",
    "        )\n",
    "        super().__init__(\n",
    "            name=name,\n",
    "            schema=[context_schema, sentence_schema],\n",
    "            query_profile=QueryProfile(),\n",
    "            query_profile_type=QueryProfileType(\n",
    "                fields=[\n",
    "                    QueryTypeField(\n",
    "                        name=\"ranking.features.query(query_embedding)\",\n",
    "                        type=\"tensor<float>(x[512])\",\n",
    "                    )\n",
    "                ]\n",
    "            ),\n",
    "        )\n",
    "\n",
    "app_package = QuestionAnswering()"
   ]
  },
  {
   "cell_type": "markdown",
   "metadata": {},
   "source": [
    "## Deploy the application"
   ]
  },
  {
   "cell_type": "markdown",
   "metadata": {},
   "source": [
    "Deploy the `app_package`, wait for _Finished deployment_:"
   ]
  },
  {
   "cell_type": "code",
   "execution_count": null,
   "metadata": {},
   "outputs": [],
   "source": [
    "import os\n",
    "from vespa.deployment import VespaDocker\n",
    "\n",
    "vespa_docker = VespaDocker(port=8081)\n",
    "app = vespa_docker.deploy(application_package=app_package)"
   ]
  },
  {
   "cell_type": "markdown",
   "metadata": {},
   "source": [
    "## Download, prepare and feed sample data"
   ]
  },
  {
   "cell_type": "code",
   "execution_count": null,
   "metadata": {},
   "outputs": [],
   "source": [
    "import json, requests\n",
    "\n",
    "sentence_data = json.loads(\n",
    "    requests.get(\"https://data.vespa.oath.cloud/blog/qa/sample_sentence_data_100.json\").text\n",
    ")\n",
    "list(sentence_data[0].keys())"
   ]
  },
  {
   "cell_type": "markdown",
   "metadata": {},
   "source": [
    "Prepare the data as a list of dicts having the `id` key holding a unique id of the data point and the `fields` key holding a dict with the data fields required by the application:"
   ]
  },
  {
   "cell_type": "code",
   "execution_count": null,
   "metadata": {},
   "outputs": [],
   "source": [
    "batch_feed = [\n",
    "    {\n",
    "        \"id\": idx, \n",
    "        \"fields\": sentence\n",
    "    }\n",
    "    for idx, sentence in enumerate(sentence_data)\n",
    "]"
   ]
  },
  {
   "cell_type": "markdown",
   "metadata": {},
   "source": [
    "Feed the batch using the `sentence` schema:"
   ]
  },
  {
   "cell_type": "code",
   "execution_count": null,
   "metadata": {},
   "outputs": [],
   "source": [
    "response = app.feed_batch(schema=\"sentence\", batch=batch_feed)"
   ]
  },
  {
   "cell_type": "markdown",
   "metadata": {},
   "source": [
    "## Run a query"
   ]
  },
  {
   "cell_type": "markdown",
   "metadata": {},
   "source": [
    "Query the application using the [Vespa Query Language](https://docs.vespa.ai/en/query-language.html):"
   ]
  },
  {
   "cell_type": "code",
   "execution_count": null,
   "metadata": {},
   "outputs": [],
   "source": [
    "result = app.query(body={\n",
    "  'yql': 'select text from sources sentence  where userQuery();',\n",
    "  'query': 'What is in front of the Notre Dame Main Building?',\n",
    "  'type': 'any',\n",
    "  'hits': 5,\n",
    "  'ranking.profile': 'bm25'\n",
    "})"
   ]
  },
  {
   "cell_type": "code",
   "execution_count": null,
   "metadata": {},
   "outputs": [],
   "source": [
    "result.hits[0]"
   ]
  },
  {
   "cell_type": "markdown",
   "metadata": {},
   "source": [
    "## Get documents"
   ]
  },
  {
   "cell_type": "markdown",
   "metadata": {},
   "source": [
    "Get the sentences with ids = 0, 1 and 2. Inspect the response in `json`:"
   ]
  },
  {
   "cell_type": "code",
   "execution_count": null,
   "metadata": {},
   "outputs": [],
   "source": [
    "batch = [{\"id\": 0}, {\"id\": 1}, {\"id\": 2}]\n",
    "response = app.get_batch(schema=\"sentence\", batch=batch)"
   ]
  },
  {
   "cell_type": "code",
   "execution_count": null,
   "metadata": {},
   "outputs": [],
   "source": [
    "response"
   ]
  },
  {
   "cell_type": "code",
   "execution_count": null,
   "metadata": {},
   "outputs": [],
   "source": [
    "response[0].json"
   ]
  },
  {
   "cell_type": "markdown",
   "metadata": {},
   "source": [
    "## Update a document"
   ]
  },
  {
   "cell_type": "markdown",
   "metadata": {},
   "source": [
    "Update a data point by `id`. Optionally, `create` the data point if it does not exist:"
   ]
  },
  {
   "cell_type": "code",
   "execution_count": null,
   "metadata": {},
   "outputs": [],
   "source": [
    "batch_update = [\n",
    "    {\n",
    "        \"id\": 0,                               # data_id\n",
    "        \"fields\": {\"text\": \"this is a test\"},  # fields to be updated\n",
    "        \"create\": False                        # Optional. Create data point if not exist, default to False.\n",
    "        \n",
    "    }\n",
    "]"
   ]
  },
  {
   "cell_type": "code",
   "execution_count": null,
   "metadata": {},
   "outputs": [],
   "source": [
    "response = app.update_batch(schema=\"sentence\", batch=batch_update)"
   ]
  },
  {
   "cell_type": "markdown",
   "metadata": {},
   "source": [
    "## Delete documents"
   ]
  },
  {
   "cell_type": "markdown",
   "metadata": {},
   "source": [
    "Delete the sentences with ids = 0, 1 and 2:"
   ]
  },
  {
   "cell_type": "code",
   "execution_count": null,
   "metadata": {},
   "outputs": [],
   "source": [
    "batch = [{\"id\": 0}, {\"id\": 1}, {\"id\": 2}]\n",
    "response = app.delete_batch(schema=\"sentence\", batch=batch)"
   ]
  },
  {
   "cell_type": "markdown",
   "metadata": {},
   "source": [
    "## Cleanup"
   ]
  },
  {
   "cell_type": "code",
   "execution_count": null,
   "metadata": {},
   "outputs": [],
   "source": [
    "from shutil import rmtree\n",
    "\n",
    "rmtree(os.path.join(os.getcwd(), app_package.name), ignore_errors=True)\n",
    "vespa_docker.container.stop()\n",
    "vespa_docker.container.remove()"
   ]
  }
 ],
 "metadata": {
  "kernelspec": {
   "display_name": "Python 3 (ipykernel)",
   "language": "python",
   "name": "python3"
  },
  "language_info": {
   "codemirror_mode": {
    "name": "ipython",
    "version": 3
   },
   "file_extension": ".py",
   "mimetype": "text/x-python",
   "name": "python",
   "nbconvert_exporter": "python",
   "pygments_lexer": "ipython3",
   "version": "3.9.9"
  }
 },
 "nbformat": 4,
 "nbformat_minor": 2
}
