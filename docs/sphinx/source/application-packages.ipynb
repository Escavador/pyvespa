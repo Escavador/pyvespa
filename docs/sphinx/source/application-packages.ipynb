{
 "cells": [
  {
   "cell_type": "markdown",
   "id": "e05d0811",
   "metadata": {},
   "source": [
    "![Vespa logo](https://vespa.ai/assets/vespa-logo-color.png)\n",
    "\n",
    "# Application packages\n",
    "\n",
    "Vespa is configured using an [application package](https://docs.vespa.ai/en/application-packages.html).\n",
    "Pyvespa provides an API to generate a deployable application package.\n",
    "\n",
    "**Note:** Pyvespa does not support all Vespa features.\n",
    "See the end of this notebook for how to export files to modify the schema and deploy.\n",
    "\n",
    "[![Open In Colab](https://colab.research.google.com/assets/colab-badge.svg)](https://colab.research.google.com/github/vespa-engine/pyvespa/blob/master/docs/sphinx/source/application-packages.ipynb)\n",
    "\n",
    "An application package has at a minimum a [schema](https://docs.vespa.ai/en/schemas.html)\n",
    "and [services.xml](https://docs.vespa.ai/en/reference/services.html).\n",
    "Example - create an empty application package:"
   ]
  },
  {
   "cell_type": "code",
   "execution_count": null,
   "id": "7e3477a6",
   "metadata": {},
   "outputs": [],
   "source": [
    "from vespa.package import ApplicationPackage\n",
    "\n",
    "app_package = ApplicationPackage(name=\"myschema\", create_query_profile_by_default=False)"
   ]
  },
  {
   "cell_type": "markdown",
   "id": "ddd40e65",
   "metadata": {},
   "source": [
    "In this notebook, the application package is exported to disk for inspection - example:"
   ]
  },
  {
   "cell_type": "code",
   "execution_count": null,
   "id": "956abe16",
   "metadata": {},
   "outputs": [],
   "source": [
    "import os, tempfile\n",
    "from pathlib import Path\n",
    "\n",
    "temp_dir = tempfile.TemporaryDirectory()\n",
    "os.environ[\"TMP_APP_DIR\"] = temp_dir.name\n",
    "app_package.to_files(temp_dir.name)\n",
    "\n",
    "for p in Path(temp_dir.name).rglob('*'):\n",
    "    if p.is_file():\n",
    "        print(p)"
   ]
  },
  {
   "cell_type": "markdown",
   "id": "ecc580fb",
   "metadata": {},
   "source": [
    "> **_NOTE: pyvespa generally does not support all indexing options in Vespa - it is made for easy experimentation._**\n",
    "  **_To configure setting an unsupported indexing option (or any other unsupported option),_**\n",
    "  **_export the application package like above, modify the schema or other files_**\n",
    "  **_and deploy the application package from the directory, or as a zipped file._**\n",
    "  **_Find more details at the end of this notebook._**"
   ]
  },
  {
   "cell_type": "markdown",
   "id": "7b01cd09",
   "metadata": {},
   "source": [
    "## Schema\n",
    "\n",
    "Use a schema to create fields, fieldsets and a ranking function. Export the empty schema (an empty schema is created, with the same name as the application package):"
   ]
  },
  {
   "cell_type": "code",
   "execution_count": null,
   "id": "923edec8",
   "metadata": {},
   "outputs": [],
   "source": [
    "!cat $TMP_APP_DIR/schemas/myschema.sd"
   ]
  },
  {
   "cell_type": "markdown",
   "id": "5a1cbaf2",
   "metadata": {},
   "source": [
    "Add fields, a fieldset and a ranking function:"
   ]
  },
  {
   "cell_type": "code",
   "execution_count": null,
   "id": "c83c1945",
   "metadata": {},
   "outputs": [],
   "source": [
    "from vespa.package import Field, FieldSet, RankProfile\n",
    "\n",
    "app_package.schema.add_fields(\n",
    "    Field(name = \"id\",    type = \"string\", indexing = [\"attribute\", \"summary\"]),\n",
    "    Field(name = \"title\", type = \"string\", indexing = [\"index\", \"summary\"], index = \"enable-bm25\"),\n",
    "    Field(name = \"body\",  type = \"string\", indexing = [\"index\", \"summary\"], index = \"enable-bm25\")\n",
    ")\n",
    "\n",
    "app_package.schema.add_field_set(\n",
    "    FieldSet(name = \"default\", fields = [\"title\", \"body\"])\n",
    ")\n",
    "\n",
    "app_package.schema.add_rank_profile(\n",
    "    RankProfile(name = \"default\", first_phase = \"bm25(title) + bm25(body)\")\n",
    ")"
   ]
  },
  {
   "cell_type": "markdown",
   "id": "f721bdfd",
   "metadata": {},
   "source": [
    "Export the application package again, show schema:"
   ]
  },
  {
   "cell_type": "code",
   "execution_count": null,
   "id": "4fcd3de2",
   "metadata": {},
   "outputs": [],
   "source": [
    "app_package.to_files(temp_dir.name)\n",
    "!cat $TMP_APP_DIR/schemas/myschema.sd"
   ]
  },
  {
   "cell_type": "markdown",
   "id": "cfd73872",
   "metadata": {},
   "source": [
    "Note how the indexing settings are written to the schema. At this point, review the Vespa documentation:\n",
    "\n",
    "* [field](https://docs.vespa.ai/en/schemas.html#field)\n",
    "* [fieldset](https://docs.vespa.ai/en/schemas.html#fieldset)\n",
    "* [rank-profile](https://docs.vespa.ai/en/ranking.html#rank-profiles)"
   ]
  },
  {
   "cell_type": "markdown",
   "id": "a51353a4",
   "metadata": {},
   "source": [
    "## Services\n",
    "\n",
    "In `services.xml` you will find a container and content cluster -\n",
    "see the [Vespa Overview](https://docs.vespa.ai/en/overview.html).\n",
    "This is a file you will normally not change or need to know much about - dump the default file:"
   ]
  },
  {
   "cell_type": "code",
   "execution_count": null,
   "id": "4abae84e",
   "metadata": {},
   "outputs": [],
   "source": [
    "!cat $TMP_APP_DIR/services.xml"
   ]
  },
  {
   "cell_type": "markdown",
   "id": "d6477c44",
   "metadata": {},
   "source": [
    "Observe:\n",
    "\n",
    "* A content cluster (this is where the index is stored) called `myschema_content` is created.\n",
    "  This is information not normally needed, unless using\n",
    "  [delete_all_docs](https://pyvespa.readthedocs.io/en/latest/reference-api.html#vespa.application.Vespa.delete_all_docs)\n",
    "  to quickly remove all documents from a schema"
   ]
  },
  {
   "cell_type": "markdown",
   "id": "8f5c589d",
   "metadata": {},
   "source": [
    "## Deploy from modified files\n",
    "\n",
    "This example adds custom configuration to the `services.xml` file above and deploys it:"
   ]
  },
  {
   "cell_type": "code",
   "execution_count": null,
   "id": "7995befa",
   "metadata": {},
   "outputs": [],
   "source": [
    "%%sh\n",
    "cat << EOF > $TMP_APP_DIR/services.xml\n",
    "<?xml version=\"1.0\" encoding=\"UTF-8\"?>\n",
    "<services version=\"1.0\">\n",
    "    <container id=\"myschema_container\" version=\"1.0\">\n",
    "        <search></search>\n",
    "        <document-api></document-api>\n",
    "    </container>\n",
    "    <content id=\"myschema_content\" version=\"1.0\">\n",
    "        <redundancy reply-after=\"1\">1</redundancy>\n",
    "        <documents>\n",
    "            <document type=\"myschema\" mode=\"index\"></document>\n",
    "        </documents>\n",
    "        <nodes>\n",
    "            <node distribution-key=\"0\" hostalias=\"node1\"></node>\n",
    "        </nodes>\n",
    "        <tuning>\n",
    "            <resource-limits>\n",
    "                <disk>0.90</disk>\n",
    "            </resource-limits>\n",
    "        </tuning>\n",
    "    </content>\n",
    "</services>\n",
    "EOF"
   ]
  },
  {
   "cell_type": "markdown",
   "id": "e8e4a654",
   "metadata": {},
   "source": [
    "The [resource-limits](https://docs.vespa.ai/en/reference/services-content.html#resource-limits) in `tuning/resource-limits/disk` configuration setting allows a higher disk usage.\n",
    "\n",
    "Deploy using the exported files:"
   ]
  },
  {
   "cell_type": "code",
   "execution_count": null,
   "id": "9794e561",
   "metadata": {},
   "outputs": [],
   "source": [
    "from vespa.deployment import VespaDocker\n",
    "\n",
    "vespa_container = VespaDocker()\n",
    "vespa_connection = vespa_container.deploy_from_disk(application_name=\"myapp\", application_root=temp_dir.name)"
   ]
  },
  {
   "cell_type": "markdown",
   "id": "e9957d96",
   "metadata": {},
   "source": [
    "One can also export a deployable zip-file, which can be deployed using the Vespa Cloud Console:"
   ]
  },
  {
   "cell_type": "code",
   "execution_count": null,
   "id": "346f3cce",
   "metadata": {},
   "outputs": [],
   "source": [
    "Path.mkdir(Path(temp_dir.name) / \"zip\", exist_ok=True, parents=True)\n",
    "app_package.to_zipfile(temp_dir.name + \"/zip/application.zip\")\n",
    "\n",
    "! find \"$TMP_APP_DIR/zip\" -type f"
   ]
  },
  {
   "cell_type": "markdown",
   "id": "cfac91f8",
   "metadata": {},
   "source": [
    "### Cleanup\n",
    "\n",
    "Remove the container resources and temporary application package file export:"
   ]
  },
  {
   "cell_type": "code",
   "execution_count": null,
   "id": "84ce16e8",
   "metadata": {},
   "outputs": [],
   "source": [
    "temp_dir.cleanup()\n",
    "vespa_container.container.stop()\n",
    "vespa_container.container.remove()"
   ]
  },
  {
   "cell_type": "markdown",
   "id": "e242ac80",
   "metadata": {},
   "source": [
    "## Next step: Deploy, feed and query\n",
    "\n",
    "Once the schema is ready for deployment, decide deployment option and deploy the application package:\n",
    "\n",
    "* [Deploy to local container](https://pyvespa.readthedocs.io/en/latest/getting-started-pyvespa.html)\n",
    "* [Deploy to Vespa Cloud](https://pyvespa.readthedocs.io/en/latest/getting-started-pyvespa-cloud.html)\n",
    "\n",
    "Use the guides on the pyvespa site to feed and query data."
   ]
  }
 ],
 "metadata": {
  "kernelspec": {
   "display_name": "Python 3 (ipykernel)",
   "language": "python",
   "name": "python3"
  },
  "language_info": {
   "codemirror_mode": {
    "name": "ipython",
    "version": 3
   },
   "file_extension": ".py",
   "mimetype": "text/x-python",
   "name": "python",
   "nbconvert_exporter": "python",
   "pygments_lexer": "ipython3",
   "version": "3.11.4"
  }
 },
 "nbformat": 4,
 "nbformat_minor": 5
}
