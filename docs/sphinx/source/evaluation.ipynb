{
 "cells": [
  {
   "cell_type": "markdown",
   "metadata": {},
   "source": [
    "# Evaluate application\n",
    "\n",
    "> Define metrics and evaluate query models"
   ]
  },
  {
   "cell_type": "markdown",
   "metadata": {},
   "source": [
    "## Example setup"
   ]
  },
  {
   "cell_type": "markdown",
   "metadata": {},
   "source": [
    "Connect to the application and define a query model."
   ]
  },
  {
   "cell_type": "code",
   "execution_count": 1,
   "metadata": {},
   "outputs": [],
   "source": [
    "from vespa.application import Vespa\n",
    "from vespa.query import QueryModel, RankProfile, OR\n",
    "\n",
    "app = Vespa(url = \"https://api.cord19.vespa.ai\")\n",
    "query_model = QueryModel(\n",
    "    match_phase = OR(),\n",
    "    rank_profile = RankProfile(name=\"bm25\", list_features=True))"
   ]
  },
  {
   "cell_type": "markdown",
   "metadata": {},
   "source": [
    "## Labeled data"
   ]
  },
  {
   "cell_type": "markdown",
   "metadata": {},
   "source": [
    "Define some labeled data. `pyvespa` expects labeled data to follow the format illustrated below. It is a list of dict where each dict represents a query containing `query_id`, `query` and a list of `relevant_docs`. Each relevant document contain a required `id` key and an optional `score` key."
   ]
  },
  {
   "cell_type": "code",
   "execution_count": 2,
   "metadata": {},
   "outputs": [],
   "source": [
    "labeled_data = [\n",
    "    {\n",
    "        \"query_id\": 0, \n",
    "        \"query\": \"Intrauterine virus infections and congenital heart disease\",\n",
    "        \"relevant_docs\": [{\"id\": 0, \"score\": 1}, {\"id\": 3, \"score\": 1}]\n",
    "    },\n",
    "    {\n",
    "        \"query_id\": 1, \n",
    "        \"query\": \"Clinical and immunologic studies in identical twins discordant for systemic lupus erythematosus\",\n",
    "        \"relevant_docs\": [{\"id\": 1, \"score\": 1}, {\"id\": 5, \"score\": 1}]\n",
    "    }\n",
    "]"
   ]
  },
  {
   "cell_type": "markdown",
   "metadata": {},
   "source": [
    "## Define metrics"
   ]
  },
  {
   "cell_type": "code",
   "execution_count": 3,
   "metadata": {},
   "outputs": [],
   "source": [
    "from vespa.evaluation import MatchRatio, Recall, ReciprocalRank\n",
    "\n",
    "eval_metrics = [MatchRatio(), Recall(at=10), ReciprocalRank(at=10)]"
   ]
  },
  {
   "cell_type": "markdown",
   "metadata": {},
   "source": [
    "## Evaluate in batch"
   ]
  },
  {
   "cell_type": "code",
   "execution_count": 4,
   "metadata": {},
   "outputs": [
    {
     "data": {
      "text/html": [
       "<div>\n",
       "<style scoped>\n",
       "    .dataframe tbody tr th:only-of-type {\n",
       "        vertical-align: middle;\n",
       "    }\n",
       "\n",
       "    .dataframe tbody tr th {\n",
       "        vertical-align: top;\n",
       "    }\n",
       "\n",
       "    .dataframe thead th {\n",
       "        text-align: right;\n",
       "    }\n",
       "</style>\n",
       "<table border=\"1\" class=\"dataframe\">\n",
       "  <thead>\n",
       "    <tr style=\"text-align: right;\">\n",
       "      <th></th>\n",
       "      <th>query_id</th>\n",
       "      <th>match_ratio_retrieved_docs</th>\n",
       "      <th>match_ratio_docs_available</th>\n",
       "      <th>match_ratio_value</th>\n",
       "      <th>recall_10_value</th>\n",
       "      <th>reciprocal_rank_10_value</th>\n",
       "    </tr>\n",
       "  </thead>\n",
       "  <tbody>\n",
       "    <tr>\n",
       "      <th>0</th>\n",
       "      <td>0</td>\n",
       "      <td>251862</td>\n",
       "      <td>309201</td>\n",
       "      <td>0.814558</td>\n",
       "      <td>0.0</td>\n",
       "      <td>0</td>\n",
       "    </tr>\n",
       "    <tr>\n",
       "      <th>1</th>\n",
       "      <td>1</td>\n",
       "      <td>275957</td>\n",
       "      <td>309201</td>\n",
       "      <td>0.892484</td>\n",
       "      <td>0.0</td>\n",
       "      <td>0</td>\n",
       "    </tr>\n",
       "  </tbody>\n",
       "</table>\n",
       "</div>"
      ],
      "text/plain": [
       "   query_id  match_ratio_retrieved_docs  match_ratio_docs_available  \\\n",
       "0         0                      251862                      309201   \n",
       "1         1                      275957                      309201   \n",
       "\n",
       "   match_ratio_value  recall_10_value  reciprocal_rank_10_value  \n",
       "0           0.814558              0.0                         0  \n",
       "1           0.892484              0.0                         0  "
      ]
     },
     "execution_count": 4,
     "metadata": {},
     "output_type": "execute_result"
    }
   ],
   "source": [
    "evaluation = app.evaluate(\n",
    "    labeled_data = labeled_data,\n",
    "    eval_metrics = eval_metrics, \n",
    "    query_model = query_model, \n",
    "    id_field = \"id\",\n",
    ")\n",
    "evaluation"
   ]
  },
  {
   "cell_type": "markdown",
   "metadata": {},
   "source": [
    "## Evaluate specific query\n",
    "\n",
    "> You can have finer control with the `evaluate_query` method."
   ]
  },
  {
   "cell_type": "code",
   "execution_count": 5,
   "metadata": {},
   "outputs": [
    {
     "data": {
      "text/html": [
       "<div>\n",
       "<style scoped>\n",
       "    .dataframe tbody tr th:only-of-type {\n",
       "        vertical-align: middle;\n",
       "    }\n",
       "\n",
       "    .dataframe tbody tr th {\n",
       "        vertical-align: top;\n",
       "    }\n",
       "\n",
       "    .dataframe thead th {\n",
       "        text-align: right;\n",
       "    }\n",
       "</style>\n",
       "<table border=\"1\" class=\"dataframe\">\n",
       "  <thead>\n",
       "    <tr style=\"text-align: right;\">\n",
       "      <th></th>\n",
       "      <th>query_id</th>\n",
       "      <th>match_ratio_retrieved_docs</th>\n",
       "      <th>match_ratio_docs_available</th>\n",
       "      <th>match_ratio_value</th>\n",
       "      <th>recall_10_value</th>\n",
       "      <th>reciprocal_rank_10_value</th>\n",
       "    </tr>\n",
       "  </thead>\n",
       "  <tbody>\n",
       "    <tr>\n",
       "      <th>0</th>\n",
       "      <td>0</td>\n",
       "      <td>251862</td>\n",
       "      <td>309201</td>\n",
       "      <td>0.814558</td>\n",
       "      <td>0.0</td>\n",
       "      <td>0</td>\n",
       "    </tr>\n",
       "    <tr>\n",
       "      <th>1</th>\n",
       "      <td>1</td>\n",
       "      <td>275957</td>\n",
       "      <td>309201</td>\n",
       "      <td>0.892484</td>\n",
       "      <td>0.0</td>\n",
       "      <td>0</td>\n",
       "    </tr>\n",
       "  </tbody>\n",
       "</table>\n",
       "</div>"
      ],
      "text/plain": [
       "   query_id  match_ratio_retrieved_docs  match_ratio_docs_available  \\\n",
       "0         0                      251862                      309201   \n",
       "1         1                      275957                      309201   \n",
       "\n",
       "   match_ratio_value  recall_10_value  reciprocal_rank_10_value  \n",
       "0           0.814558              0.0                         0  \n",
       "1           0.892484              0.0                         0  "
      ]
     },
     "execution_count": 5,
     "metadata": {},
     "output_type": "execute_result"
    }
   ],
   "source": [
    "from pandas import concat, DataFrame\n",
    "\n",
    "evaluation = []\n",
    "for query_data in labeled_data:\n",
    "    query_evaluation = app.evaluate_query(\n",
    "        eval_metrics = eval_metrics, \n",
    "        query_model = query_model, \n",
    "        query_id = query_data[\"query_id\"], \n",
    "        query = query_data[\"query\"], \n",
    "        id_field = \"id\",\n",
    "        relevant_docs = query_data[\"relevant_docs\"],\n",
    "        default_score = 0\n",
    "    )\n",
    "    evaluation.append(query_evaluation)\n",
    "evaluation = DataFrame.from_records(evaluation)\n",
    "evaluation"
   ]
  }
 ],
 "metadata": {
  "kernelspec": {
   "display_name": "Python 3",
   "language": "python",
   "name": "python3"
  },
  "language_info": {
   "codemirror_mode": {
    "name": "ipython",
    "version": 3
   },
   "file_extension": ".py",
   "mimetype": "text/x-python",
   "name": "python",
   "nbconvert_exporter": "python",
   "pygments_lexer": "ipython3",
   "version": "3.9.1"
  }
 },
 "nbformat": 4,
 "nbformat_minor": 2
}
