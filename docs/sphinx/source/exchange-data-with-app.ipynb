{
 "cells": [
  {
   "cell_type": "markdown",
   "id": "floating-subsection",
   "metadata": {},
   "source": [
    "![Vespa logo](https://vespa.ai/assets/vespa-logo-color.png)\n",
    "\n",
    "# Exchange data with applications\n",
    "\n",
    "This notebook demonstrates ways to feed, get, update and delete data to an application.\n",
    "\n",
    "[Install pyvespa](https://pyvespa.readthedocs.io/) and start Docker, validate minimum 4G available:"
   ]
  },
  {
   "cell_type": "code",
   "execution_count": null,
   "id": "166bc50c",
   "metadata": {},
   "outputs": [],
   "source": [
    "!docker info | grep \"Total Memory\""
   ]
  },
  {
   "cell_type": "markdown",
   "id": "4538e7b2",
   "metadata": {},
   "source": [
    "Deploy a sample test application:"
   ]
  },
  {
   "cell_type": "code",
   "execution_count": 1,
   "id": "congressional-friendly",
   "metadata": {},
   "outputs": [],
   "source": [
    "import os\n",
    "from vespa.package import (\n",
    "    Document,\n",
    "    Field,\n",
    "    Schema,\n",
    "    ApplicationPackage,\n",
    ")\n",
    "from vespa.deployment import VespaDocker\n",
    "\n",
    "class TestApp(ApplicationPackage):\n",
    "    def __init__(self, name: str = \"testapp\"):\n",
    "        context_document = Document(\n",
    "            fields=[\n",
    "                Field(\n",
    "                    name=\"questions\",\n",
    "                    type=\"array<int>\",\n",
    "                    indexing=[\"summary\", \"attribute\"],\n",
    "                ),\n",
    "                Field(name=\"dataset\", type=\"string\", indexing=[\"summary\", \"attribute\"]),\n",
    "                Field(name=\"context_id\", type=\"int\", indexing=[\"summary\", \"attribute\"]),\n",
    "                Field(\n",
    "                    name=\"text\",\n",
    "                    type=\"string\",\n",
    "                    indexing=[\"summary\", \"index\"],\n",
    "                ),\n",
    "            ]\n",
    "        )\n",
    "        context_schema = Schema(\n",
    "            name=\"context\",\n",
    "            document=context_document,\n",
    "        )\n",
    "        sentence_document = Document(\n",
    "            inherits=\"context\",\n",
    "            fields=[\n",
    "                Field(\n",
    "                    name=\"sentence_embedding\",\n",
    "                    type=\"tensor<float>(x[512])\",\n",
    "                    indexing=[\"attribute\"],\n",
    "                )\n",
    "            ],\n",
    "        )\n",
    "        sentence_schema = Schema(\n",
    "            name=\"sentence\",\n",
    "            document=sentence_document,\n",
    "        )\n",
    "        super().__init__(\n",
    "            name=name,\n",
    "            schema=[context_schema, sentence_schema],\n",
    "        )\n",
    "\n",
    "app_package = TestApp()\n",
    "vespa_docker = VespaDocker()\n",
    "app = vespa_docker.deploy(application_package=app_package)"
   ]
  },
  {
   "cell_type": "markdown",
   "id": "golden-biography",
   "metadata": {},
   "source": [
    "Download sample data:"
   ]
  },
  {
   "cell_type": "code",
   "execution_count": null,
   "id": "mental-amazon",
   "metadata": {},
   "outputs": [],
   "source": [
    "import json, requests\n",
    "\n",
    "sentence_data = json.loads(\n",
    "    requests.get(\"https://data.vespa.oath.cloud/blog/qa/sample_sentence_data_100.json\").text\n",
    ")\n",
    "list(sentence_data[0].keys())"
   ]
  },
  {
   "cell_type": "markdown",
   "id": "distributed-tribute",
   "metadata": {},
   "source": [
    "## Feed data"
   ]
  },
  {
   "cell_type": "markdown",
   "id": "incident-discovery",
   "metadata": {},
   "source": [
    "We can feed data in a batch or one document at a time."
   ]
  },
  {
   "cell_type": "markdown",
   "id": "destroyed-saturday",
   "metadata": {},
   "source": [
    "### Batch"
   ]
  },
  {
   "cell_type": "markdown",
   "id": "furnished-wound",
   "metadata": {},
   "source": [
    "Prepare the data as a list of dicts having the `id` key holding a unique id of the data point\n",
    "and the `fields` key holding a dict with the data fields:"
   ]
  },
  {
   "cell_type": "code",
   "execution_count": null,
   "id": "breeding-steal",
   "metadata": {},
   "outputs": [],
   "source": [
    "batch_feed = [\n",
    "    {\n",
    "        \"id\": idx, \n",
    "        \"fields\": sentence\n",
    "    }\n",
    "    for idx, sentence in enumerate(sentence_data)\n",
    "]"
   ]
  },
  {
   "cell_type": "markdown",
   "id": "hybrid-dominant",
   "metadata": {},
   "source": [
    "Feed the batch using [feed_batch](reference-api.rst#vespa.application.Vespa.feed_batch):"
   ]
  },
  {
   "cell_type": "code",
   "execution_count": null,
   "id": "meaning-jamaica",
   "metadata": {},
   "outputs": [],
   "source": [
    "response = app.feed_batch(schema=\"sentence\", batch=batch_feed)"
   ]
  },
  {
   "cell_type": "markdown",
   "id": "unauthorized-possible",
   "metadata": {},
   "source": [
    "### Individual data points\n",
    "#### Synchronous\n",
    "Syncronously feeding individual data points is similar to batch feeding, except that you have more control when looping through your dataset:"
   ]
  },
  {
   "cell_type": "code",
   "execution_count": null,
   "id": "electric-moisture",
   "metadata": {},
   "outputs": [],
   "source": [
    "response = []\n",
    "for idx, sentence in enumerate(sentence_data):\n",
    "    response.append(\n",
    "        app.feed_data_point(schema=\"sentence\", data_id=idx, fields=sentence)\n",
    "    )"
   ]
  },
  {
   "cell_type": "markdown",
   "id": "exciting-tourist",
   "metadata": {},
   "source": [
    "#### Asynchronous\n",
    "`app.asyncio()` returns a `VespaAsync` instance that contains async operations such as `feed_data_point`.\n",
    "Using the `async with` context manager ensures that we open and close the appropriate connections\n",
    "required for async feeding:"
   ]
  },
  {
   "cell_type": "code",
   "execution_count": null,
   "id": "settled-talent",
   "metadata": {},
   "outputs": [],
   "source": [
    "async with app.asyncio() as async_app:\n",
    "    response = await async_app.feed_data_point(\n",
    "        schema=\"sentence\",\n",
    "        data_id=idx,\n",
    "        fields=sentence,\n",
    "    )"
   ]
  },
  {
   "cell_type": "markdown",
   "id": "voluntary-convenience",
   "metadata": {},
   "source": [
    "We can then use asyncio constructs like `create_task` and `wait` to create different types of asynchronous flows:"
   ]
  },
  {
   "cell_type": "code",
   "execution_count": null,
   "id": "protected-marine",
   "metadata": {},
   "outputs": [],
   "source": [
    "from asyncio import create_task, wait, ALL_COMPLETED\n",
    "\n",
    "async with app.asyncio() as async_app:\n",
    "    feed = []\n",
    "    for idx, sentence in enumerate(sentence_data):\n",
    "        feed.append(\n",
    "            create_task(\n",
    "                async_app.feed_data_point(\n",
    "                    schema=\"sentence\",\n",
    "                    data_id=idx,\n",
    "                    fields=sentence,\n",
    "                )\n",
    "            )\n",
    "        )\n",
    "    await wait(feed, return_when=ALL_COMPLETED)\n",
    "    response = [x.result() for x in feed]"
   ]
  },
  {
   "cell_type": "markdown",
   "id": "racial-border",
   "metadata": {},
   "source": [
    "<div class=\"alert alert-info\">\n",
    "\n",
    "**Note**: The code above runs from a Jupyter Notebook\n",
    "because it already has its async event loop running in the background.\n",
    "You must create your event loop when running this code on an environment without one,\n",
    "just like any asyncio code requires.\n",
    "</div>"
   ]
  },
  {
   "cell_type": "markdown",
   "id": "drawn-closure",
   "metadata": {},
   "source": [
    "## Get data\n",
    "Similarly to the examples about feeding, we can get a batch of data or get individual data points.\n",
    "\n",
    "### Batch\n",
    "Prepare the data as a list of dicts having the `id` key holding a unique id of the data point.\n",
    "We then get the batch from the desired schema using the\n",
    "[get_batch](reference-api.rst#vespa.application.Vespa.get_batch) method."
   ]
  },
  {
   "cell_type": "code",
   "execution_count": null,
   "id": "growing-pioneer",
   "metadata": {},
   "outputs": [],
   "source": [
    "batch = [{\"id\": idx} for idx, sentence in enumerate(sentence_data)]\n",
    "response = app.get_batch(schema=\"sentence\", batch=batch)"
   ]
  },
  {
   "cell_type": "markdown",
   "id": "thick-plaza",
   "metadata": {},
   "source": [
    "### Individual data points\n",
    "We can get individual data points synchronously or asynchronously.\n",
    "\n",
    "#### Synchronous"
   ]
  },
  {
   "cell_type": "code",
   "execution_count": null,
   "id": "interpreted-warrant",
   "metadata": {},
   "outputs": [],
   "source": [
    "response = app.get_data(schema=\"sentence\", data_id=0)"
   ]
  },
  {
   "cell_type": "markdown",
   "id": "surface-spending",
   "metadata": {},
   "source": [
    "#### Asynchronous"
   ]
  },
  {
   "cell_type": "code",
   "execution_count": null,
   "id": "aggressive-pocket",
   "metadata": {},
   "outputs": [],
   "source": [
    "async with app.asyncio() as async_app:\n",
    "    response = await async_app.get_data(schema=\"sentence\",data_id=0)"
   ]
  },
  {
   "cell_type": "markdown",
   "id": "apart-legislature",
   "metadata": {},
   "source": [
    "<div class=\"alert alert-info\">\n",
    "\n",
    "**Note**: The code above runs from a Jupyter Notebook because it already has its async event loop running in the background. You must create your event loop when running this code on an environment without one, just like any asyncio code requires.\n",
    "</div>"
   ]
  },
  {
   "cell_type": "markdown",
   "id": "circular-session",
   "metadata": {},
   "source": [
    "## Update data\n",
    "Similarly to the examples about feeding, we can update a batch of data or update individual data points.\n",
    "\n",
    "### Batch\n",
    "Prepare the data as a list of dicts having the `id` key holding a unique id of the data point,\n",
    "the `fields` key holding a dict with the fields to be updated\n",
    "and an optional `create` key with a boolean value to indicate if a data point should be created\n",
    "in case it does not exist (default to `False`):"
   ]
  },
  {
   "cell_type": "code",
   "execution_count": null,
   "id": "induced-correction",
   "metadata": {},
   "outputs": [],
   "source": [
    "batch_update = [\n",
    "    {\n",
    "        \"id\": idx,           # data_id\n",
    "        \"fields\": sentence,  # fields to be updated\n",
    "        \"create\": True       # Optional. Create data point if not exist, default to False.\n",
    "        \n",
    "    }\n",
    "    for idx, sentence in enumerate(sentence_data)\n",
    "]"
   ]
  },
  {
   "cell_type": "markdown",
   "id": "presidential-kitchen",
   "metadata": {},
   "source": [
    "We then update the batch using [update_batch](reference-api.rst#vespa.application.Vespa.update_batch):"
   ]
  },
  {
   "cell_type": "code",
   "execution_count": null,
   "id": "otherwise-directive",
   "metadata": {},
   "outputs": [],
   "source": [
    "response = app.update_batch(schema=\"sentence\", batch=batch_update)"
   ]
  },
  {
   "cell_type": "markdown",
   "id": "jewish-sixth",
   "metadata": {},
   "source": [
    "### Individual data points\n",
    "We can update individual data points synchronously or asynchronously.\n",
    "\n",
    "#### Synchronous"
   ]
  },
  {
   "cell_type": "code",
   "execution_count": null,
   "id": "varied-radio",
   "metadata": {},
   "outputs": [],
   "source": [
    "response = app.update_data(schema=\"sentence\", data_id=0, fields=sentence_data[0], create=True)"
   ]
  },
  {
   "cell_type": "markdown",
   "id": "champion-light",
   "metadata": {},
   "source": [
    "#### Asynchronous"
   ]
  },
  {
   "cell_type": "code",
   "execution_count": null,
   "id": "grave-china",
   "metadata": {},
   "outputs": [],
   "source": [
    "async with app.asyncio() as async_app:\n",
    "    response = await async_app.update_data(schema=\"sentence\",data_id=0, fields=sentence_data[0], create=True)"
   ]
  },
  {
   "cell_type": "markdown",
   "id": "organized-montreal",
   "metadata": {},
   "source": [
    "<div class=\"alert alert-info\">\n",
    "\n",
    "**Note**: The code above runs from a Jupyter Notebook because it already has its async event loop running in the background. You must create your event loop when running this code on an environment without one, just like any asyncio code requires.\n",
    "</div>"
   ]
  },
  {
   "cell_type": "markdown",
   "id": "cross-serum",
   "metadata": {},
   "source": [
    "## Delete data\n",
    "Similarly to the examples about feeding, we can delete a batch of data or delete individual data points.\n",
    "\n",
    "### Batch\n",
    "Prepare the data as a list of dicts having the `id` key holding a unique id of the data point.\n",
    "We then delete the batch from the desired schema using the\n",
    "[delete_batch](reference-api.rst#vespa.application.Vespa.delete_batch) method."
   ]
  },
  {
   "cell_type": "code",
   "execution_count": null,
   "id": "healthy-spell",
   "metadata": {},
   "outputs": [],
   "source": [
    "batch = [{\"id\": idx} for idx, sentence in enumerate(sentence_data)]\n",
    "response = app.delete_batch(schema=\"sentence\", batch=batch)"
   ]
  },
  {
   "cell_type": "markdown",
   "id": "handled-tucson",
   "metadata": {},
   "source": [
    "### Individual data points\n",
    "We can delete individual data points synchronously or asynchronously.\n",
    "\n",
    "#### Synchronous"
   ]
  },
  {
   "cell_type": "code",
   "execution_count": null,
   "id": "white-chamber",
   "metadata": {},
   "outputs": [],
   "source": [
    "response = app.delete_data(schema=\"sentence\", data_id=0)"
   ]
  },
  {
   "cell_type": "markdown",
   "id": "pacific-implement",
   "metadata": {},
   "source": [
    "#### Asynchronous"
   ]
  },
  {
   "cell_type": "code",
   "execution_count": null,
   "id": "wrapped-actor",
   "metadata": {},
   "outputs": [],
   "source": [
    "async with app.asyncio() as async_app:\n",
    "    response = await async_app.delete_data(schema=\"sentence\",data_id=0)"
   ]
  },
  {
   "cell_type": "markdown",
   "id": "entitled-conservative",
   "metadata": {},
   "source": [
    "<div class=\"alert alert-info\">\n",
    "\n",
    "**Note**: The code above runs from a Jupyter Notebook because it already has its async event loop running in the background. You must create your event loop when running this code on an environment without one, just like any asyncio code requires.\n",
    "</div>"
   ]
  },
  {
   "cell_type": "code",
   "execution_count": null,
   "id": "checked-coral",
   "metadata": {},
   "outputs": [],
   "source": [
    "vespa_docker.container.stop()\n",
    "vespa_docker.container.remove()"
   ]
  }
 ],
 "metadata": {
  "kernelspec": {
   "display_name": "python3",
   "language": "python",
   "name": "python3"
  }
 },
 "nbformat": 4,
 "nbformat_minor": 5
}
