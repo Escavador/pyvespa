{
 "cells": [
  {
   "cell_type": "markdown",
   "id": "floating-subsection",
   "metadata": {},
   "source": [
    "![Vespa logo](https://vespa.ai/assets/vespa-logo-color.png)\n",
    "\n",
    "# Exchange data with applications\n",
    "\n",
    "This notebook demonstrates ways to feed, get, update and delete data.\n",
    "\n",
    "See end of this notebook to use the Vespa CLI for high-throughput feeding, instead of using pyvespa functions.\n",
    "\n",
    "[Install pyvespa](https://pyvespa.readthedocs.io/) and start Docker, validate minimum 4G available:"
   ]
  },
  {
   "cell_type": "code",
   "execution_count": null,
   "id": "166bc50c",
   "metadata": {},
   "outputs": [],
   "source": [
    "!docker info | grep \"Total Memory\""
   ]
  },
  {
   "cell_type": "markdown",
   "id": "4538e7b2",
   "metadata": {},
   "source": [
    "Deploy a sample test application:"
   ]
  },
  {
   "cell_type": "code",
   "execution_count": 4,
   "id": "congressional-friendly",
   "metadata": {},
   "outputs": [
    {
     "name": "stdout",
     "output_type": "stream",
     "text": [
      "Waiting for configuration server, 0/300 seconds...\n",
      "Waiting for configuration server, 5/300 seconds...\n",
      "Waiting for application status, 0/300 seconds...\n",
      "Waiting for application status, 5/300 seconds...\n",
      "Waiting for application status, 10/300 seconds...\n",
      "Waiting for application status, 15/300 seconds...\n",
      "Waiting for application status, 20/300 seconds...\n",
      "Waiting for application status, 25/300 seconds...\n",
      "Finished deployment.\n"
     ]
    }
   ],
   "source": [
    "import os\n",
    "from vespa.package import (\n",
    "    Document,\n",
    "    Field,\n",
    "    Schema,\n",
    "    ApplicationPackage,\n",
    ")\n",
    "from vespa.deployment import VespaDocker\n",
    "\n",
    "class TestApp(ApplicationPackage):\n",
    "    def __init__(self, name: str = \"testapp\"):\n",
    "        context_document = Document(\n",
    "            fields=[\n",
    "                Field(name=\"questions\",  type=\"array<int>\", indexing=[\"summary\", \"attribute\"]),\n",
    "                Field(name=\"dataset\",    type=\"string\",     indexing=[\"summary\", \"attribute\"]),\n",
    "                Field(name=\"context_id\", type=\"int\",        indexing=[\"summary\", \"attribute\"]),\n",
    "                Field(name=\"text\",       type=\"string\",     indexing=[\"summary\", \"index\"])\n",
    "            ]\n",
    "        )\n",
    "        context_schema = Schema(\n",
    "            name=\"context\",\n",
    "            document=context_document,\n",
    "        )\n",
    "        sentence_document = Document(\n",
    "            inherits=\"context\",\n",
    "            fields=[\n",
    "                Field(name=\"sentence_embedding\", type=\"tensor<float>(x[512])\", indexing=[\"attribute\"])\n",
    "            ],\n",
    "        )\n",
    "        sentence_schema = Schema(\n",
    "            name=\"sentence\",\n",
    "            document=sentence_document,\n",
    "        )\n",
    "        super().__init__(\n",
    "            name=name,\n",
    "            schema=[context_schema, sentence_schema],\n",
    "        )\n",
    "\n",
    "app_package = TestApp()\n",
    "vespa_docker = VespaDocker()\n",
    "app = vespa_docker.deploy(application_package=app_package)"
   ]
  },
  {
   "cell_type": "markdown",
   "id": "golden-biography",
   "metadata": {},
   "source": [
    "Download sample data:"
   ]
  },
  {
   "cell_type": "code",
   "execution_count": 5,
   "id": "mental-amazon",
   "metadata": {},
   "outputs": [
    {
     "data": {
      "text/plain": [
       "['text', 'dataset', 'questions', 'context_id', 'sentence_embedding']"
      ]
     },
     "execution_count": 5,
     "metadata": {},
     "output_type": "execute_result"
    }
   ],
   "source": [
    "import json, requests\n",
    "\n",
    "sentence_data = json.loads(\n",
    "    requests.get(\"https://data.vespa.oath.cloud/blog/qa/sample_sentence_data_100.json\").text\n",
    ")\n",
    "list(sentence_data[0].keys())"
   ]
  },
  {
   "cell_type": "markdown",
   "id": "distributed-tribute",
   "metadata": {},
   "source": [
    "## Feed data\n",
    "\n",
    "Feed data in a batch or one document at a time."
   ]
  },
  {
   "cell_type": "markdown",
   "id": "furnished-wound",
   "metadata": {},
   "source": [
    "### Batch\n",
    "\n",
    "Prepare the data as a list of dicts having the `id` key holding a unique id of the data point\n",
    "and the `fields` key holding a dict with the data fields:"
   ]
  },
  {
   "cell_type": "code",
   "execution_count": 7,
   "id": "breeding-steal",
   "metadata": {},
   "outputs": [],
   "source": [
    "batch_feed = [\n",
    "    {\n",
    "        \"id\": idx, \n",
    "        \"fields\": sentence\n",
    "    }\n",
    "    for idx, sentence in enumerate(sentence_data)\n",
    "]"
   ]
  },
  {
   "cell_type": "markdown",
   "id": "hybrid-dominant",
   "metadata": {},
   "source": [
    "Feed the batch using [feed_batch](reference-api.rst#vespa.application.Vespa.feed_batch):"
   ]
  },
  {
   "cell_type": "code",
   "execution_count": 8,
   "id": "meaning-jamaica",
   "metadata": {},
   "outputs": [
    {
     "name": "stdout",
     "output_type": "stream",
     "text": [
      "Successful documents fed: 100/100.\n",
      "Batch progress: 1/1.\n"
     ]
    }
   ],
   "source": [
    "response = app.feed_batch(schema=\"sentence\", batch=batch_feed)"
   ]
  },
  {
   "cell_type": "markdown",
   "id": "unauthorized-possible",
   "metadata": {},
   "source": [
    "### Individual data points\n",
    "#### Synchronous\n",
    "Syncronously feeding individual data points is similar to batch feeding, except that you have more control when looping through your dataset:"
   ]
  },
  {
   "cell_type": "code",
   "execution_count": 9,
   "id": "electric-moisture",
   "metadata": {},
   "outputs": [],
   "source": [
    "response = []\n",
    "for idx, sentence in enumerate(sentence_data):\n",
    "    response.append(\n",
    "        app.feed_data_point(schema=\"sentence\", data_id=idx, fields=sentence)\n",
    "    )"
   ]
  },
  {
   "cell_type": "markdown",
   "id": "exciting-tourist",
   "metadata": {},
   "source": [
    "#### Asynchronous\n",
    "`app.asyncio()` returns a `VespaAsync` instance that contains async operations such as `feed_data_point`.\n",
    "Using the `async with` context manager ensures that we open and close the appropriate connections\n",
    "required for async feeding:"
   ]
  },
  {
   "cell_type": "code",
   "execution_count": 10,
   "id": "settled-talent",
   "metadata": {},
   "outputs": [],
   "source": [
    "async with app.asyncio() as async_app:\n",
    "    response = await async_app.feed_data_point(\n",
    "        schema=\"sentence\",\n",
    "        data_id=idx,\n",
    "        fields=sentence,\n",
    "    )"
   ]
  },
  {
   "cell_type": "markdown",
   "id": "voluntary-convenience",
   "metadata": {},
   "source": [
    "We can then use asyncio constructs like `create_task` and `wait` to create different types of asynchronous flows:"
   ]
  },
  {
   "cell_type": "code",
   "execution_count": 11,
   "id": "protected-marine",
   "metadata": {},
   "outputs": [],
   "source": [
    "from asyncio import create_task, wait, ALL_COMPLETED\n",
    "\n",
    "async with app.asyncio() as async_app:\n",
    "    feed = []\n",
    "    for idx, sentence in enumerate(sentence_data):\n",
    "        feed.append(\n",
    "            create_task(\n",
    "                async_app.feed_data_point(\n",
    "                    schema=\"sentence\",\n",
    "                    data_id=idx,\n",
    "                    fields=sentence,\n",
    "                )\n",
    "            )\n",
    "        )\n",
    "    await wait(feed, return_when=ALL_COMPLETED)\n",
    "    response = [x.result() for x in feed]"
   ]
  },
  {
   "cell_type": "markdown",
   "id": "racial-border",
   "metadata": {},
   "source": [
    "<div class=\"alert alert-info\">\n",
    "\n",
    "**Note**: The code above runs from a Jupyter Notebook\n",
    "because it already has its async event loop running in the background.\n",
    "You must create your event loop when running this code on an environment without one,\n",
    "just like any asyncio code requires.\n",
    "</div>"
   ]
  },
  {
   "cell_type": "markdown",
   "id": "drawn-closure",
   "metadata": {},
   "source": [
    "## Get data\n",
    "Similarly to the examples about feeding, we can get a batch of data or get individual data points.\n",
    "\n",
    "### Batch\n",
    "Prepare the data as a list of dicts having the `id` key holding a unique id of the data point.\n",
    "We then get the batch from the desired schema using the\n",
    "[get_batch](reference-api.rst#vespa.application.Vespa.get_batch) method."
   ]
  },
  {
   "cell_type": "code",
   "execution_count": 12,
   "id": "growing-pioneer",
   "metadata": {},
   "outputs": [],
   "source": [
    "batch = [{\"id\": idx} for idx, sentence in enumerate(sentence_data)]\n",
    "response = app.get_batch(schema=\"sentence\", batch=batch)"
   ]
  },
  {
   "cell_type": "markdown",
   "id": "thick-plaza",
   "metadata": {},
   "source": [
    "### Individual data points\n",
    "We can get individual data points synchronously or asynchronously.\n",
    "\n",
    "#### Synchronous"
   ]
  },
  {
   "cell_type": "code",
   "execution_count": 13,
   "id": "interpreted-warrant",
   "metadata": {},
   "outputs": [],
   "source": [
    "response = app.get_data(schema=\"sentence\", data_id=0)"
   ]
  },
  {
   "cell_type": "markdown",
   "id": "surface-spending",
   "metadata": {},
   "source": [
    "#### Asynchronous"
   ]
  },
  {
   "cell_type": "code",
   "execution_count": 14,
   "id": "aggressive-pocket",
   "metadata": {},
   "outputs": [],
   "source": [
    "async with app.asyncio() as async_app:\n",
    "    response = await async_app.get_data(schema=\"sentence\",data_id=0)"
   ]
  },
  {
   "cell_type": "markdown",
   "id": "apart-legislature",
   "metadata": {},
   "source": [
    "<div class=\"alert alert-info\">\n",
    "\n",
    "**Note**: The code above runs from a Jupyter Notebook because it already has its async event loop running in the background. You must create your event loop when running this code on an environment without one, just like any asyncio code requires.\n",
    "</div>"
   ]
  },
  {
   "cell_type": "markdown",
   "id": "circular-session",
   "metadata": {},
   "source": [
    "## Update data\n",
    "Similarly to the examples about feeding, we can update a batch of data or update individual data points.\n",
    "\n",
    "### Batch\n",
    "Prepare the data as a list of dicts having the `id` key holding a unique id of the data point,\n",
    "the `fields` key holding a dict with the fields to be updated\n",
    "and an optional `create` key with a boolean value to indicate if a data point should be created\n",
    "in case it does not exist (default to `False`):"
   ]
  },
  {
   "cell_type": "code",
   "execution_count": 15,
   "id": "induced-correction",
   "metadata": {},
   "outputs": [],
   "source": [
    "batch_update = [\n",
    "    {\n",
    "        \"id\": idx,           # data_id\n",
    "        \"fields\": sentence,  # fields to be updated\n",
    "        \"create\": True       # Optional. Create data point if not exist, default to False.\n",
    "        \n",
    "    }\n",
    "    for idx, sentence in enumerate(sentence_data)\n",
    "]"
   ]
  },
  {
   "cell_type": "markdown",
   "id": "presidential-kitchen",
   "metadata": {},
   "source": [
    "We then update the batch using [update_batch](reference-api.rst#vespa.application.Vespa.update_batch):"
   ]
  },
  {
   "cell_type": "code",
   "execution_count": 16,
   "id": "otherwise-directive",
   "metadata": {},
   "outputs": [],
   "source": [
    "response = app.update_batch(schema=\"sentence\", batch=batch_update)"
   ]
  },
  {
   "cell_type": "markdown",
   "id": "jewish-sixth",
   "metadata": {},
   "source": [
    "### Individual data points\n",
    "We can update individual data points synchronously or asynchronously.\n",
    "\n",
    "#### Synchronous"
   ]
  },
  {
   "cell_type": "code",
   "execution_count": 17,
   "id": "varied-radio",
   "metadata": {},
   "outputs": [],
   "source": [
    "response = app.update_data(schema=\"sentence\", data_id=0, fields=sentence_data[0], create=True)"
   ]
  },
  {
   "cell_type": "markdown",
   "id": "champion-light",
   "metadata": {},
   "source": [
    "#### Asynchronous"
   ]
  },
  {
   "cell_type": "code",
   "execution_count": 18,
   "id": "grave-china",
   "metadata": {},
   "outputs": [],
   "source": [
    "async with app.asyncio() as async_app:\n",
    "    response = await async_app.update_data(schema=\"sentence\",data_id=0, fields=sentence_data[0], create=True)"
   ]
  },
  {
   "cell_type": "markdown",
   "id": "organized-montreal",
   "metadata": {},
   "source": [
    "<div class=\"alert alert-info\">\n",
    "\n",
    "**Note**: The code above runs from a Jupyter Notebook because it already has its async event loop running in the background. You must create your event loop when running this code on an environment without one, just like any asyncio code requires.\n",
    "</div>"
   ]
  },
  {
   "cell_type": "markdown",
   "id": "cross-serum",
   "metadata": {},
   "source": [
    "## Delete data\n",
    "Similarly to the examples about feeding, we can delete a batch of data or delete individual data points.\n",
    "\n",
    "### Batch\n",
    "Prepare the data as a list of dicts having the `id` key holding a unique id of the data point.\n",
    "We then delete the batch from the desired schema using the\n",
    "[delete_batch](reference-api.rst#vespa.application.Vespa.delete_batch) method."
   ]
  },
  {
   "cell_type": "code",
   "execution_count": 19,
   "id": "healthy-spell",
   "metadata": {},
   "outputs": [],
   "source": [
    "batch = [{\"id\": idx} for idx, sentence in enumerate(sentence_data)]\n",
    "response = app.delete_batch(schema=\"sentence\", batch=batch)"
   ]
  },
  {
   "cell_type": "markdown",
   "id": "handled-tucson",
   "metadata": {},
   "source": [
    "### Individual data points\n",
    "We can delete individual data points synchronously or asynchronously.\n",
    "\n",
    "#### Synchronous"
   ]
  },
  {
   "cell_type": "code",
   "execution_count": 20,
   "id": "white-chamber",
   "metadata": {},
   "outputs": [],
   "source": [
    "response = app.delete_data(schema=\"sentence\", data_id=0)"
   ]
  },
  {
   "cell_type": "markdown",
   "id": "pacific-implement",
   "metadata": {},
   "source": [
    "#### Asynchronous"
   ]
  },
  {
   "cell_type": "code",
   "execution_count": 21,
   "id": "wrapped-actor",
   "metadata": {},
   "outputs": [],
   "source": [
    "async with app.asyncio() as async_app:\n",
    "    response = await async_app.delete_data(schema=\"sentence\",data_id=0)"
   ]
  },
  {
   "cell_type": "markdown",
   "id": "entitled-conservative",
   "metadata": {},
   "source": [
    "<div class=\"alert alert-info\">\n",
    "\n",
    "**Note**: The code above runs from a Jupyter Notebook because it already has its async event loop running in the background. You must create your event loop when running this code on an environment without one, just like any asyncio code requires.\n",
    "</div>"
   ]
  },
  {
   "cell_type": "markdown",
   "id": "dd299858",
   "metadata": {},
   "source": [
    "## Feed using Vespa CLI\n",
    "\n",
    "Pyvespa's feeding functions above are not optimised for performance, with little error handling.\n",
    "For large data sets, a better aternative is to use the [Vespa CLI](https://docs.vespa.ai/en/vespa-cli.html),\n",
    "the Vespa Command-Line Interface: Export a feed-file, and feed using the `vespa`-utility:"
   ]
  },
  {
   "cell_type": "code",
   "execution_count": 25,
   "id": "7feda6ab",
   "metadata": {},
   "outputs": [
    {
     "name": "stdout",
     "output_type": "stream",
     "text": [
      "\u001b[34m==>\u001b[0m \u001b[1mDownloading https://formulae.brew.sh/api/formula.jws.json\u001b[0m\n",
      "#=#=#                                                                          \n",
      "\u001b[34m==>\u001b[0m \u001b[1mDownloading https://formulae.brew.sh/api/cask.jws.json\u001b[0m\n",
      "######################################################################### 100.0%\n",
      "\u001b[33mWarning:\u001b[0m vespa-cli 8.198.18 is already installed and up-to-date.\n",
      "To reinstall 8.198.18, run:\n",
      "  brew reinstall vespa-cli\n"
     ]
    }
   ],
   "source": [
    "!brew install vespa-cli"
   ]
  },
  {
   "cell_type": "code",
   "execution_count": 24,
   "id": "f3c8c6fd",
   "metadata": {},
   "outputs": [
    {
     "name": "stdout",
     "output_type": "stream",
     "text": [
      "{\r\n",
      "  \"feeder.seconds\": 0.073,\r\n",
      "  \"feeder.ok.count\": 3,\r\n",
      "  \"feeder.ok.rate\": 3.000,\r\n",
      "  \"feeder.error.count\": 0,\r\n",
      "  \"feeder.inflight.count\": 0,\r\n",
      "  \"http.request.count\": 3,\r\n",
      "  \"http.request.bytes\": 138,\r\n",
      "  \"http.request.MBps\": 0.000,\r\n",
      "  \"http.exception.count\": 0,\r\n",
      "  \"http.response.count\": 3,\r\n",
      "  \"http.response.bytes\": 246,\r\n",
      "  \"http.response.MBps\": 0.000,\r\n",
      "  \"http.response.error.count\": 0,\r\n",
      "  \"http.response.latency.millis.min\": 51,\r\n",
      "  \"http.response.latency.millis.avg\": 58,\r\n",
      "  \"http.response.latency.millis.max\": 72,\r\n",
      "  \"http.response.code.counts\": {\r\n",
      "    \"200\": 3\r\n",
      "  }\r\n",
      "}\r\n"
     ]
    }
   ],
   "source": [
    "import pandas\n",
    "from vespa.application import df_to_vespafeed\n",
    "\n",
    "df = pandas.DataFrame({\n",
    "    \"context_id\": [0, 1, 2],\n",
    "    \"text\": [\"text 1\", \"text 2\", \"text 3\"]\n",
    "})\n",
    "with open(\"feed.json\", \"w\") as f:\n",
    "    f.write(df_to_vespafeed(df, \"sentence\", \"context_id\"))\n",
    "    \n",
    "!vespa feed feed.json"
   ]
  },
  {
   "cell_type": "markdown",
   "id": "0c1704ce",
   "metadata": {},
   "source": [
    "Note that each record needs a field that can be used as a unique id."
   ]
  },
  {
   "cell_type": "markdown",
   "id": "edaff1d1",
   "metadata": {},
   "source": [
    "## Cleanup"
   ]
  },
  {
   "cell_type": "code",
   "execution_count": null,
   "id": "checked-coral",
   "metadata": {},
   "outputs": [],
   "source": [
    "vespa_docker.container.stop()\n",
    "vespa_docker.container.remove()"
   ]
  }
 ],
 "metadata": {
  "kernelspec": {
   "display_name": "Python 3 (ipykernel)",
   "language": "python",
   "name": "python3"
  },
  "language_info": {
   "codemirror_mode": {
    "name": "ipython",
    "version": 3
   },
   "file_extension": ".py",
   "mimetype": "text/x-python",
   "name": "python",
   "nbconvert_exporter": "python",
   "pygments_lexer": "ipython3",
   "version": "3.11.4"
  }
 },
 "nbformat": 4,
 "nbformat_minor": 5
}
