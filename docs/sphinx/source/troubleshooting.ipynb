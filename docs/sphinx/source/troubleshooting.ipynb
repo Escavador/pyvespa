{
 "cells": [
  {
   "cell_type": "markdown",
   "id": "742294d9-2629-4561-b9dd-5b75ce4a1332",
   "metadata": {},
   "source": [
    "# Troubleshooting"
   ]
  },
  {
   "cell_type": "markdown",
   "id": "306d4542-b9ea-46cc-974e-5507c82f14b0",
   "metadata": {},
   "source": [
    "## Too many open files during batch feeding"
   ]
  },
  {
   "cell_type": "markdown",
   "id": "f3c2f9b0-c0b8-4cc1-90b6-28066b653e39",
   "metadata": {},
   "source": [
    "This is an OS related issue. There are two options to solve:"
   ]
  },
  {
   "cell_type": "markdown",
   "id": "f1010263-b78f-4f9a-8776-a9808296c6ca",
   "metadata": {},
   "source": [
    "1. Reduce the number of async connections via the connections parameter: `app.feed_batch(..., connections, ...)`"
   ]
  },
  {
   "cell_type": "markdown",
   "id": "393d3333-4890-414f-abb4-2571d1fa57c9",
   "metadata": {},
   "source": [
    "2. Increase the open file limit: `ulimit -n 10000`. Check if the limit was increased with `ulimit -Sn`."
   ]
  }
 ],
 "metadata": {
  "kernelspec": {
   "display_name": "Python 3 (ipykernel)",
   "language": "python",
   "name": "python3"
  },
  "language_info": {
   "codemirror_mode": {
    "name": "ipython",
    "version": 3
   },
   "file_extension": ".py",
   "mimetype": "text/x-python",
   "name": "python",
   "nbconvert_exporter": "python",
   "pygments_lexer": "ipython3",
   "version": "3.10.8"
  }
 },
 "nbformat": 4,
 "nbformat_minor": 5
}
