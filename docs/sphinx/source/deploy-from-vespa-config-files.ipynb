{
 "cells": [
  {
   "cell_type": "markdown",
   "id": "historical-delicious",
   "metadata": {},
   "source": [
    "# Deploy from Vespa config files"
   ]
  },
  {
   "cell_type": "markdown",
   "id": "popular-rehabilitation",
   "metadata": {},
   "source": [
    "The `pyvespa` API provides a subset of the functionality available in Vespa. The reason is that `pyvespa` is meant to be used as an experimentation tool for Information Retrieval (IR) and not for building production-ready applications. So, the python API expands based on the needs to replicate common use cases that often require IR experimentation."
   ]
  },
  {
   "cell_type": "markdown",
   "id": "adaptive-template",
   "metadata": {},
   "source": [
    "If the application requires functionality or fine-tuning not available in `pyvespa`, simply build it directly using Vespa configuration files as shown in [many examples](https://docs.vespa.ai/en/getting-started.html) on Vespa docs. But even in this case, one can still get value out of `pyvespa` by deploying it from python based on the Vespa configuration files stored on disk."
   ]
  },
  {
   "cell_type": "markdown",
   "id": "25c31c6f",
   "metadata": {},
   "source": [
    "Make sure Docker is running with minimum 4G:"
   ]
  },
  {
   "cell_type": "code",
   "execution_count": 7,
   "id": "dcd76f4a",
   "metadata": {},
   "outputs": [
    {
     "name": "stdout",
     "output_type": "stream",
     "text": [
      " Total Memory: 11.7GiB\r\n"
     ]
    }
   ],
   "source": [
    "!docker info | grep \"Total Memory\""
   ]
  },
  {
   "cell_type": "markdown",
   "id": "0c759eb8",
   "metadata": {},
   "source": [
    "Clone and deploy the news search app covered in this [Vespa tutorial](https://docs.vespa.ai/en/tutorials/news-3-searching.html):"
   ]
  },
  {
   "cell_type": "code",
   "execution_count": 8,
   "id": "logical-attempt",
   "metadata": {},
   "outputs": [
    {
     "name": "stdout",
     "output_type": "stream",
     "text": [
      "Cloning into 'sample-apps'...\n",
      "remote: Enumerating objects: 28970, done.\u001b[K\n",
      "remote: Counting objects: 100% (4077/4077), done.\u001b[K\n",
      "remote: Compressing objects: 100% (1685/1685), done.\u001b[K\n",
      "remote: Total 28970 (delta 2209), reused 3830 (delta 2098), pack-reused 24893\u001b[K\n",
      "Receiving objects: 100% (28970/28970), 151.61 MiB | 10.03 MiB/s, done.\n",
      "Resolving deltas: 100% (16576/16576), done.\n"
     ]
    }
   ],
   "source": [
    "!git clone https://github.com/vespa-engine/sample-apps.git sample-apps"
   ]
  },
  {
   "cell_type": "markdown",
   "id": "governing-burns",
   "metadata": {},
   "source": [
    "The Vespa configuration files of the news search app are stored in `sample-apps/news/app-3-searching/`:"
   ]
  },
  {
   "cell_type": "code",
   "execution_count": 9,
   "id": "prescription-force",
   "metadata": {},
   "outputs": [
    {
     "name": "stdout",
     "output_type": "stream",
     "text": [
      "\u001b[01;34msample-apps/news/app-3-searching/\u001b[00m\r\n",
      "├── \u001b[01;34mschemas\u001b[00m\r\n",
      "│   └── news.sd\r\n",
      "└── services.xml\r\n",
      "\r\n",
      "1 directory, 2 files\r\n"
     ]
    }
   ],
   "source": [
    "!tree sample-apps/news/app-3-searching/"
   ]
  },
  {
   "cell_type": "markdown",
   "id": "opposite-turtle",
   "metadata": {},
   "source": [
    "Deploy to a Docker container from disk.\n",
    "Note that `disk_folder` must be an absolute path, for Docker to bind the volume:"
   ]
  },
  {
   "cell_type": "code",
   "execution_count": 10,
   "id": "adjusted-former",
   "metadata": {},
   "outputs": [
    {
     "name": "stdout",
     "output_type": "stream",
     "text": [
      "Waiting for configuration server.\n",
      "Waiting for configuration server.\n",
      "Waiting for application status.\n",
      "Waiting for application status.\n",
      "Finished deployment.\n"
     ]
    }
   ],
   "source": [
    "import os\n",
    "from vespa.deployment import VespaDocker\n",
    "\n",
    "vespa_docker_news = VespaDocker(\n",
    "    disk_folder=os.getcwd() + \"/sample-apps/news/app-3-searching\",\n",
    "    port=8090\n",
    ")\n",
    "app = vespa_docker_news.deploy_from_disk(application_name=\"news\")"
   ]
  },
  {
   "cell_type": "markdown",
   "id": "electronic-extent",
   "metadata": {},
   "source": [
    "`app` can now be used to feed and query the application just deployed. Clean up after use:"
   ]
  },
  {
   "cell_type": "code",
   "execution_count": 11,
   "id": "level-protocol",
   "metadata": {},
   "outputs": [],
   "source": [
    "from shutil import rmtree\n",
    "\n",
    "rmtree(\"sample-apps\", ignore_errors=True)\n",
    "vespa_docker_news.container.stop()\n",
    "vespa_docker_news.container.remove()"
   ]
  }
 ],
 "metadata": {
  "kernelspec": {
   "display_name": "Python 3 (ipykernel)",
   "language": "python",
   "name": "python3"
  },
  "language_info": {
   "codemirror_mode": {
    "name": "ipython",
    "version": 3
   },
   "file_extension": ".py",
   "mimetype": "text/x-python",
   "name": "python",
   "nbconvert_exporter": "python",
   "pygments_lexer": "ipython3",
   "version": "3.9.9"
  }
 },
 "nbformat": 4,
 "nbformat_minor": 5
}
