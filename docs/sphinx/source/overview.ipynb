{
 "cells": [
  {
   "cell_type": "markdown",
   "id": "historical-delicious",
   "metadata": {},
   "source": [
    "# Overview"
   ]
  },
  {
   "cell_type": "markdown",
   "id": "virtual-police",
   "metadata": {},
   "source": [
    "pyvespa provides a python API to Vespa. The library’s primary goal is to allow for faster prototyping and facilitate Machine Learning experiments for Vespa applications: \n",
    "\n",
    "1. Build and deploy a Vespa application using pyvespa API.\n",
    "2. Connect to an existing Vespa application and run queries from python.\n",
    "3. Import a Vespa application package from files and use pyvespa to access it."
   ]
  },
  {
   "cell_type": "markdown",
   "id": "finished-calendar",
   "metadata": {},
   "source": [
    "## Build and deploy"
   ]
  },
  {
   "cell_type": "markdown",
   "id": "twelve-optimum",
   "metadata": {},
   "source": [
    "The [getting-started](https://pyvespa.readthedocs.io/en/latest/getting-started-pyvespa.html) notebook\n",
    "is a good primer on how to create an application, feed data and run queries."
   ]
  },
  {
   "cell_type": "markdown",
   "id": "dangerous-damage",
   "metadata": {},
   "source": [
    "##  Query a running Vespa application"
   ]
  },
  {
   "cell_type": "markdown",
   "id": "upset-eligibility",
   "metadata": {},
   "source": [
    "When a Vespa application is already running, one can instantiate the [Vespa](https://pyvespa.readthedocs.io/en/latest/reference-api.html#vespa.application.Vespa) class with the endpoint.\n",
    "\n",
    "Refer to [connect-to-vespa-instance](https://pyvespa.readthedocs.io/en/latest/connect-to-vespa-instance.html)\n",
    "to connect to and application and run queries."
   ]
  },
  {
   "cell_type": "markdown",
   "id": "scientific-parameter",
   "metadata": {},
   "source": [
    "## Deploy from Vespa config files"
   ]
  },
  {
   "cell_type": "markdown",
   "id": "popular-rehabilitation",
   "metadata": {},
   "source": [
    "The `pyvespa` API provides a subset of the functionality available in Vespa. The reason is that `pyvespa` is meant to be used as an experimentation tool for Information Retrieval (IR) and not for building production-ready applications. So, the python API expands based on the needs to replicate common use cases that often require IR experimentation."
   ]
  },
  {
   "cell_type": "markdown",
   "id": "adaptive-template",
   "metadata": {},
   "source": [
    "If the application requires functionality or fine-tuning not available in `pyvespa`, simply build it directly using Vespa configuration files as shown in [many examples](https://docs.vespa.ai/en/getting-started.html) on Vespa docs. But even in this case, one can still get value out of `pyvespa` by deploying it from python based on the Vespa configuration files stored on disk.\n",
    "\n",
    "Clone and deploy the news search app covered in this [Vespa tutorial](https://docs.vespa.ai/en/tutorials/news-3-searching.html):"
   ]
  },
  {
   "cell_type": "code",
   "execution_count": 10,
   "id": "logical-attempt",
   "metadata": {},
   "outputs": [
    {
     "name": "stdout",
     "output_type": "stream",
     "text": [
      "Cloning into '/Users/tmartins/projects/vespa/pyvespa//sample-apps'...\n",
      "remote: Enumerating objects: 17599, done.\u001b[K\n",
      "remote: Counting objects: 100% (376/376), done.\u001b[K\n",
      "remote: Compressing objects: 100% (248/248), done.\u001b[K\n",
      "remote: Total 17599 (delta 180), reused 225 (delta 92), pack-reused 17223\u001b[K\n",
      "Receiving objects: 100% (17599/17599), 87.09 MiB | 1.64 MiB/s, done.\n",
      "Resolving deltas: 100% (10100/10100), done.\n",
      "Checking out files: 100% (544/544), done.\n"
     ]
    }
   ],
   "source": [
    "!git clone https://github.com/vespa-engine/sample-apps.git $WORK_DIR/sample-apps"
   ]
  },
  {
   "cell_type": "markdown",
   "id": "governing-burns",
   "metadata": {},
   "source": [
    "The Vespa configuration files of the news search app are stored in `sample-apps/news/app-3-searching/`:"
   ]
  },
  {
   "cell_type": "code",
   "execution_count": 11,
   "id": "prescription-force",
   "metadata": {},
   "outputs": [
    {
     "name": "stdout",
     "output_type": "stream",
     "text": [
      "\u001b[01;34m/Users/tmartins/projects/vespa/pyvespa//sample-apps/news/app-3-searching/\u001b[00m\r\n",
      "├── hosts.xml\r\n",
      "├── \u001b[01;34mschemas\u001b[00m\r\n",
      "│   └── news.sd\r\n",
      "└── services.xml\r\n",
      "\r\n",
      "1 directory, 3 files\r\n"
     ]
    }
   ],
   "source": [
    "!tree $WORK_DIR/sample-apps/news/app-3-searching/"
   ]
  },
  {
   "cell_type": "markdown",
   "id": "opposite-turtle",
   "metadata": {},
   "source": [
    "Deploy to a Docker container from disk:"
   ]
  },
  {
   "cell_type": "code",
   "execution_count": 12,
   "id": "adjusted-former",
   "metadata": {},
   "outputs": [
    {
     "name": "stdout",
     "output_type": "stream",
     "text": [
      "Waiting for configuration server.\n",
      "Waiting for configuration server.\n",
      "Waiting for configuration server.\n",
      "Waiting for configuration server.\n",
      "Waiting for configuration server.\n",
      "Waiting for configuration server.\n",
      "Waiting for application status.\n",
      "Waiting for application status.\n",
      "Finished deployment.\n"
     ]
    }
   ],
   "source": [
    "import os\n",
    "from vespa.deployment import VespaDocker\n",
    "\n",
    "disk_folder_news = os.path.join(os.getenv(\"WORK_DIR\"), \"sample-apps/news/app-3-searching/\")\n",
    "vespa_docker_news = VespaDocker(\n",
    "    disk_folder=disk_folder_news, \n",
    "    port=8090\n",
    ")\n",
    "app = vespa_docker_news.deploy_from_disk(application_name=\"news\")"
   ]
  },
  {
   "cell_type": "markdown",
   "id": "electronic-extent",
   "metadata": {},
   "source": [
    "Again, `app` holds an instance of the Vespa class just like the first example. This can be used to feed and query the application just deployed. "
   ]
  },
  {
   "cell_type": "markdown",
   "id": "arbitrary-balance",
   "metadata": {},
   "source": [
    "Clean up:"
   ]
  },
  {
   "cell_type": "code",
   "execution_count": 13,
   "id": "level-protocol",
   "metadata": {},
   "outputs": [],
   "source": [
    "from shutil import rmtree\n",
    "\n",
    "rmtree(disk_folder_news, ignore_errors=True)\n",
    "vespa_docker_news.container.stop()\n",
    "vespa_docker_news.container.remove()"
   ]
  },
  {
   "cell_type": "markdown",
   "id": "alone-armstrong",
   "metadata": {},
   "source": [
    "## Summary"
   ]
  },
  {
   "cell_type": "markdown",
   "id": "european-terror",
   "metadata": {},
   "source": [
    "These are three different ways to connect to a `Vespa` application from python using the `pyvespa` library. Those methods provide great workflow flexibility, allowing users to quickly get started with pyvespa experimentation. This also enables modification of Vespa config files to include features not available in the pyvespa API, without losing the ability to experiment with the added features."
   ]
  }
 ],
 "metadata": {
  "kernelspec": {
   "display_name": "Python 3 (ipykernel)",
   "language": "python",
   "name": "python3"
  },
  "language_info": {
   "codemirror_mode": {
    "name": "ipython",
    "version": 3
   },
   "file_extension": ".py",
   "mimetype": "text/x-python",
   "name": "python",
   "nbconvert_exporter": "python",
   "pygments_lexer": "ipython3",
   "version": "3.9.9"
  }
 },
 "nbformat": 4,
 "nbformat_minor": 5
}
