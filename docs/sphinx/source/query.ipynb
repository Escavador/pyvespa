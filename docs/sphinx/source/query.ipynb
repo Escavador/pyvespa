{
 "cells": [
  {
   "cell_type": "markdown",
   "metadata": {},
   "source": [
    "![Vespa logo](https://vespa.ai/assets/vespa-logo-color.png)\n",
    "\n",
    "# Queries\n",
    "\n",
    "This guide goes through how to query a Vespa instance using the Query API\n",
    "and https://cord19.vespa.ai/ app as an example.\n",
    "You can run this tutorial in Google Colab:\n",
    "\n",
    "[![Open In Colab](https://colab.research.google.com/assets/colab-badge.svg)](https://colab.research.google.com/github/vespa-engine/pyvespa/blob/master/docs/sphinx/source/query.ipynb)\n",
    "\n",
    "Set the query endpoint:"
   ]
  },
  {
   "cell_type": "code",
   "execution_count": null,
   "metadata": {},
   "outputs": [],
   "source": [
    "from vespa.application import Vespa\n",
    "\n",
    "app = Vespa(url=\"https://api.cord19.vespa.ai\")"
   ]
  },
  {
   "cell_type": "markdown",
   "metadata": {},
   "source": [
    "See the [Vespa query language](https://docs.vespa.ai/en/reference/query-api-reference.html)\n",
    "for the query parameters.\n",
    "\n",
    "The [userQuery()](https://docs.vespa.ai/en/reference/query-language-reference.html#userquery)\n",
    "operator uses the query test from `query`.\n",
    "\n",
    "The query uses the [weakAnd](https://docs.vespa.ai/en/using-wand-with-vespa.html#weakand) query operator\n",
    "and [bm25 rank profile](https://docs.vespa.ai/en/reference/bm25.html):"
   ]
  },
  {
   "cell_type": "code",
   "execution_count": null,
   "metadata": {},
   "outputs": [
    {
     "data": {
      "text/plain": [
       "10977"
      ]
     },
     "execution_count": null,
     "metadata": {},
     "output_type": "execute_result"
    }
   ],
   "source": [
    "body = {\n",
    "  'yql':     'select cord_uid, title, abstract from sources * where userQuery()',\n",
    "  'hits':    5,\n",
    "  'query':   'Is remdesivir an effective treatment for COVID-19?',\n",
    "  'type':    'weakAnd',\n",
    "  'ranking': 'bm25'\n",
    "}\n",
    "results = app.query(body=body)\n",
    "results.number_documents_retrieved"
   ]
  },
  {
   "cell_type": "markdown",
   "metadata": {},
   "source": [
    "The query specified 5 hits:"
   ]
  },
  {
   "cell_type": "code",
   "execution_count": null,
   "metadata": {},
   "outputs": [
    {
     "data": {
      "text/plain": [
       "5"
      ]
     },
     "execution_count": null,
     "metadata": {},
     "output_type": "execute_result"
    }
   ],
   "source": [
    "len(results.hits)"
   ]
  },
  {
   "cell_type": "markdown",
   "metadata": {},
   "source": [
    "Iterate over `results.hits`:"
   ]
  },
  {
   "cell_type": "code",
   "execution_count": null,
   "metadata": {},
   "outputs": [
    {
     "data": {
      "text/plain": [
       "['ysml5abq', 'zpcuwvn4', '8art2tyj', 'xej338lo', 'npoje09j']"
      ]
     },
     "execution_count": null,
     "metadata": {},
     "output_type": "execute_result"
    }
   ],
   "source": [
    "[hit[\"fields\"][\"cord_uid\"] for hit in results.hits]"
   ]
  },
  {
   "cell_type": "markdown",
   "metadata": {},
   "source": [
    "Get a specific hit:"
   ]
  },
  {
   "cell_type": "code",
   "execution_count": null,
   "metadata": {},
   "outputs": [
    {
     "data": {
      "text/plain": [
       "{'id': 'index:content/1/848ca5db53648911e0a58c78',\n",
       " 'relevance': 30.531354743471304,\n",
       " 'source': 'content',\n",
       " 'fields': {'title': 'Cost utility analysis of <hi>Remdesivir</hi> and Dexamethasone <hi>treatment</hi> for hospitalised <hi>COVID</hi>-<hi>19</hi> patients - a hypothetical study',\n",
       "  'abstract': '<sep />: Sars-Cov-2 is a novel corona virus associated with significant morbidity and mortality. <hi>Remdesivir</hi> and Dexamethasone are two <hi>treatments</hi> that have shown to be <hi>effective</hi> against the Sars-Cov-2 associated disease. However, a cost-effectiveness analysis of the two <hi>treatments</hi> is still lacking. OBJECTIVE: The cost-utility of <hi>Remdesivir</hi>, Dexamethasone and a simultaneous use of the two drugs with respect to standard of care for <hi>treatment</hi> <hi>Covid</hi>-<hi>19</hi> hospitalized patients is evaluated, together with the effect<sep />',\n",
       "  'cord_uid': 'ysml5abq'}}"
      ]
     },
     "execution_count": null,
     "metadata": {},
     "output_type": "execute_result"
    }
   ],
   "source": [
    "results.hits[0]"
   ]
  },
  {
   "cell_type": "markdown",
   "metadata": {},
   "source": [
    "Access the full response in the\n",
    "[default result format](https://docs.vespa.ai/en/reference/default-result-format.html):"
   ]
  },
  {
   "cell_type": "code",
   "execution_count": null,
   "metadata": {},
   "outputs": [
    {
     "data": {
      "text/plain": [
       "{'timing': {'querytime': 0.019,\n",
       "  'summaryfetchtime': 0.001,\n",
       "  'searchtime': 0.021},\n",
       " 'root': {'id': 'toplevel',\n",
       "  'relevance': 1.0,\n",
       "  'fields': {'totalCount': 10977},\n",
       "  'coverage': {'coverage': 100,\n",
       "   'documents': 976355,\n",
       "   'full': True,\n",
       "   'nodes': 2,\n",
       "   'results': 1,\n",
       "   'resultsFull': 1},\n",
       "  'children': [{'id': 'index:content/1/848ca5db53648911e0a58c78',\n",
       "    'relevance': 30.531354743471304,\n",
       "    'source': 'content',\n",
       "    'fields': {'title': 'Cost utility analysis of <hi>Remdesivir</hi> and Dexamethasone <hi>treatment</hi> for hospitalised <hi>COVID</hi>-<hi>19</hi> patients - a hypothetical study',\n",
       "     'abstract': '<sep />: Sars-Cov-2 is a novel corona virus associated with significant morbidity and mortality. <hi>Remdesivir</hi> and Dexamethasone are two <hi>treatments</hi> that have shown to be <hi>effective</hi> against the Sars-Cov-2 associated disease. However, a cost-effectiveness analysis of the two <hi>treatments</hi> is still lacking. OBJECTIVE: The cost-utility of <hi>Remdesivir</hi>, Dexamethasone and a simultaneous use of the two drugs with respect to standard of care for <hi>treatment</hi> <hi>Covid</hi>-<hi>19</hi> hospitalized patients is evaluated, together with the effect<sep />',\n",
       "     'cord_uid': 'ysml5abq'}},\n",
       "   {'id': 'index:content/1/afade29b15d5f83d8dd4d16a',\n",
       "    'relevance': 30.124913401931195,\n",
       "    'source': 'content',\n",
       "    'fields': {'title': '<hi>Remdesivir</hi> is <hi>effective</hi> for moderately severe patients: A re-analysis of the first double-blind, placebo-controlled, randomized trial on <hi>remdesivir</hi> for <hi>treatment</hi> of severe <hi>covid</hi>-<hi>19</hi> patients conducted in wuhan city',\n",
       "     'abstract': '<sep /> with baseline score, day of assessment, <hi>treatment</hi> group, baseline by <hi>treatment</hi> interaction, and day by <hi>treatment</hi> interaction as covariates. The binary endpoint was supported by the recent FDA<sep />oxygen (but not NIV/HFNC)) – the moderately severe category. The response rate was 85% for <hi>remdesivir</hi>-treated patients with baseline disease point=3 versus 70% response rate for likewise placebo-treated<sep />opinions. This result supports the preliminary findings of ACTT that <hi>remdesivir</hi> is <hi>effective</hi> for patients who were not critically severe. This result also suggests that<sep />',\n",
       "     'cord_uid': 'zpcuwvn4'}},\n",
       "   {'id': 'index:content/1/4678cba4fd31160fd163d063',\n",
       "    'relevance': 29.876569304341285,\n",
       "    'source': 'content',\n",
       "    'fields': {'title': 'A Review on <hi>Remdesivir</hi>: A Possible Promising Agent for the <hi>Treatment</hi> of <hi>COVID</hi>-<hi>19</hi>',\n",
       "     'abstract': '<sep />manufacturing of specific therapeutics and vaccines to treat <hi>COVID</hi>-<hi>19</hi> are time-consuming processes. At this time, using available conventional therapeutics along with other <hi>treatment</hi> options may be useful to fight <hi>COVID</hi>-<hi>19</hi>. In different clinical trials, efficacy of <hi>remdesivir</hi> (GS-5734) against Ebola virus has been demonstrated. Moreover, <hi>remdesivir</hi> may be an <hi>effective</hi> therapy in vitro and in animal models infected by SARS and MERS coronaviruses. Hence, the drug may be theoretically <hi>effective</hi> against SARS-CoV-2. <hi>Remdesivir</hi><sep />',\n",
       "     'cord_uid': '8art2tyj'}},\n",
       "   {'id': 'index:content/0/eec37c88ff9aa825c5c79d81',\n",
       "    'relevance': 29.874123437446798,\n",
       "    'source': 'content',\n",
       "    'fields': {'title': 'A Review on <hi>Remdesivir</hi>: A Possible Promising Agent for the <hi>Treatment</hi> of <hi>COVID</hi>-<hi>19</hi>',\n",
       "     'abstract': '<sep />manufacturing of specific therapeutics and vaccines to treat <hi>COVID</hi>-<hi>19</hi> are time-consuming processes. At this time, using available conventional therapeutics along with other <hi>treatment</hi> options may be useful to fight <hi>COVID</hi>-<hi>19</hi>. In different clinical trials, efficacy of <hi>remdesivir</hi> (GS-5734) against Ebola virus has been demonstrated. Moreover, <hi>remdesivir</hi> may be an <hi>effective</hi> therapy in vitro and in animal models infected by SARS and MERS coronaviruses. Hence, the drug may be theoretically <hi>effective</hi> against SARS-CoV-2. <hi>Remdesivir</hi><sep />',\n",
       "     'cord_uid': 'xej338lo'}},\n",
       "   {'id': 'index:content/0/a41b357fc6aa38c6b55a4685',\n",
       "    'relevance': 29.481438680496694,\n",
       "    'source': 'content',\n",
       "    'fields': {'title': '<hi>Remdesivir</hi> for the <hi>Treatment</hi> of <hi>COVID</hi>-<hi>19</hi>: A Systematic Review of the Literature',\n",
       "     'abstract': '<sep />CoV-2 a global pandemic. To date, coronavirus disease-2019 (<hi>COVID</hi>-<hi>19</hi>) has spread to over 200 countries, leading to over 1.6 million cases and over 99,000 deaths. Given that there is neither a vaccine nor proven <hi>treatment</hi> for <hi>COVID</hi>-<hi>19</hi>, there is currently an urgent need for <hi>effective</hi> pharmacotherapy. To address the need for an <hi>effective</hi> <hi>treatment</hi> of SARS-CoV-2 during the worldwide pandemic, this systematic review of intravenous (IV) <hi>remdesivir</hi> was performed. <hi>Remdesivir</hi>, an anti-viral prodrug originally developed to treat Ebola virus disease, has shown broad spectrum activity against the Coronavirus family. A recent case report reported improvement of clinical symptoms with <hi>remdesivir</hi> in a patient with <hi>COVID</hi>-<hi>19</hi>. After<sep />',\n",
       "     'cord_uid': 'npoje09j'}}]}}"
      ]
     },
     "execution_count": null,
     "metadata": {},
     "output_type": "execute_result"
    }
   ],
   "source": [
    "results.json"
   ]
  },
  {
   "cell_type": "markdown",
   "metadata": {},
   "source": [
    "## Next steps\n",
    "\n",
    "In the [learntorank](https://vespa-engine.github.io/learntorank/) repository you will find the\n",
    "[Query Model](https://github.com/vespa-engine/learntorank/blob/main/notebooks/query-model.ipynb) API.\n",
    "This is targeted for Data Science experiements."
   ]
  }
 ],
 "metadata": {
  "kernelspec": {
   "display_name": "python3",
   "language": "python",
   "name": "python3"
  }
 },
 "nbformat": 4,
 "nbformat_minor": 4
}
