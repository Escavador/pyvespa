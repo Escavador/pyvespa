{
 "cells": [
  {
   "cell_type": "code",
   "execution_count": 1,
   "id": "interim-oxford",
   "metadata": {},
   "outputs": [],
   "source": [
    "%config Completer.use_jedi = False"
   ]
  },
  {
   "cell_type": "markdown",
   "id": "motivated-vegetable",
   "metadata": {},
   "source": [
    "# Feed data to Vespa applications\n",
    "\n",
    "> Synchronous and asynchronous feeding \n"
   ]
  },
  {
   "cell_type": "code",
   "execution_count": 2,
   "id": "yellow-style",
   "metadata": {
    "nbsphinx": "hidden"
   },
   "outputs": [
    {
     "name": "stdout",
     "output_type": "stream",
     "text": [
      "Waiting for configuration server.\n",
      "Waiting for configuration server.\n",
      "Waiting for configuration server.\n",
      "Waiting for configuration server.\n",
      "Waiting for configuration server.\n",
      "Waiting for configuration server.\n",
      "Waiting for configuration server.\n",
      "Waiting for configuration server.\n",
      "Waiting for application status.\n",
      "Waiting for application status.\n",
      "Finished deployment.\n"
     ]
    }
   ],
   "source": [
    "# this is a hidden cell. It will not show on the documentation HTML.\n",
    "import os\n",
    "from vespa.package import VespaDocker\n",
    "from vespa.gallery import QuestionAnswering\n",
    "\n",
    "app_package = QuestionAnswering()\n",
    "\n",
    "os.environ[\"WORK_DIR\"] = \"/Users/tmartins\"\n",
    "disk_folder = os.path.join(os.getenv(\"WORK_DIR\"), \"sample_application\")\n",
    "vespa_docker = VespaDocker(\n",
    "    port=8081, \n",
    "    container_memory=\"8G\", \n",
    "    disk_folder=disk_folder # requires absolute path\n",
    ")\n",
    "app = vespa_docker.deploy(application_package=app_package)"
   ]
  },
  {
   "cell_type": "code",
   "execution_count": 3,
   "id": "transparent-surveillance",
   "metadata": {},
   "outputs": [
    {
     "data": {
      "text/plain": [
       "['text', 'dataset', 'questions', 'context_id', 'sentence_embedding']"
      ]
     },
     "execution_count": 3,
     "metadata": {},
     "output_type": "execute_result"
    }
   ],
   "source": [
    "import json, requests\n",
    "\n",
    "sentence_data = json.loads(\n",
    "    requests.get(\"https://data.vespa.oath.cloud/blog/qa/sample_sentence_data.json\").text\n",
    ")\n",
    "list(sentence_data[0].keys())"
   ]
  },
  {
   "cell_type": "markdown",
   "id": "surface-above",
   "metadata": {},
   "source": [
    "## Batch feeding"
   ]
  },
  {
   "cell_type": "code",
   "execution_count": 4,
   "id": "emerging-honor",
   "metadata": {},
   "outputs": [],
   "source": [
    "batch_feed = [\n",
    "    {\n",
    "        \"id\": idx, \n",
    "        \"fields\": sentence\n",
    "    }\n",
    "    for idx, sentence in enumerate(sentence_data)\n",
    "]"
   ]
  },
  {
   "cell_type": "code",
   "execution_count": 5,
   "id": "casual-turkey",
   "metadata": {},
   "outputs": [],
   "source": [
    "response = app.feed_batch(schema=\"sentence\", batch=batch_feed)"
   ]
  },
  {
   "cell_type": "code",
   "execution_count": 6,
   "id": "broad-dylan",
   "metadata": {},
   "outputs": [],
   "source": [
    "response = await app.feed_batch(schema=\"sentence\", batch=batch_feed, asynchronous=True)"
   ]
  },
  {
   "cell_type": "markdown",
   "id": "southern-extraction",
   "metadata": {},
   "source": [
    "<div class=\"alert alert-info\">\n",
    "\n",
    "**Note**: The **await** keyword above is required when batch feeding asynchronously from jupyter notebooks, because it already has its own async event loop running in the background. You can skip the **await** keyword when using it on an environment with no event loop running and pyvespa will take care of the rest.\n",
    "\n",
    "</div>"
   ]
  },
  {
   "cell_type": "markdown",
   "id": "analyzed-azerbaijan",
   "metadata": {},
   "source": [
    "## Feed individual data points"
   ]
  },
  {
   "cell_type": "code",
   "execution_count": 7,
   "id": "herbal-evaluation",
   "metadata": {},
   "outputs": [],
   "source": [
    "response = []\n",
    "for idx, sentence in enumerate(sentence_data):\n",
    "    response.append(\n",
    "        app.feed_data_point(schema=\"sentence\", data_id=idx, fields=sentence)\n",
    "    )"
   ]
  },
  {
   "cell_type": "code",
   "execution_count": 8,
   "id": "hungry-coach",
   "metadata": {},
   "outputs": [],
   "source": [
    "from asyncio import create_task, wait, ALL_COMPLETED\n",
    "\n",
    "async with app.asyncio() as async_app:\n",
    "    feed = []\n",
    "    for idx, sentence in enumerate(sentence_data):\n",
    "        feed.append(\n",
    "            create_task(\n",
    "                async_app.feed_data_point(\n",
    "                    schema=\"sentence\",\n",
    "                    data_id=idx,\n",
    "                    fields=sentence,\n",
    "                )\n",
    "            )\n",
    "        )\n",
    "    await wait(feed, return_when=ALL_COMPLETED)\n",
    "    response = [x.result() for x in feed]"
   ]
  },
  {
   "cell_type": "markdown",
   "id": "adjustable-contract",
   "metadata": {},
   "source": [
    "<div class=\"alert alert-info\">\n",
    "\n",
    "**Note**: The code above run as is from a jupyter notebook bacause it already has its own async event loop running in the background. You need to start and use your own event loop when running this code on an environment without one, just like any asyncio code requires.\n",
    "</div>"
   ]
  },
  {
   "cell_type": "code",
   "execution_count": 9,
   "id": "received-support",
   "metadata": {
    "nbsphinx": "hidden"
   },
   "outputs": [],
   "source": [
    "# this is a hidden cell. It will not show on the documentation HTML.\n",
    "from shutil import rmtree\n",
    "\n",
    "rmtree(disk_folder, ignore_errors=True)\n",
    "vespa_docker.container.stop()\n",
    "vespa_docker.container.remove()"
   ]
  }
 ],
 "metadata": {
  "celltoolbar": "Edit Metadata",
  "kernelspec": {
   "display_name": "Python 3",
   "language": "python",
   "name": "python3"
  },
  "language_info": {
   "codemirror_mode": {
    "name": "ipython",
    "version": 3
   },
   "file_extension": ".py",
   "mimetype": "text/x-python",
   "name": "python",
   "nbconvert_exporter": "python",
   "pygments_lexer": "ipython3",
   "version": "3.9.1"
  }
 },
 "nbformat": 4,
 "nbformat_minor": 5
}
