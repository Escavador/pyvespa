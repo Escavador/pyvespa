{
 "cells": [
  {
   "cell_type": "markdown",
   "id": "partial-times",
   "metadata": {},
   "source": [
    "# Feed data\n",
    "\n",
    "> Synchronous and asynchronous feeding \n"
   ]
  },
  {
   "cell_type": "code",
   "execution_count": 2,
   "id": "suburban-adolescent",
   "metadata": {
    "nbsphinx": "hidden"
   },
   "outputs": [
    {
     "name": "stdout",
     "output_type": "stream",
     "text": [
      "Waiting for configuration server.\n",
      "Waiting for configuration server.\n",
      "Waiting for configuration server.\n",
      "Waiting for configuration server.\n",
      "Waiting for configuration server.\n",
      "Waiting for configuration server.\n",
      "Waiting for configuration server.\n",
      "Waiting for configuration server.\n",
      "Waiting for application status.\n",
      "Waiting for application status.\n",
      "Finished deployment.\n"
     ]
    }
   ],
   "source": [
    "# this is a hidden cell. It will not show on the documentation HTML.\n",
    "import os\n",
    "from vespa.package import VespaDocker\n",
    "from vespa.gallery import QuestionAnswering\n",
    "\n",
    "app_package = QuestionAnswering()\n",
    "\n",
    "disk_folder = os.path.join(os.getenv(\"WORK_DIR\"), \"sample_application\")\n",
    "vespa_docker = VespaDocker(\n",
    "    port=8081, \n",
    "    container_memory=\"8G\", \n",
    "    disk_folder=disk_folder # requires absolute path\n",
    ")\n",
    "app = vespa_docker.deploy(application_package=app_package)"
   ]
  },
  {
   "cell_type": "markdown",
   "id": "cutting-moses",
   "metadata": {},
   "source": [
    "We will use the [question answering (QA) app](https://pyvespa.readthedocs.io/en/latest/use_cases/qa/semantic-retrieval-for-question-answering-applications.html) to demonstrate ways to feed data to an application. We start by downloading sample data."
   ]
  },
  {
   "cell_type": "code",
   "execution_count": 3,
   "id": "illegal-panama",
   "metadata": {},
   "outputs": [
    {
     "data": {
      "text/plain": [
       "['text', 'dataset', 'questions', 'context_id', 'sentence_embedding']"
      ]
     },
     "execution_count": 3,
     "metadata": {},
     "output_type": "execute_result"
    }
   ],
   "source": [
    "import json, requests\n",
    "\n",
    "sentence_data = json.loads(\n",
    "    requests.get(\"https://data.vespa.oath.cloud/blog/qa/sample_sentence_data.json\").text\n",
    ")\n",
    "list(sentence_data[0].keys())"
   ]
  },
  {
   "cell_type": "markdown",
   "id": "flush-adult",
   "metadata": {},
   "source": [
    "We can either feed a batch of data for convenience or feed individual data points for increased control. We can also choose between synchronous and asynchronous feeding. Given that feeding is I/O bound, we expect the asynchronous method to speed up most cases."
   ]
  },
  {
   "cell_type": "markdown",
   "id": "outside-celebrity",
   "metadata": {},
   "source": [
    "We assume that `app` holds a [Vespa](../../reference-api.rst#vespa.application.Vespa) connection instance to the desired Vespa application."
   ]
  },
  {
   "cell_type": "markdown",
   "id": "modular-nation",
   "metadata": {},
   "source": [
    "## Batch feeding"
   ]
  },
  {
   "cell_type": "markdown",
   "id": "alien-reply",
   "metadata": {},
   "source": [
    "We need to prepare the data as a list of dicts having the `id` key holding a unique id of the data point and the `fields` key holding a dict with the data fields."
   ]
  },
  {
   "cell_type": "code",
   "execution_count": 4,
   "id": "metric-stanley",
   "metadata": {},
   "outputs": [],
   "source": [
    "batch_feed = [\n",
    "    {\n",
    "        \"id\": idx, \n",
    "        \"fields\": sentence\n",
    "    }\n",
    "    for idx, sentence in enumerate(sentence_data)\n",
    "]"
   ]
  },
  {
   "cell_type": "markdown",
   "id": "clean-testimony",
   "metadata": {},
   "source": [
    "### Synchronous"
   ]
  },
  {
   "cell_type": "code",
   "execution_count": 5,
   "id": "baking-necklace",
   "metadata": {},
   "outputs": [],
   "source": [
    "response = app.feed_batch(schema=\"sentence\", batch=batch_feed)"
   ]
  },
  {
   "cell_type": "markdown",
   "id": "increasing-qualification",
   "metadata": {},
   "source": [
    "### Asynchronous"
   ]
  },
  {
   "cell_type": "code",
   "execution_count": 6,
   "id": "revised-lebanon",
   "metadata": {},
   "outputs": [],
   "source": [
    "response = await app.feed_batch(schema=\"sentence\", batch=batch_feed, asynchronous=True)"
   ]
  },
  {
   "cell_type": "markdown",
   "id": "bearing-bangkok",
   "metadata": {},
   "source": [
    "<div class=\"alert alert-info\">\n",
    "\n",
    "**Note**: The **await** keyword is required when batch feeding asynchronously from Jupyter Notebooks because it already has its async event loop running in the background. You can skip the **await** keyword when using it on an environment with no running event loop, and pyvespa will take care of the rest.\n",
    "\n",
    "</div>"
   ]
  },
  {
   "cell_type": "markdown",
   "id": "friendly-fishing",
   "metadata": {},
   "source": [
    "## Feed individual data points"
   ]
  },
  {
   "cell_type": "markdown",
   "id": "circular-infection",
   "metadata": {},
   "source": [
    "### Synchronous"
   ]
  },
  {
   "cell_type": "markdown",
   "id": "limiting-compact",
   "metadata": {},
   "source": [
    "Syncronously feeding individual data points is similar to batch feeding, except that you have more control when looping through your dataset."
   ]
  },
  {
   "cell_type": "code",
   "execution_count": 7,
   "id": "basic-democracy",
   "metadata": {},
   "outputs": [],
   "source": [
    "response = []\n",
    "for idx, sentence in enumerate(sentence_data):\n",
    "    response.append(\n",
    "        app.feed_data_point(schema=\"sentence\", data_id=idx, fields=sentence)\n",
    "    )"
   ]
  },
  {
   "cell_type": "markdown",
   "id": "thirty-recruitment",
   "metadata": {},
   "source": [
    "### Asynchronous"
   ]
  },
  {
   "cell_type": "markdown",
   "id": "ignored-course",
   "metadata": {},
   "source": [
    "`app.asyncio()` returns a `VespaAsync` instance that contains async operations such as `feed_data_point`. Using the `async with`  context manager ensures that we open and close the appropriate connections required for async feeding. "
   ]
  },
  {
   "cell_type": "code",
   "execution_count": 8,
   "id": "alternative-ontario",
   "metadata": {},
   "outputs": [],
   "source": [
    "from asyncio import create_task, wait, ALL_COMPLETED\n",
    "\n",
    "async with app.asyncio() as async_app:\n",
    "    feed = []\n",
    "    for idx, sentence in enumerate(sentence_data):\n",
    "        feed.append(\n",
    "            create_task(\n",
    "                async_app.feed_data_point(\n",
    "                    schema=\"sentence\",\n",
    "                    data_id=idx,\n",
    "                    fields=sentence,\n",
    "                )\n",
    "            )\n",
    "        )\n",
    "    await wait(feed, return_when=ALL_COMPLETED)\n",
    "    response = [x.result() for x in feed]"
   ]
  },
  {
   "cell_type": "markdown",
   "id": "national-tracker",
   "metadata": {},
   "source": [
    "We can then use asyncio constructs like `create_task` and `wait` to create different types of asynchronous flows like the one above."
   ]
  },
  {
   "cell_type": "markdown",
   "id": "ideal-revolution",
   "metadata": {},
   "source": [
    "<div class=\"alert alert-info\">\n",
    "\n",
    "**Note**: The code above runs from a Jupyter Notebook because it already has its async event loop running in the background. You must create your event loop when running this code on an environment without one, just like any asyncio code requires.\n",
    "</div>"
   ]
  },
  {
   "cell_type": "code",
   "execution_count": 9,
   "id": "magnetic-harrison",
   "metadata": {
    "nbsphinx": "hidden"
   },
   "outputs": [],
   "source": [
    "# this is a hidden cell. It will not show on the documentation HTML.\n",
    "from shutil import rmtree\n",
    "\n",
    "rmtree(disk_folder, ignore_errors=True)\n",
    "vespa_docker.container.stop()\n",
    "vespa_docker.container.remove()"
   ]
  }
 ],
 "metadata": {
  "kernelspec": {
   "display_name": "Python 3",
   "language": "python",
   "name": "python3"
  },
  "language_info": {
   "codemirror_mode": {
    "name": "ipython",
    "version": 3
   },
   "file_extension": ".py",
   "mimetype": "text/x-python",
   "name": "python",
   "nbconvert_exporter": "python",
   "pygments_lexer": "ipython3",
   "version": "3.9.1"
  }
 },
 "nbformat": 4,
 "nbformat_minor": 5
}
