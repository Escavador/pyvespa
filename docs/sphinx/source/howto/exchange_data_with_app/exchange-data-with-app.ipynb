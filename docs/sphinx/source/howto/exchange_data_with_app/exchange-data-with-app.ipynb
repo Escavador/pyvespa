{
 "cells": [
  {
   "cell_type": "code",
   "execution_count": 1,
   "id": "congressional-friendly",
   "metadata": {
    "nbsphinx": "hidden"
   },
   "outputs": [
    {
     "name": "stdout",
     "output_type": "stream",
     "text": [
      "Waiting for configuration server.\n",
      "Waiting for configuration server.\n",
      "Waiting for configuration server.\n",
      "Waiting for configuration server.\n",
      "Waiting for application status.\n",
      "Waiting for application status.\n",
      "Finished deployment.\n"
     ]
    }
   ],
   "source": [
    "# this is a hidden cell. It will not show on the documentation HTML.\n",
    "import os\n",
    "from vespa.package import VespaDocker\n",
    "from vespa.gallery import QuestionAnswering\n",
    "\n",
    "app_package = QuestionAnswering()\n",
    "\n",
    "disk_folder = os.path.join(os.getenv(\"WORK_DIR\"), \"sample_application\")\n",
    "vespa_docker = VespaDocker(\n",
    "    port=8081, \n",
    "    disk_folder=disk_folder # requires absolute path\n",
    ")\n",
    "app = vespa_docker.deploy(application_package=app_package)"
   ]
  },
  {
   "cell_type": "markdown",
   "id": "floating-subsection",
   "metadata": {},
   "source": [
    "# Exchange data with applications\n",
    "\n",
    "> Feed, get, update and delete operations"
   ]
  },
  {
   "cell_type": "markdown",
   "id": "golden-biography",
   "metadata": {},
   "source": [
    "We will use the [question answering (QA) app](https://pyvespa.readthedocs.io/en/latest/use_cases/qa/semantic-retrieval-for-question-answering-applications.html) to demonstrate ways to feed data to an application. We start by downloading sample data."
   ]
  },
  {
   "cell_type": "code",
   "execution_count": 2,
   "id": "mental-amazon",
   "metadata": {},
   "outputs": [
    {
     "data": {
      "text/plain": [
       "['text', 'dataset', 'questions', 'context_id', 'sentence_embedding']"
      ]
     },
     "execution_count": 2,
     "metadata": {},
     "output_type": "execute_result"
    }
   ],
   "source": [
    "import json, requests\n",
    "\n",
    "sentence_data = json.loads(\n",
    "    requests.get(\"https://data.vespa.oath.cloud/blog/qa/sample_sentence_data_100.json\").text\n",
    ")\n",
    "list(sentence_data[0].keys())"
   ]
  },
  {
   "cell_type": "markdown",
   "id": "naval-milan",
   "metadata": {},
   "source": [
    "We assume that `app` holds a [Vespa](../../reference-api.rst#vespa.application.Vespa) connection instance to the desired Vespa application."
   ]
  },
  {
   "cell_type": "markdown",
   "id": "distributed-tribute",
   "metadata": {},
   "source": [
    "## Feed data"
   ]
  },
  {
   "cell_type": "markdown",
   "id": "incident-discovery",
   "metadata": {},
   "source": [
    "We can either feed a batch of data for convenience or feed individual data points for increased control."
   ]
  },
  {
   "cell_type": "markdown",
   "id": "destroyed-saturday",
   "metadata": {},
   "source": [
    "### Batch"
   ]
  },
  {
   "cell_type": "markdown",
   "id": "furnished-wound",
   "metadata": {},
   "source": [
    "We need to prepare the data as a list of dicts having the `id` key holding a unique id of the data point and the `fields` key holding a dict with the data fields."
   ]
  },
  {
   "cell_type": "code",
   "execution_count": 3,
   "id": "breeding-steal",
   "metadata": {},
   "outputs": [],
   "source": [
    "batch_feed = [\n",
    "    {\n",
    "        \"id\": idx, \n",
    "        \"fields\": sentence\n",
    "    }\n",
    "    for idx, sentence in enumerate(sentence_data)\n",
    "]"
   ]
  },
  {
   "cell_type": "markdown",
   "id": "hybrid-dominant",
   "metadata": {},
   "source": [
    "We then feed the batch to the desired schema using the [feed_batch](../../reference-api.rst#feed-batch) method."
   ]
  },
  {
   "cell_type": "code",
   "execution_count": 4,
   "id": "meaning-jamaica",
   "metadata": {},
   "outputs": [],
   "source": [
    "response = app.feed_batch(schema=\"sentence\", batch=batch_feed)"
   ]
  },
  {
   "cell_type": "markdown",
   "id": "jewish-hudson",
   "metadata": {},
   "source": [
    "### Individual data points"
   ]
  },
  {
   "cell_type": "markdown",
   "id": "partial-shell",
   "metadata": {},
   "source": [
    "#### Synchronous"
   ]
  },
  {
   "cell_type": "markdown",
   "id": "unauthorized-possible",
   "metadata": {},
   "source": [
    "Syncronously feeding individual data points is similar to batch feeding, except that you have more control when looping through your dataset."
   ]
  },
  {
   "cell_type": "code",
   "execution_count": 5,
   "id": "electric-moisture",
   "metadata": {},
   "outputs": [],
   "source": [
    "response = []\n",
    "for idx, sentence in enumerate(sentence_data):\n",
    "    response.append(\n",
    "        app.feed_data_point(schema=\"sentence\", data_id=idx, fields=sentence)\n",
    "    )"
   ]
  },
  {
   "cell_type": "markdown",
   "id": "pleased-cattle",
   "metadata": {},
   "source": [
    "#### Asynchronous"
   ]
  },
  {
   "cell_type": "markdown",
   "id": "exciting-tourist",
   "metadata": {},
   "source": [
    "`app.asyncio()` returns a `VespaAsync` instance that contains async operations such as `feed_data_point`. Using the `async with`  context manager ensures that we open and close the appropriate connections required for async feeding. "
   ]
  },
  {
   "cell_type": "code",
   "execution_count": 6,
   "id": "settled-talent",
   "metadata": {},
   "outputs": [],
   "source": [
    "async with app.asyncio() as async_app:\n",
    "    response = await async_app.feed_data_point(\n",
    "        schema=\"sentence\",\n",
    "        data_id=idx,\n",
    "        fields=sentence,\n",
    "    )"
   ]
  },
  {
   "cell_type": "markdown",
   "id": "voluntary-convenience",
   "metadata": {},
   "source": [
    "We can then use asyncio constructs like `create_task` and `wait` to create different types of asynchronous flows like the one below."
   ]
  },
  {
   "cell_type": "code",
   "execution_count": 7,
   "id": "protected-marine",
   "metadata": {},
   "outputs": [],
   "source": [
    "from asyncio import create_task, wait, ALL_COMPLETED\n",
    "\n",
    "async with app.asyncio() as async_app:\n",
    "    feed = []\n",
    "    for idx, sentence in enumerate(sentence_data):\n",
    "        feed.append(\n",
    "            create_task(\n",
    "                async_app.feed_data_point(\n",
    "                    schema=\"sentence\",\n",
    "                    data_id=idx,\n",
    "                    fields=sentence,\n",
    "                )\n",
    "            )\n",
    "        )\n",
    "    await wait(feed, return_when=ALL_COMPLETED)\n",
    "    response = [x.result() for x in feed]"
   ]
  },
  {
   "cell_type": "markdown",
   "id": "racial-border",
   "metadata": {},
   "source": [
    "<div class=\"alert alert-info\">\n",
    "\n",
    "**Note**: The code above runs from a Jupyter Notebook because it already has its async event loop running in the background. You must create your event loop when running this code on an environment without one, just like any asyncio code requires.\n",
    "</div>"
   ]
  },
  {
   "cell_type": "markdown",
   "id": "sapphire-flower",
   "metadata": {},
   "source": [
    "## Get data"
   ]
  },
  {
   "cell_type": "markdown",
   "id": "mental-ancient",
   "metadata": {},
   "source": [
    "Similarly to the examples about feeding, we can get a batch of data for convenience or get individual data points for increased control."
   ]
  },
  {
   "cell_type": "markdown",
   "id": "accessible-miniature",
   "metadata": {},
   "source": [
    "### Batch"
   ]
  },
  {
   "cell_type": "markdown",
   "id": "drawn-closure",
   "metadata": {},
   "source": [
    "We need to prepare the data as a list of dicts having the `id` key holding a unique id of the data point. We then get the batch from the desired schema using the [get_batch](../../reference-api.rst#get-batch) method."
   ]
  },
  {
   "cell_type": "code",
   "execution_count": 8,
   "id": "growing-pioneer",
   "metadata": {},
   "outputs": [],
   "source": [
    "batch = [{\"id\": idx} for idx, sentence in enumerate(sentence_data)]\n",
    "response = app.get_batch(schema=\"sentence\", batch=batch)"
   ]
  },
  {
   "cell_type": "markdown",
   "id": "objective-apache",
   "metadata": {},
   "source": [
    "### Individual data points"
   ]
  },
  {
   "cell_type": "markdown",
   "id": "periodic-patient",
   "metadata": {},
   "source": [
    "We can get individual data points synchronously or asynchronously."
   ]
  },
  {
   "cell_type": "markdown",
   "id": "thick-plaza",
   "metadata": {},
   "source": [
    "#### Synchronous"
   ]
  },
  {
   "cell_type": "code",
   "execution_count": 9,
   "id": "interpreted-warrant",
   "metadata": {},
   "outputs": [],
   "source": [
    "response = app.get_data(schema=\"sentence\", data_id=0)"
   ]
  },
  {
   "cell_type": "markdown",
   "id": "surface-spending",
   "metadata": {},
   "source": [
    "#### Asynchronous"
   ]
  },
  {
   "cell_type": "code",
   "execution_count": 10,
   "id": "aggressive-pocket",
   "metadata": {},
   "outputs": [],
   "source": [
    "async with app.asyncio() as async_app:\n",
    "    response = await async_app.get_data(schema=\"sentence\",data_id=0)"
   ]
  },
  {
   "cell_type": "markdown",
   "id": "apart-legislature",
   "metadata": {},
   "source": [
    "<div class=\"alert alert-info\">\n",
    "\n",
    "**Note**: The code above runs from a Jupyter Notebook because it already has its async event loop running in the background. You must create your event loop when running this code on an environment without one, just like any asyncio code requires.\n",
    "</div>"
   ]
  },
  {
   "cell_type": "markdown",
   "id": "demographic-bailey",
   "metadata": {},
   "source": [
    "## Update data"
   ]
  },
  {
   "cell_type": "markdown",
   "id": "textile-marine",
   "metadata": {},
   "source": [
    "Similarly to the examples about feeding, we can update a batch of data for convenience or update individual data points for increased control."
   ]
  },
  {
   "cell_type": "markdown",
   "id": "civic-coalition",
   "metadata": {},
   "source": [
    "### Batch"
   ]
  },
  {
   "cell_type": "markdown",
   "id": "circular-session",
   "metadata": {},
   "source": [
    "We need to prepare the data as a list of dicts having the `id` key holding a unique id of the data point, the `fields` key holding a dict with the fields to be updated and an optional `create` key with a boolean value to indicate if a data point should be created in case it does not exist (default to `False`)."
   ]
  },
  {
   "cell_type": "code",
   "execution_count": 11,
   "id": "induced-correction",
   "metadata": {},
   "outputs": [],
   "source": [
    "batch_update = [\n",
    "    {\n",
    "        \"id\": idx,           # data_id\n",
    "        \"fields\": sentence,  # fields to be updated\n",
    "        \"create\": True       # Optional. Create data point if not exist, default to False.\n",
    "        \n",
    "    }\n",
    "    for idx, sentence in enumerate(sentence_data)\n",
    "]"
   ]
  },
  {
   "cell_type": "markdown",
   "id": "presidential-kitchen",
   "metadata": {},
   "source": [
    "We then update the batch on the desired schema using the [update_batch](../../reference-api.rst#update-batch) method."
   ]
  },
  {
   "cell_type": "code",
   "execution_count": 12,
   "id": "otherwise-directive",
   "metadata": {},
   "outputs": [],
   "source": [
    "response = app.update_batch(schema=\"sentence\", batch=batch_update)"
   ]
  },
  {
   "cell_type": "markdown",
   "id": "proprietary-gossip",
   "metadata": {},
   "source": [
    "### Individual data points"
   ]
  },
  {
   "cell_type": "markdown",
   "id": "resistant-dubai",
   "metadata": {},
   "source": [
    "We can update individual data points synchronously or asynchronously."
   ]
  },
  {
   "cell_type": "markdown",
   "id": "jewish-sixth",
   "metadata": {},
   "source": [
    "#### Synchronous"
   ]
  },
  {
   "cell_type": "code",
   "execution_count": 13,
   "id": "varied-radio",
   "metadata": {},
   "outputs": [],
   "source": [
    "response = app.update_data(schema=\"sentence\", data_id=0, fields=sentence_data[0], create=True)"
   ]
  },
  {
   "cell_type": "markdown",
   "id": "champion-light",
   "metadata": {},
   "source": [
    "#### Asynchronous"
   ]
  },
  {
   "cell_type": "code",
   "execution_count": 14,
   "id": "grave-china",
   "metadata": {},
   "outputs": [],
   "source": [
    "async with app.asyncio() as async_app:\n",
    "    response = await async_app.update_data(schema=\"sentence\",data_id=0, fields=sentence_data[0], create=True)"
   ]
  },
  {
   "cell_type": "markdown",
   "id": "organized-montreal",
   "metadata": {},
   "source": [
    "<div class=\"alert alert-info\">\n",
    "\n",
    "**Note**: The code above runs from a Jupyter Notebook because it already has its async event loop running in the background. You must create your event loop when running this code on an environment without one, just like any asyncio code requires.\n",
    "</div>"
   ]
  },
  {
   "cell_type": "markdown",
   "id": "mechanical-border",
   "metadata": {},
   "source": [
    "## Delete data"
   ]
  },
  {
   "cell_type": "markdown",
   "id": "miniature-invalid",
   "metadata": {},
   "source": [
    "Similarly to the examples about feeding, we can delete a batch of data for convenience or delete individual data points for increased control."
   ]
  },
  {
   "cell_type": "markdown",
   "id": "primary-wheel",
   "metadata": {},
   "source": [
    "### Batch"
   ]
  },
  {
   "cell_type": "markdown",
   "id": "cross-serum",
   "metadata": {},
   "source": [
    "We need to prepare the data as a list of dicts having the `id` key holding a unique id of the data point. We then delete the batch from the desired schema using the [delete_batch](../../reference-api.rst#delete-batch) method."
   ]
  },
  {
   "cell_type": "code",
   "execution_count": 15,
   "id": "healthy-spell",
   "metadata": {},
   "outputs": [],
   "source": [
    "batch = [{\"id\": idx} for idx, sentence in enumerate(sentence_data)]\n",
    "response = app.delete_batch(schema=\"sentence\", batch=batch)"
   ]
  },
  {
   "cell_type": "markdown",
   "id": "short-mississippi",
   "metadata": {},
   "source": [
    "### Individual data points"
   ]
  },
  {
   "cell_type": "markdown",
   "id": "global-tolerance",
   "metadata": {},
   "source": [
    "We can delete individual data points synchronously or asynchronously."
   ]
  },
  {
   "cell_type": "markdown",
   "id": "handled-tucson",
   "metadata": {},
   "source": [
    "#### Synchronous"
   ]
  },
  {
   "cell_type": "code",
   "execution_count": 16,
   "id": "white-chamber",
   "metadata": {},
   "outputs": [],
   "source": [
    "response = app.delete_data(schema=\"sentence\", data_id=0)"
   ]
  },
  {
   "cell_type": "markdown",
   "id": "pacific-implement",
   "metadata": {},
   "source": [
    "#### Asynchronous"
   ]
  },
  {
   "cell_type": "code",
   "execution_count": 17,
   "id": "wrapped-actor",
   "metadata": {},
   "outputs": [],
   "source": [
    "async with app.asyncio() as async_app:\n",
    "    response = await async_app.delete_data(schema=\"sentence\",data_id=0)"
   ]
  },
  {
   "cell_type": "markdown",
   "id": "entitled-conservative",
   "metadata": {},
   "source": [
    "<div class=\"alert alert-info\">\n",
    "\n",
    "**Note**: The code above runs from a Jupyter Notebook because it already has its async event loop running in the background. You must create your event loop when running this code on an environment without one, just like any asyncio code requires.\n",
    "</div>"
   ]
  },
  {
   "cell_type": "code",
   "execution_count": 18,
   "id": "checked-coral",
   "metadata": {
    "nbsphinx": "hidden"
   },
   "outputs": [],
   "source": [
    "# this is a hidden cell. It will not show on the documentation HTML.\n",
    "from shutil import rmtree\n",
    "\n",
    "rmtree(disk_folder, ignore_errors=True)\n",
    "vespa_docker.container.stop()\n",
    "vespa_docker.container.remove()"
   ]
  }
 ],
 "metadata": {
  "kernelspec": {
   "display_name": "Python 3",
   "language": "python",
   "name": "python3"
  },
  "language_info": {
   "codemirror_mode": {
    "name": "ipython",
    "version": 3
   },
   "file_extension": ".py",
   "mimetype": "text/x-python",
   "name": "python",
   "nbconvert_exporter": "python",
   "pygments_lexer": "ipython3",
   "version": "3.9.1"
  }
 },
 "nbformat": 4,
 "nbformat_minor": 5
}
