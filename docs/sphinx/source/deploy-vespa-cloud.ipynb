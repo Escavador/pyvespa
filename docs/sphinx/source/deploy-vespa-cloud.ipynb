{
 "cells": [
  {
   "cell_type": "markdown",
   "metadata": {},
   "source": [
    "# Deploy to Vespa Cloud\n",
    "\n",
    "![Vespa Cloud logo](https://cloud.vespa.ai/assets/logos/vespa-cloud-logo-full-black.png)\n",
    "\n",
    "This notebook deploys a [Vespa.ai](https://vespa.ai/) sample application to Vespa Cloud using pyvespa.\n",
    "The [Vespa CLI](https://docs.vespa.ai/en/vespa-cli.html) is used for managing security credentials.\n",
    "\n",
    "See pyvespa, and jupyter notebook [requirements](https://pyvespa.readthedocs.io/en/latest/index.html#requirements)\n",
    "to run this notebook.\n",
    "\n",
    "Refer to the [sample apps](https://github.com/vespa-engine/sample-apps) site for more applications.\n",
    "\n",
    "[![Open In Colab](https://colab.research.google.com/assets/colab-badge.svg)](https://colab.research.google.com/github/vespa-engine/pyvespa/blob/master/docs/sphinx/source/deploy-vespa-cloud.ipynb)"
   ]
  },
  {
   "cell_type": "markdown",
   "metadata": {},
   "source": [
    "## Install pyvespa and the Vespa CLI"
   ]
  },
  {
   "cell_type": "code",
   "execution_count": null,
   "metadata": {},
   "outputs": [],
   "source": [
    "!pip install pyvespa"
   ]
  },
  {
   "cell_type": "markdown",
   "metadata": {},
   "source": [
    "If homebrew is installed, install the Vespa CLI:"
   ]
  },
  {
   "cell_type": "code",
   "execution_count": null,
   "metadata": {},
   "outputs": [],
   "source": [
    "!brew install vespa-cli"
   ]
  },
  {
   "cell_type": "markdown",
   "metadata": {},
   "source": [
    "Alternatively, when running in Colab, install the Vespa CLI:"
   ]
  },
  {
   "cell_type": "code",
   "execution_count": null,
   "metadata": {},
   "outputs": [],
   "source": [
    "import os\n",
    "import requests\n",
    "res = requests.get(url=\"https://api.github.com/repos/vespa-engine/vespa/releases/latest\").json()\n",
    "os.environ[\"VERSION\"] = res[\"tag_name\"].replace(\"v\", \"\")\n",
    "!curl -fsSL https://github.com/vespa-engine/vespa/releases/download/v${VERSION}/vespa-cli_${VERSION}_linux_amd64.tar.gz | tar -zxf -\n",
    "!ln -sf /content/vespa-cli_${VERSION}_linux_amd64/bin/vespa /usr/local/bin/vespa"
   ]
  },
  {
   "cell_type": "markdown",
   "metadata": {},
   "source": [
    "## Create a Vespa Cloud tenant"
   ]
  },
  {
   "cell_type": "markdown",
   "metadata": {},
   "source": [
    "Sign up and create a tenant: Run steps 1 and 2 in [getting started](https://cloud.vespa.ai/en/getting-started), then replace the tenant name below:"
   ]
  },
  {
   "cell_type": "code",
   "execution_count": null,
   "metadata": {},
   "outputs": [],
   "source": [
    "import os\n",
    "os.environ[\"TENANT_NAME\"] = \"mytenant\""
   ]
  },
  {
   "cell_type": "markdown",
   "metadata": {},
   "source": [
    "## Set up security credentials\n",
    "Configure the tenant.application.instance:"
   ]
  },
  {
   "cell_type": "code",
   "execution_count": null,
   "metadata": {},
   "outputs": [],
   "source": [
    "!vespa config set target cloud\n",
    "!vespa config set application ${TENANT_NAME}.myapp.default"
   ]
  },
  {
   "cell_type": "markdown",
   "metadata": {},
   "source": [
    "If the tenant.application.instance is already created with security credentials, skip next two steps, and go directly to setting `api_key_path`. If not, create data-plane credentials:"
   ]
  },
  {
   "cell_type": "code",
   "execution_count": null,
   "metadata": {},
   "outputs": [],
   "source": [
    "!vespa auth cert -N"
   ]
  },
  {
   "cell_type": "markdown",
   "metadata": {},
   "source": [
    "`vespa auth cert -N` stores the credentials in ~/.vespa, like:\n",
    "\n",
    "      /Users/me/.vespa/mytenant.myapp.default/data-plane-public-cert.pem\n",
    "      /Users/me/.vespa/mytenant.myapp.default/data-plane-private-key.pem"
   ]
  },
  {
   "cell_type": "markdown",
   "metadata": {},
   "source": [
    "Create an api-key, used to deploy the application:"
   ]
  },
  {
   "cell_type": "code",
   "execution_count": null,
   "metadata": {},
   "outputs": [],
   "source": [
    "!vespa auth api-key"
   ]
  },
  {
   "cell_type": "markdown",
   "metadata": {},
   "source": [
    "`vespa auth api-key` stores the api key in ~/.vespa, like:\n",
    "\n",
    "      /Users/me/.vespa/mytenant.api-key.pem\n",
    "\n",
    "Add it in the console per instructions from the command. Enter full path to the api key:"
   ]
  },
  {
   "cell_type": "code",
   "execution_count": null,
   "metadata": {},
   "outputs": [],
   "source": [
    "api_key_path = \"/Users/me/.vespa/mytenant.api-key.pem\""
   ]
  },
  {
   "cell_type": "markdown",
   "metadata": {},
   "source": [
    "## Create an application package"
   ]
  },
  {
   "cell_type": "markdown",
   "metadata": {},
   "source": [
    "An application package is the application's configuration, including schema.\n",
    "Here, using an empty appliction to ilustrate deployment only -\n",
    "see the other examples in pyvespa for real application packages."
   ]
  },
  {
   "cell_type": "code",
   "execution_count": null,
   "metadata": {},
   "outputs": [],
   "source": [
    "from vespa.package import ApplicationPackage\n",
    "\n",
    "app = ApplicationPackage(name=\"sampleapp\")"
   ]
  },
  {
   "cell_type": "markdown",
   "metadata": {},
   "source": [
    "## Create a VespaCloud instance"
   ]
  },
  {
   "cell_type": "markdown",
   "metadata": {},
   "source": [
    "Refer to the [VespaCloud reference](reference-api.rst#vespacloud)."
   ]
  },
  {
   "cell_type": "code",
   "execution_count": null,
   "metadata": {},
   "outputs": [],
   "source": [
    "from vespa.deployment import VespaCloud\n",
    "\n",
    "vespa_cloud = VespaCloud(\n",
    "    tenant=os.getenv(\"TENANT_NAME\"),\n",
    "    application=\"myapp\",\n",
    "    key_location=api_key_path,\n",
    "    application_package=app)"
   ]
  },
  {
   "cell_type": "markdown",
   "metadata": {},
   "source": [
    "## Deploy to Vespa Cloud"
   ]
  },
  {
   "cell_type": "markdown",
   "metadata": {},
   "source": [
    "Refer to [tenants, applications and instances](https://cloud.vespa.ai/en/tenant-apps-instances) for details - here creating an instance named `default`:"
   ]
  },
  {
   "cell_type": "code",
   "execution_count": null,
   "metadata": {},
   "outputs": [],
   "source": [
    "app = vespa_cloud.deploy(instance=\"default\")"
   ]
  },
  {
   "cell_type": "markdown",
   "metadata": {},
   "source": [
    "That is it, you can now interact with your deployed application through the `app` instance."
   ]
  }
 ],
 "metadata": {
  "kernelspec": {
   "display_name": "Python 3 (ipykernel)",
   "language": "python",
   "name": "python3"
  }
 },
 "nbformat": 4,
 "nbformat_minor": 2
}
