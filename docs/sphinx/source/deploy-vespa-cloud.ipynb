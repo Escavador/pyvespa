{
 "cells": [
  {
   "cell_type": "markdown",
   "metadata": {},
   "source": [
    "# Deploy to Vespa Cloud\n",
    "\n",
    "![Vespa Cloud logo](https://cloud.vespa.ai/assets/logos/vespa-cloud-logo-full-black.png)\n",
    "\n",
    "This notebook deploys a Vespa.ai sample application to Vespa Cloud.\n",
    "\n",
    "Refer to the [sample apps](https://github.com/vespa-engine/sample-apps) site for more applications.\n",
    "\n",
    "[![Open In Colab](https://colab.research.google.com/assets/colab-badge.svg)](https://colab.research.google.com/github/vespa-engine/pyvespa/blob/master/docs/sphinx/source/deploy-vespa-cloud.ipynb)"
   ]
  },
  {
   "cell_type": "markdown",
   "metadata": {},
   "source": [
    "## Install pyvespa and the Vespa CLI"
   ]
  },
  {
   "cell_type": "code",
   "execution_count": null,
   "metadata": {},
   "outputs": [],
   "source": [
    "!pip install pyvespa\n",
    "!brew install vespa-cli"
   ]
  },
  {
   "cell_type": "markdown",
   "metadata": {},
   "source": [
    "## Create a Vespa Cloud tenant"
   ]
  },
  {
   "cell_type": "markdown",
   "metadata": {},
   "source": [
    "Sign up and create a tenant: Run steps 1 and 2 in [getting started](https://cloud.vespa.ai/en/getting-started), then enter the tenant name used:"
   ]
  },
  {
   "cell_type": "code",
   "execution_count": null,
   "metadata": {},
   "outputs": [],
   "source": [
    "import os\n",
    "\n",
    "tenant_name = input(\"Tenant name: \")\n",
    "os.environ[\"TENANT_NAME\"] = tenant_name"
   ]
  },
  {
   "cell_type": "markdown",
   "metadata": {},
   "source": [
    "## Set up security credentials"
   ]
  },
  {
   "cell_type": "code",
   "execution_count": null,
   "metadata": {},
   "outputs": [],
   "source": [
    "!vespa config set target cloud\n",
    "!vespa config set application $TENANT_NAME.myapp.default\n",
    "!vespa auth cert -N\n",
    "!vespa auth api-key"
   ]
  },
  {
   "cell_type": "markdown",
   "metadata": {},
   "source": [
    "Set API key location. The `vespa` command stores the credentials in ~/.vespa, like:\n",
    "\n",
    "      /Users/me/.vespa/mytenant.api-key.pem\n",
    "      /Users/me/.vespa/mytenant.myapp.default/data-plane-public-cert.pem\n",
    "      /Users/me/.vespa/mytenant.myapp.default/data-plane-private-key.pem\n",
    "\n",
    "Enter full path to the api key (like `/Users/me/.vespa/mytenant.api-key.pem`):"
   ]
  },
  {
   "cell_type": "code",
   "execution_count": null,
   "metadata": {},
   "outputs": [],
   "source": [
    "api_key_path = input(\"API key path: \")"
   ]
  },
  {
   "cell_type": "markdown",
   "metadata": {},
   "source": [
    "## Create an application package"
   ]
  },
  {
   "cell_type": "markdown",
   "metadata": {},
   "source": [
    "An [application package](https://pyvespa.readthedocs.io/en/latest/create-text-app.html)\n",
    "is the application's configuration, like schema.\n",
    "Here, using a basic question answering app from the app gallery."
   ]
  },
  {
   "cell_type": "code",
   "execution_count": null,
   "metadata": {},
   "outputs": [],
   "source": [
    "from vespa.gallery import QuestionAnswering\n",
    "\n",
    "app = QuestionAnswering()"
   ]
  },
  {
   "cell_type": "markdown",
   "metadata": {},
   "source": [
    "## Create a VespaCloud instance"
   ]
  },
  {
   "cell_type": "code",
   "execution_count": null,
   "metadata": {},
   "outputs": [],
   "source": [
    "from vespa.deployment import VespaCloud\n",
    "\n",
    "api_key_path = \"~/.vespa/\" + tenant_name + \".api-key.pem\"\n",
    "vespa_cloud = VespaCloud(\n",
    "    tenant=tenant_name,\n",
    "    application=\"myapp\",\n",
    "    key_location=api_key_path,\n",
    "    application_package=app,\n",
    ")"
   ]
  },
  {
   "cell_type": "markdown",
   "metadata": {},
   "source": [
    "## Deploy to Vespa Cloud"
   ]
  },
  {
   "cell_type": "markdown",
   "metadata": {},
   "source": [
    "Refer to [tenants, applications and instances](https://cloud.vespa.ai/en/tenant-apps-instances) for details - here creating an instance named `default`:"
   ]
  },
  {
   "cell_type": "code",
   "execution_count": null,
   "metadata": {},
   "outputs": [],
   "source": [
    "app = vespa_cloud.deploy(\n",
    "    instance=\"default\")"
   ]
  },
  {
   "cell_type": "markdown",
   "metadata": {},
   "source": [
    "That is it, you can now interact with your deployed application through the `app` instance."
   ]
  }
 ],
 "metadata": {
  "kernelspec": {
   "display_name": "Python 3 (ipykernel)",
   "language": "python",
   "name": "python3"
  },
  "language_info": {
   "codemirror_mode": {
    "name": "ipython",
    "version": 3
   },
   "file_extension": ".py",
   "mimetype": "text/x-python",
   "name": "python",
   "nbconvert_exporter": "python",
   "pygments_lexer": "ipython3",
   "version": "3.9.9"
  },
  "nbsphinx": {
   "allow_errors": true
  }
 },
 "nbformat": 4,
 "nbformat_minor": 2
}
